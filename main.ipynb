{
 "cells": [
  {
   "cell_type": "markdown",
   "id": "united-consumption",
   "metadata": {
    "tags": []
   },
   "source": [
    "### Importing Libraries"
   ]
  },
  {
   "cell_type": "code",
   "execution_count": 226,
   "id": "charged-workstation",
   "metadata": {},
   "outputs": [],
   "source": [
    "import pandas as pd\n",
    "import numpy as np\n",
    "pd.set_option('display.max_rows', 1000)\n",
    "pd.set_option('display.max_columns', 500)\n",
    "pd.set_option('display.max_colwidth', None) # default 50\n",
    "pd.options.mode.chained_assignment = None\n",
    "import matplotlib.pyplot as plt\n",
    "import seaborn as sns"
   ]
  },
  {
   "cell_type": "markdown",
   "id": "tight-patch",
   "metadata": {
    "tags": []
   },
   "source": [
    "# Reading data"
   ]
  },
  {
   "cell_type": "code",
   "execution_count": 227,
   "id": "certified-bangladesh",
   "metadata": {
    "tags": []
   },
   "outputs": [
    {
     "data": {
      "text/html": [
       "<div>\n",
       "<style scoped>\n",
       "    .dataframe tbody tr th:only-of-type {\n",
       "        vertical-align: middle;\n",
       "    }\n",
       "\n",
       "    .dataframe tbody tr th {\n",
       "        vertical-align: top;\n",
       "    }\n",
       "\n",
       "    .dataframe thead th {\n",
       "        text-align: right;\n",
       "    }\n",
       "</style>\n",
       "<table border=\"1\" class=\"dataframe\">\n",
       "  <thead>\n",
       "    <tr style=\"text-align: right;\">\n",
       "      <th></th>\n",
       "      <th>Description</th>\n",
       "    </tr>\n",
       "    <tr>\n",
       "      <th>Variables</th>\n",
       "      <th></th>\n",
       "    </tr>\n",
       "  </thead>\n",
       "  <tbody>\n",
       "    <tr>\n",
       "      <th>Prospect ID</th>\n",
       "      <td>A unique ID with which the customer is identified.</td>\n",
       "    </tr>\n",
       "    <tr>\n",
       "      <th>Lead Number</th>\n",
       "      <td>A lead number assigned to each lead procured.</td>\n",
       "    </tr>\n",
       "    <tr>\n",
       "      <th>Lead Origin</th>\n",
       "      <td>The origin identifier with which the customer was identified to be a lead. Includes API, Landing Page Submission, etc.</td>\n",
       "    </tr>\n",
       "    <tr>\n",
       "      <th>Lead Source</th>\n",
       "      <td>The source of the lead. Includes Google, Organic Search, Olark Chat, etc.</td>\n",
       "    </tr>\n",
       "    <tr>\n",
       "      <th>Do Not Email</th>\n",
       "      <td>An indicator variable selected by the customer wherein they select whether of not they want to be emailed about the course or not.</td>\n",
       "    </tr>\n",
       "    <tr>\n",
       "      <th>Do Not Call</th>\n",
       "      <td>An indicator variable selected by the customer wherein they select whether of not they want to be called about the course or not.</td>\n",
       "    </tr>\n",
       "    <tr>\n",
       "      <th>Converted</th>\n",
       "      <td>The target variable. Indicates whether a lead has been successfully converted or not.</td>\n",
       "    </tr>\n",
       "    <tr>\n",
       "      <th>TotalVisits</th>\n",
       "      <td>The total number of visits made by the customer on the website.</td>\n",
       "    </tr>\n",
       "    <tr>\n",
       "      <th>Total Time Spent on Website</th>\n",
       "      <td>The total time spent by the customer on the website.</td>\n",
       "    </tr>\n",
       "    <tr>\n",
       "      <th>Page Views Per Visit</th>\n",
       "      <td>Average number of pages on the website viewed during the visits.</td>\n",
       "    </tr>\n",
       "    <tr>\n",
       "      <th>Last Activity</th>\n",
       "      <td>Last activity performed by the customer. Includes Email Opened, Olark Chat Conversation, etc.</td>\n",
       "    </tr>\n",
       "    <tr>\n",
       "      <th>Country</th>\n",
       "      <td>The country of the customer.</td>\n",
       "    </tr>\n",
       "    <tr>\n",
       "      <th>Specialization</th>\n",
       "      <td>The industry domain in which the customer worked before. Includes the level 'Select Specialization' which means the customer had not selected this option while filling the form.</td>\n",
       "    </tr>\n",
       "    <tr>\n",
       "      <th>How did you hear about X Education</th>\n",
       "      <td>The source from which the customer heard about X Education.</td>\n",
       "    </tr>\n",
       "    <tr>\n",
       "      <th>What is your current occupation</th>\n",
       "      <td>Indicates whether the customer is a student, umemployed or employed.</td>\n",
       "    </tr>\n",
       "    <tr>\n",
       "      <th>What matters most to you in choosing this course</th>\n",
       "      <td>An option selected by the customer indicating what is their main motto behind doing this course.</td>\n",
       "    </tr>\n",
       "    <tr>\n",
       "      <th>Search</th>\n",
       "      <td>Indicating whether the customer had seen the ad in any of the listed items.</td>\n",
       "    </tr>\n",
       "    <tr>\n",
       "      <th>Magazine</th>\n",
       "      <td>Indicating whether the customer had seen the ad in any of the listed items.</td>\n",
       "    </tr>\n",
       "    <tr>\n",
       "      <th>Newspaper Article</th>\n",
       "      <td>Indicating whether the customer had seen the ad in any of the listed items.</td>\n",
       "    </tr>\n",
       "    <tr>\n",
       "      <th>X Education Forums</th>\n",
       "      <td>Indicating whether the customer had seen the ad in any of the listed items.</td>\n",
       "    </tr>\n",
       "    <tr>\n",
       "      <th>Newspaper</th>\n",
       "      <td>Indicating whether the customer had seen the ad in any of the listed items.</td>\n",
       "    </tr>\n",
       "    <tr>\n",
       "      <th>Digital Advertisement</th>\n",
       "      <td>Indicating whether the customer had seen the ad in any of the listed items.</td>\n",
       "    </tr>\n",
       "    <tr>\n",
       "      <th>Through Recommendations</th>\n",
       "      <td>Indicates whether the customer came in through recommendations.</td>\n",
       "    </tr>\n",
       "    <tr>\n",
       "      <th>Receive More Updates About Our Courses</th>\n",
       "      <td>Indicates whether the customer chose to receive more updates about the courses.</td>\n",
       "    </tr>\n",
       "    <tr>\n",
       "      <th>Tags</th>\n",
       "      <td>Tags assigned to customers indicating the current status of the lead.</td>\n",
       "    </tr>\n",
       "    <tr>\n",
       "      <th>Lead Quality</th>\n",
       "      <td>Indicates the quality of lead based on the data and intuition the the employee who has been assigned to the lead.</td>\n",
       "    </tr>\n",
       "    <tr>\n",
       "      <th>Update me on Supply Chain Content</th>\n",
       "      <td>Indicates whether the customer wants updates on the Supply Chain Content.</td>\n",
       "    </tr>\n",
       "    <tr>\n",
       "      <th>Get updates on DM Content</th>\n",
       "      <td>Indicates whether the customer wants updates on the DM Content.</td>\n",
       "    </tr>\n",
       "    <tr>\n",
       "      <th>Lead Profile</th>\n",
       "      <td>A lead level assigned to each customer based on their profile.</td>\n",
       "    </tr>\n",
       "    <tr>\n",
       "      <th>City</th>\n",
       "      <td>The city of the customer.</td>\n",
       "    </tr>\n",
       "    <tr>\n",
       "      <th>Asymmetrique Activity Index</th>\n",
       "      <td>An index and score assigned to each customer based on their activity and their profile</td>\n",
       "    </tr>\n",
       "    <tr>\n",
       "      <th>Asymmetrique Profile Index</th>\n",
       "      <td>An index and score assigned to each customer based on their activity and their profile</td>\n",
       "    </tr>\n",
       "    <tr>\n",
       "      <th>Asymmetrique Activity Score</th>\n",
       "      <td>An index and score assigned to each customer based on their activity and their profile</td>\n",
       "    </tr>\n",
       "    <tr>\n",
       "      <th>Asymmetrique Profile Score</th>\n",
       "      <td>An index and score assigned to each customer based on their activity and their profile</td>\n",
       "    </tr>\n",
       "    <tr>\n",
       "      <th>I agree to pay the amount through cheque</th>\n",
       "      <td>Indicates whether the customer has agreed to pay the amount through cheque or not.</td>\n",
       "    </tr>\n",
       "    <tr>\n",
       "      <th>a free copy of Mastering The Interview</th>\n",
       "      <td>Indicates whether the customer wants a free copy of 'Mastering the Interview' or not.</td>\n",
       "    </tr>\n",
       "    <tr>\n",
       "      <th>Last Notable Activity</th>\n",
       "      <td>The last notable acitivity performed by the student.</td>\n",
       "    </tr>\n",
       "  </tbody>\n",
       "</table>\n",
       "</div>"
      ],
      "text/plain": [
       "                                                                                                                                                                                                                        Description\n",
       "Variables                                                                                                                                                                                                                          \n",
       "Prospect ID                                                                                                                                                                      A unique ID with which the customer is identified.\n",
       "Lead Number                                                                                                                                                                           A lead number assigned to each lead procured.\n",
       "Lead Origin                                                                                                  The origin identifier with which the customer was identified to be a lead. Includes API, Landing Page Submission, etc.\n",
       "Lead Source                                                                                                                                               The source of the lead. Includes Google, Organic Search, Olark Chat, etc.\n",
       "Do Not Email                                                                                     An indicator variable selected by the customer wherein they select whether of not they want to be emailed about the course or not.\n",
       "Do Not Call                                                                                       An indicator variable selected by the customer wherein they select whether of not they want to be called about the course or not.\n",
       "Converted                                                                                                                                     The target variable. Indicates whether a lead has been successfully converted or not.\n",
       "TotalVisits                                                                                                                                                         The total number of visits made by the customer on the website.\n",
       "Total Time Spent on Website                                                                                                                                                    The total time spent by the customer on the website.\n",
       "Page Views Per Visit                                                                                                                                               Average number of pages on the website viewed during the visits.\n",
       "Last Activity                                                                                                                         Last activity performed by the customer. Includes Email Opened, Olark Chat Conversation, etc.\n",
       "Country                                                                                                                                                                                                The country of the customer.\n",
       "Specialization                                    The industry domain in which the customer worked before. Includes the level 'Select Specialization' which means the customer had not selected this option while filling the form.\n",
       "How did you hear about X Education                                                                                                                                      The source from which the customer heard about X Education.\n",
       "What is your current occupation                                                                                                                                Indicates whether the customer is a student, umemployed or employed.\n",
       "What matters most to you in choosing this course                                                                                   An option selected by the customer indicating what is their main motto behind doing this course.\n",
       "Search                                                                                                                                                  Indicating whether the customer had seen the ad in any of the listed items.\n",
       "Magazine                                                                                                                                                Indicating whether the customer had seen the ad in any of the listed items.\n",
       "Newspaper Article                                                                                                                                       Indicating whether the customer had seen the ad in any of the listed items.\n",
       "X Education Forums                                                                                                                                      Indicating whether the customer had seen the ad in any of the listed items.\n",
       "Newspaper                                                                                                                                               Indicating whether the customer had seen the ad in any of the listed items.\n",
       "Digital Advertisement                                                                                                                                   Indicating whether the customer had seen the ad in any of the listed items.\n",
       "Through Recommendations                                                                                                                                             Indicates whether the customer came in through recommendations.\n",
       "Receive More Updates About Our Courses                                                                                                              Indicates whether the customer chose to receive more updates about the courses.\n",
       "Tags                                                                                                                                                          Tags assigned to customers indicating the current status of the lead.\n",
       "Lead Quality                                                                                                      Indicates the quality of lead based on the data and intuition the the employee who has been assigned to the lead.\n",
       "Update me on Supply Chain Content                                                                                                                         Indicates whether the customer wants updates on the Supply Chain Content.\n",
       "Get updates on DM Content                                                                                                                                           Indicates whether the customer wants updates on the DM Content.\n",
       "Lead Profile                                                                                                                                                         A lead level assigned to each customer based on their profile.\n",
       "City                                                                                                                                                                                                      The city of the customer.\n",
       "Asymmetrique Activity Index                                                                                                                  An index and score assigned to each customer based on their activity and their profile\n",
       "Asymmetrique Profile Index                                                                                                                   An index and score assigned to each customer based on their activity and their profile\n",
       "Asymmetrique Activity Score                                                                                                                  An index and score assigned to each customer based on their activity and their profile\n",
       "Asymmetrique Profile Score                                                                                                                   An index and score assigned to each customer based on their activity and their profile\n",
       "I agree to pay the amount through cheque                                                                                                         Indicates whether the customer has agreed to pay the amount through cheque or not.\n",
       "a free copy of Mastering The Interview                                                                                                        Indicates whether the customer wants a free copy of 'Mastering the Interview' or not.\n",
       "Last Notable Activity                                                                                                                                                          The last notable acitivity performed by the student."
      ]
     },
     "execution_count": 227,
     "metadata": {},
     "output_type": "execute_result"
    }
   ],
   "source": [
    "data_dict = pd.read_excel('Leads Data Dictionary.xlsx', header=2)\n",
    "data_dict = data_dict.iloc[:,1:]\n",
    "data_dict = data_dict.set_index('Variables')\n",
    "data_dict = data_dict.fillna(method='ffill')\n",
    "data_dict"
   ]
  },
  {
   "cell_type": "code",
   "execution_count": 228,
   "id": "acceptable-salvation",
   "metadata": {},
   "outputs": [],
   "source": [
    "\n",
    "df = pd.read_csv('Leads.csv')"
   ]
  },
  {
   "cell_type": "markdown",
   "id": "legendary-bundle",
   "metadata": {},
   "source": [
    "## Head, shape, info"
   ]
  },
  {
   "cell_type": "code",
   "execution_count": 229,
   "id": "generic-plasma",
   "metadata": {},
   "outputs": [
    {
     "data": {
      "text/html": [
       "<div>\n",
       "<style scoped>\n",
       "    .dataframe tbody tr th:only-of-type {\n",
       "        vertical-align: middle;\n",
       "    }\n",
       "\n",
       "    .dataframe tbody tr th {\n",
       "        vertical-align: top;\n",
       "    }\n",
       "\n",
       "    .dataframe thead th {\n",
       "        text-align: right;\n",
       "    }\n",
       "</style>\n",
       "<table border=\"1\" class=\"dataframe\">\n",
       "  <thead>\n",
       "    <tr style=\"text-align: right;\">\n",
       "      <th></th>\n",
       "      <th>Prospect ID</th>\n",
       "      <th>Lead Number</th>\n",
       "      <th>Lead Origin</th>\n",
       "      <th>Lead Source</th>\n",
       "      <th>Do Not Email</th>\n",
       "      <th>Do Not Call</th>\n",
       "      <th>Converted</th>\n",
       "      <th>TotalVisits</th>\n",
       "      <th>Total Time Spent on Website</th>\n",
       "      <th>Page Views Per Visit</th>\n",
       "      <th>Last Activity</th>\n",
       "      <th>Country</th>\n",
       "      <th>Specialization</th>\n",
       "      <th>How did you hear about X Education</th>\n",
       "      <th>What is your current occupation</th>\n",
       "      <th>What matters most to you in choosing a course</th>\n",
       "      <th>Search</th>\n",
       "      <th>Magazine</th>\n",
       "      <th>Newspaper Article</th>\n",
       "      <th>X Education Forums</th>\n",
       "      <th>Newspaper</th>\n",
       "      <th>Digital Advertisement</th>\n",
       "      <th>Through Recommendations</th>\n",
       "      <th>Receive More Updates About Our Courses</th>\n",
       "      <th>Tags</th>\n",
       "      <th>Lead Quality</th>\n",
       "      <th>Update me on Supply Chain Content</th>\n",
       "      <th>Get updates on DM Content</th>\n",
       "      <th>Lead Profile</th>\n",
       "      <th>City</th>\n",
       "      <th>Asymmetrique Activity Index</th>\n",
       "      <th>Asymmetrique Profile Index</th>\n",
       "      <th>Asymmetrique Activity Score</th>\n",
       "      <th>Asymmetrique Profile Score</th>\n",
       "      <th>I agree to pay the amount through cheque</th>\n",
       "      <th>A free copy of Mastering The Interview</th>\n",
       "      <th>Last Notable Activity</th>\n",
       "    </tr>\n",
       "  </thead>\n",
       "  <tbody>\n",
       "    <tr>\n",
       "      <th>0</th>\n",
       "      <td>7927b2df-8bba-4d29-b9a2-b6e0beafe620</td>\n",
       "      <td>660737</td>\n",
       "      <td>API</td>\n",
       "      <td>Olark Chat</td>\n",
       "      <td>No</td>\n",
       "      <td>No</td>\n",
       "      <td>0</td>\n",
       "      <td>0.0</td>\n",
       "      <td>0</td>\n",
       "      <td>0.0</td>\n",
       "      <td>Page Visited on Website</td>\n",
       "      <td>NaN</td>\n",
       "      <td>Select</td>\n",
       "      <td>Select</td>\n",
       "      <td>Unemployed</td>\n",
       "      <td>Better Career Prospects</td>\n",
       "      <td>No</td>\n",
       "      <td>No</td>\n",
       "      <td>No</td>\n",
       "      <td>No</td>\n",
       "      <td>No</td>\n",
       "      <td>No</td>\n",
       "      <td>No</td>\n",
       "      <td>No</td>\n",
       "      <td>Interested in other courses</td>\n",
       "      <td>Low in Relevance</td>\n",
       "      <td>No</td>\n",
       "      <td>No</td>\n",
       "      <td>Select</td>\n",
       "      <td>Select</td>\n",
       "      <td>02.Medium</td>\n",
       "      <td>02.Medium</td>\n",
       "      <td>15.0</td>\n",
       "      <td>15.0</td>\n",
       "      <td>No</td>\n",
       "      <td>No</td>\n",
       "      <td>Modified</td>\n",
       "    </tr>\n",
       "    <tr>\n",
       "      <th>1</th>\n",
       "      <td>2a272436-5132-4136-86fa-dcc88c88f482</td>\n",
       "      <td>660728</td>\n",
       "      <td>API</td>\n",
       "      <td>Organic Search</td>\n",
       "      <td>No</td>\n",
       "      <td>No</td>\n",
       "      <td>0</td>\n",
       "      <td>5.0</td>\n",
       "      <td>674</td>\n",
       "      <td>2.5</td>\n",
       "      <td>Email Opened</td>\n",
       "      <td>India</td>\n",
       "      <td>Select</td>\n",
       "      <td>Select</td>\n",
       "      <td>Unemployed</td>\n",
       "      <td>Better Career Prospects</td>\n",
       "      <td>No</td>\n",
       "      <td>No</td>\n",
       "      <td>No</td>\n",
       "      <td>No</td>\n",
       "      <td>No</td>\n",
       "      <td>No</td>\n",
       "      <td>No</td>\n",
       "      <td>No</td>\n",
       "      <td>Ringing</td>\n",
       "      <td>NaN</td>\n",
       "      <td>No</td>\n",
       "      <td>No</td>\n",
       "      <td>Select</td>\n",
       "      <td>Select</td>\n",
       "      <td>02.Medium</td>\n",
       "      <td>02.Medium</td>\n",
       "      <td>15.0</td>\n",
       "      <td>15.0</td>\n",
       "      <td>No</td>\n",
       "      <td>No</td>\n",
       "      <td>Email Opened</td>\n",
       "    </tr>\n",
       "    <tr>\n",
       "      <th>2</th>\n",
       "      <td>8cc8c611-a219-4f35-ad23-fdfd2656bd8a</td>\n",
       "      <td>660727</td>\n",
       "      <td>Landing Page Submission</td>\n",
       "      <td>Direct Traffic</td>\n",
       "      <td>No</td>\n",
       "      <td>No</td>\n",
       "      <td>1</td>\n",
       "      <td>2.0</td>\n",
       "      <td>1532</td>\n",
       "      <td>2.0</td>\n",
       "      <td>Email Opened</td>\n",
       "      <td>India</td>\n",
       "      <td>Business Administration</td>\n",
       "      <td>Select</td>\n",
       "      <td>Student</td>\n",
       "      <td>Better Career Prospects</td>\n",
       "      <td>No</td>\n",
       "      <td>No</td>\n",
       "      <td>No</td>\n",
       "      <td>No</td>\n",
       "      <td>No</td>\n",
       "      <td>No</td>\n",
       "      <td>No</td>\n",
       "      <td>No</td>\n",
       "      <td>Will revert after reading the email</td>\n",
       "      <td>Might be</td>\n",
       "      <td>No</td>\n",
       "      <td>No</td>\n",
       "      <td>Potential Lead</td>\n",
       "      <td>Mumbai</td>\n",
       "      <td>02.Medium</td>\n",
       "      <td>01.High</td>\n",
       "      <td>14.0</td>\n",
       "      <td>20.0</td>\n",
       "      <td>No</td>\n",
       "      <td>Yes</td>\n",
       "      <td>Email Opened</td>\n",
       "    </tr>\n",
       "    <tr>\n",
       "      <th>3</th>\n",
       "      <td>0cc2df48-7cf4-4e39-9de9-19797f9b38cc</td>\n",
       "      <td>660719</td>\n",
       "      <td>Landing Page Submission</td>\n",
       "      <td>Direct Traffic</td>\n",
       "      <td>No</td>\n",
       "      <td>No</td>\n",
       "      <td>0</td>\n",
       "      <td>1.0</td>\n",
       "      <td>305</td>\n",
       "      <td>1.0</td>\n",
       "      <td>Unreachable</td>\n",
       "      <td>India</td>\n",
       "      <td>Media and Advertising</td>\n",
       "      <td>Word Of Mouth</td>\n",
       "      <td>Unemployed</td>\n",
       "      <td>Better Career Prospects</td>\n",
       "      <td>No</td>\n",
       "      <td>No</td>\n",
       "      <td>No</td>\n",
       "      <td>No</td>\n",
       "      <td>No</td>\n",
       "      <td>No</td>\n",
       "      <td>No</td>\n",
       "      <td>No</td>\n",
       "      <td>Ringing</td>\n",
       "      <td>Not Sure</td>\n",
       "      <td>No</td>\n",
       "      <td>No</td>\n",
       "      <td>Select</td>\n",
       "      <td>Mumbai</td>\n",
       "      <td>02.Medium</td>\n",
       "      <td>01.High</td>\n",
       "      <td>13.0</td>\n",
       "      <td>17.0</td>\n",
       "      <td>No</td>\n",
       "      <td>No</td>\n",
       "      <td>Modified</td>\n",
       "    </tr>\n",
       "    <tr>\n",
       "      <th>4</th>\n",
       "      <td>3256f628-e534-4826-9d63-4a8b88782852</td>\n",
       "      <td>660681</td>\n",
       "      <td>Landing Page Submission</td>\n",
       "      <td>Google</td>\n",
       "      <td>No</td>\n",
       "      <td>No</td>\n",
       "      <td>1</td>\n",
       "      <td>2.0</td>\n",
       "      <td>1428</td>\n",
       "      <td>1.0</td>\n",
       "      <td>Converted to Lead</td>\n",
       "      <td>India</td>\n",
       "      <td>Select</td>\n",
       "      <td>Other</td>\n",
       "      <td>Unemployed</td>\n",
       "      <td>Better Career Prospects</td>\n",
       "      <td>No</td>\n",
       "      <td>No</td>\n",
       "      <td>No</td>\n",
       "      <td>No</td>\n",
       "      <td>No</td>\n",
       "      <td>No</td>\n",
       "      <td>No</td>\n",
       "      <td>No</td>\n",
       "      <td>Will revert after reading the email</td>\n",
       "      <td>Might be</td>\n",
       "      <td>No</td>\n",
       "      <td>No</td>\n",
       "      <td>Select</td>\n",
       "      <td>Mumbai</td>\n",
       "      <td>02.Medium</td>\n",
       "      <td>01.High</td>\n",
       "      <td>15.0</td>\n",
       "      <td>18.0</td>\n",
       "      <td>No</td>\n",
       "      <td>No</td>\n",
       "      <td>Modified</td>\n",
       "    </tr>\n",
       "  </tbody>\n",
       "</table>\n",
       "</div>"
      ],
      "text/plain": [
       "                            Prospect ID  Lead Number              Lead Origin  \\\n",
       "0  7927b2df-8bba-4d29-b9a2-b6e0beafe620       660737                      API   \n",
       "1  2a272436-5132-4136-86fa-dcc88c88f482       660728                      API   \n",
       "2  8cc8c611-a219-4f35-ad23-fdfd2656bd8a       660727  Landing Page Submission   \n",
       "3  0cc2df48-7cf4-4e39-9de9-19797f9b38cc       660719  Landing Page Submission   \n",
       "4  3256f628-e534-4826-9d63-4a8b88782852       660681  Landing Page Submission   \n",
       "\n",
       "      Lead Source Do Not Email Do Not Call  Converted  TotalVisits  \\\n",
       "0      Olark Chat           No          No          0          0.0   \n",
       "1  Organic Search           No          No          0          5.0   \n",
       "2  Direct Traffic           No          No          1          2.0   \n",
       "3  Direct Traffic           No          No          0          1.0   \n",
       "4          Google           No          No          1          2.0   \n",
       "\n",
       "   Total Time Spent on Website  Page Views Per Visit            Last Activity  \\\n",
       "0                            0                   0.0  Page Visited on Website   \n",
       "1                          674                   2.5             Email Opened   \n",
       "2                         1532                   2.0             Email Opened   \n",
       "3                          305                   1.0              Unreachable   \n",
       "4                         1428                   1.0        Converted to Lead   \n",
       "\n",
       "  Country           Specialization How did you hear about X Education  \\\n",
       "0     NaN                   Select                             Select   \n",
       "1   India                   Select                             Select   \n",
       "2   India  Business Administration                             Select   \n",
       "3   India    Media and Advertising                      Word Of Mouth   \n",
       "4   India                   Select                              Other   \n",
       "\n",
       "  What is your current occupation  \\\n",
       "0                      Unemployed   \n",
       "1                      Unemployed   \n",
       "2                         Student   \n",
       "3                      Unemployed   \n",
       "4                      Unemployed   \n",
       "\n",
       "  What matters most to you in choosing a course Search Magazine  \\\n",
       "0                       Better Career Prospects     No       No   \n",
       "1                       Better Career Prospects     No       No   \n",
       "2                       Better Career Prospects     No       No   \n",
       "3                       Better Career Prospects     No       No   \n",
       "4                       Better Career Prospects     No       No   \n",
       "\n",
       "  Newspaper Article X Education Forums Newspaper Digital Advertisement  \\\n",
       "0                No                 No        No                    No   \n",
       "1                No                 No        No                    No   \n",
       "2                No                 No        No                    No   \n",
       "3                No                 No        No                    No   \n",
       "4                No                 No        No                    No   \n",
       "\n",
       "  Through Recommendations Receive More Updates About Our Courses  \\\n",
       "0                      No                                     No   \n",
       "1                      No                                     No   \n",
       "2                      No                                     No   \n",
       "3                      No                                     No   \n",
       "4                      No                                     No   \n",
       "\n",
       "                                  Tags      Lead Quality  \\\n",
       "0          Interested in other courses  Low in Relevance   \n",
       "1                              Ringing               NaN   \n",
       "2  Will revert after reading the email          Might be   \n",
       "3                              Ringing          Not Sure   \n",
       "4  Will revert after reading the email          Might be   \n",
       "\n",
       "  Update me on Supply Chain Content Get updates on DM Content    Lead Profile  \\\n",
       "0                                No                        No          Select   \n",
       "1                                No                        No          Select   \n",
       "2                                No                        No  Potential Lead   \n",
       "3                                No                        No          Select   \n",
       "4                                No                        No          Select   \n",
       "\n",
       "     City Asymmetrique Activity Index Asymmetrique Profile Index  \\\n",
       "0  Select                   02.Medium                  02.Medium   \n",
       "1  Select                   02.Medium                  02.Medium   \n",
       "2  Mumbai                   02.Medium                    01.High   \n",
       "3  Mumbai                   02.Medium                    01.High   \n",
       "4  Mumbai                   02.Medium                    01.High   \n",
       "\n",
       "   Asymmetrique Activity Score  Asymmetrique Profile Score  \\\n",
       "0                         15.0                        15.0   \n",
       "1                         15.0                        15.0   \n",
       "2                         14.0                        20.0   \n",
       "3                         13.0                        17.0   \n",
       "4                         15.0                        18.0   \n",
       "\n",
       "  I agree to pay the amount through cheque  \\\n",
       "0                                       No   \n",
       "1                                       No   \n",
       "2                                       No   \n",
       "3                                       No   \n",
       "4                                       No   \n",
       "\n",
       "  A free copy of Mastering The Interview Last Notable Activity  \n",
       "0                                     No              Modified  \n",
       "1                                     No          Email Opened  \n",
       "2                                    Yes          Email Opened  \n",
       "3                                     No              Modified  \n",
       "4                                     No              Modified  "
      ]
     },
     "execution_count": 229,
     "metadata": {},
     "output_type": "execute_result"
    }
   ],
   "source": [
    "df.head()"
   ]
  },
  {
   "cell_type": "code",
   "execution_count": 230,
   "id": "toxic-slave",
   "metadata": {},
   "outputs": [
    {
     "data": {
      "text/plain": [
       "(9240, 37)"
      ]
     },
     "execution_count": 230,
     "metadata": {},
     "output_type": "execute_result"
    }
   ],
   "source": [
    "df.shape"
   ]
  },
  {
   "cell_type": "markdown",
   "id": "false-compact",
   "metadata": {
    "tags": []
   },
   "source": [
    "# Exploratory Data Analysis"
   ]
  },
  {
   "cell_type": "markdown",
   "id": "double-canon",
   "metadata": {
    "heading_collapsed": "true",
    "tags": []
   },
   "source": [
    "## Missing Values"
   ]
  },
  {
   "cell_type": "markdown",
   "id": "scientific-elite",
   "metadata": {
    "heading_collapsed": "true",
    "tags": []
   },
   "source": [
    "### Replacing occurences of 'Select' with NaN\n",
    "Many of the categorical variables have a level called 'Select' which is a null value. It corresponds to a situation where a user, while filling an online form didn't select any options from a dropdown menu."
   ]
  },
  {
   "cell_type": "code",
   "execution_count": 231,
   "id": "affecting-citizenship",
   "metadata": {},
   "outputs": [],
   "source": [
    "df = df.replace('Select', np.nan)"
   ]
  },
  {
   "cell_type": "markdown",
   "id": "regulation-repair",
   "metadata": {
    "heading_collapsed": "true",
    "tags": []
   },
   "source": [
    "### Plotting missing value plots"
   ]
  },
  {
   "cell_type": "code",
   "execution_count": 232,
   "id": "religious-aaron",
   "metadata": {},
   "outputs": [
    {
     "data": {
      "image/png": "[encoded data removed]",
      "text/plain": [
       "<Figure size 1800x720 with 1 Axes>"
      ]
     },
     "metadata": {},
     "output_type": "display_data"
    }
   ],
   "source": [
    "import missingno as msno\n",
    "color = .5, 0.35, 0.5\n",
    "msno.matrix(df, sparkline=False, color=color);"
   ]
  },
  {
   "cell_type": "code",
   "execution_count": 233,
   "id": "brazilian-promise",
   "metadata": {},
   "outputs": [
    {
     "data": {
      "image/png": "[encoded data removed]",
      "text/plain": [
       "<Figure size 864x360 with 1 Axes>"
      ]
     },
     "metadata": {},
     "output_type": "display_data"
    }
   ],
   "source": [
    "nans = df.isna().sum().sort_values(ascending=False)/len(df)*100\n",
    "nans = nans[~(nans==0)] #removing 0s\n",
    "sns.set_style(style='whitegrid')\n",
    "with sns.plotting_context(font_scale=0.6):\n",
    "    plt.figure(figsize=[12,5])\n",
    "    sns.barplot(x = nans, y = nans.index, color=color)\n",
    "    plt.show()"
   ]
  },
  {
   "cell_type": "markdown",
   "id": "noticed-extreme",
   "metadata": {
    "tags": []
   },
   "source": [
    "## Univariate Analysis (first pass)\n",
    "Inspect each column and take appropriate actions like  \n",
    "- Dropping useless columns\n",
    "- Creating dummy variables\n",
    "- Cleaning values, converting into appropriate dtypes"
   ]
  },
  {
   "cell_type": "markdown",
   "id": "focused-curve",
   "metadata": {
    "tags": []
   },
   "source": [
    "### Plotting functions"
   ]
  },
  {
   "cell_type": "code",
   "execution_count": 234,
   "id": "unique-gallery",
   "metadata": {
    "tags": []
   },
   "outputs": [
    {
     "data": {
      "text/html": [
       "<div>\n",
       "<style scoped>\n",
       "    .dataframe tbody tr th:only-of-type {\n",
       "        vertical-align: middle;\n",
       "    }\n",
       "\n",
       "    .dataframe tbody tr th {\n",
       "        vertical-align: top;\n",
       "    }\n",
       "\n",
       "    .dataframe thead tr th {\n",
       "        text-align: left;\n",
       "    }\n",
       "</style>\n",
       "<table border=\"1\" class=\"dataframe\">\n",
       "  <thead>\n",
       "    <tr>\n",
       "      <th></th>\n",
       "      <th colspan=\"2\" halign=\"left\">City</th>\n",
       "    </tr>\n",
       "    <tr>\n",
       "      <th></th>\n",
       "      <th>Counts</th>\n",
       "      <th>Normalised</th>\n",
       "    </tr>\n",
       "  </thead>\n",
       "  <tbody>\n",
       "    <tr>\n",
       "      <th>NaNs</th>\n",
       "      <td>3669</td>\n",
       "      <td>0.397078</td>\n",
       "    </tr>\n",
       "    <tr>\n",
       "      <th>Mumbai</th>\n",
       "      <td>3222</td>\n",
       "      <td>0.348701</td>\n",
       "    </tr>\n",
       "    <tr>\n",
       "      <th>Thane &amp; Outskirts</th>\n",
       "      <td>752</td>\n",
       "      <td>0.081385</td>\n",
       "    </tr>\n",
       "    <tr>\n",
       "      <th>Other Cities</th>\n",
       "      <td>686</td>\n",
       "      <td>0.074242</td>\n",
       "    </tr>\n",
       "    <tr>\n",
       "      <th>Other Cities of Maharashtra</th>\n",
       "      <td>457</td>\n",
       "      <td>0.049459</td>\n",
       "    </tr>\n",
       "    <tr>\n",
       "      <th>Other Metro Cities</th>\n",
       "      <td>380</td>\n",
       "      <td>0.041126</td>\n",
       "    </tr>\n",
       "    <tr>\n",
       "      <th>Tier II Cities</th>\n",
       "      <td>74</td>\n",
       "      <td>0.008009</td>\n",
       "    </tr>\n",
       "  </tbody>\n",
       "</table>\n",
       "</div>"
      ],
      "text/plain": [
       "                              City           \n",
       "                            Counts Normalised\n",
       "NaNs                          3669   0.397078\n",
       "Mumbai                        3222   0.348701\n",
       "Thane & Outskirts              752   0.081385\n",
       "Other Cities                   686   0.074242\n",
       "Other Cities of Maharashtra    457   0.049459\n",
       "Other Metro Cities             380   0.041126\n",
       "Tier II Cities                  74   0.008009"
      ]
     },
     "execution_count": 234,
     "metadata": {},
     "output_type": "execute_result"
    }
   ],
   "source": [
    "def value_counts(series: 'pd.Series'):\n",
    "    \"\"\"\n",
    "    Outputs value counts of a pandas Series in the form\n",
    "    of a nice Dataframe.\n",
    "    \"\"\"\n",
    "    total_rows, nans = series.shape[0], series.isna().sum()\n",
    "    counts = pd.DataFrame(series.value_counts())\n",
    "    counts = pd.DataFrame(index=['NaNs'], columns=counts.columns,\n",
    "                          data=[nans]).append(counts)\n",
    "    counts_norm = pd.DataFrame(counts / total_rows)\n",
    "    df = pd.merge(counts, counts_norm, left_index=True, right_index=True)\n",
    "    df.columns = pd.MultiIndex.from_arrays(\n",
    "        [[series._name, series._name],\n",
    "         ['Counts', 'Normalised']])\n",
    "    return df\n",
    "city = value_counts(df['City'])\n",
    "city"
   ]
  },
  {
   "cell_type": "code",
   "execution_count": 235,
   "id": "living-planning",
   "metadata": {},
   "outputs": [],
   "source": [
    "cols = df.columns.drop(['Prospect ID', 'Lead Number'])"
   ]
  },
  {
   "cell_type": "code",
   "execution_count": 236,
   "id": "southwest-helicopter",
   "metadata": {
    "tags": []
   },
   "outputs": [],
   "source": [
    "import ipywidgets as widgets\n",
    "from ipywidgets import VBox, HBox, interactive_output\n",
    "from IPython.display import clear_output\n",
    "sns.set_theme('notebook', palette='turbo')\n",
    "col = widgets.Dropdown(\n",
    "        options=cols,\n",
    "        description='Column',\n",
    "        disabled=False)\n",
    "def f(col):\n",
    "    print(f'Description of {col}')\n",
    "    print(str(df[col].describe()))\n",
    "def g(col):\n",
    "    plt.figure(dpi=90)\n",
    "    sns.scatterplot(y=df[col].value_counts(),x=df[col].value_counts().index)\n",
    "    plt.title('Value Counts')\n",
    "    plt.xticks(rotation=90)\n",
    "    plt.show()\n",
    "def h(col):\n",
    "    display(value_counts(df[col]), )\n",
    "def i(col):\n",
    "    try: print(data_dict.loc[col].values[0])\n",
    "    except: print(col)\n",
    "\n",
    "def j(col):\n",
    "    try:\n",
    "        plt.figure(dpi=90)\n",
    "        plt.xticks(rotation=90)\n",
    "        sns.histplot(df[col], kde=True)\n",
    "        plt.plot()\n",
    "    except: return 'Unsupported Data for Univariate distplot'\n",
    "hist_button = widgets.Button(description='View Distribution')\n",
    "histogram = widgets.Output()\n",
    "def on_button_clicked(_):\n",
    "      with histogram:\n",
    "          clear_output()\n",
    "          display(interactive_output(j, {'col':col}))\n",
    "hist_button.on_click(on_button_clicked)\n",
    "\n",
    "describe =         interactive_output(f, {'col': col})\n",
    "value_count_plot = interactive_output(g,{'col':col})\n",
    "value_counts_ =     interactive_output(h,{'col':col})\n",
    "line =             widgets.Output(layout={'border': '1px solid black'})\n",
    "description =      interactive_output(i, {'col':col})"
   ]
  },
  {
   "cell_type": "markdown",
   "id": "parallel-antenna",
   "metadata": {
    "tags": []
   },
   "source": [
    "### Widget"
   ]
  },
  {
   "cell_type": "code",
   "execution_count": 237,
   "id": "brown-martin",
   "metadata": {
    "tags": []
   },
   "outputs": [
    {
     "data": {
      "application/vnd.jupyter.widget-view+json": {
       "model_id": "66edaf410a0e4ccbb2230f843ad2761f",
       "version_major": 2,
       "version_minor": 0
      },
      "text/plain": [
       "HBox(children=(VBox(box_style='info', children=(Dropdown(description='Column', options=('Lead Origin', 'Lead S…"
      ]
     },
     "metadata": {},
     "output_type": "display_data"
    }
   ],
   "source": [
    "HBox([VBox([col, describe, line,value_counts_],box_style='info'),\n",
    "      line,\n",
    "      VBox([description, line,value_count_plot, line, hist_button, histogram]) ])"
   ]
  },
  {
   "cell_type": "markdown",
   "id": "adjacent-former",
   "metadata": {
    "tags": []
   },
   "source": [
    "### Actions"
   ]
  },
  {
   "cell_type": "markdown",
   "id": "needed-annex",
   "metadata": {},
   "source": [
    "- `Prospect ID` : It's an unique string, **dropping**. \n",
    "- `Lead Number` : It's an unique id, **dropping it**.\n",
    "- `Lead Origin` : *'Quick Add Form'* method was used by a single user, replacing it with *'Lead Add Form'*.  \n",
    "- `Lead Source` : It has various levels which can be combined together based on meaning. We will try bin them based on the ratio of succesfull conversions. \n",
    "- `Do Not Email` : Its too unbalanced (92%), **dropping**.\n",
    "- `Do Not Call` : Its too unbalanced (99.9%), **dropping**.\n",
    "- `Converted` : Its the **target variable**.\n",
    "- `TotalVisits` : The data is very skewed, **Later:** transform it to make it look more normal.\n",
    "- `Total Time Spent on Website` : The data is very skewed, **Later:** transform it to make it look more normal.\n",
    "- `Page Views Per Visit` : The data is very skewed, **Later:** transform it to make it look more normal.\n",
    "- `Last Activity` : *Variable not relevant* **dropping it**\n",
    "- `Country` : 26% values are NaN, but rest of the values are 95% *'India'*, hence imputing NaNs with it.\n",
    "- `Specialization` : 36% are NaNs hence **dropping it**. Later: impute missing values and add to model for better performance.\n",
    "- `How did you hear about X Education` : 78% NaNs hence **dropping it**.\n",
    "- `What is your current occupation` : 30% are NaNs and rest 60% are *'Unemployed'*; imputing NaNs with mode\n",
    "- `What matters most to you in choosing a course` : This column has only 3 rows which are not *'Better Career Prospects'* or NaNs hence **dropping it**.  Later: impute missing values and add to model for better performance.\n",
    "- `Search` : Highly imbalanced (99.8%) hence **dropping it**.  Later: impute missing values and add to model for better performance.\n",
    "- `Magazine` : Whole column is a single value hence **dropping it**. \n",
    "- `Newspaper Article` : Highly imbalanced (99.99%) hence **dropping it**.\n",
    "- `X Education Forums` : Highly imbalanced (99.99%) hence **dropping it**.\n",
    "- `Newspaper` : Highly imbalanced (99.99%) hence **dropping it**.\n",
    "- `Digital Advertisement` : Highly imbalanced (99.99%) hence **dropping it**.\n",
    "- `Through Recommendations` : Highly imbalanced (99.99%) hence **dropping it**.\n",
    "- `Receive More Updates About Our Courses` : Whole column is a single value hence **dropping it**.\n",
    "- `Tags` : *Variable not relevant* **dropping it**\n",
    "- `Lead Quality` : *Variable not relevant* **dropping it**\n",
    "- `Update me on Supply Chain Content` : Whole column is a single value hence **dropping it**.\n",
    "- `Get updates on DM Content` : Whole column is a single value hence **dropping it**.\n",
    "- `Lead Profile` : *Variable not relevant* **dropping it**\n",
    "- `City` : 40% NaNs hence **dropping it**.\n",
    "- `Asymmetrique Activity Index` : *Variable not relevant* **dropping it**\n",
    "- `Asymmetrique Profile Index` : *Variable not relevant* **dropping it**\n",
    "- `Asymmetrique Activity Score` : *Variable not relevant* **dropping it**\n",
    "- `Asymmetrique Profile Score` : *Variable not relevant* **dropping it**\n",
    "- `I agree to pay the amount through cheque` : *Variable not relevant* **dropping it**\n",
    "- `A free copy of Mastering The Interview` : Fine column. \n",
    "- `Last Notable Activity` : *Variable not relevant* **dropping it**\n"
   ]
  },
  {
   "cell_type": "code",
   "execution_count": 238,
   "id": "missing-nudist",
   "metadata": {},
   "outputs": [
    {
     "data": {
      "text/html": [
       "<div>\n",
       "<style scoped>\n",
       "    .dataframe tbody tr th:only-of-type {\n",
       "        vertical-align: middle;\n",
       "    }\n",
       "\n",
       "    .dataframe tbody tr th {\n",
       "        vertical-align: top;\n",
       "    }\n",
       "\n",
       "    .dataframe thead th {\n",
       "        text-align: right;\n",
       "    }\n",
       "</style>\n",
       "<table border=\"1\" class=\"dataframe\">\n",
       "  <thead>\n",
       "    <tr style=\"text-align: right;\">\n",
       "      <th></th>\n",
       "      <th>Lead Origin</th>\n",
       "      <th>Lead Source</th>\n",
       "      <th>Converted</th>\n",
       "      <th>TotalVisits</th>\n",
       "      <th>Total Time Spent on Website</th>\n",
       "      <th>Page Views Per Visit</th>\n",
       "      <th>Country</th>\n",
       "      <th>What is your current occupation</th>\n",
       "      <th>A free copy of Mastering The Interview</th>\n",
       "    </tr>\n",
       "  </thead>\n",
       "  <tbody>\n",
       "    <tr>\n",
       "      <th>0</th>\n",
       "      <td>API</td>\n",
       "      <td>Olark Chat</td>\n",
       "      <td>0</td>\n",
       "      <td>0.0</td>\n",
       "      <td>0</td>\n",
       "      <td>0.0</td>\n",
       "      <td>NaN</td>\n",
       "      <td>Unemployed</td>\n",
       "      <td>No</td>\n",
       "    </tr>\n",
       "    <tr>\n",
       "      <th>1</th>\n",
       "      <td>API</td>\n",
       "      <td>Organic Search</td>\n",
       "      <td>0</td>\n",
       "      <td>5.0</td>\n",
       "      <td>674</td>\n",
       "      <td>2.5</td>\n",
       "      <td>India</td>\n",
       "      <td>Unemployed</td>\n",
       "      <td>No</td>\n",
       "    </tr>\n",
       "    <tr>\n",
       "      <th>2</th>\n",
       "      <td>Landing Page Submission</td>\n",
       "      <td>Direct Traffic</td>\n",
       "      <td>1</td>\n",
       "      <td>2.0</td>\n",
       "      <td>1532</td>\n",
       "      <td>2.0</td>\n",
       "      <td>India</td>\n",
       "      <td>Student</td>\n",
       "      <td>Yes</td>\n",
       "    </tr>\n",
       "    <tr>\n",
       "      <th>3</th>\n",
       "      <td>Landing Page Submission</td>\n",
       "      <td>Direct Traffic</td>\n",
       "      <td>0</td>\n",
       "      <td>1.0</td>\n",
       "      <td>305</td>\n",
       "      <td>1.0</td>\n",
       "      <td>India</td>\n",
       "      <td>Unemployed</td>\n",
       "      <td>No</td>\n",
       "    </tr>\n",
       "    <tr>\n",
       "      <th>4</th>\n",
       "      <td>Landing Page Submission</td>\n",
       "      <td>Google</td>\n",
       "      <td>1</td>\n",
       "      <td>2.0</td>\n",
       "      <td>1428</td>\n",
       "      <td>1.0</td>\n",
       "      <td>India</td>\n",
       "      <td>Unemployed</td>\n",
       "      <td>No</td>\n",
       "    </tr>\n",
       "  </tbody>\n",
       "</table>\n",
       "</div>"
      ],
      "text/plain": [
       "               Lead Origin     Lead Source  Converted  TotalVisits  \\\n",
       "0                      API      Olark Chat          0          0.0   \n",
       "1                      API  Organic Search          0          5.0   \n",
       "2  Landing Page Submission  Direct Traffic          1          2.0   \n",
       "3  Landing Page Submission  Direct Traffic          0          1.0   \n",
       "4  Landing Page Submission          Google          1          2.0   \n",
       "\n",
       "   Total Time Spent on Website  Page Views Per Visit Country  \\\n",
       "0                            0                   0.0     NaN   \n",
       "1                          674                   2.5   India   \n",
       "2                         1532                   2.0   India   \n",
       "3                          305                   1.0   India   \n",
       "4                         1428                   1.0   India   \n",
       "\n",
       "  What is your current occupation A free copy of Mastering The Interview  \n",
       "0                      Unemployed                                     No  \n",
       "1                      Unemployed                                     No  \n",
       "2                         Student                                    Yes  \n",
       "3                      Unemployed                                     No  \n",
       "4                      Unemployed                                     No  "
      ]
     },
     "execution_count": 238,
     "metadata": {},
     "output_type": "execute_result"
    }
   ],
   "source": [
    "to_keep = ['Lead Origin', 'Lead Source', 'Converted', 'TotalVisits',\n",
    "           'Total Time Spent on Website', 'Page Views Per Visit', 'Country',\n",
    "           'What is your current occupation', 'A free copy of Mastering The Interview']\n",
    "df_filtered = df.filter(to_keep, axis='columns')\n",
    "df_filtered['Lead Origin'] = df_filtered['Lead Origin'].replace(to_replace={'Quick Add Form':'Lead Add Form',\n",
    "                                                          'Lead Import': 'Lead Add Form'})\n",
    "df_filtered.head()"
   ]
  },
  {
   "cell_type": "code",
   "execution_count": 239,
   "id": "congressional-flooring",
   "metadata": {},
   "outputs": [
    {
     "data": {
      "text/html": [
       "<div>\n",
       "<style scoped>\n",
       "    .dataframe tbody tr th:only-of-type {\n",
       "        vertical-align: middle;\n",
       "    }\n",
       "\n",
       "    .dataframe tbody tr th {\n",
       "        vertical-align: top;\n",
       "    }\n",
       "\n",
       "    .dataframe thead th {\n",
       "        text-align: right;\n",
       "    }\n",
       "</style>\n",
       "<table border=\"1\" class=\"dataframe\">\n",
       "  <thead>\n",
       "    <tr style=\"text-align: right;\">\n",
       "      <th></th>\n",
       "      <th>No</th>\n",
       "      <th>Yes</th>\n",
       "      <th>percent_yes</th>\n",
       "    </tr>\n",
       "  </thead>\n",
       "  <tbody>\n",
       "    <tr>\n",
       "      <th>Pay per Click Ads</th>\n",
       "      <td>1.0</td>\n",
       "      <td>NaN</td>\n",
       "      <td>NaN</td>\n",
       "    </tr>\n",
       "    <tr>\n",
       "      <th>youtubechannel</th>\n",
       "      <td>1.0</td>\n",
       "      <td>NaN</td>\n",
       "      <td>NaN</td>\n",
       "    </tr>\n",
       "    <tr>\n",
       "      <th>Live Chat</th>\n",
       "      <td>NaN</td>\n",
       "      <td>2.0</td>\n",
       "      <td>NaN</td>\n",
       "    </tr>\n",
       "    <tr>\n",
       "      <th>WeLearn</th>\n",
       "      <td>NaN</td>\n",
       "      <td>1.0</td>\n",
       "      <td>NaN</td>\n",
       "    </tr>\n",
       "    <tr>\n",
       "      <th>NC_EDM</th>\n",
       "      <td>NaN</td>\n",
       "      <td>1.0</td>\n",
       "      <td>NaN</td>\n",
       "    </tr>\n",
       "  </tbody>\n",
       "</table>\n",
       "</div>"
      ],
      "text/plain": [
       "                    No  Yes  percent_yes\n",
       "Pay per Click Ads  1.0  NaN          NaN\n",
       "youtubechannel     1.0  NaN          NaN\n",
       "Live Chat          NaN  2.0          NaN\n",
       "WeLearn            NaN  1.0          NaN\n",
       "NC_EDM             NaN  1.0          NaN"
      ]
     },
     "execution_count": 239,
     "metadata": {},
     "output_type": "execute_result"
    }
   ],
   "source": [
    "col = 'Lead Source'\n",
    "def value_count_with_target_var(col, df=df):\n",
    "    df[df['Converted']==1][col]\n",
    "    converted_yes = df[df['Converted']==1][col].value_counts()\n",
    "    converted_no = df[df['Converted']==0][col].value_counts()\n",
    "    temp = pd.DataFrame(data=[converted_no, converted_yes], index=['No', 'Yes']).T\n",
    "    temp['percent_yes'] = (temp['Yes'] / (temp['No']+temp[ 'Yes']))*100\n",
    "    return temp\n",
    "temp = value_count_with_target_var(col)\n",
    "temp.sort_values('percent_yes', ascending=False).tail()"
   ]
  },
  {
   "cell_type": "code",
   "execution_count": 240,
   "id": "cleared-valley",
   "metadata": {},
   "outputs": [],
   "source": [
    "def plot_percentage_converted(col, df=df):\n",
    "    to_plot = value_count_with_target_var(col, df)\n",
    "    to_plot = to_plot.sort_values('percent_yes',ascending=False)\n",
    "    labels = to_plot.index\n",
    "    converted, converted_not = to_plot.Yes, to_plot.No\n",
    "    fig, ax = plt.subplots(figsize=(15,int(len(to_plot)/3.5)+2), dpi=80)\n",
    "    ax.barh(labels, converted_not.fillna(0),  label='Not Converted')\n",
    "    ax.barh(labels, converted.fillna(0),  label='Converted', left=converted_not)\n",
    "    ax.set_ylabel('Levels')\n",
    "    ax.set_title(f'Value Counts of \"{col}\" with conversions')\n",
    "    ax.legend(loc='upper right')\n",
    "    ax2 = ax.twinx()\n",
    "    ax2.barh(labels, 0)\n",
    "    ax2.set_yticklabels(to_plot.percent_yes.round(1).fillna('nan').astype(str))\n",
    "    ax2.set_ylabel('Percentage of Converted')\n",
    "    ax2.grid(b=None)\n",
    "    plt.show()"
   ]
  },
  {
   "cell_type": "code",
   "execution_count": 241,
   "id": "phantom-hardwood",
   "metadata": {},
   "outputs": [
    {
     "name": "stderr",
     "output_type": "stream",
     "text": [
      "<ipython-input-240-c2d254230d04>:14: UserWarning: FixedFormatter should only be used together with FixedLocator\n",
      "  ax2.set_yticklabels(to_plot.percent_yes.round(1).fillna('nan').astype(str))\n"
     ]
    },
    {
     "data": {
      "image/png": "[encoded data removed]",
      "text/plain": [
       "<Figure size 1200x640 with 2 Axes>"
      ]
     },
     "metadata": {},
     "output_type": "display_data"
    }
   ],
   "source": [
    "col = 'Lead Source'\n",
    "plot_percentage_converted(col)"
   ]
  },
  {
   "cell_type": "code",
   "execution_count": 242,
   "id": "valued-filling",
   "metadata": {},
   "outputs": [
    {
     "data": {
      "text/plain": [
       "search_engines           6577\n",
       "sales_team               1761\n",
       "referenced                677\n",
       "social_referral_links     182\n",
       "original_content            7\n",
       "Name: Lead Source, dtype: int64"
      ]
     },
     "execution_count": 242,
     "metadata": {},
     "output_type": "execute_result"
    }
   ],
   "source": [
    "bins = dict(\n",
    "    referenced = ['Welingak Website', 'Reference', 'WeLearn'],\n",
    "    search_engines = ['Organic Search', 'Google', 'google', 'bing', 'Direct Traffic', 'Pay per Click Ads'],\n",
    "    social_referral_links = ['Facebook', 'Referral Sites', 'Social Media', ],\n",
    "    original_content = ['blog', 'welearnblog_Home', 'Press_Release', 'youtubechannel', 'NC_EDM', 'testone'],\n",
    "    sales_team = ['Click2call', 'Olark Chat', 'Live Chat'])\n",
    "map_dict = {}\n",
    "for i in bins:\n",
    "    map_dict.update(dict.fromkeys(bins[i], i))\n",
    "df_filtered['Lead Source'] = df_filtered['Lead Source'].replace(map_dict)\n",
    "df_filtered['Lead Source'].value_counts()"
   ]
  },
  {
   "cell_type": "markdown",
   "id": "manual-investigation",
   "metadata": {
    "heading_collapsed": "true",
    "tags": []
   },
   "source": [
    "## Bivariate "
   ]
  },
  {
   "cell_type": "markdown",
   "id": "egyptian-slave",
   "metadata": {
    "tags": []
   },
   "source": [
    "## Data Preparation"
   ]
  },
  {
   "cell_type": "markdown",
   "id": "senior-saturn",
   "metadata": {},
   "source": [
    "### Missing Value Impute"
   ]
  },
  {
   "cell_type": "code",
   "execution_count": 243,
   "id": "together-bulgarian",
   "metadata": {},
   "outputs": [
    {
     "data": {
      "text/plain": [
       "Lead Origin                                  0\n",
       "Lead Source                                 36\n",
       "Converted                                    0\n",
       "TotalVisits                                137\n",
       "Total Time Spent on Website                  0\n",
       "Page Views Per Visit                       137\n",
       "Country                                   2461\n",
       "What is your current occupation           2690\n",
       "A free copy of Mastering The Interview       0\n",
       "dtype: int64"
      ]
     },
     "execution_count": 243,
     "metadata": {},
     "output_type": "execute_result"
    }
   ],
   "source": [
    "from sklearn.impute import SimpleImputer\n",
    "imp_cat = SimpleImputer(strategy='most_frequent')\n",
    "imp_cont = SimpleImputer(strategy='median') # median because the distribution was very skewed\n",
    "df_filtered.isna().sum()"
   ]
  },
  {
   "cell_type": "code",
   "execution_count": 244,
   "id": "delayed-machinery",
   "metadata": {},
   "outputs": [
    {
     "data": {
      "text/plain": [
       "True"
      ]
     },
     "execution_count": 244,
     "metadata": {},
     "output_type": "execute_result"
    }
   ],
   "source": [
    "cat = ['Lead Source', 'Country', 'What is your current occupation']\n",
    "cont = ['TotalVisits', 'Total Time Spent on Website', 'Page Views Per Visit']\n",
    "df_filtered[cat] = imp_cat.fit_transform(df_filtered[cat])\n",
    "df_filtered[cont] = imp_cont.fit_transform(df_filtered[cont])\n",
    "df_filtered.isna().sum().sum() == 0 # NO MISSING VALUES ??"
   ]
  },
  {
   "cell_type": "markdown",
   "id": "present-platform",
   "metadata": {},
   "source": [
    "### Encoding"
   ]
  },
  {
   "cell_type": "code",
   "execution_count": 245,
   "id": "brutal-spain",
   "metadata": {},
   "outputs": [
    {
     "data": {
      "text/html": [
       "<div>\n",
       "<style scoped>\n",
       "    .dataframe tbody tr th:only-of-type {\n",
       "        vertical-align: middle;\n",
       "    }\n",
       "\n",
       "    .dataframe tbody tr th {\n",
       "        vertical-align: top;\n",
       "    }\n",
       "\n",
       "    .dataframe thead th {\n",
       "        text-align: right;\n",
       "    }\n",
       "</style>\n",
       "<table border=\"1\" class=\"dataframe\">\n",
       "  <thead>\n",
       "    <tr style=\"text-align: right;\">\n",
       "      <th></th>\n",
       "      <th>Lead Origin</th>\n",
       "      <th>Lead Source</th>\n",
       "      <th>Converted</th>\n",
       "      <th>TotalVisits</th>\n",
       "      <th>Total Time Spent on Website</th>\n",
       "      <th>Page Views Per Visit</th>\n",
       "      <th>Country</th>\n",
       "      <th>What is your current occupation</th>\n",
       "      <th>A free copy of Mastering The Interview</th>\n",
       "    </tr>\n",
       "  </thead>\n",
       "  <tbody>\n",
       "    <tr>\n",
       "      <th>0</th>\n",
       "      <td>API</td>\n",
       "      <td>sales_team</td>\n",
       "      <td>0</td>\n",
       "      <td>0.0</td>\n",
       "      <td>0.0</td>\n",
       "      <td>0.0</td>\n",
       "      <td>India</td>\n",
       "      <td>Unemployed</td>\n",
       "      <td>0</td>\n",
       "    </tr>\n",
       "    <tr>\n",
       "      <th>1</th>\n",
       "      <td>API</td>\n",
       "      <td>search_engines</td>\n",
       "      <td>0</td>\n",
       "      <td>5.0</td>\n",
       "      <td>674.0</td>\n",
       "      <td>2.5</td>\n",
       "      <td>India</td>\n",
       "      <td>Unemployed</td>\n",
       "      <td>0</td>\n",
       "    </tr>\n",
       "    <tr>\n",
       "      <th>2</th>\n",
       "      <td>Landing Page Submission</td>\n",
       "      <td>search_engines</td>\n",
       "      <td>1</td>\n",
       "      <td>2.0</td>\n",
       "      <td>1532.0</td>\n",
       "      <td>2.0</td>\n",
       "      <td>India</td>\n",
       "      <td>Student</td>\n",
       "      <td>1</td>\n",
       "    </tr>\n",
       "    <tr>\n",
       "      <th>3</th>\n",
       "      <td>Landing Page Submission</td>\n",
       "      <td>search_engines</td>\n",
       "      <td>0</td>\n",
       "      <td>1.0</td>\n",
       "      <td>305.0</td>\n",
       "      <td>1.0</td>\n",
       "      <td>India</td>\n",
       "      <td>Unemployed</td>\n",
       "      <td>0</td>\n",
       "    </tr>\n",
       "    <tr>\n",
       "      <th>4</th>\n",
       "      <td>Landing Page Submission</td>\n",
       "      <td>search_engines</td>\n",
       "      <td>1</td>\n",
       "      <td>2.0</td>\n",
       "      <td>1428.0</td>\n",
       "      <td>1.0</td>\n",
       "      <td>India</td>\n",
       "      <td>Unemployed</td>\n",
       "      <td>0</td>\n",
       "    </tr>\n",
       "  </tbody>\n",
       "</table>\n",
       "</div>"
      ],
      "text/plain": [
       "               Lead Origin     Lead Source  Converted  TotalVisits  \\\n",
       "0                      API      sales_team          0          0.0   \n",
       "1                      API  search_engines          0          5.0   \n",
       "2  Landing Page Submission  search_engines          1          2.0   \n",
       "3  Landing Page Submission  search_engines          0          1.0   \n",
       "4  Landing Page Submission  search_engines          1          2.0   \n",
       "\n",
       "   Total Time Spent on Website  Page Views Per Visit Country  \\\n",
       "0                          0.0                   0.0   India   \n",
       "1                        674.0                   2.5   India   \n",
       "2                       1532.0                   2.0   India   \n",
       "3                        305.0                   1.0   India   \n",
       "4                       1428.0                   1.0   India   \n",
       "\n",
       "  What is your current occupation  A free copy of Mastering The Interview  \n",
       "0                      Unemployed                                       0  \n",
       "1                      Unemployed                                       0  \n",
       "2                         Student                                       1  \n",
       "3                      Unemployed                                       0  \n",
       "4                      Unemployed                                       0  "
      ]
     },
     "execution_count": 245,
     "metadata": {},
     "output_type": "execute_result"
    }
   ],
   "source": [
    "from sklearn.preprocessing import LabelEncoder\n",
    "enc = LabelEncoder()\n",
    "col = 'A free copy of Mastering The Interview'\n",
    "df_filtered[col] = enc.fit_transform(df_filtered[col].values)\n",
    "df_filtered.head()\n"
   ]
  },
  {
   "cell_type": "code",
   "execution_count": 246,
   "id": "utility-crash",
   "metadata": {},
   "outputs": [
    {
     "data": {
      "text/html": [
       "<div>\n",
       "<style scoped>\n",
       "    .dataframe tbody tr th:only-of-type {\n",
       "        vertical-align: middle;\n",
       "    }\n",
       "\n",
       "    .dataframe tbody tr th {\n",
       "        vertical-align: top;\n",
       "    }\n",
       "\n",
       "    .dataframe thead th {\n",
       "        text-align: right;\n",
       "    }\n",
       "</style>\n",
       "<table border=\"1\" class=\"dataframe\">\n",
       "  <thead>\n",
       "    <tr style=\"text-align: right;\">\n",
       "      <th></th>\n",
       "      <th>Converted</th>\n",
       "      <th>TotalVisits</th>\n",
       "      <th>Total Time Spent on Website</th>\n",
       "      <th>Page Views Per Visit</th>\n",
       "      <th>A free copy of Mastering The Interview</th>\n",
       "      <th>Lead Origin_Landing Page Submission</th>\n",
       "      <th>Lead Origin_Lead Add Form</th>\n",
       "      <th>Lead Source_referenced</th>\n",
       "      <th>Lead Source_sales_team</th>\n",
       "      <th>Lead Source_search_engines</th>\n",
       "      <th>Lead Source_social_referral_links</th>\n",
       "      <th>Country_Australia</th>\n",
       "      <th>Country_Bahrain</th>\n",
       "      <th>Country_Bangladesh</th>\n",
       "      <th>Country_Belgium</th>\n",
       "      <th>Country_Canada</th>\n",
       "      <th>Country_China</th>\n",
       "      <th>Country_Denmark</th>\n",
       "      <th>Country_France</th>\n",
       "      <th>Country_Germany</th>\n",
       "      <th>Country_Ghana</th>\n",
       "      <th>Country_Hong Kong</th>\n",
       "      <th>Country_India</th>\n",
       "      <th>Country_Indonesia</th>\n",
       "      <th>Country_Italy</th>\n",
       "      <th>Country_Kenya</th>\n",
       "      <th>Country_Kuwait</th>\n",
       "      <th>Country_Liberia</th>\n",
       "      <th>Country_Malaysia</th>\n",
       "      <th>Country_Netherlands</th>\n",
       "      <th>Country_Nigeria</th>\n",
       "      <th>Country_Oman</th>\n",
       "      <th>Country_Philippines</th>\n",
       "      <th>Country_Qatar</th>\n",
       "      <th>Country_Russia</th>\n",
       "      <th>Country_Saudi Arabia</th>\n",
       "      <th>Country_Singapore</th>\n",
       "      <th>Country_South Africa</th>\n",
       "      <th>Country_Sri Lanka</th>\n",
       "      <th>Country_Sweden</th>\n",
       "      <th>Country_Switzerland</th>\n",
       "      <th>Country_Tanzania</th>\n",
       "      <th>Country_Uganda</th>\n",
       "      <th>Country_United Arab Emirates</th>\n",
       "      <th>Country_United Kingdom</th>\n",
       "      <th>Country_United States</th>\n",
       "      <th>Country_Vietnam</th>\n",
       "      <th>Country_unknown</th>\n",
       "      <th>What is your current occupation_Housewife</th>\n",
       "      <th>What is your current occupation_Other</th>\n",
       "      <th>What is your current occupation_Student</th>\n",
       "      <th>What is your current occupation_Unemployed</th>\n",
       "      <th>What is your current occupation_Working Professional</th>\n",
       "    </tr>\n",
       "  </thead>\n",
       "  <tbody>\n",
       "    <tr>\n",
       "      <th>0</th>\n",
       "      <td>0</td>\n",
       "      <td>0.0</td>\n",
       "      <td>0.0</td>\n",
       "      <td>0.0</td>\n",
       "      <td>0</td>\n",
       "      <td>0</td>\n",
       "      <td>0</td>\n",
       "      <td>0</td>\n",
       "      <td>1</td>\n",
       "      <td>0</td>\n",
       "      <td>0</td>\n",
       "      <td>0</td>\n",
       "      <td>0</td>\n",
       "      <td>0</td>\n",
       "      <td>0</td>\n",
       "      <td>0</td>\n",
       "      <td>0</td>\n",
       "      <td>0</td>\n",
       "      <td>0</td>\n",
       "      <td>0</td>\n",
       "      <td>0</td>\n",
       "      <td>0</td>\n",
       "      <td>1</td>\n",
       "      <td>0</td>\n",
       "      <td>0</td>\n",
       "      <td>0</td>\n",
       "      <td>0</td>\n",
       "      <td>0</td>\n",
       "      <td>0</td>\n",
       "      <td>0</td>\n",
       "      <td>0</td>\n",
       "      <td>0</td>\n",
       "      <td>0</td>\n",
       "      <td>0</td>\n",
       "      <td>0</td>\n",
       "      <td>0</td>\n",
       "      <td>0</td>\n",
       "      <td>0</td>\n",
       "      <td>0</td>\n",
       "      <td>0</td>\n",
       "      <td>0</td>\n",
       "      <td>0</td>\n",
       "      <td>0</td>\n",
       "      <td>0</td>\n",
       "      <td>0</td>\n",
       "      <td>0</td>\n",
       "      <td>0</td>\n",
       "      <td>0</td>\n",
       "      <td>0</td>\n",
       "      <td>0</td>\n",
       "      <td>0</td>\n",
       "      <td>1</td>\n",
       "      <td>0</td>\n",
       "    </tr>\n",
       "    <tr>\n",
       "      <th>1</th>\n",
       "      <td>0</td>\n",
       "      <td>5.0</td>\n",
       "      <td>674.0</td>\n",
       "      <td>2.5</td>\n",
       "      <td>0</td>\n",
       "      <td>0</td>\n",
       "      <td>0</td>\n",
       "      <td>0</td>\n",
       "      <td>0</td>\n",
       "      <td>1</td>\n",
       "      <td>0</td>\n",
       "      <td>0</td>\n",
       "      <td>0</td>\n",
       "      <td>0</td>\n",
       "      <td>0</td>\n",
       "      <td>0</td>\n",
       "      <td>0</td>\n",
       "      <td>0</td>\n",
       "      <td>0</td>\n",
       "      <td>0</td>\n",
       "      <td>0</td>\n",
       "      <td>0</td>\n",
       "      <td>1</td>\n",
       "      <td>0</td>\n",
       "      <td>0</td>\n",
       "      <td>0</td>\n",
       "      <td>0</td>\n",
       "      <td>0</td>\n",
       "      <td>0</td>\n",
       "      <td>0</td>\n",
       "      <td>0</td>\n",
       "      <td>0</td>\n",
       "      <td>0</td>\n",
       "      <td>0</td>\n",
       "      <td>0</td>\n",
       "      <td>0</td>\n",
       "      <td>0</td>\n",
       "      <td>0</td>\n",
       "      <td>0</td>\n",
       "      <td>0</td>\n",
       "      <td>0</td>\n",
       "      <td>0</td>\n",
       "      <td>0</td>\n",
       "      <td>0</td>\n",
       "      <td>0</td>\n",
       "      <td>0</td>\n",
       "      <td>0</td>\n",
       "      <td>0</td>\n",
       "      <td>0</td>\n",
       "      <td>0</td>\n",
       "      <td>0</td>\n",
       "      <td>1</td>\n",
       "      <td>0</td>\n",
       "    </tr>\n",
       "    <tr>\n",
       "      <th>2</th>\n",
       "      <td>1</td>\n",
       "      <td>2.0</td>\n",
       "      <td>1532.0</td>\n",
       "      <td>2.0</td>\n",
       "      <td>1</td>\n",
       "      <td>1</td>\n",
       "      <td>0</td>\n",
       "      <td>0</td>\n",
       "      <td>0</td>\n",
       "      <td>1</td>\n",
       "      <td>0</td>\n",
       "      <td>0</td>\n",
       "      <td>0</td>\n",
       "      <td>0</td>\n",
       "      <td>0</td>\n",
       "      <td>0</td>\n",
       "      <td>0</td>\n",
       "      <td>0</td>\n",
       "      <td>0</td>\n",
       "      <td>0</td>\n",
       "      <td>0</td>\n",
       "      <td>0</td>\n",
       "      <td>1</td>\n",
       "      <td>0</td>\n",
       "      <td>0</td>\n",
       "      <td>0</td>\n",
       "      <td>0</td>\n",
       "      <td>0</td>\n",
       "      <td>0</td>\n",
       "      <td>0</td>\n",
       "      <td>0</td>\n",
       "      <td>0</td>\n",
       "      <td>0</td>\n",
       "      <td>0</td>\n",
       "      <td>0</td>\n",
       "      <td>0</td>\n",
       "      <td>0</td>\n",
       "      <td>0</td>\n",
       "      <td>0</td>\n",
       "      <td>0</td>\n",
       "      <td>0</td>\n",
       "      <td>0</td>\n",
       "      <td>0</td>\n",
       "      <td>0</td>\n",
       "      <td>0</td>\n",
       "      <td>0</td>\n",
       "      <td>0</td>\n",
       "      <td>0</td>\n",
       "      <td>0</td>\n",
       "      <td>0</td>\n",
       "      <td>1</td>\n",
       "      <td>0</td>\n",
       "      <td>0</td>\n",
       "    </tr>\n",
       "    <tr>\n",
       "      <th>3</th>\n",
       "      <td>0</td>\n",
       "      <td>1.0</td>\n",
       "      <td>305.0</td>\n",
       "      <td>1.0</td>\n",
       "      <td>0</td>\n",
       "      <td>1</td>\n",
       "      <td>0</td>\n",
       "      <td>0</td>\n",
       "      <td>0</td>\n",
       "      <td>1</td>\n",
       "      <td>0</td>\n",
       "      <td>0</td>\n",
       "      <td>0</td>\n",
       "      <td>0</td>\n",
       "      <td>0</td>\n",
       "      <td>0</td>\n",
       "      <td>0</td>\n",
       "      <td>0</td>\n",
       "      <td>0</td>\n",
       "      <td>0</td>\n",
       "      <td>0</td>\n",
       "      <td>0</td>\n",
       "      <td>1</td>\n",
       "      <td>0</td>\n",
       "      <td>0</td>\n",
       "      <td>0</td>\n",
       "      <td>0</td>\n",
       "      <td>0</td>\n",
       "      <td>0</td>\n",
       "      <td>0</td>\n",
       "      <td>0</td>\n",
       "      <td>0</td>\n",
       "      <td>0</td>\n",
       "      <td>0</td>\n",
       "      <td>0</td>\n",
       "      <td>0</td>\n",
       "      <td>0</td>\n",
       "      <td>0</td>\n",
       "      <td>0</td>\n",
       "      <td>0</td>\n",
       "      <td>0</td>\n",
       "      <td>0</td>\n",
       "      <td>0</td>\n",
       "      <td>0</td>\n",
       "      <td>0</td>\n",
       "      <td>0</td>\n",
       "      <td>0</td>\n",
       "      <td>0</td>\n",
       "      <td>0</td>\n",
       "      <td>0</td>\n",
       "      <td>0</td>\n",
       "      <td>1</td>\n",
       "      <td>0</td>\n",
       "    </tr>\n",
       "    <tr>\n",
       "      <th>4</th>\n",
       "      <td>1</td>\n",
       "      <td>2.0</td>\n",
       "      <td>1428.0</td>\n",
       "      <td>1.0</td>\n",
       "      <td>0</td>\n",
       "      <td>1</td>\n",
       "      <td>0</td>\n",
       "      <td>0</td>\n",
       "      <td>0</td>\n",
       "      <td>1</td>\n",
       "      <td>0</td>\n",
       "      <td>0</td>\n",
       "      <td>0</td>\n",
       "      <td>0</td>\n",
       "      <td>0</td>\n",
       "      <td>0</td>\n",
       "      <td>0</td>\n",
       "      <td>0</td>\n",
       "      <td>0</td>\n",
       "      <td>0</td>\n",
       "      <td>0</td>\n",
       "      <td>0</td>\n",
       "      <td>1</td>\n",
       "      <td>0</td>\n",
       "      <td>0</td>\n",
       "      <td>0</td>\n",
       "      <td>0</td>\n",
       "      <td>0</td>\n",
       "      <td>0</td>\n",
       "      <td>0</td>\n",
       "      <td>0</td>\n",
       "      <td>0</td>\n",
       "      <td>0</td>\n",
       "      <td>0</td>\n",
       "      <td>0</td>\n",
       "      <td>0</td>\n",
       "      <td>0</td>\n",
       "      <td>0</td>\n",
       "      <td>0</td>\n",
       "      <td>0</td>\n",
       "      <td>0</td>\n",
       "      <td>0</td>\n",
       "      <td>0</td>\n",
       "      <td>0</td>\n",
       "      <td>0</td>\n",
       "      <td>0</td>\n",
       "      <td>0</td>\n",
       "      <td>0</td>\n",
       "      <td>0</td>\n",
       "      <td>0</td>\n",
       "      <td>0</td>\n",
       "      <td>1</td>\n",
       "      <td>0</td>\n",
       "    </tr>\n",
       "  </tbody>\n",
       "</table>\n",
       "</div>"
      ],
      "text/plain": [
       "   Converted  TotalVisits  Total Time Spent on Website  Page Views Per Visit  \\\n",
       "0          0          0.0                          0.0                   0.0   \n",
       "1          0          5.0                        674.0                   2.5   \n",
       "2          1          2.0                       1532.0                   2.0   \n",
       "3          0          1.0                        305.0                   1.0   \n",
       "4          1          2.0                       1428.0                   1.0   \n",
       "\n",
       "   A free copy of Mastering The Interview  \\\n",
       "0                                       0   \n",
       "1                                       0   \n",
       "2                                       1   \n",
       "3                                       0   \n",
       "4                                       0   \n",
       "\n",
       "   Lead Origin_Landing Page Submission  Lead Origin_Lead Add Form  \\\n",
       "0                                    0                          0   \n",
       "1                                    0                          0   \n",
       "2                                    1                          0   \n",
       "3                                    1                          0   \n",
       "4                                    1                          0   \n",
       "\n",
       "   Lead Source_referenced  Lead Source_sales_team  Lead Source_search_engines  \\\n",
       "0                       0                       1                           0   \n",
       "1                       0                       0                           1   \n",
       "2                       0                       0                           1   \n",
       "3                       0                       0                           1   \n",
       "4                       0                       0                           1   \n",
       "\n",
       "   Lead Source_social_referral_links  Country_Australia  Country_Bahrain  \\\n",
       "0                                  0                  0                0   \n",
       "1                                  0                  0                0   \n",
       "2                                  0                  0                0   \n",
       "3                                  0                  0                0   \n",
       "4                                  0                  0                0   \n",
       "\n",
       "   Country_Bangladesh  Country_Belgium  Country_Canada  Country_China  \\\n",
       "0                   0                0               0              0   \n",
       "1                   0                0               0              0   \n",
       "2                   0                0               0              0   \n",
       "3                   0                0               0              0   \n",
       "4                   0                0               0              0   \n",
       "\n",
       "   Country_Denmark  Country_France  Country_Germany  Country_Ghana  \\\n",
       "0                0               0                0              0   \n",
       "1                0               0                0              0   \n",
       "2                0               0                0              0   \n",
       "3                0               0                0              0   \n",
       "4                0               0                0              0   \n",
       "\n",
       "   Country_Hong Kong  Country_India  Country_Indonesia  Country_Italy  \\\n",
       "0                  0              1                  0              0   \n",
       "1                  0              1                  0              0   \n",
       "2                  0              1                  0              0   \n",
       "3                  0              1                  0              0   \n",
       "4                  0              1                  0              0   \n",
       "\n",
       "   Country_Kenya  Country_Kuwait  Country_Liberia  Country_Malaysia  \\\n",
       "0              0               0                0                 0   \n",
       "1              0               0                0                 0   \n",
       "2              0               0                0                 0   \n",
       "3              0               0                0                 0   \n",
       "4              0               0                0                 0   \n",
       "\n",
       "   Country_Netherlands  Country_Nigeria  Country_Oman  Country_Philippines  \\\n",
       "0                    0                0             0                    0   \n",
       "1                    0                0             0                    0   \n",
       "2                    0                0             0                    0   \n",
       "3                    0                0             0                    0   \n",
       "4                    0                0             0                    0   \n",
       "\n",
       "   Country_Qatar  Country_Russia  Country_Saudi Arabia  Country_Singapore  \\\n",
       "0              0               0                     0                  0   \n",
       "1              0               0                     0                  0   \n",
       "2              0               0                     0                  0   \n",
       "3              0               0                     0                  0   \n",
       "4              0               0                     0                  0   \n",
       "\n",
       "   Country_South Africa  Country_Sri Lanka  Country_Sweden  \\\n",
       "0                     0                  0               0   \n",
       "1                     0                  0               0   \n",
       "2                     0                  0               0   \n",
       "3                     0                  0               0   \n",
       "4                     0                  0               0   \n",
       "\n",
       "   Country_Switzerland  Country_Tanzania  Country_Uganda  \\\n",
       "0                    0                 0               0   \n",
       "1                    0                 0               0   \n",
       "2                    0                 0               0   \n",
       "3                    0                 0               0   \n",
       "4                    0                 0               0   \n",
       "\n",
       "   Country_United Arab Emirates  Country_United Kingdom  \\\n",
       "0                             0                       0   \n",
       "1                             0                       0   \n",
       "2                             0                       0   \n",
       "3                             0                       0   \n",
       "4                             0                       0   \n",
       "\n",
       "   Country_United States  Country_Vietnam  Country_unknown  \\\n",
       "0                      0                0                0   \n",
       "1                      0                0                0   \n",
       "2                      0                0                0   \n",
       "3                      0                0                0   \n",
       "4                      0                0                0   \n",
       "\n",
       "   What is your current occupation_Housewife  \\\n",
       "0                                          0   \n",
       "1                                          0   \n",
       "2                                          0   \n",
       "3                                          0   \n",
       "4                                          0   \n",
       "\n",
       "   What is your current occupation_Other  \\\n",
       "0                                      0   \n",
       "1                                      0   \n",
       "2                                      0   \n",
       "3                                      0   \n",
       "4                                      0   \n",
       "\n",
       "   What is your current occupation_Student  \\\n",
       "0                                        0   \n",
       "1                                        0   \n",
       "2                                        1   \n",
       "3                                        0   \n",
       "4                                        0   \n",
       "\n",
       "   What is your current occupation_Unemployed  \\\n",
       "0                                           1   \n",
       "1                                           1   \n",
       "2                                           0   \n",
       "3                                           1   \n",
       "4                                           1   \n",
       "\n",
       "   What is your current occupation_Working Professional  \n",
       "0                                                     0  \n",
       "1                                                     0  \n",
       "2                                                     0  \n",
       "3                                                     0  \n",
       "4                                                     0  "
      ]
     },
     "execution_count": 246,
     "metadata": {},
     "output_type": "execute_result"
    }
   ],
   "source": [
    "cols = ['Lead Origin', 'Lead Source', 'Country', 'What is your current occupation']\n",
    "df_dummy = pd.get_dummies(data=df_filtered, columns=cols, drop_first=True)\n",
    "df_dummy.head()"
   ]
  },
  {
   "cell_type": "markdown",
   "id": "checked-circle",
   "metadata": {
    "tags": []
   },
   "source": [
    "### Transformations (experimental)\n",
    "Modelling with various kinds of transformation was tried, but it didn't affect the model's performance. \n",
    "We thus learnt that logistic regression is agnostic of the distribution of variables."
   ]
  },
  {
   "cell_type": "code",
   "execution_count": 247,
   "id": "characteristic-accreditation",
   "metadata": {},
   "outputs": [],
   "source": [
    "from sklearn.preprocessing import PowerTransformer\n",
    "yeo_j = PowerTransformer()"
   ]
  },
  {
   "cell_type": "code",
   "execution_count": 248,
   "id": "structural-stewart",
   "metadata": {},
   "outputs": [
    {
     "data": {
      "image/png": "[encoded data removed]",
      "text/plain": [
       "<Figure size 432x288 with 1 Axes>"
      ]
     },
     "metadata": {},
     "output_type": "display_data"
    },
    {
     "data": {
      "image/png": "[encoded data removed]",
      "text/plain": [
       "<Figure size 1800x432 with 4 Axes>"
      ]
     },
     "metadata": {},
     "output_type": "display_data"
    }
   ],
   "source": [
    "col = 'TotalVisits'\n",
    "original = df_filtered['TotalVisits']\n",
    "log_x_plus_1 = np.log10(df_filtered['TotalVisits']+1)\n",
    "reciprocal = np.power(df_filtered['TotalVisits']+1, -1)\n",
    "yeo_johnson = yeo_j.fit_transform(df_filtered['TotalVisits'].values.reshape(-1,1))\n",
    "\n",
    "ncols, nrows = 1, 4\n",
    "sns.kdeplot(original).set_title('Original')\n",
    "fig, ax = plt.subplots(ncols, nrows, figsize=(5*(nrows+1), 6), sharey=True)\n",
    "sns.kdeplot(original, ax=ax[0]).set_title('Original', fontsize=15)\n",
    "sns.kdeplot(original+1, ax=ax[1], log_scale=True).set_title('log(x+1)', fontsize=15)\n",
    "sns.kdeplot(reciprocal, ax=ax[2]).set_title('reciprocal(x+1)', fontsize=15)\n",
    "sns.kdeplot(yeo_johnson.reshape(-1), ax=ax[3]).set_title('yeo_johnson', fontsize=15);"
   ]
  },
  {
   "cell_type": "markdown",
   "id": "found-temperature",
   "metadata": {},
   "source": [
    "# Modelling"
   ]
  },
  {
   "cell_type": "markdown",
   "id": "breathing-health",
   "metadata": {},
   "source": [
    "## Data preparation"
   ]
  },
  {
   "cell_type": "markdown",
   "id": "remarkable-reply",
   "metadata": {},
   "source": [
    "### Train test split"
   ]
  },
  {
   "cell_type": "code",
   "execution_count": 249,
   "id": "innovative-madagascar",
   "metadata": {},
   "outputs": [],
   "source": [
    "from sklearn.model_selection import train_test_split"
   ]
  },
  {
   "cell_type": "code",
   "execution_count": 250,
   "id": "medieval-asset",
   "metadata": {},
   "outputs": [],
   "source": [
    "target = 'Converted'\n",
    "X = df_dummy.drop([target], axis=1)\n",
    "y = df_dummy[target]\n",
    "X_train, X_test, y_train, y_test = train_test_split(X, y, test_size=0.25, random_state=1)"
   ]
  },
  {
   "cell_type": "markdown",
   "id": "alien-horse",
   "metadata": {},
   "source": [
    "### Feature Scaling"
   ]
  },
  {
   "cell_type": "code",
   "execution_count": 251,
   "id": "cognitive-walter",
   "metadata": {},
   "outputs": [],
   "source": [
    "from sklearn.preprocessing import StandardScaler \n",
    "scaler = StandardScaler()"
   ]
  },
  {
   "cell_type": "code",
   "execution_count": 252,
   "id": "behavioral-president",
   "metadata": {},
   "outputs": [],
   "source": [
    "to_scale = ['TotalVisits', 'Total Time Spent on Website']\n",
    "X_train[to_scale] = scaler.fit_transform(X_train[to_scale])"
   ]
  },
  {
   "cell_type": "code",
   "execution_count": 253,
   "id": "public-cocktail",
   "metadata": {},
   "outputs": [
    {
     "data": {
      "text/html": [
       "<div>\n",
       "<style scoped>\n",
       "    .dataframe tbody tr th:only-of-type {\n",
       "        vertical-align: middle;\n",
       "    }\n",
       "\n",
       "    .dataframe tbody tr th {\n",
       "        vertical-align: top;\n",
       "    }\n",
       "\n",
       "    .dataframe thead th {\n",
       "        text-align: right;\n",
       "    }\n",
       "</style>\n",
       "<table border=\"1\" class=\"dataframe\">\n",
       "  <thead>\n",
       "    <tr style=\"text-align: right;\">\n",
       "      <th></th>\n",
       "      <th>TotalVisits</th>\n",
       "      <th>Total Time Spent on Website</th>\n",
       "      <th>Page Views Per Visit</th>\n",
       "      <th>A free copy of Mastering The Interview</th>\n",
       "      <th>Lead Origin_Landing Page Submission</th>\n",
       "      <th>Lead Origin_Lead Add Form</th>\n",
       "      <th>Lead Source_referenced</th>\n",
       "      <th>Lead Source_sales_team</th>\n",
       "      <th>Lead Source_search_engines</th>\n",
       "      <th>Lead Source_social_referral_links</th>\n",
       "      <th>Country_Australia</th>\n",
       "      <th>Country_Bahrain</th>\n",
       "      <th>Country_Bangladesh</th>\n",
       "      <th>Country_Belgium</th>\n",
       "      <th>Country_Canada</th>\n",
       "      <th>Country_China</th>\n",
       "      <th>Country_Denmark</th>\n",
       "      <th>Country_France</th>\n",
       "      <th>Country_Germany</th>\n",
       "      <th>Country_Ghana</th>\n",
       "      <th>Country_Hong Kong</th>\n",
       "      <th>Country_India</th>\n",
       "      <th>Country_Indonesia</th>\n",
       "      <th>Country_Italy</th>\n",
       "      <th>Country_Kenya</th>\n",
       "      <th>Country_Kuwait</th>\n",
       "      <th>Country_Liberia</th>\n",
       "      <th>Country_Malaysia</th>\n",
       "      <th>Country_Netherlands</th>\n",
       "      <th>Country_Nigeria</th>\n",
       "      <th>Country_Oman</th>\n",
       "      <th>Country_Philippines</th>\n",
       "      <th>Country_Qatar</th>\n",
       "      <th>Country_Russia</th>\n",
       "      <th>Country_Saudi Arabia</th>\n",
       "      <th>Country_Singapore</th>\n",
       "      <th>Country_South Africa</th>\n",
       "      <th>Country_Sri Lanka</th>\n",
       "      <th>Country_Sweden</th>\n",
       "      <th>Country_Switzerland</th>\n",
       "      <th>Country_Tanzania</th>\n",
       "      <th>Country_Uganda</th>\n",
       "      <th>Country_United Arab Emirates</th>\n",
       "      <th>Country_United Kingdom</th>\n",
       "      <th>Country_United States</th>\n",
       "      <th>Country_Vietnam</th>\n",
       "      <th>Country_unknown</th>\n",
       "      <th>What is your current occupation_Housewife</th>\n",
       "      <th>What is your current occupation_Other</th>\n",
       "      <th>What is your current occupation_Student</th>\n",
       "      <th>What is your current occupation_Unemployed</th>\n",
       "      <th>What is your current occupation_Working Professional</th>\n",
       "    </tr>\n",
       "  </thead>\n",
       "  <tbody>\n",
       "    <tr>\n",
       "      <th>6458</th>\n",
       "      <td>-0.282594</td>\n",
       "      <td>2.165165</td>\n",
       "      <td>2.0</td>\n",
       "      <td>1</td>\n",
       "      <td>1</td>\n",
       "      <td>0</td>\n",
       "      <td>0</td>\n",
       "      <td>0</td>\n",
       "      <td>1</td>\n",
       "      <td>0</td>\n",
       "      <td>0</td>\n",
       "      <td>0</td>\n",
       "      <td>0</td>\n",
       "      <td>0</td>\n",
       "      <td>0</td>\n",
       "      <td>0</td>\n",
       "      <td>0</td>\n",
       "      <td>0</td>\n",
       "      <td>0</td>\n",
       "      <td>0</td>\n",
       "      <td>0</td>\n",
       "      <td>1</td>\n",
       "      <td>0</td>\n",
       "      <td>0</td>\n",
       "      <td>0</td>\n",
       "      <td>0</td>\n",
       "      <td>0</td>\n",
       "      <td>0</td>\n",
       "      <td>0</td>\n",
       "      <td>0</td>\n",
       "      <td>0</td>\n",
       "      <td>0</td>\n",
       "      <td>0</td>\n",
       "      <td>0</td>\n",
       "      <td>0</td>\n",
       "      <td>0</td>\n",
       "      <td>0</td>\n",
       "      <td>0</td>\n",
       "      <td>0</td>\n",
       "      <td>0</td>\n",
       "      <td>0</td>\n",
       "      <td>0</td>\n",
       "      <td>0</td>\n",
       "      <td>0</td>\n",
       "      <td>0</td>\n",
       "      <td>0</td>\n",
       "      <td>0</td>\n",
       "      <td>0</td>\n",
       "      <td>0</td>\n",
       "      <td>0</td>\n",
       "      <td>1</td>\n",
       "      <td>0</td>\n",
       "    </tr>\n",
       "    <tr>\n",
       "      <th>1102</th>\n",
       "      <td>-0.282594</td>\n",
       "      <td>2.308127</td>\n",
       "      <td>2.0</td>\n",
       "      <td>1</td>\n",
       "      <td>1</td>\n",
       "      <td>0</td>\n",
       "      <td>0</td>\n",
       "      <td>0</td>\n",
       "      <td>1</td>\n",
       "      <td>0</td>\n",
       "      <td>0</td>\n",
       "      <td>0</td>\n",
       "      <td>0</td>\n",
       "      <td>0</td>\n",
       "      <td>0</td>\n",
       "      <td>0</td>\n",
       "      <td>0</td>\n",
       "      <td>0</td>\n",
       "      <td>0</td>\n",
       "      <td>0</td>\n",
       "      <td>0</td>\n",
       "      <td>1</td>\n",
       "      <td>0</td>\n",
       "      <td>0</td>\n",
       "      <td>0</td>\n",
       "      <td>0</td>\n",
       "      <td>0</td>\n",
       "      <td>0</td>\n",
       "      <td>0</td>\n",
       "      <td>0</td>\n",
       "      <td>0</td>\n",
       "      <td>0</td>\n",
       "      <td>0</td>\n",
       "      <td>0</td>\n",
       "      <td>0</td>\n",
       "      <td>0</td>\n",
       "      <td>0</td>\n",
       "      <td>0</td>\n",
       "      <td>0</td>\n",
       "      <td>0</td>\n",
       "      <td>0</td>\n",
       "      <td>0</td>\n",
       "      <td>0</td>\n",
       "      <td>0</td>\n",
       "      <td>0</td>\n",
       "      <td>0</td>\n",
       "      <td>0</td>\n",
       "      <td>0</td>\n",
       "      <td>0</td>\n",
       "      <td>0</td>\n",
       "      <td>1</td>\n",
       "      <td>0</td>\n",
       "    </tr>\n",
       "    <tr>\n",
       "      <th>6306</th>\n",
       "      <td>-0.085832</td>\n",
       "      <td>1.479681</td>\n",
       "      <td>3.0</td>\n",
       "      <td>1</td>\n",
       "      <td>1</td>\n",
       "      <td>0</td>\n",
       "      <td>0</td>\n",
       "      <td>0</td>\n",
       "      <td>1</td>\n",
       "      <td>0</td>\n",
       "      <td>0</td>\n",
       "      <td>0</td>\n",
       "      <td>0</td>\n",
       "      <td>0</td>\n",
       "      <td>0</td>\n",
       "      <td>0</td>\n",
       "      <td>0</td>\n",
       "      <td>0</td>\n",
       "      <td>0</td>\n",
       "      <td>0</td>\n",
       "      <td>0</td>\n",
       "      <td>1</td>\n",
       "      <td>0</td>\n",
       "      <td>0</td>\n",
       "      <td>0</td>\n",
       "      <td>0</td>\n",
       "      <td>0</td>\n",
       "      <td>0</td>\n",
       "      <td>0</td>\n",
       "      <td>0</td>\n",
       "      <td>0</td>\n",
       "      <td>0</td>\n",
       "      <td>0</td>\n",
       "      <td>0</td>\n",
       "      <td>0</td>\n",
       "      <td>0</td>\n",
       "      <td>0</td>\n",
       "      <td>0</td>\n",
       "      <td>0</td>\n",
       "      <td>0</td>\n",
       "      <td>0</td>\n",
       "      <td>0</td>\n",
       "      <td>0</td>\n",
       "      <td>0</td>\n",
       "      <td>0</td>\n",
       "      <td>0</td>\n",
       "      <td>0</td>\n",
       "      <td>0</td>\n",
       "      <td>0</td>\n",
       "      <td>0</td>\n",
       "      <td>1</td>\n",
       "      <td>0</td>\n",
       "    </tr>\n",
       "    <tr>\n",
       "      <th>1748</th>\n",
       "      <td>-0.282594</td>\n",
       "      <td>1.369710</td>\n",
       "      <td>2.0</td>\n",
       "      <td>1</td>\n",
       "      <td>1</td>\n",
       "      <td>0</td>\n",
       "      <td>0</td>\n",
       "      <td>0</td>\n",
       "      <td>1</td>\n",
       "      <td>0</td>\n",
       "      <td>0</td>\n",
       "      <td>0</td>\n",
       "      <td>0</td>\n",
       "      <td>0</td>\n",
       "      <td>0</td>\n",
       "      <td>0</td>\n",
       "      <td>0</td>\n",
       "      <td>0</td>\n",
       "      <td>0</td>\n",
       "      <td>0</td>\n",
       "      <td>0</td>\n",
       "      <td>1</td>\n",
       "      <td>0</td>\n",
       "      <td>0</td>\n",
       "      <td>0</td>\n",
       "      <td>0</td>\n",
       "      <td>0</td>\n",
       "      <td>0</td>\n",
       "      <td>0</td>\n",
       "      <td>0</td>\n",
       "      <td>0</td>\n",
       "      <td>0</td>\n",
       "      <td>0</td>\n",
       "      <td>0</td>\n",
       "      <td>0</td>\n",
       "      <td>0</td>\n",
       "      <td>0</td>\n",
       "      <td>0</td>\n",
       "      <td>0</td>\n",
       "      <td>0</td>\n",
       "      <td>0</td>\n",
       "      <td>0</td>\n",
       "      <td>0</td>\n",
       "      <td>0</td>\n",
       "      <td>0</td>\n",
       "      <td>0</td>\n",
       "      <td>0</td>\n",
       "      <td>0</td>\n",
       "      <td>0</td>\n",
       "      <td>0</td>\n",
       "      <td>0</td>\n",
       "      <td>1</td>\n",
       "    </tr>\n",
       "    <tr>\n",
       "      <th>5673</th>\n",
       "      <td>-0.085832</td>\n",
       "      <td>1.622643</td>\n",
       "      <td>3.0</td>\n",
       "      <td>1</td>\n",
       "      <td>1</td>\n",
       "      <td>0</td>\n",
       "      <td>0</td>\n",
       "      <td>0</td>\n",
       "      <td>1</td>\n",
       "      <td>0</td>\n",
       "      <td>0</td>\n",
       "      <td>0</td>\n",
       "      <td>0</td>\n",
       "      <td>0</td>\n",
       "      <td>0</td>\n",
       "      <td>0</td>\n",
       "      <td>0</td>\n",
       "      <td>0</td>\n",
       "      <td>0</td>\n",
       "      <td>0</td>\n",
       "      <td>0</td>\n",
       "      <td>1</td>\n",
       "      <td>0</td>\n",
       "      <td>0</td>\n",
       "      <td>0</td>\n",
       "      <td>0</td>\n",
       "      <td>0</td>\n",
       "      <td>0</td>\n",
       "      <td>0</td>\n",
       "      <td>0</td>\n",
       "      <td>0</td>\n",
       "      <td>0</td>\n",
       "      <td>0</td>\n",
       "      <td>0</td>\n",
       "      <td>0</td>\n",
       "      <td>0</td>\n",
       "      <td>0</td>\n",
       "      <td>0</td>\n",
       "      <td>0</td>\n",
       "      <td>0</td>\n",
       "      <td>0</td>\n",
       "      <td>0</td>\n",
       "      <td>0</td>\n",
       "      <td>0</td>\n",
       "      <td>0</td>\n",
       "      <td>0</td>\n",
       "      <td>0</td>\n",
       "      <td>0</td>\n",
       "      <td>0</td>\n",
       "      <td>0</td>\n",
       "      <td>1</td>\n",
       "      <td>0</td>\n",
       "    </tr>\n",
       "  </tbody>\n",
       "</table>\n",
       "</div>"
      ],
      "text/plain": [
       "      TotalVisits  Total Time Spent on Website  Page Views Per Visit  \\\n",
       "6458    -0.282594                     2.165165                   2.0   \n",
       "1102    -0.282594                     2.308127                   2.0   \n",
       "6306    -0.085832                     1.479681                   3.0   \n",
       "1748    -0.282594                     1.369710                   2.0   \n",
       "5673    -0.085832                     1.622643                   3.0   \n",
       "\n",
       "      A free copy of Mastering The Interview  \\\n",
       "6458                                       1   \n",
       "1102                                       1   \n",
       "6306                                       1   \n",
       "1748                                       1   \n",
       "5673                                       1   \n",
       "\n",
       "      Lead Origin_Landing Page Submission  Lead Origin_Lead Add Form  \\\n",
       "6458                                    1                          0   \n",
       "1102                                    1                          0   \n",
       "6306                                    1                          0   \n",
       "1748                                    1                          0   \n",
       "5673                                    1                          0   \n",
       "\n",
       "      Lead Source_referenced  Lead Source_sales_team  \\\n",
       "6458                       0                       0   \n",
       "1102                       0                       0   \n",
       "6306                       0                       0   \n",
       "1748                       0                       0   \n",
       "5673                       0                       0   \n",
       "\n",
       "      Lead Source_search_engines  Lead Source_social_referral_links  \\\n",
       "6458                           1                                  0   \n",
       "1102                           1                                  0   \n",
       "6306                           1                                  0   \n",
       "1748                           1                                  0   \n",
       "5673                           1                                  0   \n",
       "\n",
       "      Country_Australia  Country_Bahrain  Country_Bangladesh  Country_Belgium  \\\n",
       "6458                  0                0                   0                0   \n",
       "1102                  0                0                   0                0   \n",
       "6306                  0                0                   0                0   \n",
       "1748                  0                0                   0                0   \n",
       "5673                  0                0                   0                0   \n",
       "\n",
       "      Country_Canada  Country_China  Country_Denmark  Country_France  \\\n",
       "6458               0              0                0               0   \n",
       "1102               0              0                0               0   \n",
       "6306               0              0                0               0   \n",
       "1748               0              0                0               0   \n",
       "5673               0              0                0               0   \n",
       "\n",
       "      Country_Germany  Country_Ghana  Country_Hong Kong  Country_India  \\\n",
       "6458                0              0                  0              1   \n",
       "1102                0              0                  0              1   \n",
       "6306                0              0                  0              1   \n",
       "1748                0              0                  0              1   \n",
       "5673                0              0                  0              1   \n",
       "\n",
       "      Country_Indonesia  Country_Italy  Country_Kenya  Country_Kuwait  \\\n",
       "6458                  0              0              0               0   \n",
       "1102                  0              0              0               0   \n",
       "6306                  0              0              0               0   \n",
       "1748                  0              0              0               0   \n",
       "5673                  0              0              0               0   \n",
       "\n",
       "      Country_Liberia  Country_Malaysia  Country_Netherlands  Country_Nigeria  \\\n",
       "6458                0                 0                    0                0   \n",
       "1102                0                 0                    0                0   \n",
       "6306                0                 0                    0                0   \n",
       "1748                0                 0                    0                0   \n",
       "5673                0                 0                    0                0   \n",
       "\n",
       "      Country_Oman  Country_Philippines  Country_Qatar  Country_Russia  \\\n",
       "6458             0                    0              0               0   \n",
       "1102             0                    0              0               0   \n",
       "6306             0                    0              0               0   \n",
       "1748             0                    0              0               0   \n",
       "5673             0                    0              0               0   \n",
       "\n",
       "      Country_Saudi Arabia  Country_Singapore  Country_South Africa  \\\n",
       "6458                     0                  0                     0   \n",
       "1102                     0                  0                     0   \n",
       "6306                     0                  0                     0   \n",
       "1748                     0                  0                     0   \n",
       "5673                     0                  0                     0   \n",
       "\n",
       "      Country_Sri Lanka  Country_Sweden  Country_Switzerland  \\\n",
       "6458                  0               0                    0   \n",
       "1102                  0               0                    0   \n",
       "6306                  0               0                    0   \n",
       "1748                  0               0                    0   \n",
       "5673                  0               0                    0   \n",
       "\n",
       "      Country_Tanzania  Country_Uganda  Country_United Arab Emirates  \\\n",
       "6458                 0               0                             0   \n",
       "1102                 0               0                             0   \n",
       "6306                 0               0                             0   \n",
       "1748                 0               0                             0   \n",
       "5673                 0               0                             0   \n",
       "\n",
       "      Country_United Kingdom  Country_United States  Country_Vietnam  \\\n",
       "6458                       0                      0                0   \n",
       "1102                       0                      0                0   \n",
       "6306                       0                      0                0   \n",
       "1748                       0                      0                0   \n",
       "5673                       0                      0                0   \n",
       "\n",
       "      Country_unknown  What is your current occupation_Housewife  \\\n",
       "6458                0                                          0   \n",
       "1102                0                                          0   \n",
       "6306                0                                          0   \n",
       "1748                0                                          0   \n",
       "5673                0                                          0   \n",
       "\n",
       "      What is your current occupation_Other  \\\n",
       "6458                                      0   \n",
       "1102                                      0   \n",
       "6306                                      0   \n",
       "1748                                      0   \n",
       "5673                                      0   \n",
       "\n",
       "      What is your current occupation_Student  \\\n",
       "6458                                        0   \n",
       "1102                                        0   \n",
       "6306                                        0   \n",
       "1748                                        0   \n",
       "5673                                        0   \n",
       "\n",
       "      What is your current occupation_Unemployed  \\\n",
       "6458                                           1   \n",
       "1102                                           1   \n",
       "6306                                           1   \n",
       "1748                                           0   \n",
       "5673                                           1   \n",
       "\n",
       "      What is your current occupation_Working Professional  \n",
       "6458                                                     0  \n",
       "1102                                                     0  \n",
       "6306                                                     0  \n",
       "1748                                                     1  \n",
       "5673                                                     0  "
      ]
     },
     "execution_count": 253,
     "metadata": {},
     "output_type": "execute_result"
    }
   ],
   "source": [
    "X_train.head()"
   ]
  },
  {
   "cell_type": "markdown",
   "id": "caring-humor",
   "metadata": {
    "tags": []
   },
   "source": [
    "## Modelling"
   ]
  },
  {
   "cell_type": "markdown",
   "id": "homeless-response",
   "metadata": {
    "tags": []
   },
   "source": [
    "### RFE"
   ]
  },
  {
   "cell_type": "code",
   "execution_count": 254,
   "id": "editorial-wells",
   "metadata": {},
   "outputs": [],
   "source": [
    "from sklearn.linear_model import LogisticRegression\n",
    "from sklearn.feature_selection import RFE\n",
    "logreg = LogisticRegression(max_iter=500, )\n",
    "rfe = RFE(logreg, n_features_to_select=9)"
   ]
  },
  {
   "cell_type": "code",
   "execution_count": 255,
   "id": "cardiovascular-christopher",
   "metadata": {},
   "outputs": [],
   "source": [
    "rfe = rfe.fit(X_train, y_train)"
   ]
  },
  {
   "cell_type": "code",
   "execution_count": 256,
   "id": "educational-municipality",
   "metadata": {
    "tags": []
   },
   "outputs": [
    {
     "data": {
      "text/html": [
       "<div>\n",
       "<style scoped>\n",
       "    .dataframe tbody tr th:only-of-type {\n",
       "        vertical-align: middle;\n",
       "    }\n",
       "\n",
       "    .dataframe tbody tr th {\n",
       "        vertical-align: top;\n",
       "    }\n",
       "\n",
       "    .dataframe thead th {\n",
       "        text-align: right;\n",
       "    }\n",
       "</style>\n",
       "<table border=\"1\" class=\"dataframe\">\n",
       "  <thead>\n",
       "    <tr style=\"text-align: right;\">\n",
       "      <th></th>\n",
       "      <th>Features</th>\n",
       "      <th>Support</th>\n",
       "      <th>Ranking</th>\n",
       "    </tr>\n",
       "  </thead>\n",
       "  <tbody>\n",
       "    <tr>\n",
       "      <th>0</th>\n",
       "      <td>What is your current occupation_Working Professional</td>\n",
       "      <td>True</td>\n",
       "      <td>1</td>\n",
       "    </tr>\n",
       "    <tr>\n",
       "      <th>1</th>\n",
       "      <td>Total Time Spent on Website</td>\n",
       "      <td>True</td>\n",
       "      <td>1</td>\n",
       "    </tr>\n",
       "    <tr>\n",
       "      <th>2</th>\n",
       "      <td>What is your current occupation_Housewife</td>\n",
       "      <td>True</td>\n",
       "      <td>1</td>\n",
       "    </tr>\n",
       "    <tr>\n",
       "      <th>3</th>\n",
       "      <td>Country_Qatar</td>\n",
       "      <td>True</td>\n",
       "      <td>1</td>\n",
       "    </tr>\n",
       "    <tr>\n",
       "      <th>4</th>\n",
       "      <td>Country_Oman</td>\n",
       "      <td>True</td>\n",
       "      <td>1</td>\n",
       "    </tr>\n",
       "    <tr>\n",
       "      <th>5</th>\n",
       "      <td>Lead Origin_Lead Add Form</td>\n",
       "      <td>True</td>\n",
       "      <td>1</td>\n",
       "    </tr>\n",
       "    <tr>\n",
       "      <th>6</th>\n",
       "      <td>Lead Source_referenced</td>\n",
       "      <td>True</td>\n",
       "      <td>1</td>\n",
       "    </tr>\n",
       "    <tr>\n",
       "      <th>7</th>\n",
       "      <td>Lead Source_sales_team</td>\n",
       "      <td>True</td>\n",
       "      <td>1</td>\n",
       "    </tr>\n",
       "    <tr>\n",
       "      <th>8</th>\n",
       "      <td>Lead Source_social_referral_links</td>\n",
       "      <td>True</td>\n",
       "      <td>1</td>\n",
       "    </tr>\n",
       "    <tr>\n",
       "      <th>9</th>\n",
       "      <td>Country_France</td>\n",
       "      <td>False</td>\n",
       "      <td>2</td>\n",
       "    </tr>\n",
       "    <tr>\n",
       "      <th>10</th>\n",
       "      <td>Country_Kuwait</td>\n",
       "      <td>False</td>\n",
       "      <td>3</td>\n",
       "    </tr>\n",
       "    <tr>\n",
       "      <th>11</th>\n",
       "      <td>What is your current occupation_Unemployed</td>\n",
       "      <td>False</td>\n",
       "      <td>4</td>\n",
       "    </tr>\n",
       "    <tr>\n",
       "      <th>12</th>\n",
       "      <td>What is your current occupation_Student</td>\n",
       "      <td>False</td>\n",
       "      <td>5</td>\n",
       "    </tr>\n",
       "    <tr>\n",
       "      <th>13</th>\n",
       "      <td>Country_South Africa</td>\n",
       "      <td>False</td>\n",
       "      <td>6</td>\n",
       "    </tr>\n",
       "    <tr>\n",
       "      <th>14</th>\n",
       "      <td>Country_United Kingdom</td>\n",
       "      <td>False</td>\n",
       "      <td>7</td>\n",
       "    </tr>\n",
       "    <tr>\n",
       "      <th>15</th>\n",
       "      <td>Country_India</td>\n",
       "      <td>False</td>\n",
       "      <td>8</td>\n",
       "    </tr>\n",
       "    <tr>\n",
       "      <th>16</th>\n",
       "      <td>Country_United Arab Emirates</td>\n",
       "      <td>False</td>\n",
       "      <td>9</td>\n",
       "    </tr>\n",
       "    <tr>\n",
       "      <th>17</th>\n",
       "      <td>Country_Bahrain</td>\n",
       "      <td>False</td>\n",
       "      <td>10</td>\n",
       "    </tr>\n",
       "    <tr>\n",
       "      <th>18</th>\n",
       "      <td>Country_Hong Kong</td>\n",
       "      <td>False</td>\n",
       "      <td>11</td>\n",
       "    </tr>\n",
       "    <tr>\n",
       "      <th>19</th>\n",
       "      <td>Country_Canada</td>\n",
       "      <td>False</td>\n",
       "      <td>12</td>\n",
       "    </tr>\n",
       "  </tbody>\n",
       "</table>\n",
       "</div>"
      ],
      "text/plain": [
       "                                                Features Support Ranking\n",
       "0   What is your current occupation_Working Professional    True       1\n",
       "1                            Total Time Spent on Website    True       1\n",
       "2              What is your current occupation_Housewife    True       1\n",
       "3                                          Country_Qatar    True       1\n",
       "4                                           Country_Oman    True       1\n",
       "5                              Lead Origin_Lead Add Form    True       1\n",
       "6                                 Lead Source_referenced    True       1\n",
       "7                                 Lead Source_sales_team    True       1\n",
       "8                      Lead Source_social_referral_links    True       1\n",
       "9                                         Country_France   False       2\n",
       "10                                        Country_Kuwait   False       3\n",
       "11            What is your current occupation_Unemployed   False       4\n",
       "12               What is your current occupation_Student   False       5\n",
       "13                                  Country_South Africa   False       6\n",
       "14                                Country_United Kingdom   False       7\n",
       "15                                         Country_India   False       8\n",
       "16                          Country_United Arab Emirates   False       9\n",
       "17                                       Country_Bahrain   False      10\n",
       "18                                     Country_Hong Kong   False      11\n",
       "19                                        Country_Canada   False      12"
      ]
     },
     "execution_count": 256,
     "metadata": {},
     "output_type": "execute_result"
    }
   ],
   "source": [
    "rfe_df = pd.DataFrame(data=[X_train.columns, rfe.support_, rfe.ranking_],\n",
    "    index=['Features', 'Support', 'Ranking'],).T.sort_values('Ranking').reset_index(drop=True)\n",
    "rfe_df[:20]"
   ]
  },
  {
   "cell_type": "code",
   "execution_count": 257,
   "id": "major-hazard",
   "metadata": {},
   "outputs": [
    {
     "data": {
      "text/plain": [
       "Index(['Total Time Spent on Website', 'Lead Origin_Lead Add Form',\n",
       "       'Lead Source_referenced', 'Lead Source_sales_team',\n",
       "       'Lead Source_social_referral_links', 'Country_Oman', 'Country_Qatar',\n",
       "       'What is your current occupation_Housewife',\n",
       "       'What is your current occupation_Working Professional'],\n",
       "      dtype='object')"
      ]
     },
     "execution_count": 257,
     "metadata": {},
     "output_type": "execute_result"
    }
   ],
   "source": [
    "rfe_cols = X_train.columns[rfe.support_]\n",
    "rfe_cols"
   ]
  },
  {
   "cell_type": "markdown",
   "id": "heated-collectible",
   "metadata": {
    "tags": []
   },
   "source": [
    "### Manual feature elimination"
   ]
  },
  {
   "cell_type": "markdown",
   "id": "western-sleeping",
   "metadata": {
    "tags": []
   },
   "source": [
    "#### Model 1"
   ]
  },
  {
   "cell_type": "code",
   "execution_count": 258,
   "id": "tender-nothing",
   "metadata": {},
   "outputs": [],
   "source": [
    "import statsmodels.api as sm"
   ]
  },
  {
   "cell_type": "code",
   "execution_count": 259,
   "id": "demanding-march",
   "metadata": {},
   "outputs": [],
   "source": [
    "# Model 1\n",
    "X_train_C = sm.add_constant(X_train[rfe_cols])\n",
    "log_model1 = sm.GLM(y_train, X_train_C, sm.families.Binomial())\n",
    "res1 = log_model1.fit()"
   ]
  },
  {
   "cell_type": "code",
   "execution_count": 260,
   "id": "incredible-container",
   "metadata": {},
   "outputs": [
    {
     "data": {
      "text/html": [
       "<table class=\"simpletable\">\n",
       "<caption>Generalized Linear Model Regression Results</caption>\n",
       "<tr>\n",
       "  <th>Dep. Variable:</th>       <td>Converted</td>    <th>  No. Observations:  </th>  <td>  6930</td> \n",
       "</tr>\n",
       "<tr>\n",
       "  <th>Model:</th>                  <td>GLM</td>       <th>  Df Residuals:      </th>  <td>  6920</td> \n",
       "</tr>\n",
       "<tr>\n",
       "  <th>Model Family:</th>        <td>Binomial</td>     <th>  Df Model:          </th>  <td>     9</td> \n",
       "</tr>\n",
       "<tr>\n",
       "  <th>Link Function:</th>         <td>logit</td>      <th>  Scale:             </th> <td>  1.0000</td>\n",
       "</tr>\n",
       "<tr>\n",
       "  <th>Method:</th>                <td>IRLS</td>       <th>  Log-Likelihood:    </th> <td> -3315.5</td>\n",
       "</tr>\n",
       "<tr>\n",
       "  <th>Date:</th>            <td>Mon, 12 Apr 2021</td> <th>  Deviance:          </th> <td>  6630.9</td>\n",
       "</tr>\n",
       "<tr>\n",
       "  <th>Time:</th>                <td>20:37:57</td>     <th>  Pearson chi2:      </th> <td>9.08e+03</td>\n",
       "</tr>\n",
       "<tr>\n",
       "  <th>No. Iterations:</th>         <td>21</td>        <th>                     </th>     <td> </td>   \n",
       "</tr>\n",
       "<tr>\n",
       "  <th>Covariance Type:</th>     <td>nonrobust</td>    <th>                     </th>     <td> </td>   \n",
       "</tr>\n",
       "</table>\n",
       "<table class=\"simpletable\">\n",
       "<tr>\n",
       "                            <td></td>                              <th>coef</th>     <th>std err</th>      <th>z</th>      <th>P>|z|</th>  <th>[0.025</th>    <th>0.975]</th>  \n",
       "</tr>\n",
       "<tr>\n",
       "  <th>const</th>                                                <td>   -1.1361</td> <td>    0.039</td> <td>  -29.013</td> <td> 0.000</td> <td>   -1.213</td> <td>   -1.059</td>\n",
       "</tr>\n",
       "<tr>\n",
       "  <th>Total Time Spent on Website</th>                          <td>    1.1144</td> <td>    0.036</td> <td>   31.071</td> <td> 0.000</td> <td>    1.044</td> <td>    1.185</td>\n",
       "</tr>\n",
       "<tr>\n",
       "  <th>Lead Origin_Lead Add Form</th>                            <td>    2.0907</td> <td>    0.308</td> <td>    6.780</td> <td> 0.000</td> <td>    1.486</td> <td>    2.695</td>\n",
       "</tr>\n",
       "<tr>\n",
       "  <th>Lead Source_referenced</th>                               <td>    1.9963</td> <td>    0.351</td> <td>    5.694</td> <td> 0.000</td> <td>    1.309</td> <td>    2.684</td>\n",
       "</tr>\n",
       "<tr>\n",
       "  <th>Lead Source_sales_team</th>                               <td>    0.7647</td> <td>    0.088</td> <td>    8.725</td> <td> 0.000</td> <td>    0.593</td> <td>    0.937</td>\n",
       "</tr>\n",
       "<tr>\n",
       "  <th>Lead Source_social_referral_links</th>                    <td>   -0.9045</td> <td>    0.271</td> <td>   -3.333</td> <td> 0.001</td> <td>   -1.436</td> <td>   -0.373</td>\n",
       "</tr>\n",
       "<tr>\n",
       "  <th>Country_Oman</th>                                         <td>    2.1229</td> <td>    1.296</td> <td>    1.637</td> <td> 0.102</td> <td>   -0.418</td> <td>    4.664</td>\n",
       "</tr>\n",
       "<tr>\n",
       "  <th>Country_Qatar</th>                                        <td>  -22.7122</td> <td> 1.82e+04</td> <td>   -0.001</td> <td> 0.999</td> <td>-3.56e+04</td> <td> 3.56e+04</td>\n",
       "</tr>\n",
       "<tr>\n",
       "  <th>What is your current occupation_Housewife</th>            <td>   21.8119</td> <td> 1.49e+04</td> <td>    0.001</td> <td> 0.999</td> <td>-2.93e+04</td> <td> 2.93e+04</td>\n",
       "</tr>\n",
       "<tr>\n",
       "  <th>What is your current occupation_Working Professional</th> <td>    2.8979</td> <td>    0.176</td> <td>   16.425</td> <td> 0.000</td> <td>    2.552</td> <td>    3.244</td>\n",
       "</tr>\n",
       "</table>"
      ],
      "text/plain": [
       "<class 'statsmodels.iolib.summary.Summary'>\n",
       "\"\"\"\n",
       "                 Generalized Linear Model Regression Results                  \n",
       "==============================================================================\n",
       "Dep. Variable:              Converted   No. Observations:                 6930\n",
       "Model:                            GLM   Df Residuals:                     6920\n",
       "Model Family:                Binomial   Df Model:                            9\n",
       "Link Function:                  logit   Scale:                          1.0000\n",
       "Method:                          IRLS   Log-Likelihood:                -3315.5\n",
       "Date:                Mon, 12 Apr 2021   Deviance:                       6630.9\n",
       "Time:                        20:37:57   Pearson chi2:                 9.08e+03\n",
       "No. Iterations:                    21                                         \n",
       "Covariance Type:            nonrobust                                         \n",
       "========================================================================================================================\n",
       "                                                           coef    std err          z      P>|z|      [0.025      0.975]\n",
       "------------------------------------------------------------------------------------------------------------------------\n",
       "const                                                   -1.1361      0.039    -29.013      0.000      -1.213      -1.059\n",
       "Total Time Spent on Website                              1.1144      0.036     31.071      0.000       1.044       1.185\n",
       "Lead Origin_Lead Add Form                                2.0907      0.308      6.780      0.000       1.486       2.695\n",
       "Lead Source_referenced                                   1.9963      0.351      5.694      0.000       1.309       2.684\n",
       "Lead Source_sales_team                                   0.7647      0.088      8.725      0.000       0.593       0.937\n",
       "Lead Source_social_referral_links                       -0.9045      0.271     -3.333      0.001      -1.436      -0.373\n",
       "Country_Oman                                             2.1229      1.296      1.637      0.102      -0.418       4.664\n",
       "Country_Qatar                                          -22.7122   1.82e+04     -0.001      0.999   -3.56e+04    3.56e+04\n",
       "What is your current occupation_Housewife               21.8119   1.49e+04      0.001      0.999   -2.93e+04    2.93e+04\n",
       "What is your current occupation_Working Professional     2.8979      0.176     16.425      0.000       2.552       3.244\n",
       "========================================================================================================================\n",
       "\"\"\""
      ]
     },
     "execution_count": 260,
     "metadata": {},
     "output_type": "execute_result"
    }
   ],
   "source": [
    "res1.summary()"
   ]
  },
  {
   "cell_type": "code",
   "execution_count": 261,
   "id": "instant-portugal",
   "metadata": {},
   "outputs": [
    {
     "data": {
      "text/html": [
       "<div>\n",
       "<style scoped>\n",
       "    .dataframe tbody tr th:only-of-type {\n",
       "        vertical-align: middle;\n",
       "    }\n",
       "\n",
       "    .dataframe tbody tr th {\n",
       "        vertical-align: top;\n",
       "    }\n",
       "\n",
       "    .dataframe thead th {\n",
       "        text-align: right;\n",
       "    }\n",
       "</style>\n",
       "<table border=\"1\" class=\"dataframe\">\n",
       "  <thead>\n",
       "    <tr style=\"text-align: right;\">\n",
       "      <th></th>\n",
       "      <th>pred_prob</th>\n",
       "      <th>y_pred</th>\n",
       "      <th>y_actual</th>\n",
       "    </tr>\n",
       "  </thead>\n",
       "  <tbody>\n",
       "    <tr>\n",
       "      <th>6458</th>\n",
       "      <td>0.781876</td>\n",
       "      <td>1</td>\n",
       "      <td>1</td>\n",
       "    </tr>\n",
       "    <tr>\n",
       "      <th>1102</th>\n",
       "      <td>0.807826</td>\n",
       "      <td>1</td>\n",
       "      <td>1</td>\n",
       "    </tr>\n",
       "    <tr>\n",
       "      <th>6306</th>\n",
       "      <td>0.625454</td>\n",
       "      <td>1</td>\n",
       "      <td>0</td>\n",
       "    </tr>\n",
       "    <tr>\n",
       "      <th>1748</th>\n",
       "      <td>0.964018</td>\n",
       "      <td>1</td>\n",
       "      <td>1</td>\n",
       "    </tr>\n",
       "    <tr>\n",
       "      <th>5673</th>\n",
       "      <td>0.661967</td>\n",
       "      <td>1</td>\n",
       "      <td>1</td>\n",
       "    </tr>\n",
       "  </tbody>\n",
       "</table>\n",
       "</div>"
      ],
      "text/plain": [
       "      pred_prob  y_pred  y_actual\n",
       "6458   0.781876       1         1\n",
       "1102   0.807826       1         1\n",
       "6306   0.625454       1         0\n",
       "1748   0.964018       1         1\n",
       "5673   0.661967       1         1"
      ]
     },
     "execution_count": 261,
     "metadata": {},
     "output_type": "execute_result"
    }
   ],
   "source": [
    "def make_train_pred(model_result: 'GLMResultsWrapper', X_C, y_actual, cutoff=0.5):\n",
    "    train_pred = pd.DataFrame({'pred_prob': model_result.predict(X_C), 'y_actual': y_actual})\n",
    "    train_pred.insert(column='y_pred', loc=1,\n",
    "        value=train_pred.pred_prob.map(lambda x: 1 if x>=cutoff else 0))\n",
    "    return train_pred\n",
    "\n",
    "train_pred = make_train_pred(res1, X_train_C, y_train)\n",
    "train_pred.head()"
   ]
  },
  {
   "cell_type": "code",
   "execution_count": 262,
   "id": "streaming-harbor",
   "metadata": {},
   "outputs": [
    {
     "data": {
      "text/plain": [
       "0.7797979797979798"
      ]
     },
     "execution_count": 262,
     "metadata": {},
     "output_type": "execute_result"
    }
   ],
   "source": [
    "from sklearn import metrics\n",
    "metrics.accuracy_score(train_pred.y_actual, train_pred.y_pred)"
   ]
  },
  {
   "cell_type": "code",
   "execution_count": 263,
   "id": "czech-machine",
   "metadata": {},
   "outputs": [
    {
     "data": {
      "text/plain": [
       "0.6219281663516069"
      ]
     },
     "execution_count": 263,
     "metadata": {},
     "output_type": "execute_result"
    }
   ],
   "source": [
    "metrics.recall_score(train_pred.y_actual, train_pred.y_pred)"
   ]
  },
  {
   "cell_type": "markdown",
   "id": "unavailable-medium",
   "metadata": {
    "tags": []
   },
   "source": [
    "#### Model 2\n",
    "Dropping `Country_Qatar`"
   ]
  },
  {
   "cell_type": "code",
   "execution_count": 264,
   "id": "searching-cattle",
   "metadata": {},
   "outputs": [
    {
     "data": {
      "text/html": [
       "<table class=\"simpletable\">\n",
       "<caption>Generalized Linear Model Regression Results</caption>\n",
       "<tr>\n",
       "  <th>Dep. Variable:</th>       <td>Converted</td>    <th>  No. Observations:  </th>  <td>  6930</td> \n",
       "</tr>\n",
       "<tr>\n",
       "  <th>Model:</th>                  <td>GLM</td>       <th>  Df Residuals:      </th>  <td>  6921</td> \n",
       "</tr>\n",
       "<tr>\n",
       "  <th>Model Family:</th>        <td>Binomial</td>     <th>  Df Model:          </th>  <td>     8</td> \n",
       "</tr>\n",
       "<tr>\n",
       "  <th>Link Function:</th>         <td>logit</td>      <th>  Scale:             </th> <td>  1.0000</td>\n",
       "</tr>\n",
       "<tr>\n",
       "  <th>Method:</th>                <td>IRLS</td>       <th>  Log-Likelihood:    </th> <td> -3318.5</td>\n",
       "</tr>\n",
       "<tr>\n",
       "  <th>Date:</th>            <td>Mon, 12 Apr 2021</td> <th>  Deviance:          </th> <td>  6637.0</td>\n",
       "</tr>\n",
       "<tr>\n",
       "  <th>Time:</th>                <td>20:37:57</td>     <th>  Pearson chi2:      </th> <td>9.08e+03</td>\n",
       "</tr>\n",
       "<tr>\n",
       "  <th>No. Iterations:</th>         <td>21</td>        <th>                     </th>     <td> </td>   \n",
       "</tr>\n",
       "<tr>\n",
       "  <th>Covariance Type:</th>     <td>nonrobust</td>    <th>                     </th>     <td> </td>   \n",
       "</tr>\n",
       "</table>\n",
       "<table class=\"simpletable\">\n",
       "<tr>\n",
       "                            <td></td>                              <th>coef</th>     <th>std err</th>      <th>z</th>      <th>P>|z|</th>  <th>[0.025</th>    <th>0.975]</th>  \n",
       "</tr>\n",
       "<tr>\n",
       "  <th>const</th>                                                <td>   -1.1374</td> <td>    0.039</td> <td>  -29.061</td> <td> 0.000</td> <td>   -1.214</td> <td>   -1.061</td>\n",
       "</tr>\n",
       "<tr>\n",
       "  <th>Total Time Spent on Website</th>                          <td>    1.1123</td> <td>    0.036</td> <td>   31.052</td> <td> 0.000</td> <td>    1.042</td> <td>    1.182</td>\n",
       "</tr>\n",
       "<tr>\n",
       "  <th>Lead Origin_Lead Add Form</th>                            <td>    2.0896</td> <td>    0.308</td> <td>    6.777</td> <td> 0.000</td> <td>    1.485</td> <td>    2.694</td>\n",
       "</tr>\n",
       "<tr>\n",
       "  <th>Lead Source_referenced</th>                               <td>    1.9970</td> <td>    0.351</td> <td>    5.696</td> <td> 0.000</td> <td>    1.310</td> <td>    2.684</td>\n",
       "</tr>\n",
       "<tr>\n",
       "  <th>Lead Source_sales_team</th>                               <td>    0.7644</td> <td>    0.088</td> <td>    8.724</td> <td> 0.000</td> <td>    0.593</td> <td>    0.936</td>\n",
       "</tr>\n",
       "<tr>\n",
       "  <th>Lead Source_social_referral_links</th>                    <td>   -0.9026</td> <td>    0.271</td> <td>   -3.326</td> <td> 0.001</td> <td>   -1.434</td> <td>   -0.371</td>\n",
       "</tr>\n",
       "<tr>\n",
       "  <th>Country_Oman</th>                                         <td>    2.1233</td> <td>    1.296</td> <td>    1.638</td> <td> 0.101</td> <td>   -0.417</td> <td>    4.664</td>\n",
       "</tr>\n",
       "<tr>\n",
       "  <th>What is your current occupation_Housewife</th>            <td>   21.8143</td> <td> 1.49e+04</td> <td>    0.001</td> <td> 0.999</td> <td>-2.93e+04</td> <td> 2.93e+04</td>\n",
       "</tr>\n",
       "<tr>\n",
       "  <th>What is your current occupation_Working Professional</th> <td>    2.8991</td> <td>    0.176</td> <td>   16.434</td> <td> 0.000</td> <td>    2.553</td> <td>    3.245</td>\n",
       "</tr>\n",
       "</table>"
      ],
      "text/plain": [
       "<class 'statsmodels.iolib.summary.Summary'>\n",
       "\"\"\"\n",
       "                 Generalized Linear Model Regression Results                  \n",
       "==============================================================================\n",
       "Dep. Variable:              Converted   No. Observations:                 6930\n",
       "Model:                            GLM   Df Residuals:                     6921\n",
       "Model Family:                Binomial   Df Model:                            8\n",
       "Link Function:                  logit   Scale:                          1.0000\n",
       "Method:                          IRLS   Log-Likelihood:                -3318.5\n",
       "Date:                Mon, 12 Apr 2021   Deviance:                       6637.0\n",
       "Time:                        20:37:57   Pearson chi2:                 9.08e+03\n",
       "No. Iterations:                    21                                         \n",
       "Covariance Type:            nonrobust                                         \n",
       "========================================================================================================================\n",
       "                                                           coef    std err          z      P>|z|      [0.025      0.975]\n",
       "------------------------------------------------------------------------------------------------------------------------\n",
       "const                                                   -1.1374      0.039    -29.061      0.000      -1.214      -1.061\n",
       "Total Time Spent on Website                              1.1123      0.036     31.052      0.000       1.042       1.182\n",
       "Lead Origin_Lead Add Form                                2.0896      0.308      6.777      0.000       1.485       2.694\n",
       "Lead Source_referenced                                   1.9970      0.351      5.696      0.000       1.310       2.684\n",
       "Lead Source_sales_team                                   0.7644      0.088      8.724      0.000       0.593       0.936\n",
       "Lead Source_social_referral_links                       -0.9026      0.271     -3.326      0.001      -1.434      -0.371\n",
       "Country_Oman                                             2.1233      1.296      1.638      0.101      -0.417       4.664\n",
       "What is your current occupation_Housewife               21.8143   1.49e+04      0.001      0.999   -2.93e+04    2.93e+04\n",
       "What is your current occupation_Working Professional     2.8991      0.176     16.434      0.000       2.553       3.245\n",
       "========================================================================================================================\n",
       "\"\"\""
      ]
     },
     "execution_count": 264,
     "metadata": {},
     "output_type": "execute_result"
    }
   ],
   "source": [
    "cols = rfe_cols.drop('Country_Qatar')\n",
    "X_train_C = sm.add_constant(X_train[cols])\n",
    "log_model2 = sm.GLM(y_train, X_train_C, sm.families.Binomial())\n",
    "res2 = log_model2.fit()\n",
    "res2.summary()"
   ]
  },
  {
   "cell_type": "code",
   "execution_count": 265,
   "id": "instructional-procurement",
   "metadata": {},
   "outputs": [
    {
     "data": {
      "text/plain": [
       "0.7793650793650794"
      ]
     },
     "execution_count": 265,
     "metadata": {},
     "output_type": "execute_result"
    }
   ],
   "source": [
    "train_pred = make_train_pred(res2, X_train_C, y_train)\n",
    "metrics.accuracy_score(train_pred.y_actual, train_pred.y_pred)"
   ]
  },
  {
   "cell_type": "markdown",
   "id": "standard-reception",
   "metadata": {
    "tags": []
   },
   "source": [
    "#### Model 3\n",
    "Dropping `What is your current occupation_Housewife`"
   ]
  },
  {
   "cell_type": "code",
   "execution_count": 266,
   "id": "secret-yacht",
   "metadata": {},
   "outputs": [
    {
     "data": {
      "text/html": [
       "<table class=\"simpletable\">\n",
       "<caption>Generalized Linear Model Regression Results</caption>\n",
       "<tr>\n",
       "  <th>Dep. Variable:</th>       <td>Converted</td>    <th>  No. Observations:  </th>  <td>  6930</td> \n",
       "</tr>\n",
       "<tr>\n",
       "  <th>Model:</th>                  <td>GLM</td>       <th>  Df Residuals:      </th>  <td>  6922</td> \n",
       "</tr>\n",
       "<tr>\n",
       "  <th>Model Family:</th>        <td>Binomial</td>     <th>  Df Model:          </th>  <td>     7</td> \n",
       "</tr>\n",
       "<tr>\n",
       "  <th>Link Function:</th>         <td>logit</td>      <th>  Scale:             </th> <td>  1.0000</td>\n",
       "</tr>\n",
       "<tr>\n",
       "  <th>Method:</th>                <td>IRLS</td>       <th>  Log-Likelihood:    </th> <td> -3321.7</td>\n",
       "</tr>\n",
       "<tr>\n",
       "  <th>Date:</th>            <td>Mon, 12 Apr 2021</td> <th>  Deviance:          </th> <td>  6643.3</td>\n",
       "</tr>\n",
       "<tr>\n",
       "  <th>Time:</th>                <td>20:37:57</td>     <th>  Pearson chi2:      </th> <td>9.12e+03</td>\n",
       "</tr>\n",
       "<tr>\n",
       "  <th>No. Iterations:</th>          <td>6</td>        <th>                     </th>     <td> </td>   \n",
       "</tr>\n",
       "<tr>\n",
       "  <th>Covariance Type:</th>     <td>nonrobust</td>    <th>                     </th>     <td> </td>   \n",
       "</tr>\n",
       "</table>\n",
       "<table class=\"simpletable\">\n",
       "<tr>\n",
       "                            <td></td>                              <th>coef</th>     <th>std err</th>      <th>z</th>      <th>P>|z|</th>  <th>[0.025</th>    <th>0.975]</th>  \n",
       "</tr>\n",
       "<tr>\n",
       "  <th>const</th>                                                <td>   -1.1355</td> <td>    0.039</td> <td>  -29.030</td> <td> 0.000</td> <td>   -1.212</td> <td>   -1.059</td>\n",
       "</tr>\n",
       "<tr>\n",
       "  <th>Total Time Spent on Website</th>                          <td>    1.1134</td> <td>    0.036</td> <td>   31.090</td> <td> 0.000</td> <td>    1.043</td> <td>    1.184</td>\n",
       "</tr>\n",
       "<tr>\n",
       "  <th>Lead Origin_Lead Add Form</th>                            <td>    2.0896</td> <td>    0.308</td> <td>    6.777</td> <td> 0.000</td> <td>    1.485</td> <td>    2.694</td>\n",
       "</tr>\n",
       "<tr>\n",
       "  <th>Lead Source_referenced</th>                               <td>    2.0076</td> <td>    0.351</td> <td>    5.727</td> <td> 0.000</td> <td>    1.321</td> <td>    2.695</td>\n",
       "</tr>\n",
       "<tr>\n",
       "  <th>Lead Source_sales_team</th>                               <td>    0.7634</td> <td>    0.088</td> <td>    8.715</td> <td> 0.000</td> <td>    0.592</td> <td>    0.935</td>\n",
       "</tr>\n",
       "<tr>\n",
       "  <th>Lead Source_social_referral_links</th>                    <td>   -0.9045</td> <td>    0.271</td> <td>   -3.334</td> <td> 0.001</td> <td>   -1.436</td> <td>   -0.373</td>\n",
       "</tr>\n",
       "<tr>\n",
       "  <th>Country_Oman</th>                                         <td>    2.1219</td> <td>    1.296</td> <td>    1.637</td> <td> 0.102</td> <td>   -0.419</td> <td>    4.663</td>\n",
       "</tr>\n",
       "<tr>\n",
       "  <th>What is your current occupation_Working Professional</th> <td>    2.8971</td> <td>    0.176</td> <td>   16.422</td> <td> 0.000</td> <td>    2.551</td> <td>    3.243</td>\n",
       "</tr>\n",
       "</table>"
      ],
      "text/plain": [
       "<class 'statsmodels.iolib.summary.Summary'>\n",
       "\"\"\"\n",
       "                 Generalized Linear Model Regression Results                  \n",
       "==============================================================================\n",
       "Dep. Variable:              Converted   No. Observations:                 6930\n",
       "Model:                            GLM   Df Residuals:                     6922\n",
       "Model Family:                Binomial   Df Model:                            7\n",
       "Link Function:                  logit   Scale:                          1.0000\n",
       "Method:                          IRLS   Log-Likelihood:                -3321.7\n",
       "Date:                Mon, 12 Apr 2021   Deviance:                       6643.3\n",
       "Time:                        20:37:57   Pearson chi2:                 9.12e+03\n",
       "No. Iterations:                     6                                         \n",
       "Covariance Type:            nonrobust                                         \n",
       "========================================================================================================================\n",
       "                                                           coef    std err          z      P>|z|      [0.025      0.975]\n",
       "------------------------------------------------------------------------------------------------------------------------\n",
       "const                                                   -1.1355      0.039    -29.030      0.000      -1.212      -1.059\n",
       "Total Time Spent on Website                              1.1134      0.036     31.090      0.000       1.043       1.184\n",
       "Lead Origin_Lead Add Form                                2.0896      0.308      6.777      0.000       1.485       2.694\n",
       "Lead Source_referenced                                   2.0076      0.351      5.727      0.000       1.321       2.695\n",
       "Lead Source_sales_team                                   0.7634      0.088      8.715      0.000       0.592       0.935\n",
       "Lead Source_social_referral_links                       -0.9045      0.271     -3.334      0.001      -1.436      -0.373\n",
       "Country_Oman                                             2.1219      1.296      1.637      0.102      -0.419       4.663\n",
       "What is your current occupation_Working Professional     2.8971      0.176     16.422      0.000       2.551       3.243\n",
       "========================================================================================================================\n",
       "\"\"\""
      ]
     },
     "execution_count": 266,
     "metadata": {},
     "output_type": "execute_result"
    }
   ],
   "source": [
    "cols = cols.drop('What is your current occupation_Housewife')\n",
    "X_train_C = sm.add_constant(X_train[cols])\n",
    "log_model3 = sm.GLM(y_train, X_train_C, sm.families.Binomial())\n",
    "res3 = log_model3.fit()\n",
    "res3.summary()"
   ]
  },
  {
   "cell_type": "code",
   "execution_count": 267,
   "id": "distant-place",
   "metadata": {},
   "outputs": [
    {
     "data": {
      "text/plain": [
       "0.7792207792207793"
      ]
     },
     "execution_count": 267,
     "metadata": {},
     "output_type": "execute_result"
    }
   ],
   "source": [
    "train_pred = make_train_pred(res3, X_train_C, y_train)\n",
    "metrics.accuracy_score(train_pred.y_actual, train_pred.y_pred)"
   ]
  },
  {
   "cell_type": "markdown",
   "id": "flying-chamber",
   "metadata": {
    "tags": []
   },
   "source": [
    "#### Model 4\n",
    "Dropping `Country_Oman`"
   ]
  },
  {
   "cell_type": "code",
   "execution_count": 268,
   "id": "subsequent-helicopter",
   "metadata": {},
   "outputs": [
    {
     "data": {
      "text/html": [
       "<table class=\"simpletable\">\n",
       "<caption>Generalized Linear Model Regression Results</caption>\n",
       "<tr>\n",
       "  <th>Dep. Variable:</th>       <td>Converted</td>    <th>  No. Observations:  </th>  <td>  6930</td> \n",
       "</tr>\n",
       "<tr>\n",
       "  <th>Model:</th>                  <td>GLM</td>       <th>  Df Residuals:      </th>  <td>  6923</td> \n",
       "</tr>\n",
       "<tr>\n",
       "  <th>Model Family:</th>        <td>Binomial</td>     <th>  Df Model:          </th>  <td>     6</td> \n",
       "</tr>\n",
       "<tr>\n",
       "  <th>Link Function:</th>         <td>logit</td>      <th>  Scale:             </th> <td>  1.0000</td>\n",
       "</tr>\n",
       "<tr>\n",
       "  <th>Method:</th>                <td>IRLS</td>       <th>  Log-Likelihood:    </th> <td> -3323.1</td>\n",
       "</tr>\n",
       "<tr>\n",
       "  <th>Date:</th>            <td>Mon, 12 Apr 2021</td> <th>  Deviance:          </th> <td>  6646.2</td>\n",
       "</tr>\n",
       "<tr>\n",
       "  <th>Time:</th>                <td>20:37:58</td>     <th>  Pearson chi2:      </th> <td>9.12e+03</td>\n",
       "</tr>\n",
       "<tr>\n",
       "  <th>No. Iterations:</th>          <td>6</td>        <th>                     </th>     <td> </td>   \n",
       "</tr>\n",
       "<tr>\n",
       "  <th>Covariance Type:</th>     <td>nonrobust</td>    <th>                     </th>     <td> </td>   \n",
       "</tr>\n",
       "</table>\n",
       "<table class=\"simpletable\">\n",
       "<tr>\n",
       "                            <td></td>                              <th>coef</th>     <th>std err</th>      <th>z</th>      <th>P>|z|</th>  <th>[0.025</th>    <th>0.975]</th>  \n",
       "</tr>\n",
       "<tr>\n",
       "  <th>const</th>                                                <td>   -1.1335</td> <td>    0.039</td> <td>  -29.007</td> <td> 0.000</td> <td>   -1.210</td> <td>   -1.057</td>\n",
       "</tr>\n",
       "<tr>\n",
       "  <th>Total Time Spent on Website</th>                          <td>    1.1125</td> <td>    0.036</td> <td>   31.079</td> <td> 0.000</td> <td>    1.042</td> <td>    1.183</td>\n",
       "</tr>\n",
       "<tr>\n",
       "  <th>Lead Origin_Lead Add Form</th>                            <td>    2.0879</td> <td>    0.308</td> <td>    6.772</td> <td> 0.000</td> <td>    1.484</td> <td>    2.692</td>\n",
       "</tr>\n",
       "<tr>\n",
       "  <th>Lead Source_referenced</th>                               <td>    2.0066</td> <td>    0.351</td> <td>    5.724</td> <td> 0.000</td> <td>    1.320</td> <td>    2.694</td>\n",
       "</tr>\n",
       "<tr>\n",
       "  <th>Lead Source_sales_team</th>                               <td>    0.7607</td> <td>    0.088</td> <td>    8.687</td> <td> 0.000</td> <td>    0.589</td> <td>    0.932</td>\n",
       "</tr>\n",
       "<tr>\n",
       "  <th>Lead Source_social_referral_links</th>                    <td>   -0.9058</td> <td>    0.271</td> <td>   -3.339</td> <td> 0.001</td> <td>   -1.437</td> <td>   -0.374</td>\n",
       "</tr>\n",
       "<tr>\n",
       "  <th>What is your current occupation_Working Professional</th> <td>    2.8979</td> <td>    0.176</td> <td>   16.431</td> <td> 0.000</td> <td>    2.552</td> <td>    3.244</td>\n",
       "</tr>\n",
       "</table>"
      ],
      "text/plain": [
       "<class 'statsmodels.iolib.summary.Summary'>\n",
       "\"\"\"\n",
       "                 Generalized Linear Model Regression Results                  \n",
       "==============================================================================\n",
       "Dep. Variable:              Converted   No. Observations:                 6930\n",
       "Model:                            GLM   Df Residuals:                     6923\n",
       "Model Family:                Binomial   Df Model:                            6\n",
       "Link Function:                  logit   Scale:                          1.0000\n",
       "Method:                          IRLS   Log-Likelihood:                -3323.1\n",
       "Date:                Mon, 12 Apr 2021   Deviance:                       6646.2\n",
       "Time:                        20:37:58   Pearson chi2:                 9.12e+03\n",
       "No. Iterations:                     6                                         \n",
       "Covariance Type:            nonrobust                                         \n",
       "========================================================================================================================\n",
       "                                                           coef    std err          z      P>|z|      [0.025      0.975]\n",
       "------------------------------------------------------------------------------------------------------------------------\n",
       "const                                                   -1.1335      0.039    -29.007      0.000      -1.210      -1.057\n",
       "Total Time Spent on Website                              1.1125      0.036     31.079      0.000       1.042       1.183\n",
       "Lead Origin_Lead Add Form                                2.0879      0.308      6.772      0.000       1.484       2.692\n",
       "Lead Source_referenced                                   2.0066      0.351      5.724      0.000       1.320       2.694\n",
       "Lead Source_sales_team                                   0.7607      0.088      8.687      0.000       0.589       0.932\n",
       "Lead Source_social_referral_links                       -0.9058      0.271     -3.339      0.001      -1.437      -0.374\n",
       "What is your current occupation_Working Professional     2.8979      0.176     16.431      0.000       2.552       3.244\n",
       "========================================================================================================================\n",
       "\"\"\""
      ]
     },
     "execution_count": 268,
     "metadata": {},
     "output_type": "execute_result"
    }
   ],
   "source": [
    "cols = cols.drop('Country_Oman')\n",
    "X_train_C = sm.add_constant(X_train[cols])\n",
    "log_model4 = sm.GLM(y_train, X_train_C, sm.families.Binomial())\n",
    "res4 = log_model4.fit()\n",
    "res4.summary()"
   ]
  },
  {
   "cell_type": "code",
   "execution_count": 269,
   "id": "terminal-certification",
   "metadata": {},
   "outputs": [
    {
     "data": {
      "text/plain": [
       "0.7793650793650794"
      ]
     },
     "execution_count": 269,
     "metadata": {},
     "output_type": "execute_result"
    }
   ],
   "source": [
    "train_pred = make_train_pred(res4, X_train_C, y_train)\n",
    "metrics.accuracy_score(train_pred.y_actual, train_pred.y_pred)"
   ]
  },
  {
   "cell_type": "markdown",
   "id": "informational-contributor",
   "metadata": {
    "tags": []
   },
   "source": [
    "#### Checking VIF\n",
    "As all the p-value are under limit."
   ]
  },
  {
   "cell_type": "code",
   "execution_count": 270,
   "id": "identified-tenant",
   "metadata": {},
   "outputs": [
    {
     "data": {
      "text/plain": [
       "[('Total Time Spent on Website', 1.1877948483880925),\n",
       " ('Lead Origin_Lead Add Form', 9.784356759785176),\n",
       " ('Lead Source_referenced', 9.68078420864188),\n",
       " ('Lead Source_sales_team', 1.1484307465566461),\n",
       " ('Lead Source_social_referral_links', 1.1531406233516022),\n",
       " ('What is your current occupation_Working Professional', 1.1069160393341357)]"
      ]
     },
     "execution_count": 270,
     "metadata": {},
     "output_type": "execute_result"
    }
   ],
   "source": [
    "from statsmodels.stats.outliers_influence import variance_inflation_factor as VIF\n",
    "[(col, VIF(X_train[cols].values, i)) for i,col in enumerate(cols)]"
   ]
  },
  {
   "cell_type": "markdown",
   "id": "accepted-purchase",
   "metadata": {
    "tags": []
   },
   "source": [
    "#### Model 5 \n",
    "Dropping `Lead Origin_Lead Add Form`  \n",
    "As `Lead Source_referenced` is more interpretable and actionable from business sense."
   ]
  },
  {
   "cell_type": "code",
   "execution_count": 271,
   "id": "stock-currency",
   "metadata": {},
   "outputs": [
    {
     "data": {
      "text/html": [
       "<table class=\"simpletable\">\n",
       "<caption>Generalized Linear Model Regression Results</caption>\n",
       "<tr>\n",
       "  <th>Dep. Variable:</th>       <td>Converted</td>    <th>  No. Observations:  </th>  <td>  6930</td> \n",
       "</tr>\n",
       "<tr>\n",
       "  <th>Model:</th>                  <td>GLM</td>       <th>  Df Residuals:      </th>  <td>  6924</td> \n",
       "</tr>\n",
       "<tr>\n",
       "  <th>Model Family:</th>        <td>Binomial</td>     <th>  Df Model:          </th>  <td>     5</td> \n",
       "</tr>\n",
       "<tr>\n",
       "  <th>Link Function:</th>         <td>logit</td>      <th>  Scale:             </th> <td>  1.0000</td>\n",
       "</tr>\n",
       "<tr>\n",
       "  <th>Method:</th>                <td>IRLS</td>       <th>  Log-Likelihood:    </th> <td> -3345.0</td>\n",
       "</tr>\n",
       "<tr>\n",
       "  <th>Date:</th>            <td>Mon, 12 Apr 2021</td> <th>  Deviance:          </th> <td>  6690.0</td>\n",
       "</tr>\n",
       "<tr>\n",
       "  <th>Time:</th>                <td>20:37:58</td>     <th>  Pearson chi2:      </th> <td>9.07e+03</td>\n",
       "</tr>\n",
       "<tr>\n",
       "  <th>No. Iterations:</th>          <td>6</td>        <th>                     </th>     <td> </td>   \n",
       "</tr>\n",
       "<tr>\n",
       "  <th>Covariance Type:</th>     <td>nonrobust</td>    <th>                     </th>     <td> </td>   \n",
       "</tr>\n",
       "</table>\n",
       "<table class=\"simpletable\">\n",
       "<tr>\n",
       "                            <td></td>                              <th>coef</th>     <th>std err</th>      <th>z</th>      <th>P>|z|</th>  <th>[0.025</th>    <th>0.975]</th>  \n",
       "</tr>\n",
       "<tr>\n",
       "  <th>const</th>                                                <td>   -1.1126</td> <td>    0.039</td> <td>  -28.757</td> <td> 0.000</td> <td>   -1.188</td> <td>   -1.037</td>\n",
       "</tr>\n",
       "<tr>\n",
       "  <th>Total Time Spent on Website</th>                          <td>    1.0916</td> <td>    0.035</td> <td>   30.863</td> <td> 0.000</td> <td>    1.022</td> <td>    1.161</td>\n",
       "</tr>\n",
       "<tr>\n",
       "  <th>Lead Source_referenced</th>                               <td>    4.0543</td> <td>    0.181</td> <td>   22.356</td> <td> 0.000</td> <td>    3.699</td> <td>    4.410</td>\n",
       "</tr>\n",
       "<tr>\n",
       "  <th>Lead Source_sales_team</th>                               <td>    0.7352</td> <td>    0.087</td> <td>    8.462</td> <td> 0.000</td> <td>    0.565</td> <td>    0.905</td>\n",
       "</tr>\n",
       "<tr>\n",
       "  <th>Lead Source_social_referral_links</th>                    <td>   -0.2694</td> <td>    0.244</td> <td>   -1.104</td> <td> 0.269</td> <td>   -0.748</td> <td>    0.209</td>\n",
       "</tr>\n",
       "<tr>\n",
       "  <th>What is your current occupation_Working Professional</th> <td>    2.8924</td> <td>    0.176</td> <td>   16.402</td> <td> 0.000</td> <td>    2.547</td> <td>    3.238</td>\n",
       "</tr>\n",
       "</table>"
      ],
      "text/plain": [
       "<class 'statsmodels.iolib.summary.Summary'>\n",
       "\"\"\"\n",
       "                 Generalized Linear Model Regression Results                  \n",
       "==============================================================================\n",
       "Dep. Variable:              Converted   No. Observations:                 6930\n",
       "Model:                            GLM   Df Residuals:                     6924\n",
       "Model Family:                Binomial   Df Model:                            5\n",
       "Link Function:                  logit   Scale:                          1.0000\n",
       "Method:                          IRLS   Log-Likelihood:                -3345.0\n",
       "Date:                Mon, 12 Apr 2021   Deviance:                       6690.0\n",
       "Time:                        20:37:58   Pearson chi2:                 9.07e+03\n",
       "No. Iterations:                     6                                         \n",
       "Covariance Type:            nonrobust                                         \n",
       "========================================================================================================================\n",
       "                                                           coef    std err          z      P>|z|      [0.025      0.975]\n",
       "------------------------------------------------------------------------------------------------------------------------\n",
       "const                                                   -1.1126      0.039    -28.757      0.000      -1.188      -1.037\n",
       "Total Time Spent on Website                              1.0916      0.035     30.863      0.000       1.022       1.161\n",
       "Lead Source_referenced                                   4.0543      0.181     22.356      0.000       3.699       4.410\n",
       "Lead Source_sales_team                                   0.7352      0.087      8.462      0.000       0.565       0.905\n",
       "Lead Source_social_referral_links                       -0.2694      0.244     -1.104      0.269      -0.748       0.209\n",
       "What is your current occupation_Working Professional     2.8924      0.176     16.402      0.000       2.547       3.238\n",
       "========================================================================================================================\n",
       "\"\"\""
      ]
     },
     "execution_count": 271,
     "metadata": {},
     "output_type": "execute_result"
    }
   ],
   "source": [
    "cols = cols.drop('Lead Origin_Lead Add Form')\n",
    "X_train_C = sm.add_constant(X_train[cols])\n",
    "log_model5 = sm.GLM(y_train, X_train_C, sm.families.Binomial())\n",
    "res5 = log_model5.fit()\n",
    "res5.summary()"
   ]
  },
  {
   "cell_type": "code",
   "execution_count": 272,
   "id": "serial-familiar",
   "metadata": {},
   "outputs": [
    {
     "data": {
      "text/plain": [
       "0.7792207792207793"
      ]
     },
     "execution_count": 272,
     "metadata": {},
     "output_type": "execute_result"
    }
   ],
   "source": [
    "train_pred = make_train_pred(res5, X_train_C, y_train)\n",
    "metrics.accuracy_score(train_pred.y_actual, train_pred.y_pred)"
   ]
  },
  {
   "cell_type": "markdown",
   "id": "returning-magnitude",
   "metadata": {
    "heading_collapsed": "true",
    "tags": []
   },
   "source": [
    "#### Checking VIF"
   ]
  },
  {
   "cell_type": "code",
   "execution_count": 273,
   "id": "inclusive-child",
   "metadata": {},
   "outputs": [
    {
     "data": {
      "text/plain": [
       "[('Total Time Spent on Website', 1.185180459525758),\n",
       " ('Lead Source_referenced', 1.1084275385725388),\n",
       " ('Lead Source_sales_team', 1.1483851554069233),\n",
       " ('Lead Source_social_referral_links', 1.001396055793506),\n",
       " ('What is your current occupation_Working Professional', 1.1067698675086046)]"
      ]
     },
     "execution_count": 273,
     "metadata": {},
     "output_type": "execute_result"
    }
   ],
   "source": [
    "[(col, VIF(X_train[cols].values, i)) for i,col in enumerate(cols)]"
   ]
  },
  {
   "cell_type": "markdown",
   "id": "worldwide-generator",
   "metadata": {
    "tags": []
   },
   "source": [
    "## Metrics"
   ]
  },
  {
   "cell_type": "code",
   "execution_count": 274,
   "id": "operating-baltimore",
   "metadata": {},
   "outputs": [],
   "source": [
    "final_model = log_model5\n",
    "result = final_model.fit()"
   ]
  },
  {
   "cell_type": "code",
   "execution_count": 275,
   "id": "vietnamese-spokesman",
   "metadata": {},
   "outputs": [
    {
     "data": {
      "text/plain": [
       "array([[3762,  523],\n",
       "       [1007, 1638]])"
      ]
     },
     "execution_count": 275,
     "metadata": {},
     "output_type": "execute_result"
    }
   ],
   "source": [
    "train_pred = make_train_pred(result, X_train_C, y_train, cutoff=0.5)\n",
    "confusion_matrix = metrics.confusion_matrix(train_pred.y_actual, train_pred.y_pred)\n",
    "confusion_matrix"
   ]
  },
  {
   "cell_type": "markdown",
   "id": "respective-swing",
   "metadata": {
    "tags": []
   },
   "source": [
    "### ROC curve"
   ]
  },
  {
   "cell_type": "code",
   "execution_count": 276,
   "id": "separate-stage",
   "metadata": {},
   "outputs": [
    {
     "data": {
      "image/png": "[encoded data removed]",
      "text/plain": [
       "<Figure size 400x400 with 1 Axes>"
      ]
     },
     "metadata": {},
     "output_type": "display_data"
    }
   ],
   "source": [
    "def roc_curve_plot(train_pred):\n",
    "    FPR, TPR, thresholds = metrics.roc_curve(train_pred.y_actual, train_pred.pred_prob)\n",
    "    AUC_roc = metrics.roc_auc_score(train_pred.y_actual, train_pred.pred_prob)\n",
    "    plt.figure(figsize=(5,5), dpi=80)\n",
    "    curve, = plt.plot(FPR, TPR) #comma is used because otherwise legend does not work\n",
    "    bounds = plt.plot([0,0], [0,1], [1,1], c='grey', alpha=0.5,)\n",
    "    no_skill_line, = plt.plot([0,1], c='grey', linestyle='--')\n",
    "    AUC_curve = plt.fill_between(FPR, TPR, 1, color=(1,1,.9))\n",
    "    plt.legend([curve, AUC_curve],\n",
    "               ['ROC curve', f'Area={AUC_roc:1.2}'],\n",
    "               prop={'family':'serif', 'weight':'roman'})\n",
    "    plt.xlabel('False Positive Rate')\n",
    "    plt.plot();\n",
    "roc_curve_plot(train_pred)"
   ]
  },
  {
   "cell_type": "markdown",
   "id": "pretty-thirty",
   "metadata": {
    "tags": []
   },
   "source": [
    "### Finding optimal cutoff"
   ]
  },
  {
   "cell_type": "markdown",
   "id": "therapeutic-avenue",
   "metadata": {
    "tags": []
   },
   "source": [
    "#### Sensitivity - Specificity tradeoff"
   ]
  },
  {
   "cell_type": "code",
   "execution_count": 277,
   "id": "painful-confidence",
   "metadata": {},
   "outputs": [
    {
     "data": {
      "text/html": [
       "<div>\n",
       "<style scoped>\n",
       "    .dataframe tbody tr th:only-of-type {\n",
       "        vertical-align: middle;\n",
       "    }\n",
       "\n",
       "    .dataframe tbody tr th {\n",
       "        vertical-align: top;\n",
       "    }\n",
       "\n",
       "    .dataframe thead th {\n",
       "        text-align: right;\n",
       "    }\n",
       "</style>\n",
       "<table border=\"1\" class=\"dataframe\">\n",
       "  <thead>\n",
       "    <tr style=\"text-align: right;\">\n",
       "      <th></th>\n",
       "      <th>Accuracy</th>\n",
       "      <th>Sensitivity</th>\n",
       "      <th>Specificity</th>\n",
       "    </tr>\n",
       "  </thead>\n",
       "  <tbody>\n",
       "    <tr>\n",
       "      <th>0.959596</th>\n",
       "      <td>0.663348</td>\n",
       "      <td>0.122495</td>\n",
       "      <td>0.997200</td>\n",
       "    </tr>\n",
       "    <tr>\n",
       "      <th>0.969697</th>\n",
       "      <td>0.657864</td>\n",
       "      <td>0.107750</td>\n",
       "      <td>0.997433</td>\n",
       "    </tr>\n",
       "    <tr>\n",
       "      <th>0.979798</th>\n",
       "      <td>0.649206</td>\n",
       "      <td>0.084688</td>\n",
       "      <td>0.997666</td>\n",
       "    </tr>\n",
       "    <tr>\n",
       "      <th>0.989899</th>\n",
       "      <td>0.640404</td>\n",
       "      <td>0.060491</td>\n",
       "      <td>0.998366</td>\n",
       "    </tr>\n",
       "    <tr>\n",
       "      <th>1.000000</th>\n",
       "      <td>0.618326</td>\n",
       "      <td>0.000000</td>\n",
       "      <td>1.000000</td>\n",
       "    </tr>\n",
       "  </tbody>\n",
       "</table>\n",
       "</div>"
      ],
      "text/plain": [
       "          Accuracy  Sensitivity  Specificity\n",
       "0.959596  0.663348     0.122495     0.997200\n",
       "0.969697  0.657864     0.107750     0.997433\n",
       "0.979798  0.649206     0.084688     0.997666\n",
       "0.989899  0.640404     0.060491     0.998366\n",
       "1.000000  0.618326     0.000000     1.000000"
      ]
     },
     "execution_count": 277,
     "metadata": {},
     "output_type": "execute_result"
    }
   ],
   "source": [
    "def sensitivity_specificity(model_result, X_train_C, y_train, n_points=11):\n",
    "    cutoff_space = np.linspace(0,1,n_points)\n",
    "\n",
    "    accuracy = metrics.accuracy_score\n",
    "    sensitivity = metrics.recall_score\n",
    "    def specificity(y_true, y_pred):\n",
    "        TN, FP, FN, TP = metrics.confusion_matrix(y_true, y_pred).ravel()\n",
    "        return TN / (TN+FP)\n",
    "    \n",
    "    train_pred_array = [make_train_pred(model_result, X_train_C, y_train, cutoff=i)\n",
    "         for i in cutoff_space]\n",
    "    acc_sens_spec = pd.DataFrame(\n",
    "        index=cutoff_space,\n",
    "        columns=['Accuracy', 'Sensitivity', 'Specificity'],\n",
    "        data=[[accuracy(ich_ktff.y_actual, ich_ktff.y_pred),\n",
    "            sensitivity(ich_ktff.y_actual, ich_ktff.y_pred),\n",
    "            specificity(ich_ktff.y_actual, ich_ktff.y_pred)] \n",
    "                                     for ich_ktff in train_pred_array])\n",
    "    return acc_sens_spec\n",
    "sens_spec = sensitivity_specificity(result, X_train_C, y_train, 100)\n",
    "sens_spec.tail()"
   ]
  },
  {
   "cell_type": "code",
   "execution_count": 278,
   "id": "based-memorabilia",
   "metadata": {},
   "outputs": [
    {
     "name": "stdout",
     "output_type": "stream",
     "text": [
      "optimal cutoff =  0.24\n"
     ]
    },
    {
     "data": {
      "text/plain": [
       "(0.10738, 0.81381, 0.83484)"
      ]
     },
     "execution_count": 278,
     "metadata": {},
     "output_type": "execute_result"
    },
    {
     "data": {
      "image/png": "[encoded data removed]",
      "text/plain": [
       "<Figure size 432x288 with 1 Axes>"
      ]
     },
     "metadata": {},
     "output_type": "display_data"
    }
   ],
   "source": [
    "fig = sens_spec.plot(y=['Specificity', 'Sensitivity', 'Accuracy'])#color=[(),                              (0.27698, 0.46153, 0.93309)])\n",
    "cutoff = sens_spec[np.isclose(sens_spec.Specificity, sens_spec.Sensitivity, atol=1e-2)]\n",
    "cutoff = np.mean(cutoff.index)\n",
    "print('optimal cutoff = ',cutoff.round(2))\n",
    "plt.vlines(cutoff, 0,1, color='grey', alpha=.5, linestyle='--');\n",
    "plt.gca().lines[1].get_color()"
   ]
  },
  {
   "cell_type": "markdown",
   "id": "statutory-denial",
   "metadata": {
    "tags": []
   },
   "source": [
    "#### Precision - Recall tradeoff"
   ]
  },
  {
   "cell_type": "code",
   "execution_count": 279,
   "id": "forward-equality",
   "metadata": {},
   "outputs": [
    {
     "name": "stdout",
     "output_type": "stream",
     "text": [
      "optimal cutoff =  0.34\n"
     ]
    },
    {
     "data": {
      "image/png": "[encoded data removed]",
      "text/plain": [
       "<Figure size 432x288 with 1 Axes>"
      ]
     },
     "metadata": {},
     "output_type": "display_data"
    }
   ],
   "source": [
    "precision, recall, thresholds = metrics.precision_recall_curve(\n",
    "                                                y_true=train_pred.y_actual,\n",
    "                                                probas_pred=train_pred.pred_prob)\n",
    "precision, recall = precision[:-1], recall[:-1]\n",
    "p, = plt.plot(thresholds, precision)\n",
    "r, = plt.plot(thresholds, recall)\n",
    "#Finding optimal cutoff\n",
    "cutoff = np.median(thresholds[np.isclose(precision, recall, rtol=1e-3)])\n",
    "print('optimal cutoff = ',np.median(cutoff).round(2))\n",
    "plt.vlines(cutoff, 0,1, color='grey', alpha=.5, linestyle='--',label='ueau')\n",
    "plt.legend([p,r],['precision','recall']);"
   ]
  },
  {
   "cell_type": "markdown",
   "id": "cheap-hartford",
   "metadata": {
    "tags": []
   },
   "source": [
    "## Remodelling\n",
    "This is the final model in which variables were MinMax Scaled and a somewhat optimum cutoff of `0.3` was used for classifier.  \n",
    "This decision was made because after ~0.34, the precision does increase much, recall drops drastically and that is not desirable, it means the model has become less sensitive to potential conversion of leads. "
   ]
  },
  {
   "cell_type": "markdown",
   "id": "statistical-celebrity",
   "metadata": {
    "tags": []
   },
   "source": [
    "### Feature Scaling (MinMax)\n",
    "Using MinMax scaler so that contribution of variables can be measured on same scale."
   ]
  },
  {
   "cell_type": "code",
   "execution_count": 299,
   "id": "northern-certification",
   "metadata": {},
   "outputs": [],
   "source": [
    "from sklearn.preprocessing import MinMaxScaler\n",
    "scaler = StandardScaler()"
   ]
  },
  {
   "cell_type": "code",
   "execution_count": 300,
   "id": "diverse-paragraph",
   "metadata": {},
   "outputs": [],
   "source": [
    "to_scale = ['TotalVisits', 'Total Time Spent on Website']\n",
    "X_train[to_scale] = scaler.fit_transform(X_train[to_scale])\n",
    "X_test[to_scale] = scaler.transform(X_test[to_scale])"
   ]
  },
  {
   "cell_type": "code",
   "execution_count": 301,
   "id": "elder-outdoors",
   "metadata": {},
   "outputs": [
    {
     "data": {
      "text/html": [
       "<table class=\"simpletable\">\n",
       "<caption>Generalized Linear Model Regression Results</caption>\n",
       "<tr>\n",
       "  <th>Dep. Variable:</th>       <td>Converted</td>    <th>  No. Observations:  </th>  <td>  6930</td> \n",
       "</tr>\n",
       "<tr>\n",
       "  <th>Model:</th>                  <td>GLM</td>       <th>  Df Residuals:      </th>  <td>  6924</td> \n",
       "</tr>\n",
       "<tr>\n",
       "  <th>Model Family:</th>        <td>Binomial</td>     <th>  Df Model:          </th>  <td>     5</td> \n",
       "</tr>\n",
       "<tr>\n",
       "  <th>Link Function:</th>         <td>logit</td>      <th>  Scale:             </th> <td>  1.0000</td>\n",
       "</tr>\n",
       "<tr>\n",
       "  <th>Method:</th>                <td>IRLS</td>       <th>  Log-Likelihood:    </th> <td> -3345.0</td>\n",
       "</tr>\n",
       "<tr>\n",
       "  <th>Date:</th>            <td>Mon, 12 Apr 2021</td> <th>  Deviance:          </th> <td>  6690.0</td>\n",
       "</tr>\n",
       "<tr>\n",
       "  <th>Time:</th>                <td>20:43:01</td>     <th>  Pearson chi2:      </th> <td>9.07e+03</td>\n",
       "</tr>\n",
       "<tr>\n",
       "  <th>No. Iterations:</th>          <td>6</td>        <th>                     </th>     <td> </td>   \n",
       "</tr>\n",
       "<tr>\n",
       "  <th>Covariance Type:</th>     <td>nonrobust</td>    <th>                     </th>     <td> </td>   \n",
       "</tr>\n",
       "</table>\n",
       "<table class=\"simpletable\">\n",
       "<tr>\n",
       "                            <td></td>                              <th>coef</th>     <th>std err</th>      <th>z</th>      <th>P>|z|</th>  <th>[0.025</th>    <th>0.975]</th>  \n",
       "</tr>\n",
       "<tr>\n",
       "  <th>const</th>                                                <td>   -1.1126</td> <td>    0.039</td> <td>  -28.757</td> <td> 0.000</td> <td>   -1.188</td> <td>   -1.037</td>\n",
       "</tr>\n",
       "<tr>\n",
       "  <th>Total Time Spent on Website</th>                          <td>    1.0916</td> <td>    0.035</td> <td>   30.863</td> <td> 0.000</td> <td>    1.022</td> <td>    1.161</td>\n",
       "</tr>\n",
       "<tr>\n",
       "  <th>Lead Source_referenced</th>                               <td>    4.0543</td> <td>    0.181</td> <td>   22.356</td> <td> 0.000</td> <td>    3.699</td> <td>    4.410</td>\n",
       "</tr>\n",
       "<tr>\n",
       "  <th>Lead Source_sales_team</th>                               <td>    0.7352</td> <td>    0.087</td> <td>    8.462</td> <td> 0.000</td> <td>    0.565</td> <td>    0.905</td>\n",
       "</tr>\n",
       "<tr>\n",
       "  <th>Lead Source_social_referral_links</th>                    <td>   -0.2694</td> <td>    0.244</td> <td>   -1.104</td> <td> 0.269</td> <td>   -0.748</td> <td>    0.209</td>\n",
       "</tr>\n",
       "<tr>\n",
       "  <th>What is your current occupation_Working Professional</th> <td>    2.8924</td> <td>    0.176</td> <td>   16.402</td> <td> 0.000</td> <td>    2.547</td> <td>    3.238</td>\n",
       "</tr>\n",
       "</table>"
      ],
      "text/plain": [
       "<class 'statsmodels.iolib.summary.Summary'>\n",
       "\"\"\"\n",
       "                 Generalized Linear Model Regression Results                  \n",
       "==============================================================================\n",
       "Dep. Variable:              Converted   No. Observations:                 6930\n",
       "Model:                            GLM   Df Residuals:                     6924\n",
       "Model Family:                Binomial   Df Model:                            5\n",
       "Link Function:                  logit   Scale:                          1.0000\n",
       "Method:                          IRLS   Log-Likelihood:                -3345.0\n",
       "Date:                Mon, 12 Apr 2021   Deviance:                       6690.0\n",
       "Time:                        20:43:01   Pearson chi2:                 9.07e+03\n",
       "No. Iterations:                     6                                         \n",
       "Covariance Type:            nonrobust                                         \n",
       "========================================================================================================================\n",
       "                                                           coef    std err          z      P>|z|      [0.025      0.975]\n",
       "------------------------------------------------------------------------------------------------------------------------\n",
       "const                                                   -1.1126      0.039    -28.757      0.000      -1.188      -1.037\n",
       "Total Time Spent on Website                              1.0916      0.035     30.863      0.000       1.022       1.161\n",
       "Lead Source_referenced                                   4.0543      0.181     22.356      0.000       3.699       4.410\n",
       "Lead Source_sales_team                                   0.7352      0.087      8.462      0.000       0.565       0.905\n",
       "Lead Source_social_referral_links                       -0.2694      0.244     -1.104      0.269      -0.748       0.209\n",
       "What is your current occupation_Working Professional     2.8924      0.176     16.402      0.000       2.547       3.238\n",
       "========================================================================================================================\n",
       "\"\"\""
      ]
     },
     "execution_count": 301,
     "metadata": {},
     "output_type": "execute_result"
    }
   ],
   "source": [
    "X_train_C = sm.add_constant(X_train[cols])\n",
    "X_test_C = sm.add_constant(X_test[cols])\n",
    "scaled_model = sm.GLM(y_train, X_train_C, sm.families.Binomial())\n",
    "result = scaled_model.fit()\n",
    "result.summary()"
   ]
  },
  {
   "cell_type": "markdown",
   "id": "appointed-champagne",
   "metadata": {},
   "source": [
    "### Making classifier"
   ]
  },
  {
   "cell_type": "code",
   "execution_count": 302,
   "id": "normal-claim",
   "metadata": {},
   "outputs": [],
   "source": [
    "cutoff=0.4\n",
    "train_results = make_train_pred(result, X_train_C, y_train, cutoff) \n",
    "test_results = make_train_pred(result, X_test_C, y_test, cutoff)"
   ]
  },
  {
   "cell_type": "code",
   "execution_count": 303,
   "id": "neither-tuesday",
   "metadata": {},
   "outputs": [
    {
     "name": "stdout",
     "output_type": "stream",
     "text": [
      "Accuracy = 0.8 Sensitivity/Recall = 0.7\n",
      "Accuracy = 0.4 Sensitivity/Recall = 0.99\n"
     ]
    }
   ],
   "source": [
    "def get_acc_recall(train_pred: 'pd.DataFrame'):\n",
    "    \"\"\"\n",
    "    DataFrame with columns: ['pred_prob', 'y_pred', 'y_actual']\n",
    "    Returns: accuracy, sensitivity/recall\n",
    "    \"\"\"\n",
    "    a = metrics.accuracy_score(train_pred.y_actual, train_pred.y_pred)\n",
    "    s = metrics.recall_score(train_pred.y_actual, train_pred.y_pred)\n",
    "    print(f'Accuracy = {a:0.2} Sensitivity/Recall = {s:0.2}')\n",
    "get_acc_recall(train_results)\n",
    "get_acc_recall(test_results)"
   ]
  },
  {
   "cell_type": "code",
   "execution_count": null,
   "id": "endangered-pharmaceutical",
   "metadata": {},
   "outputs": [],
   "source": []
  },
  {
   "cell_type": "markdown",
   "id": "shared-catering",
   "metadata": {},
   "source": [
    "# Questions"
   ]
  },
  {
   "cell_type": "markdown",
   "id": "offensive-james",
   "metadata": {},
   "source": [
    "####  1. Which are the top three variables in your model which contribute most towards the probability of a lead getting converted?"
   ]
  },
  {
   "cell_type": "code",
   "execution_count": 286,
   "id": "fleet-partition",
   "metadata": {},
   "outputs": [
    {
     "data": {
      "text/plain": [
       "Total Time Spent on Website                             4.834479\n",
       "Lead Source_referenced                                  4.409776\n",
       "What is your current occupation_Working Professional    3.237981\n",
       "const                                                  -1.967415\n",
       "Lead Source_sales_team                                  0.905448\n",
       "Lead Source_social_referral_links                       0.208779\n",
       "Name: 1, dtype: float64"
      ]
     },
     "execution_count": 286,
     "metadata": {},
     "output_type": "execute_result"
    }
   ],
   "source": [
    "coefficients = result.conf_int()\n",
    "coeff_absolute_top3_indices = coefficients.abs().sort_values(by=1,ascending=False).index\n",
    "coefficients.loc[coeff_absolute_top3_indices,1]"
   ]
  },
  {
   "cell_type": "markdown",
   "id": "digital-mineral",
   "metadata": {},
   "source": [
    "#### 2. What are the top 3 categorical/dummy variables in the model which should be focused the most on in order to increase the probability of lead conversion?"
   ]
  },
  {
   "cell_type": "markdown",
   "id": "worst-extreme",
   "metadata": {},
   "source": [
    "Top three variables that should be focust the most are \n",
    "1. `Referenced`: Leads who are referenced by some faculty etc have more chances to get converted. Hence company can have courses which are more likely to be referenced by faculties. It can also work with top faculties, to make content. \n",
    "1. `Working Professional`: In addition to the above path, company can have another set of courses which are made specifically for working professionals. More analysis can be done to find out the needs of working professionals. Courses which are for academic circles are usually larger so those courses can be cutshort into a 'made-for-professionals' version.\n",
    "1. `Total Time Spent on Website`: The website's design can be improved. \n"
   ]
  },
  {
   "cell_type": "markdown",
   "id": "different-thomas",
   "metadata": {},
   "source": [
    "#### 3. X Education has a period of 2 months every year during which they hire some interns. The sales team, in particular, has around 10 interns allotted to them. So during this phase, they wish to make the lead conversion more aggressive. So they want almost all of the potential leads (i.e. the customers who have been predicted as 1 by the model) to be converted and hence, want to make phone calls to as much of such people as possible. Suggest a good strategy they should employ at this stage."
   ]
  },
  {
   "cell_type": "markdown",
   "id": "involved-spring",
   "metadata": {},
   "source": [
    "Interns should be tasked to call as many leads as possible. Addionaly, during that time, the model's threshold can be set a bit lower so that none of the potential leads are rejected. In other words, a more sensitive (true positive rate) should be deployed."
   ]
  },
  {
   "cell_type": "markdown",
   "id": "focal-surprise",
   "metadata": {},
   "source": [
    "#### 4. Similarly, at times, the company reaches its target for a quarter before the deadline. During this time, the company wants the sales team to focus on some new work as well. So during this time, the company’s aim is to not make phone calls unless it’s extremely necessary, i.e. they want to minimize the rate of useless phone calls. Suggest a strategy they should employ at this stage."
   ]
  },
  {
   "cell_type": "markdown",
   "id": "grave-theater",
   "metadata": {},
   "source": [
    "Interns should be asked to make calls and then engage with working professionals and people who can refer students.  \n",
    "To understand what exactly are their needs and then keep a close loop with the data science team so that they can plan about what the next project will \n",
    "be, what kind of targeting shall be done, and for that what kind of data is needed, the sales team and other teamns can then work on to get that data."
   ]
  },
  {
   "cell_type": "code",
   "execution_count": null,
   "id": "unlikely-bahamas",
   "metadata": {},
   "outputs": [],
   "source": []
  },
  {
   "cell_type": "code",
   "execution_count": null,
   "id": "sought-leonard",
   "metadata": {},
   "outputs": [],
   "source": []
  },
  {
   "cell_type": "code",
   "execution_count": null,
   "id": "finished-surprise",
   "metadata": {},
   "outputs": [],
   "source": []
  },
  {
   "cell_type": "code",
   "execution_count": null,
   "id": "standing-smith",
   "metadata": {},
   "outputs": [],
   "source": []
  },
  {
   "cell_type": "code",
   "execution_count": null,
   "id": "proprietary-dutch",
   "metadata": {},
   "outputs": [],
   "source": []
  },
  {
   "cell_type": "code",
   "execution_count": null,
   "id": "running-architect",
   "metadata": {},
   "outputs": [],
   "source": []
  }
 ],
 "metadata": {
  "kernelspec": {
   "display_name": "Python 3",
   "language": "python",
   "name": "python3"
  },
  "language_info": {
   "codemirror_mode": {
    "name": "ipython",
    "version": 3
   },
   "file_extension": ".py",
   "mimetype": "text/x-python",
   "name": "python",
   "nbconvert_exporter": "python",
   "pygments_lexer": "ipython3",
   "version": "3.8.5"
  },
  "widgets": {
   "application/vnd.jupyter.widget-state+json": {
    "state": {
     "0836195c5d134797a711cd08720dc6ac": {
      "model_module": "@jupyter-widgets/controls",
      "model_module_version": "1.5.0",
      "model_name": "ButtonStyleModel",
      "state": {}
     },
     "0c60ad3d30e5429f9223ce975ea822f0": {
      "model_module": "@jupyter-widgets/base",
      "model_module_version": "1.2.0",
      "model_name": "LayoutModel",
      "state": {}
     },
     "1104ea60125f416c858b2db788be1d7b": {
      "model_module": "@jupyter-widgets/controls",
      "model_module_version": "1.5.0",
      "model_name": "DropdownModel",
      "state": {
       "_options_labels": [
        "Lead Origin",
        "Lead Source",
        "Do Not Email",
        "Do Not Call",
        "Converted",
        "TotalVisits",
        "Total Time Spent on Website",
        "Page Views Per Visit",
        "Last Activity",
        "Country",
        "Specialization",
        "How did you hear about X Education",
        "What is your current occupation",
        "What matters most to you in choosing a course",
        "Search",
        "Magazine",
        "Newspaper Article",
        "X Education Forums",
        "Newspaper",
        "Digital Advertisement",
        "Through Recommendations",
        "Receive More Updates About Our Courses",
        "Tags",
        "Lead Quality",
        "Update me on Supply Chain Content",
        "Get updates on DM Content",
        "Lead Profile",
        "City",
        "Asymmetrique Activity Index",
        "Asymmetrique Profile Index",
        "Asymmetrique Activity Score",
        "Asymmetrique Profile Score",
        "I agree to pay the amount through cheque",
        "A free copy of Mastering The Interview",
        "Last Notable Activity"
       ],
       "description": "Column",
       "index": 0,
       "layout": "IPY_MODEL_8de43d5ccc0d43a9825efc99f2cddec8",
       "style": "IPY_MODEL_971d07e6381d4fc7b02d301b296cfbfb"
      }
     },
     "13a504ba3a3d408795a2e1212401901b": {
      "model_module": "@jupyter-widgets/output",
      "model_module_version": "1.0.0",
      "model_name": "OutputModel",
      "state": {
       "layout": "IPY_MODEL_4f29cfc6432c4fd48e97ab9a9a689735"
      }
     },
     "18256b52212b49b78442d557a1ece961": {
      "model_module": "@jupyter-widgets/base",
      "model_module_version": "1.2.0",
      "model_name": "LayoutModel",
      "state": {}
     },
     "18d6384df03f46a8b94dd18a468c7465": {
      "model_module": "@jupyter-widgets/base",
      "model_module_version": "1.2.0",
      "model_name": "LayoutModel",
      "state": {}
     },
     "210d3fd5f259435ca3f5a000c79cadb2": {
      "model_module": "@jupyter-widgets/base",
      "model_module_version": "1.2.0",
      "model_name": "LayoutModel",
      "state": {}
     },
     "22ada50ac1784449b18b532ff14014c7": {
      "model_module": "@jupyter-widgets/base",
      "model_module_version": "1.2.0",
      "model_name": "LayoutModel",
      "state": {}
     },
     "230200776fc940e1a90001ba83c08965": {
      "model_module": "@jupyter-widgets/controls",
      "model_module_version": "1.5.0",
      "model_name": "DropdownModel",
      "state": {
       "_options_labels": [
        "Lead Origin",
        "Lead Source",
        "Do Not Email",
        "Do Not Call",
        "Converted",
        "TotalVisits",
        "Total Time Spent on Website",
        "Page Views Per Visit",
        "Last Activity",
        "Country",
        "Specialization",
        "How did you hear about X Education",
        "What is your current occupation",
        "What matters most to you in choosing a course",
        "Search",
        "Magazine",
        "Newspaper Article",
        "X Education Forums",
        "Newspaper",
        "Digital Advertisement",
        "Through Recommendations",
        "Receive More Updates About Our Courses",
        "Tags",
        "Lead Quality",
        "Update me on Supply Chain Content",
        "Get updates on DM Content",
        "Lead Profile",
        "City",
        "Asymmetrique Activity Index",
        "Asymmetrique Profile Index",
        "Asymmetrique Activity Score",
        "Asymmetrique Profile Score",
        "I agree to pay the amount through cheque",
        "A free copy of Mastering The Interview",
        "Last Notable Activity"
       ],
       "description": "Column",
       "index": 0,
       "layout": "IPY_MODEL_fef0f40454104db18d10c47b98271aec",
       "style": "IPY_MODEL_ffce2aaf873d48628b2a7a8031e8a284"
      }
     },
     "25c89b58aa2e420691cd4a3e9d5852e4": {
      "model_module": "@jupyter-widgets/controls",
      "model_module_version": "1.5.0",
      "model_name": "DescriptionStyleModel",
      "state": {
       "description_width": ""
      }
     },
     "25f602fa41674199af0e10eb9a8958a2": {
      "model_module": "@jupyter-widgets/output",
      "model_module_version": "1.0.0",
      "model_name": "OutputModel",
      "state": {
       "layout": "IPY_MODEL_ae430e067680477c99e218a523c5b823",
       "outputs": [
        {
         "name": "stdout",
         "output_type": "stream",
         "text": "Description of Lead Origin\ncount                        9240\nunique                          5\ntop       Landing Page Submission\nfreq                         4886\nName: Lead Origin, dtype: object\n"
        }
       ]
      }
     },
     "2b034ecaf1954466a4e01d84c550a3e6": {
      "model_module": "@jupyter-widgets/base",
      "model_module_version": "1.2.0",
      "model_name": "LayoutModel",
      "state": {}
     },
     "3106ff5ed4d3402a8055325d1a4473e0": {
      "model_module": "@jupyter-widgets/output",
      "model_module_version": "1.0.0",
      "model_name": "OutputModel",
      "state": {
       "layout": "IPY_MODEL_5b0e005697ba4d709960e896498ae153"
      }
     },
     "371478cbd2f64978a36808c4a356494c": {
      "model_module": "@jupyter-widgets/base",
      "model_module_version": "1.2.0",
      "model_name": "LayoutModel",
      "state": {
       "border": "1px solid black"
      }
     },
     "37690847cdca430fa50029b320cd7bde": {
      "model_module": "@jupyter-widgets/output",
      "model_module_version": "1.0.0",
      "model_name": "OutputModel",
      "state": {
       "layout": "IPY_MODEL_18256b52212b49b78442d557a1ece961"
      }
     },
     "39634bc7bb01416d8adb57b8d0a4d2cf": {
      "model_module": "@jupyter-widgets/output",
      "model_module_version": "1.0.0",
      "model_name": "OutputModel",
      "state": {
       "layout": "IPY_MODEL_a96d8dab22a74e2da34387fe86537d11"
      }
     },
     "3a4dd81e67454d9a9a8c51b9e44f1c84": {
      "model_module": "@jupyter-widgets/controls",
      "model_module_version": "1.5.0",
      "model_name": "DropdownModel",
      "state": {
       "_options_labels": [
        "Lead Origin",
        "Lead Source",
        "Do Not Email",
        "Do Not Call",
        "Converted",
        "TotalVisits",
        "Total Time Spent on Website",
        "Page Views Per Visit",
        "Last Activity",
        "Country",
        "Specialization",
        "How did you hear about X Education",
        "What is your current occupation",
        "What matters most to you in choosing a course",
        "Search",
        "Magazine",
        "Newspaper Article",
        "X Education Forums",
        "Newspaper",
        "Digital Advertisement",
        "Through Recommendations",
        "Receive More Updates About Our Courses",
        "Tags",
        "Lead Quality",
        "Update me on Supply Chain Content",
        "Get updates on DM Content",
        "Lead Profile",
        "City",
        "Asymmetrique Activity Index",
        "Asymmetrique Profile Index",
        "Asymmetrique Activity Score",
        "Asymmetrique Profile Score",
        "I agree to pay the amount through cheque",
        "A free copy of Mastering The Interview",
        "Last Notable Activity"
       ],
       "description": "Column",
       "index": 0,
       "layout": "IPY_MODEL_c99bcb32e6c74feeafd8353202c7fc5b",
       "style": "IPY_MODEL_25c89b58aa2e420691cd4a3e9d5852e4"
      }
     },
     "3ed9c71fbbef49e79e56e40d6ccb0d05": {
      "model_module": "@jupyter-widgets/base",
      "model_module_version": "1.2.0",
      "model_name": "LayoutModel",
      "state": {}
     },
     "3f356bdae4364395ad3cffeece541ad0": {
      "model_module": "@jupyter-widgets/controls",
      "model_module_version": "1.5.0",
      "model_name": "ButtonModel",
      "state": {
       "description": "View Distribution",
       "layout": "IPY_MODEL_6e4080c85e3045d5b7a34042990aa7cf",
       "style": "IPY_MODEL_a285b6130f13467d8ecf329c1ebc78e9"
      }
     },
     "41322ea1403942a5a153509a888b9c0d": {
      "model_module": "@jupyter-widgets/controls",
      "model_module_version": "1.5.0",
      "model_name": "HBoxModel",
      "state": {
       "children": [
        "IPY_MODEL_82cf2187601e43bfaa22d846ae5a8185",
        "IPY_MODEL_df16bbce699044fb964bb777af65134d",
        "IPY_MODEL_6c6a19231d5a41d19da801ff5eb2b121"
       ],
       "layout": "IPY_MODEL_7ed1d63c738e4a60b0f23e620109689a"
      }
     },
     "41654b37432b4bd4a6b2f01b1b0159f4": {
      "model_module": "@jupyter-widgets/output",
      "model_module_version": "1.0.0",
      "model_name": "OutputModel",
      "state": {
       "layout": "IPY_MODEL_f5d9be39f7e1430d936d798e4d1ec492",
       "outputs": [
        {
         "name": "stdout",
         "output_type": "stream",
         "text": "The origin identifier with which the customer was identified to be a lead. Includes API, Landing Page Submission, etc.\n"
        }
       ]
      }
     },
     "43bf48cc7fac48199030b29b69c50d7c": {
      "model_module": "@jupyter-widgets/controls",
      "model_module_version": "1.5.0",
      "model_name": "ButtonModel",
      "state": {
       "description": "View Distribution",
       "layout": "IPY_MODEL_5f442917ffda40ef80b912d2fe807ee2",
       "style": "IPY_MODEL_92ac1c115ac94e8f9bf01c1c5f1a8b96"
      }
     },
     "47451133c4394999a4a5268eaf06ec93": {
      "model_module": "@jupyter-widgets/base",
      "model_module_version": "1.2.0",
      "model_name": "LayoutModel",
      "state": {}
     },
     "499ed75cab2549fa9761d6378368b491": {
      "model_module": "@jupyter-widgets/controls",
      "model_module_version": "1.5.0",
      "model_name": "ButtonStyleModel",
      "state": {}
     },
     "4ae0b1d9e85a4d2385d373efd5036ad5": {
      "model_module": "@jupyter-widgets/base",
      "model_module_version": "1.2.0",
      "model_name": "LayoutModel",
      "state": {}
     },
     "4dbc8f8493124b968d050b345c1ec149": {
      "model_module": "@jupyter-widgets/base",
      "model_module_version": "1.2.0",
      "model_name": "LayoutModel",
      "state": {}
     },
     "4f29cfc6432c4fd48e97ab9a9a689735": {
      "model_module": "@jupyter-widgets/base",
      "model_module_version": "1.2.0",
      "model_name": "LayoutModel",
      "state": {}
     },
     "55c7e44d8b3e4982817110178ddfc9e5": {
      "model_module": "@jupyter-widgets/controls",
      "model_module_version": "1.5.0",
      "model_name": "HBoxModel",
      "state": {
       "children": [
        "IPY_MODEL_b861d47828bf4811b95659da09231041",
        "IPY_MODEL_d8e88cf941bc4ba9a5d80606946b6e09",
        "IPY_MODEL_bc4c7ba6bffa4a9295c7625e3e8a42f1"
       ],
       "layout": "IPY_MODEL_e5a2f1c4e6154aa0967302c71e0139f7"
      }
     },
     "57a978349a13468495425eaa4248198b": {
      "model_module": "@jupyter-widgets/output",
      "model_module_version": "1.0.0",
      "model_name": "OutputModel",
      "state": {
       "layout": "IPY_MODEL_0c60ad3d30e5429f9223ce975ea822f0",
       "outputs": [
        {
         "data": {
          "image/png": "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\n",
          "text/plain": "<Figure size 540x360 with 1 Axes>"
         },
         "metadata": {},
         "output_type": "display_data"
        }
       ]
      }
     },
     "5b0e005697ba4d709960e896498ae153": {
      "model_module": "@jupyter-widgets/base",
      "model_module_version": "1.2.0",
      "model_name": "LayoutModel",
      "state": {
       "border": "1px solid black"
      }
     },
     "5d47cd021cbc429592ed80d6566577dc": {
      "model_module": "@jupyter-widgets/base",
      "model_module_version": "1.2.0",
      "model_name": "LayoutModel",
      "state": {}
     },
     "5e78b5e3d2144b8b9fbb5d294c2f49e6": {
      "model_module": "@jupyter-widgets/controls",
      "model_module_version": "1.5.0",
      "model_name": "DescriptionStyleModel",
      "state": {
       "description_width": ""
      }
     },
     "5f442917ffda40ef80b912d2fe807ee2": {
      "model_module": "@jupyter-widgets/base",
      "model_module_version": "1.2.0",
      "model_name": "LayoutModel",
      "state": {}
     },
     "61ae825ae2a84f438b65c7c6626cc6c1": {
      "model_module": "@jupyter-widgets/output",
      "model_module_version": "1.0.0",
      "model_name": "OutputModel",
      "state": {
       "layout": "IPY_MODEL_ea8eb8f1b9524accab4c785eec40fa4b",
       "outputs": [
        {
         "data": {
          "image/png": "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\n",
          "text/plain": "<Figure size 540x360 with 1 Axes>"
         },
         "metadata": {},
         "output_type": "display_data"
        }
       ]
      }
     },
     "65dbfb5338eb48ce9f0e8b7891cb381e": {
      "model_module": "@jupyter-widgets/controls",
      "model_module_version": "1.5.0",
      "model_name": "VBoxModel",
      "state": {
       "box_style": "info",
       "children": [
        "IPY_MODEL_3a4dd81e67454d9a9a8c51b9e44f1c84",
        "IPY_MODEL_6719c7862fa44f7395f6370a23b14877",
        "IPY_MODEL_39634bc7bb01416d8adb57b8d0a4d2cf",
        "IPY_MODEL_9936ecbb815c485ba29b312cd7794e22"
       ],
       "layout": "IPY_MODEL_5d47cd021cbc429592ed80d6566577dc"
      }
     },
     "66edaf410a0e4ccbb2230f843ad2761f": {
      "model_module": "@jupyter-widgets/controls",
      "model_module_version": "1.5.0",
      "model_name": "HBoxModel",
      "state": {
       "children": [
        "IPY_MODEL_65dbfb5338eb48ce9f0e8b7891cb381e",
        "IPY_MODEL_39634bc7bb01416d8adb57b8d0a4d2cf",
        "IPY_MODEL_faf8614969904a348a44bf6d7984ab94"
       ],
       "layout": "IPY_MODEL_688d5044d78b42939b1b6f896bcfa6a3"
      }
     },
     "6719c7862fa44f7395f6370a23b14877": {
      "model_module": "@jupyter-widgets/output",
      "model_module_version": "1.0.0",
      "model_name": "OutputModel",
      "state": {
       "layout": "IPY_MODEL_47451133c4394999a4a5268eaf06ec93",
       "outputs": [
        {
         "name": "stdout",
         "output_type": "stream",
         "text": "Description of Lead Origin\ncount                        9240\nunique                          5\ntop       Landing Page Submission\nfreq                         4886\nName: Lead Origin, dtype: object\n"
        }
       ]
      }
     },
     "671ac2edff92469aa77a39b1fef2c769": {
      "model_module": "@jupyter-widgets/output",
      "model_module_version": "1.0.0",
      "model_name": "OutputModel",
      "state": {
       "layout": "IPY_MODEL_c8a74e08312a45f2a6d62a78143764b5",
       "outputs": [
        {
         "name": "stdout",
         "output_type": "stream",
         "text": "The origin identifier with which the customer was identified to be a lead. Includes API, Landing Page Submission, etc.\n"
        }
       ]
      }
     },
     "688d5044d78b42939b1b6f896bcfa6a3": {
      "model_module": "@jupyter-widgets/base",
      "model_module_version": "1.2.0",
      "model_name": "LayoutModel",
      "state": {}
     },
     "6aa4634754e5473fb5bab1f581f0c42b": {
      "model_module": "@jupyter-widgets/base",
      "model_module_version": "1.2.0",
      "model_name": "LayoutModel",
      "state": {}
     },
     "6bee6b787e974e5da139f8ed7afeeb6c": {
      "model_module": "@jupyter-widgets/output",
      "model_module_version": "1.0.0",
      "model_name": "OutputModel",
      "state": {
       "layout": "IPY_MODEL_8b2fc3cb305a423696341229d5666734",
       "outputs": [
        {
         "name": "stdout",
         "output_type": "stream",
         "text": "Description of Lead Origin\ncount                        9240\nunique                          5\ntop       Landing Page Submission\nfreq                         4886\nName: Lead Origin, dtype: object\n"
        }
       ]
      }
     },
     "6c6a19231d5a41d19da801ff5eb2b121": {
      "model_module": "@jupyter-widgets/controls",
      "model_module_version": "1.5.0",
      "model_name": "VBoxModel",
      "state": {
       "children": [
        "IPY_MODEL_76606bde7fc344b7974a5a8167bbfb5e",
        "IPY_MODEL_df16bbce699044fb964bb777af65134d",
        "IPY_MODEL_61ae825ae2a84f438b65c7c6626cc6c1",
        "IPY_MODEL_df16bbce699044fb964bb777af65134d",
        "IPY_MODEL_f7b8ea9eab18443c8055e5f863611555",
        "IPY_MODEL_b650b08fc8b04046897a7a7e3ba34213"
       ],
       "layout": "IPY_MODEL_210d3fd5f259435ca3f5a000c79cadb2"
      }
     },
     "6e4080c85e3045d5b7a34042990aa7cf": {
      "model_module": "@jupyter-widgets/base",
      "model_module_version": "1.2.0",
      "model_name": "LayoutModel",
      "state": {}
     },
     "72ee2c5d57d6471ba4f7243657678718": {
      "model_module": "@jupyter-widgets/base",
      "model_module_version": "1.2.0",
      "model_name": "LayoutModel",
      "state": {}
     },
     "76606bde7fc344b7974a5a8167bbfb5e": {
      "model_module": "@jupyter-widgets/output",
      "model_module_version": "1.0.0",
      "model_name": "OutputModel",
      "state": {
       "layout": "IPY_MODEL_22ada50ac1784449b18b532ff14014c7",
       "outputs": [
        {
         "name": "stdout",
         "output_type": "stream",
         "text": "The origin identifier with which the customer was identified to be a lead. Includes API, Landing Page Submission, etc.\n"
        }
       ]
      }
     },
     "780340f2bfc0447bb6157a5af0b50e38": {
      "model_module": "@jupyter-widgets/base",
      "model_module_version": "1.2.0",
      "model_name": "LayoutModel",
      "state": {}
     },
     "7ed1d63c738e4a60b0f23e620109689a": {
      "model_module": "@jupyter-widgets/base",
      "model_module_version": "1.2.0",
      "model_name": "LayoutModel",
      "state": {}
     },
     "819eca1cb0b74e5ba10c2a93d883d178": {
      "model_module": "@jupyter-widgets/base",
      "model_module_version": "1.2.0",
      "model_name": "LayoutModel",
      "state": {}
     },
     "82cf2187601e43bfaa22d846ae5a8185": {
      "model_module": "@jupyter-widgets/controls",
      "model_module_version": "1.5.0",
      "model_name": "VBoxModel",
      "state": {
       "box_style": "info",
       "children": [
        "IPY_MODEL_9e03289ac9ad438fadf135b2c84c6694",
        "IPY_MODEL_a52715e67aa84b7aa69b23e324e406db",
        "IPY_MODEL_df16bbce699044fb964bb777af65134d",
        "IPY_MODEL_fa701635cfc349f4a69c0a6ecbd57be9"
       ],
       "layout": "IPY_MODEL_b50b723271494713b4564509365a4085"
      }
     },
     "82dad8de785a40f7ba88f02cf574645b": {
      "model_module": "@jupyter-widgets/base",
      "model_module_version": "1.2.0",
      "model_name": "LayoutModel",
      "state": {}
     },
     "894b0252b94e4612a46100026dccb272": {
      "model_module": "@jupyter-widgets/controls",
      "model_module_version": "1.5.0",
      "model_name": "VBoxModel",
      "state": {
       "children": [
        "IPY_MODEL_671ac2edff92469aa77a39b1fef2c769",
        "IPY_MODEL_3106ff5ed4d3402a8055325d1a4473e0",
        "IPY_MODEL_a1dfbf07b983493c9fb001e4a738d17b",
        "IPY_MODEL_3106ff5ed4d3402a8055325d1a4473e0",
        "IPY_MODEL_3f356bdae4364395ad3cffeece541ad0",
        "IPY_MODEL_cbe6750409974fb3a98fff3a9b532b0e"
       ],
       "layout": "IPY_MODEL_18d6384df03f46a8b94dd18a468c7465"
      }
     },
     "8acf9de0a3894c328b4fa20126c59fee": {
      "model_module": "@jupyter-widgets/base",
      "model_module_version": "1.2.0",
      "model_name": "LayoutModel",
      "state": {}
     },
     "8b2fc3cb305a423696341229d5666734": {
      "model_module": "@jupyter-widgets/base",
      "model_module_version": "1.2.0",
      "model_name": "LayoutModel",
      "state": {}
     },
     "8ba0e0e2d7934f1896abe030f132206a": {
      "model_module": "@jupyter-widgets/output",
      "model_module_version": "1.0.0",
      "model_name": "OutputModel",
      "state": {
       "layout": "IPY_MODEL_6aa4634754e5473fb5bab1f581f0c42b",
       "outputs": [
        {
         "name": "stdout",
         "output_type": "stream",
         "text": "The origin identifier with which the customer was identified to be a lead. Includes API, Landing Page Submission, etc.\n"
        }
       ]
      }
     },
     "8cc54d6d355946b997cadc0b16802d78": {
      "model_module": "@jupyter-widgets/base",
      "model_module_version": "1.2.0",
      "model_name": "LayoutModel",
      "state": {}
     },
     "8de43d5ccc0d43a9825efc99f2cddec8": {
      "model_module": "@jupyter-widgets/base",
      "model_module_version": "1.2.0",
      "model_name": "LayoutModel",
      "state": {}
     },
     "8fd5e706f07f4f0cbadb03482496c7ed": {
      "model_module": "@jupyter-widgets/base",
      "model_module_version": "1.2.0",
      "model_name": "LayoutModel",
      "state": {}
     },
     "92ac1c115ac94e8f9bf01c1c5f1a8b96": {
      "model_module": "@jupyter-widgets/controls",
      "model_module_version": "1.5.0",
      "model_name": "ButtonStyleModel",
      "state": {}
     },
     "971d07e6381d4fc7b02d301b296cfbfb": {
      "model_module": "@jupyter-widgets/controls",
      "model_module_version": "1.5.0",
      "model_name": "DescriptionStyleModel",
      "state": {
       "description_width": ""
      }
     },
     "980366550b974e7dbb304a88abf84824": {
      "model_module": "@jupyter-widgets/output",
      "model_module_version": "1.0.0",
      "model_name": "OutputModel",
      "state": {
       "layout": "IPY_MODEL_3ed9c71fbbef49e79e56e40d6ccb0d05",
       "outputs": [
        {
         "data": {
          "text/html": "<div>\n<style scoped>\n    .dataframe tbody tr th:only-of-type {\n        vertical-align: middle;\n    }\n\n    .dataframe tbody tr th {\n        vertical-align: top;\n    }\n\n    .dataframe thead tr th {\n        text-align: left;\n    }\n</style>\n<table border=\"1\" class=\"dataframe\">\n  <thead>\n    <tr>\n      <th></th>\n      <th colspan=\"2\" halign=\"left\">Lead Origin</th>\n    </tr>\n    <tr>\n      <th></th>\n      <th>Counts</th>\n      <th>Normalised</th>\n    </tr>\n  </thead>\n  <tbody>\n    <tr>\n      <th>NaNs</th>\n      <td>0</td>\n      <td>0.000000</td>\n    </tr>\n    <tr>\n      <th>Landing Page Submission</th>\n      <td>4886</td>\n      <td>0.528788</td>\n    </tr>\n    <tr>\n      <th>API</th>\n      <td>3580</td>\n      <td>0.387446</td>\n    </tr>\n    <tr>\n      <th>Lead Add Form</th>\n      <td>718</td>\n      <td>0.077706</td>\n    </tr>\n    <tr>\n      <th>Lead Import</th>\n      <td>55</td>\n      <td>0.005952</td>\n    </tr>\n    <tr>\n      <th>Quick Add Form</th>\n      <td>1</td>\n      <td>0.000108</td>\n    </tr>\n  </tbody>\n</table>\n</div>",
          "text/plain": "                        Lead Origin           \n                             Counts Normalised\nNaNs                              0   0.000000\nLanding Page Submission        4886   0.528788\nAPI                            3580   0.387446\nLead Add Form                   718   0.077706\nLead Import                      55   0.005952\nQuick Add Form                    1   0.000108"
         },
         "metadata": {},
         "output_type": "display_data"
        }
       ]
      }
     },
     "9936ecbb815c485ba29b312cd7794e22": {
      "model_module": "@jupyter-widgets/output",
      "model_module_version": "1.0.0",
      "model_name": "OutputModel",
      "state": {
       "layout": "IPY_MODEL_da2e4e1ab5b34eb5aeb40663e1caf062",
       "outputs": [
        {
         "data": {
          "text/html": "<div>\n<style scoped>\n    .dataframe tbody tr th:only-of-type {\n        vertical-align: middle;\n    }\n\n    .dataframe tbody tr th {\n        vertical-align: top;\n    }\n\n    .dataframe thead tr th {\n        text-align: left;\n    }\n</style>\n<table border=\"1\" class=\"dataframe\">\n  <thead>\n    <tr>\n      <th></th>\n      <th colspan=\"2\" halign=\"left\">Lead Origin</th>\n    </tr>\n    <tr>\n      <th></th>\n      <th>Counts</th>\n      <th>Normalised</th>\n    </tr>\n  </thead>\n  <tbody>\n    <tr>\n      <th>NaNs</th>\n      <td>0</td>\n      <td>0.000000</td>\n    </tr>\n    <tr>\n      <th>Landing Page Submission</th>\n      <td>4886</td>\n      <td>0.528788</td>\n    </tr>\n    <tr>\n      <th>API</th>\n      <td>3580</td>\n      <td>0.387446</td>\n    </tr>\n    <tr>\n      <th>Lead Add Form</th>\n      <td>718</td>\n      <td>0.077706</td>\n    </tr>\n    <tr>\n      <th>Lead Import</th>\n      <td>55</td>\n      <td>0.005952</td>\n    </tr>\n    <tr>\n      <th>Quick Add Form</th>\n      <td>1</td>\n      <td>0.000108</td>\n    </tr>\n  </tbody>\n</table>\n</div>",
          "text/plain": "                        Lead Origin           \n                             Counts Normalised\nNaNs                              0   0.000000\nLanding Page Submission        4886   0.528788\nAPI                            3580   0.387446\nLead Add Form                   718   0.077706\nLead Import                      55   0.005952\nQuick Add Form                    1   0.000108"
         },
         "metadata": {},
         "output_type": "display_data"
        }
       ]
      }
     },
     "9e03289ac9ad438fadf135b2c84c6694": {
      "model_module": "@jupyter-widgets/controls",
      "model_module_version": "1.5.0",
      "model_name": "DropdownModel",
      "state": {
       "_options_labels": [
        "Lead Origin",
        "Lead Source",
        "Do Not Email",
        "Do Not Call",
        "Converted",
        "TotalVisits",
        "Total Time Spent on Website",
        "Page Views Per Visit",
        "Last Activity",
        "Country",
        "Specialization",
        "How did you hear about X Education",
        "What is your current occupation",
        "What matters most to you in choosing a course",
        "Search",
        "Magazine",
        "Newspaper Article",
        "X Education Forums",
        "Newspaper",
        "Digital Advertisement",
        "Through Recommendations",
        "Receive More Updates About Our Courses",
        "Tags",
        "Lead Quality",
        "Update me on Supply Chain Content",
        "Get updates on DM Content",
        "Lead Profile",
        "City",
        "Asymmetrique Activity Index",
        "Asymmetrique Profile Index",
        "Asymmetrique Activity Score",
        "Asymmetrique Profile Score",
        "I agree to pay the amount through cheque",
        "A free copy of Mastering The Interview",
        "Last Notable Activity"
       ],
       "description": "Column",
       "index": 0,
       "layout": "IPY_MODEL_819eca1cb0b74e5ba10c2a93d883d178",
       "style": "IPY_MODEL_5e78b5e3d2144b8b9fbb5d294c2f49e6"
      }
     },
     "a1dfbf07b983493c9fb001e4a738d17b": {
      "model_module": "@jupyter-widgets/output",
      "model_module_version": "1.0.0",
      "model_name": "OutputModel",
      "state": {
       "layout": "IPY_MODEL_2b034ecaf1954466a4e01d84c550a3e6",
       "outputs": [
        {
         "data": {
          "image/png": "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\n",
          "text/plain": "<Figure size 540x360 with 1 Axes>"
         },
         "metadata": {},
         "output_type": "display_data"
        }
       ]
      }
     },
     "a285b6130f13467d8ecf329c1ebc78e9": {
      "model_module": "@jupyter-widgets/controls",
      "model_module_version": "1.5.0",
      "model_name": "ButtonStyleModel",
      "state": {}
     },
     "a52715e67aa84b7aa69b23e324e406db": {
      "model_module": "@jupyter-widgets/output",
      "model_module_version": "1.0.0",
      "model_name": "OutputModel",
      "state": {
       "layout": "IPY_MODEL_d3c3268261d84209baaf776b052e8119",
       "outputs": [
        {
         "name": "stdout",
         "output_type": "stream",
         "text": "Description of Lead Origin\ncount                        9240\nunique                          5\ntop       Landing Page Submission\nfreq                         4886\nName: Lead Origin, dtype: object\n"
        }
       ]
      }
     },
     "a96d8dab22a74e2da34387fe86537d11": {
      "model_module": "@jupyter-widgets/base",
      "model_module_version": "1.2.0",
      "model_name": "LayoutModel",
      "state": {
       "border": "1px solid black"
      }
     },
     "ae430e067680477c99e218a523c5b823": {
      "model_module": "@jupyter-widgets/base",
      "model_module_version": "1.2.0",
      "model_name": "LayoutModel",
      "state": {}
     },
     "b06cb79270364a8ab3f9d978c3a8ead1": {
      "model_module": "@jupyter-widgets/base",
      "model_module_version": "1.2.0",
      "model_name": "LayoutModel",
      "state": {}
     },
     "b50b723271494713b4564509365a4085": {
      "model_module": "@jupyter-widgets/base",
      "model_module_version": "1.2.0",
      "model_name": "LayoutModel",
      "state": {}
     },
     "b52b98a7fc7946cab3444fa3f531bd1d": {
      "model_module": "@jupyter-widgets/output",
      "model_module_version": "1.0.0",
      "model_name": "OutputModel",
      "state": {
       "layout": "IPY_MODEL_e4398bb83aa9490cbc5a6b38b1b7db6e",
       "outputs": [
        {
         "data": {
          "text/html": "<div>\n<style scoped>\n    .dataframe tbody tr th:only-of-type {\n        vertical-align: middle;\n    }\n\n    .dataframe tbody tr th {\n        vertical-align: top;\n    }\n\n    .dataframe thead tr th {\n        text-align: left;\n    }\n</style>\n<table border=\"1\" class=\"dataframe\">\n  <thead>\n    <tr>\n      <th></th>\n      <th colspan=\"2\" halign=\"left\">Lead Origin</th>\n    </tr>\n    <tr>\n      <th></th>\n      <th>Counts</th>\n      <th>Normalised</th>\n    </tr>\n  </thead>\n  <tbody>\n    <tr>\n      <th>NaNs</th>\n      <td>0</td>\n      <td>0.000000</td>\n    </tr>\n    <tr>\n      <th>Landing Page Submission</th>\n      <td>4886</td>\n      <td>0.528788</td>\n    </tr>\n    <tr>\n      <th>API</th>\n      <td>3580</td>\n      <td>0.387446</td>\n    </tr>\n    <tr>\n      <th>Lead Add Form</th>\n      <td>718</td>\n      <td>0.077706</td>\n    </tr>\n    <tr>\n      <th>Lead Import</th>\n      <td>55</td>\n      <td>0.005952</td>\n    </tr>\n    <tr>\n      <th>Quick Add Form</th>\n      <td>1</td>\n      <td>0.000108</td>\n    </tr>\n  </tbody>\n</table>\n</div>",
          "text/plain": "                        Lead Origin           \n                             Counts Normalised\nNaNs                              0   0.000000\nLanding Page Submission        4886   0.528788\nAPI                            3580   0.387446\nLead Add Form                   718   0.077706\nLead Import                      55   0.005952\nQuick Add Form                    1   0.000108"
         },
         "metadata": {},
         "output_type": "display_data"
        }
       ]
      }
     },
     "b650b08fc8b04046897a7a7e3ba34213": {
      "model_module": "@jupyter-widgets/output",
      "model_module_version": "1.0.0",
      "model_name": "OutputModel",
      "state": {
       "layout": "IPY_MODEL_780340f2bfc0447bb6157a5af0b50e38"
      }
     },
     "b861d47828bf4811b95659da09231041": {
      "model_module": "@jupyter-widgets/controls",
      "model_module_version": "1.5.0",
      "model_name": "VBoxModel",
      "state": {
       "box_style": "info",
       "children": [
        "IPY_MODEL_230200776fc940e1a90001ba83c08965",
        "IPY_MODEL_25f602fa41674199af0e10eb9a8958a2",
        "IPY_MODEL_d8e88cf941bc4ba9a5d80606946b6e09",
        "IPY_MODEL_980366550b974e7dbb304a88abf84824"
       ],
       "layout": "IPY_MODEL_c75d8d253e674d0a9bb596f3f7362d3f"
      }
     },
     "bc4c7ba6bffa4a9295c7625e3e8a42f1": {
      "model_module": "@jupyter-widgets/controls",
      "model_module_version": "1.5.0",
      "model_name": "VBoxModel",
      "state": {
       "children": [
        "IPY_MODEL_8ba0e0e2d7934f1896abe030f132206a",
        "IPY_MODEL_d8e88cf941bc4ba9a5d80606946b6e09",
        "IPY_MODEL_57a978349a13468495425eaa4248198b",
        "IPY_MODEL_d8e88cf941bc4ba9a5d80606946b6e09",
        "IPY_MODEL_43bf48cc7fac48199030b29b69c50d7c",
        "IPY_MODEL_37690847cdca430fa50029b320cd7bde"
       ],
       "layout": "IPY_MODEL_72ee2c5d57d6471ba4f7243657678718"
      }
     },
     "bd51f86d3ec2493b810de95f07ab4985": {
      "model_module": "@jupyter-widgets/base",
      "model_module_version": "1.2.0",
      "model_name": "LayoutModel",
      "state": {}
     },
     "bf11540efdcd4432896ba8343b9d3841": {
      "model_module": "@jupyter-widgets/output",
      "model_module_version": "1.0.0",
      "model_name": "OutputModel",
      "state": {
       "layout": "IPY_MODEL_4dbc8f8493124b968d050b345c1ec149",
       "outputs": [
        {
         "data": {
          "image/png": "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\n",
          "text/plain": "<Figure size 540x360 with 1 Axes>"
         },
         "metadata": {},
         "output_type": "display_data"
        }
       ]
      }
     },
     "c75d8d253e674d0a9bb596f3f7362d3f": {
      "model_module": "@jupyter-widgets/base",
      "model_module_version": "1.2.0",
      "model_name": "LayoutModel",
      "state": {}
     },
     "c7629b78fecc4a62acac894a36945c7e": {
      "model_module": "@jupyter-widgets/base",
      "model_module_version": "1.2.0",
      "model_name": "LayoutModel",
      "state": {
       "border": "1px solid black"
      }
     },
     "c8a74e08312a45f2a6d62a78143764b5": {
      "model_module": "@jupyter-widgets/base",
      "model_module_version": "1.2.0",
      "model_name": "LayoutModel",
      "state": {}
     },
     "c99bcb32e6c74feeafd8353202c7fc5b": {
      "model_module": "@jupyter-widgets/base",
      "model_module_version": "1.2.0",
      "model_name": "LayoutModel",
      "state": {}
     },
     "cb7f77e5c66b4c86b0e93b4f622872a9": {
      "model_module": "@jupyter-widgets/controls",
      "model_module_version": "1.5.0",
      "model_name": "ButtonModel",
      "state": {
       "description": "View Distribution",
       "layout": "IPY_MODEL_8fd5e706f07f4f0cbadb03482496c7ed",
       "style": "IPY_MODEL_499ed75cab2549fa9761d6378368b491"
      }
     },
     "cbe6750409974fb3a98fff3a9b532b0e": {
      "model_module": "@jupyter-widgets/output",
      "model_module_version": "1.0.0",
      "model_name": "OutputModel",
      "state": {
       "layout": "IPY_MODEL_8acf9de0a3894c328b4fa20126c59fee"
      }
     },
     "d3c3268261d84209baaf776b052e8119": {
      "model_module": "@jupyter-widgets/base",
      "model_module_version": "1.2.0",
      "model_name": "LayoutModel",
      "state": {}
     },
     "d83f1be5e1274e209601161b4ba71486": {
      "model_module": "@jupyter-widgets/controls",
      "model_module_version": "1.5.0",
      "model_name": "VBoxModel",
      "state": {
       "box_style": "info",
       "children": [
        "IPY_MODEL_1104ea60125f416c858b2db788be1d7b",
        "IPY_MODEL_6bee6b787e974e5da139f8ed7afeeb6c",
        "IPY_MODEL_3106ff5ed4d3402a8055325d1a4473e0",
        "IPY_MODEL_b52b98a7fc7946cab3444fa3f531bd1d"
       ],
       "layout": "IPY_MODEL_b06cb79270364a8ab3f9d978c3a8ead1"
      }
     },
     "d8e88cf941bc4ba9a5d80606946b6e09": {
      "model_module": "@jupyter-widgets/output",
      "model_module_version": "1.0.0",
      "model_name": "OutputModel",
      "state": {
       "layout": "IPY_MODEL_371478cbd2f64978a36808c4a356494c"
      }
     },
     "da2e4e1ab5b34eb5aeb40663e1caf062": {
      "model_module": "@jupyter-widgets/base",
      "model_module_version": "1.2.0",
      "model_name": "LayoutModel",
      "state": {}
     },
     "df16bbce699044fb964bb777af65134d": {
      "model_module": "@jupyter-widgets/output",
      "model_module_version": "1.0.0",
      "model_name": "OutputModel",
      "state": {
       "layout": "IPY_MODEL_c7629b78fecc4a62acac894a36945c7e"
      }
     },
     "e1b524def13649e2875e3d5b39cc7e94": {
      "model_module": "@jupyter-widgets/controls",
      "model_module_version": "1.5.0",
      "model_name": "HBoxModel",
      "state": {
       "children": [
        "IPY_MODEL_d83f1be5e1274e209601161b4ba71486",
        "IPY_MODEL_3106ff5ed4d3402a8055325d1a4473e0",
        "IPY_MODEL_894b0252b94e4612a46100026dccb272"
       ],
       "layout": "IPY_MODEL_8cc54d6d355946b997cadc0b16802d78"
      }
     },
     "e4398bb83aa9490cbc5a6b38b1b7db6e": {
      "model_module": "@jupyter-widgets/base",
      "model_module_version": "1.2.0",
      "model_name": "LayoutModel",
      "state": {}
     },
     "e5a2f1c4e6154aa0967302c71e0139f7": {
      "model_module": "@jupyter-widgets/base",
      "model_module_version": "1.2.0",
      "model_name": "LayoutModel",
      "state": {}
     },
     "ea8eb8f1b9524accab4c785eec40fa4b": {
      "model_module": "@jupyter-widgets/base",
      "model_module_version": "1.2.0",
      "model_name": "LayoutModel",
      "state": {}
     },
     "f5d9be39f7e1430d936d798e4d1ec492": {
      "model_module": "@jupyter-widgets/base",
      "model_module_version": "1.2.0",
      "model_name": "LayoutModel",
      "state": {}
     },
     "f7b8ea9eab18443c8055e5f863611555": {
      "model_module": "@jupyter-widgets/controls",
      "model_module_version": "1.5.0",
      "model_name": "ButtonModel",
      "state": {
       "description": "View Distribution",
       "layout": "IPY_MODEL_bd51f86d3ec2493b810de95f07ab4985",
       "style": "IPY_MODEL_0836195c5d134797a711cd08720dc6ac"
      }
     },
     "fa701635cfc349f4a69c0a6ecbd57be9": {
      "model_module": "@jupyter-widgets/output",
      "model_module_version": "1.0.0",
      "model_name": "OutputModel",
      "state": {
       "layout": "IPY_MODEL_4ae0b1d9e85a4d2385d373efd5036ad5",
       "outputs": [
        {
         "data": {
          "text/html": "<div>\n<style scoped>\n    .dataframe tbody tr th:only-of-type {\n        vertical-align: middle;\n    }\n\n    .dataframe tbody tr th {\n        vertical-align: top;\n    }\n\n    .dataframe thead tr th {\n        text-align: left;\n    }\n</style>\n<table border=\"1\" class=\"dataframe\">\n  <thead>\n    <tr>\n      <th></th>\n      <th colspan=\"2\" halign=\"left\">Lead Origin</th>\n    </tr>\n    <tr>\n      <th></th>\n      <th>Counts</th>\n      <th>Normalised</th>\n    </tr>\n  </thead>\n  <tbody>\n    <tr>\n      <th>NaNs</th>\n      <td>0</td>\n      <td>0.000000</td>\n    </tr>\n    <tr>\n      <th>Landing Page Submission</th>\n      <td>4886</td>\n      <td>0.528788</td>\n    </tr>\n    <tr>\n      <th>API</th>\n      <td>3580</td>\n      <td>0.387446</td>\n    </tr>\n    <tr>\n      <th>Lead Add Form</th>\n      <td>718</td>\n      <td>0.077706</td>\n    </tr>\n    <tr>\n      <th>Lead Import</th>\n      <td>55</td>\n      <td>0.005952</td>\n    </tr>\n    <tr>\n      <th>Quick Add Form</th>\n      <td>1</td>\n      <td>0.000108</td>\n    </tr>\n  </tbody>\n</table>\n</div>",
          "text/plain": "                        Lead Origin           \n                             Counts Normalised\nNaNs                              0   0.000000\nLanding Page Submission        4886   0.528788\nAPI                            3580   0.387446\nLead Add Form                   718   0.077706\nLead Import                      55   0.005952\nQuick Add Form                    1   0.000108"
         },
         "metadata": {},
         "output_type": "display_data"
        }
       ]
      }
     },
     "faf8614969904a348a44bf6d7984ab94": {
      "model_module": "@jupyter-widgets/controls",
      "model_module_version": "1.5.0",
      "model_name": "VBoxModel",
      "state": {
       "children": [
        "IPY_MODEL_41654b37432b4bd4a6b2f01b1b0159f4",
        "IPY_MODEL_39634bc7bb01416d8adb57b8d0a4d2cf",
        "IPY_MODEL_bf11540efdcd4432896ba8343b9d3841",
        "IPY_MODEL_39634bc7bb01416d8adb57b8d0a4d2cf",
        "IPY_MODEL_cb7f77e5c66b4c86b0e93b4f622872a9",
        "IPY_MODEL_13a504ba3a3d408795a2e1212401901b"
       ],
       "layout": "IPY_MODEL_82dad8de785a40f7ba88f02cf574645b"
      }
     },
     "fef0f40454104db18d10c47b98271aec": {
      "model_module": "@jupyter-widgets/base",
      "model_module_version": "1.2.0",
      "model_name": "LayoutModel",
      "state": {}
     },
     "ffce2aaf873d48628b2a7a8031e8a284": {
      "model_module": "@jupyter-widgets/controls",
      "model_module_version": "1.5.0",
      "model_name": "DescriptionStyleModel",
      "state": {
       "description_width": ""
      }
     }
    },
    "version_major": 2,
    "version_minor": 0
   }
  }
 },
 "nbformat": 4,
 "nbformat_minor": 5
}
