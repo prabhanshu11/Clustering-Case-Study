{
 "cells": [
  {
   "cell_type": "markdown",
   "id": "another-atlas",
   "metadata": {
    "tags": []
   },
   "source": [
    "### Importing Libraries"
   ]
  },
  {
   "cell_type": "code",
   "execution_count": 1,
   "id": "prescription-allocation",
   "metadata": {},
   "outputs": [],
   "source": [
    "import pandas as pd\n",
    "import numpy as np\n",
    "pd.set_option('display.max_rows', 1000)\n",
    "pd.set_option('display.max_columns', 500)\n",
    "pd.set_option('display.max_colwidth', None) # default 50\n",
    "pd.options.mode.chained_assignment = None\n",
    "import matplotlib.pyplot as plt\n",
    "import seaborn as sns"
   ]
  },
  {
   "cell_type": "markdown",
   "id": "religious-shock",
   "metadata": {
    "tags": []
   },
   "source": [
    "# Reading data"
   ]
  },
  {
   "cell_type": "code",
   "execution_count": 6,
   "id": "primary-hearts",
   "metadata": {
    "tags": []
   },
   "outputs": [
    {
     "data": {
      "text/html": [
       "<div>\n",
       "<style scoped>\n",
       "    .dataframe tbody tr th:only-of-type {\n",
       "        vertical-align: middle;\n",
       "    }\n",
       "\n",
       "    .dataframe tbody tr th {\n",
       "        vertical-align: top;\n",
       "    }\n",
       "\n",
       "    .dataframe thead th {\n",
       "        text-align: right;\n",
       "    }\n",
       "</style>\n",
       "<table border=\"1\" class=\"dataframe\">\n",
       "  <thead>\n",
       "    <tr style=\"text-align: right;\">\n",
       "      <th></th>\n",
       "      <th>Description</th>\n",
       "    </tr>\n",
       "    <tr>\n",
       "      <th>Variables</th>\n",
       "      <th></th>\n",
       "    </tr>\n",
       "  </thead>\n",
       "  <tbody>\n",
       "    <tr>\n",
       "      <th>Prospect ID</th>\n",
       "      <td>A unique ID with which the customer is identified.</td>\n",
       "    </tr>\n",
       "    <tr>\n",
       "      <th>Lead Number</th>\n",
       "      <td>A lead number assigned to each lead procured.</td>\n",
       "    </tr>\n",
       "    <tr>\n",
       "      <th>Lead Origin</th>\n",
       "      <td>The origin identifier with which the customer was identified to be a lead. Includes API, Landing Page Submission, etc.</td>\n",
       "    </tr>\n",
       "    <tr>\n",
       "      <th>Lead Source</th>\n",
       "      <td>The source of the lead. Includes Google, Organic Search, Olark Chat, etc.</td>\n",
       "    </tr>\n",
       "    <tr>\n",
       "      <th>Do Not Email</th>\n",
       "      <td>An indicator variable selected by the customer wherein they select whether of not they want to be emailed about the course or not.</td>\n",
       "    </tr>\n",
       "    <tr>\n",
       "      <th>Do Not Call</th>\n",
       "      <td>An indicator variable selected by the customer wherein they select whether of not they want to be called about the course or not.</td>\n",
       "    </tr>\n",
       "    <tr>\n",
       "      <th>Converted</th>\n",
       "      <td>The target variable. Indicates whether a lead has been successfully converted or not.</td>\n",
       "    </tr>\n",
       "    <tr>\n",
       "      <th>TotalVisits</th>\n",
       "      <td>The total number of visits made by the customer on the website.</td>\n",
       "    </tr>\n",
       "    <tr>\n",
       "      <th>Total Time Spent on Website</th>\n",
       "      <td>The total time spent by the customer on the website.</td>\n",
       "    </tr>\n",
       "    <tr>\n",
       "      <th>Page Views Per Visit</th>\n",
       "      <td>Average number of pages on the website viewed during the visits.</td>\n",
       "    </tr>\n",
       "    <tr>\n",
       "      <th>Last Activity</th>\n",
       "      <td>Last activity performed by the customer. Includes Email Opened, Olark Chat Conversation, etc.</td>\n",
       "    </tr>\n",
       "    <tr>\n",
       "      <th>Country</th>\n",
       "      <td>The country of the customer.</td>\n",
       "    </tr>\n",
       "    <tr>\n",
       "      <th>Specialization</th>\n",
       "      <td>The industry domain in which the customer worked before. Includes the level 'Select Specialization' which means the customer had not selected this option while filling the form.</td>\n",
       "    </tr>\n",
       "    <tr>\n",
       "      <th>How did you hear about X Education</th>\n",
       "      <td>The source from which the customer heard about X Education.</td>\n",
       "    </tr>\n",
       "    <tr>\n",
       "      <th>What is your current occupation</th>\n",
       "      <td>Indicates whether the customer is a student, umemployed or employed.</td>\n",
       "    </tr>\n",
       "    <tr>\n",
       "      <th>What matters most to you in choosing this course</th>\n",
       "      <td>An option selected by the customer indicating what is their main motto behind doing this course.</td>\n",
       "    </tr>\n",
       "    <tr>\n",
       "      <th>Search</th>\n",
       "      <td>Indicating whether the customer had seen the ad in any of the listed items.</td>\n",
       "    </tr>\n",
       "    <tr>\n",
       "      <th>Magazine</th>\n",
       "      <td>Indicating whether the customer had seen the ad in any of the listed items.</td>\n",
       "    </tr>\n",
       "    <tr>\n",
       "      <th>Newspaper Article</th>\n",
       "      <td>Indicating whether the customer had seen the ad in any of the listed items.</td>\n",
       "    </tr>\n",
       "    <tr>\n",
       "      <th>X Education Forums</th>\n",
       "      <td>Indicating whether the customer had seen the ad in any of the listed items.</td>\n",
       "    </tr>\n",
       "    <tr>\n",
       "      <th>Newspaper</th>\n",
       "      <td>Indicating whether the customer had seen the ad in any of the listed items.</td>\n",
       "    </tr>\n",
       "    <tr>\n",
       "      <th>Digital Advertisement</th>\n",
       "      <td>Indicating whether the customer had seen the ad in any of the listed items.</td>\n",
       "    </tr>\n",
       "    <tr>\n",
       "      <th>Through Recommendations</th>\n",
       "      <td>Indicates whether the customer came in through recommendations.</td>\n",
       "    </tr>\n",
       "    <tr>\n",
       "      <th>Receive More Updates About Our Courses</th>\n",
       "      <td>Indicates whether the customer chose to receive more updates about the courses.</td>\n",
       "    </tr>\n",
       "    <tr>\n",
       "      <th>Tags</th>\n",
       "      <td>Tags assigned to customers indicating the current status of the lead.</td>\n",
       "    </tr>\n",
       "    <tr>\n",
       "      <th>Lead Quality</th>\n",
       "      <td>Indicates the quality of lead based on the data and intuition the the employee who has been assigned to the lead.</td>\n",
       "    </tr>\n",
       "    <tr>\n",
       "      <th>Update me on Supply Chain Content</th>\n",
       "      <td>Indicates whether the customer wants updates on the Supply Chain Content.</td>\n",
       "    </tr>\n",
       "    <tr>\n",
       "      <th>Get updates on DM Content</th>\n",
       "      <td>Indicates whether the customer wants updates on the DM Content.</td>\n",
       "    </tr>\n",
       "    <tr>\n",
       "      <th>Lead Profile</th>\n",
       "      <td>A lead level assigned to each customer based on their profile.</td>\n",
       "    </tr>\n",
       "    <tr>\n",
       "      <th>City</th>\n",
       "      <td>The city of the customer.</td>\n",
       "    </tr>\n",
       "    <tr>\n",
       "      <th>Asymmetrique Activity Index</th>\n",
       "      <td>An index and score assigned to each customer based on their activity and their profile</td>\n",
       "    </tr>\n",
       "    <tr>\n",
       "      <th>Asymmetrique Profile Index</th>\n",
       "      <td>An index and score assigned to each customer based on their activity and their profile</td>\n",
       "    </tr>\n",
       "    <tr>\n",
       "      <th>Asymmetrique Activity Score</th>\n",
       "      <td>An index and score assigned to each customer based on their activity and their profile</td>\n",
       "    </tr>\n",
       "    <tr>\n",
       "      <th>Asymmetrique Profile Score</th>\n",
       "      <td>An index and score assigned to each customer based on their activity and their profile</td>\n",
       "    </tr>\n",
       "    <tr>\n",
       "      <th>I agree to pay the amount through cheque</th>\n",
       "      <td>Indicates whether the customer has agreed to pay the amount through cheque or not.</td>\n",
       "    </tr>\n",
       "    <tr>\n",
       "      <th>a free copy of Mastering The Interview</th>\n",
       "      <td>Indicates whether the customer wants a free copy of 'Mastering the Interview' or not.</td>\n",
       "    </tr>\n",
       "    <tr>\n",
       "      <th>Last Notable Activity</th>\n",
       "      <td>The last notable acitivity performed by the student.</td>\n",
       "    </tr>\n",
       "  </tbody>\n",
       "</table>\n",
       "</div>"
      ],
      "text/plain": [
       "                                                                                                                                                                                                                        Description\n",
       "Variables                                                                                                                                                                                                                          \n",
       "Prospect ID                                                                                                                                                                      A unique ID with which the customer is identified.\n",
       "Lead Number                                                                                                                                                                           A lead number assigned to each lead procured.\n",
       "Lead Origin                                                                                                  The origin identifier with which the customer was identified to be a lead. Includes API, Landing Page Submission, etc.\n",
       "Lead Source                                                                                                                                               The source of the lead. Includes Google, Organic Search, Olark Chat, etc.\n",
       "Do Not Email                                                                                     An indicator variable selected by the customer wherein they select whether of not they want to be emailed about the course or not.\n",
       "Do Not Call                                                                                       An indicator variable selected by the customer wherein they select whether of not they want to be called about the course or not.\n",
       "Converted                                                                                                                                     The target variable. Indicates whether a lead has been successfully converted or not.\n",
       "TotalVisits                                                                                                                                                         The total number of visits made by the customer on the website.\n",
       "Total Time Spent on Website                                                                                                                                                    The total time spent by the customer on the website.\n",
       "Page Views Per Visit                                                                                                                                               Average number of pages on the website viewed during the visits.\n",
       "Last Activity                                                                                                                         Last activity performed by the customer. Includes Email Opened, Olark Chat Conversation, etc.\n",
       "Country                                                                                                                                                                                                The country of the customer.\n",
       "Specialization                                    The industry domain in which the customer worked before. Includes the level 'Select Specialization' which means the customer had not selected this option while filling the form.\n",
       "How did you hear about X Education                                                                                                                                      The source from which the customer heard about X Education.\n",
       "What is your current occupation                                                                                                                                Indicates whether the customer is a student, umemployed or employed.\n",
       "What matters most to you in choosing this course                                                                                   An option selected by the customer indicating what is their main motto behind doing this course.\n",
       "Search                                                                                                                                                  Indicating whether the customer had seen the ad in any of the listed items.\n",
       "Magazine                                                                                                                                                Indicating whether the customer had seen the ad in any of the listed items.\n",
       "Newspaper Article                                                                                                                                       Indicating whether the customer had seen the ad in any of the listed items.\n",
       "X Education Forums                                                                                                                                      Indicating whether the customer had seen the ad in any of the listed items.\n",
       "Newspaper                                                                                                                                               Indicating whether the customer had seen the ad in any of the listed items.\n",
       "Digital Advertisement                                                                                                                                   Indicating whether the customer had seen the ad in any of the listed items.\n",
       "Through Recommendations                                                                                                                                             Indicates whether the customer came in through recommendations.\n",
       "Receive More Updates About Our Courses                                                                                                              Indicates whether the customer chose to receive more updates about the courses.\n",
       "Tags                                                                                                                                                          Tags assigned to customers indicating the current status of the lead.\n",
       "Lead Quality                                                                                                      Indicates the quality of lead based on the data and intuition the the employee who has been assigned to the lead.\n",
       "Update me on Supply Chain Content                                                                                                                         Indicates whether the customer wants updates on the Supply Chain Content.\n",
       "Get updates on DM Content                                                                                                                                           Indicates whether the customer wants updates on the DM Content.\n",
       "Lead Profile                                                                                                                                                         A lead level assigned to each customer based on their profile.\n",
       "City                                                                                                                                                                                                      The city of the customer.\n",
       "Asymmetrique Activity Index                                                                                                                  An index and score assigned to each customer based on their activity and their profile\n",
       "Asymmetrique Profile Index                                                                                                                   An index and score assigned to each customer based on their activity and their profile\n",
       "Asymmetrique Activity Score                                                                                                                  An index and score assigned to each customer based on their activity and their profile\n",
       "Asymmetrique Profile Score                                                                                                                   An index and score assigned to each customer based on their activity and their profile\n",
       "I agree to pay the amount through cheque                                                                                                         Indicates whether the customer has agreed to pay the amount through cheque or not.\n",
       "a free copy of Mastering The Interview                                                                                                        Indicates whether the customer wants a free copy of 'Mastering the Interview' or not.\n",
       "Last Notable Activity                                                                                                                                                          The last notable acitivity performed by the student."
      ]
     },
     "execution_count": 6,
     "metadata": {},
     "output_type": "execute_result"
    }
   ],
   "source": [
    "data_dict = pd.read_excel('Leads Data Dictionary.xlsx', header=2)\n",
    "data_dict = data_dict.iloc[:,1:]\n",
    "data_dict = data_dict.set_index('Variables')\n",
    "data_dict = data_dict.fillna(method='ffill')\n",
    "data_dict"
   ]
  },
  {
   "cell_type": "code",
   "execution_count": 20,
   "id": "labeled-duplicate",
   "metadata": {},
   "outputs": [
    {
     "data": {
      "text/html": [
       "<div>\n",
       "<style scoped>\n",
       "    .dataframe tbody tr th:only-of-type {\n",
       "        vertical-align: middle;\n",
       "    }\n",
       "\n",
       "    .dataframe tbody tr th {\n",
       "        vertical-align: top;\n",
       "    }\n",
       "\n",
       "    .dataframe thead th {\n",
       "        text-align: right;\n",
       "    }\n",
       "</style>\n",
       "<table border=\"1\" class=\"dataframe\">\n",
       "  <thead>\n",
       "    <tr style=\"text-align: right;\">\n",
       "      <th></th>\n",
       "      <th>Prospect ID</th>\n",
       "      <th>Lead Number</th>\n",
       "      <th>Lead Origin</th>\n",
       "      <th>Lead Source</th>\n",
       "      <th>Do Not Email</th>\n",
       "      <th>Do Not Call</th>\n",
       "      <th>Converted</th>\n",
       "      <th>TotalVisits</th>\n",
       "      <th>Total Time Spent on Website</th>\n",
       "      <th>Page Views Per Visit</th>\n",
       "      <th>Last Activity</th>\n",
       "      <th>Country</th>\n",
       "      <th>Specialization</th>\n",
       "      <th>How did you hear about X Education</th>\n",
       "      <th>What is your current occupation</th>\n",
       "      <th>What matters most to you in choosing a course</th>\n",
       "      <th>Search</th>\n",
       "      <th>Magazine</th>\n",
       "      <th>Newspaper Article</th>\n",
       "      <th>X Education Forums</th>\n",
       "      <th>Newspaper</th>\n",
       "      <th>Digital Advertisement</th>\n",
       "      <th>Through Recommendations</th>\n",
       "      <th>Receive More Updates About Our Courses</th>\n",
       "      <th>Tags</th>\n",
       "      <th>Lead Quality</th>\n",
       "      <th>Update me on Supply Chain Content</th>\n",
       "      <th>Get updates on DM Content</th>\n",
       "      <th>Lead Profile</th>\n",
       "      <th>City</th>\n",
       "      <th>Asymmetrique Activity Index</th>\n",
       "      <th>Asymmetrique Profile Index</th>\n",
       "      <th>Asymmetrique Activity Score</th>\n",
       "      <th>Asymmetrique Profile Score</th>\n",
       "      <th>I agree to pay the amount through cheque</th>\n",
       "      <th>A free copy of Mastering The Interview</th>\n",
       "      <th>Last Notable Activity</th>\n",
       "    </tr>\n",
       "  </thead>\n",
       "  <tbody>\n",
       "    <tr>\n",
       "      <th>0</th>\n",
       "      <td>7927b2df-8bba-4d29-b9a2-b6e0beafe620</td>\n",
       "      <td>660737</td>\n",
       "      <td>API</td>\n",
       "      <td>Olark Chat</td>\n",
       "      <td>No</td>\n",
       "      <td>No</td>\n",
       "      <td>0</td>\n",
       "      <td>0.0</td>\n",
       "      <td>0</td>\n",
       "      <td>0.0</td>\n",
       "      <td>Page Visited on Website</td>\n",
       "      <td>NaN</td>\n",
       "      <td>Select</td>\n",
       "      <td>Select</td>\n",
       "      <td>Unemployed</td>\n",
       "      <td>Better Career Prospects</td>\n",
       "      <td>No</td>\n",
       "      <td>No</td>\n",
       "      <td>No</td>\n",
       "      <td>No</td>\n",
       "      <td>No</td>\n",
       "      <td>No</td>\n",
       "      <td>No</td>\n",
       "      <td>No</td>\n",
       "      <td>Interested in other courses</td>\n",
       "      <td>Low in Relevance</td>\n",
       "      <td>No</td>\n",
       "      <td>No</td>\n",
       "      <td>Select</td>\n",
       "      <td>Select</td>\n",
       "      <td>02.Medium</td>\n",
       "      <td>02.Medium</td>\n",
       "      <td>15.0</td>\n",
       "      <td>15.0</td>\n",
       "      <td>No</td>\n",
       "      <td>No</td>\n",
       "      <td>Modified</td>\n",
       "    </tr>\n",
       "    <tr>\n",
       "      <th>1</th>\n",
       "      <td>2a272436-5132-4136-86fa-dcc88c88f482</td>\n",
       "      <td>660728</td>\n",
       "      <td>API</td>\n",
       "      <td>Organic Search</td>\n",
       "      <td>No</td>\n",
       "      <td>No</td>\n",
       "      <td>0</td>\n",
       "      <td>5.0</td>\n",
       "      <td>674</td>\n",
       "      <td>2.5</td>\n",
       "      <td>Email Opened</td>\n",
       "      <td>India</td>\n",
       "      <td>Select</td>\n",
       "      <td>Select</td>\n",
       "      <td>Unemployed</td>\n",
       "      <td>Better Career Prospects</td>\n",
       "      <td>No</td>\n",
       "      <td>No</td>\n",
       "      <td>No</td>\n",
       "      <td>No</td>\n",
       "      <td>No</td>\n",
       "      <td>No</td>\n",
       "      <td>No</td>\n",
       "      <td>No</td>\n",
       "      <td>Ringing</td>\n",
       "      <td>NaN</td>\n",
       "      <td>No</td>\n",
       "      <td>No</td>\n",
       "      <td>Select</td>\n",
       "      <td>Select</td>\n",
       "      <td>02.Medium</td>\n",
       "      <td>02.Medium</td>\n",
       "      <td>15.0</td>\n",
       "      <td>15.0</td>\n",
       "      <td>No</td>\n",
       "      <td>No</td>\n",
       "      <td>Email Opened</td>\n",
       "    </tr>\n",
       "    <tr>\n",
       "      <th>2</th>\n",
       "      <td>8cc8c611-a219-4f35-ad23-fdfd2656bd8a</td>\n",
       "      <td>660727</td>\n",
       "      <td>Landing Page Submission</td>\n",
       "      <td>Direct Traffic</td>\n",
       "      <td>No</td>\n",
       "      <td>No</td>\n",
       "      <td>1</td>\n",
       "      <td>2.0</td>\n",
       "      <td>1532</td>\n",
       "      <td>2.0</td>\n",
       "      <td>Email Opened</td>\n",
       "      <td>India</td>\n",
       "      <td>Business Administration</td>\n",
       "      <td>Select</td>\n",
       "      <td>Student</td>\n",
       "      <td>Better Career Prospects</td>\n",
       "      <td>No</td>\n",
       "      <td>No</td>\n",
       "      <td>No</td>\n",
       "      <td>No</td>\n",
       "      <td>No</td>\n",
       "      <td>No</td>\n",
       "      <td>No</td>\n",
       "      <td>No</td>\n",
       "      <td>Will revert after reading the email</td>\n",
       "      <td>Might be</td>\n",
       "      <td>No</td>\n",
       "      <td>No</td>\n",
       "      <td>Potential Lead</td>\n",
       "      <td>Mumbai</td>\n",
       "      <td>02.Medium</td>\n",
       "      <td>01.High</td>\n",
       "      <td>14.0</td>\n",
       "      <td>20.0</td>\n",
       "      <td>No</td>\n",
       "      <td>Yes</td>\n",
       "      <td>Email Opened</td>\n",
       "    </tr>\n",
       "    <tr>\n",
       "      <th>3</th>\n",
       "      <td>0cc2df48-7cf4-4e39-9de9-19797f9b38cc</td>\n",
       "      <td>660719</td>\n",
       "      <td>Landing Page Submission</td>\n",
       "      <td>Direct Traffic</td>\n",
       "      <td>No</td>\n",
       "      <td>No</td>\n",
       "      <td>0</td>\n",
       "      <td>1.0</td>\n",
       "      <td>305</td>\n",
       "      <td>1.0</td>\n",
       "      <td>Unreachable</td>\n",
       "      <td>India</td>\n",
       "      <td>Media and Advertising</td>\n",
       "      <td>Word Of Mouth</td>\n",
       "      <td>Unemployed</td>\n",
       "      <td>Better Career Prospects</td>\n",
       "      <td>No</td>\n",
       "      <td>No</td>\n",
       "      <td>No</td>\n",
       "      <td>No</td>\n",
       "      <td>No</td>\n",
       "      <td>No</td>\n",
       "      <td>No</td>\n",
       "      <td>No</td>\n",
       "      <td>Ringing</td>\n",
       "      <td>Not Sure</td>\n",
       "      <td>No</td>\n",
       "      <td>No</td>\n",
       "      <td>Select</td>\n",
       "      <td>Mumbai</td>\n",
       "      <td>02.Medium</td>\n",
       "      <td>01.High</td>\n",
       "      <td>13.0</td>\n",
       "      <td>17.0</td>\n",
       "      <td>No</td>\n",
       "      <td>No</td>\n",
       "      <td>Modified</td>\n",
       "    </tr>\n",
       "    <tr>\n",
       "      <th>4</th>\n",
       "      <td>3256f628-e534-4826-9d63-4a8b88782852</td>\n",
       "      <td>660681</td>\n",
       "      <td>Landing Page Submission</td>\n",
       "      <td>Google</td>\n",
       "      <td>No</td>\n",
       "      <td>No</td>\n",
       "      <td>1</td>\n",
       "      <td>2.0</td>\n",
       "      <td>1428</td>\n",
       "      <td>1.0</td>\n",
       "      <td>Converted to Lead</td>\n",
       "      <td>India</td>\n",
       "      <td>Select</td>\n",
       "      <td>Other</td>\n",
       "      <td>Unemployed</td>\n",
       "      <td>Better Career Prospects</td>\n",
       "      <td>No</td>\n",
       "      <td>No</td>\n",
       "      <td>No</td>\n",
       "      <td>No</td>\n",
       "      <td>No</td>\n",
       "      <td>No</td>\n",
       "      <td>No</td>\n",
       "      <td>No</td>\n",
       "      <td>Will revert after reading the email</td>\n",
       "      <td>Might be</td>\n",
       "      <td>No</td>\n",
       "      <td>No</td>\n",
       "      <td>Select</td>\n",
       "      <td>Mumbai</td>\n",
       "      <td>02.Medium</td>\n",
       "      <td>01.High</td>\n",
       "      <td>15.0</td>\n",
       "      <td>18.0</td>\n",
       "      <td>No</td>\n",
       "      <td>No</td>\n",
       "      <td>Modified</td>\n",
       "    </tr>\n",
       "  </tbody>\n",
       "</table>\n",
       "</div>"
      ],
      "text/plain": [
       "                            Prospect ID  Lead Number              Lead Origin  \\\n",
       "0  7927b2df-8bba-4d29-b9a2-b6e0beafe620       660737                      API   \n",
       "1  2a272436-5132-4136-86fa-dcc88c88f482       660728                      API   \n",
       "2  8cc8c611-a219-4f35-ad23-fdfd2656bd8a       660727  Landing Page Submission   \n",
       "3  0cc2df48-7cf4-4e39-9de9-19797f9b38cc       660719  Landing Page Submission   \n",
       "4  3256f628-e534-4826-9d63-4a8b88782852       660681  Landing Page Submission   \n",
       "\n",
       "      Lead Source Do Not Email Do Not Call  Converted  TotalVisits  \\\n",
       "0      Olark Chat           No          No          0          0.0   \n",
       "1  Organic Search           No          No          0          5.0   \n",
       "2  Direct Traffic           No          No          1          2.0   \n",
       "3  Direct Traffic           No          No          0          1.0   \n",
       "4          Google           No          No          1          2.0   \n",
       "\n",
       "   Total Time Spent on Website  Page Views Per Visit            Last Activity  \\\n",
       "0                            0                   0.0  Page Visited on Website   \n",
       "1                          674                   2.5             Email Opened   \n",
       "2                         1532                   2.0             Email Opened   \n",
       "3                          305                   1.0              Unreachable   \n",
       "4                         1428                   1.0        Converted to Lead   \n",
       "\n",
       "  Country           Specialization How did you hear about X Education  \\\n",
       "0     NaN                   Select                             Select   \n",
       "1   India                   Select                             Select   \n",
       "2   India  Business Administration                             Select   \n",
       "3   India    Media and Advertising                      Word Of Mouth   \n",
       "4   India                   Select                              Other   \n",
       "\n",
       "  What is your current occupation  \\\n",
       "0                      Unemployed   \n",
       "1                      Unemployed   \n",
       "2                         Student   \n",
       "3                      Unemployed   \n",
       "4                      Unemployed   \n",
       "\n",
       "  What matters most to you in choosing a course Search Magazine  \\\n",
       "0                       Better Career Prospects     No       No   \n",
       "1                       Better Career Prospects     No       No   \n",
       "2                       Better Career Prospects     No       No   \n",
       "3                       Better Career Prospects     No       No   \n",
       "4                       Better Career Prospects     No       No   \n",
       "\n",
       "  Newspaper Article X Education Forums Newspaper Digital Advertisement  \\\n",
       "0                No                 No        No                    No   \n",
       "1                No                 No        No                    No   \n",
       "2                No                 No        No                    No   \n",
       "3                No                 No        No                    No   \n",
       "4                No                 No        No                    No   \n",
       "\n",
       "  Through Recommendations Receive More Updates About Our Courses  \\\n",
       "0                      No                                     No   \n",
       "1                      No                                     No   \n",
       "2                      No                                     No   \n",
       "3                      No                                     No   \n",
       "4                      No                                     No   \n",
       "\n",
       "                                  Tags      Lead Quality  \\\n",
       "0          Interested in other courses  Low in Relevance   \n",
       "1                              Ringing               NaN   \n",
       "2  Will revert after reading the email          Might be   \n",
       "3                              Ringing          Not Sure   \n",
       "4  Will revert after reading the email          Might be   \n",
       "\n",
       "  Update me on Supply Chain Content Get updates on DM Content    Lead Profile  \\\n",
       "0                                No                        No          Select   \n",
       "1                                No                        No          Select   \n",
       "2                                No                        No  Potential Lead   \n",
       "3                                No                        No          Select   \n",
       "4                                No                        No          Select   \n",
       "\n",
       "     City Asymmetrique Activity Index Asymmetrique Profile Index  \\\n",
       "0  Select                   02.Medium                  02.Medium   \n",
       "1  Select                   02.Medium                  02.Medium   \n",
       "2  Mumbai                   02.Medium                    01.High   \n",
       "3  Mumbai                   02.Medium                    01.High   \n",
       "4  Mumbai                   02.Medium                    01.High   \n",
       "\n",
       "   Asymmetrique Activity Score  Asymmetrique Profile Score  \\\n",
       "0                         15.0                        15.0   \n",
       "1                         15.0                        15.0   \n",
       "2                         14.0                        20.0   \n",
       "3                         13.0                        17.0   \n",
       "4                         15.0                        18.0   \n",
       "\n",
       "  I agree to pay the amount through cheque  \\\n",
       "0                                       No   \n",
       "1                                       No   \n",
       "2                                       No   \n",
       "3                                       No   \n",
       "4                                       No   \n",
       "\n",
       "  A free copy of Mastering The Interview Last Notable Activity  \n",
       "0                                     No              Modified  \n",
       "1                                     No          Email Opened  \n",
       "2                                    Yes          Email Opened  \n",
       "3                                     No              Modified  \n",
       "4                                     No              Modified  "
      ]
     },
     "execution_count": 20,
     "metadata": {},
     "output_type": "execute_result"
    }
   ],
   "source": [
    "(df := pd.read_csv('Leads.csv')).head()"
   ]
  },
  {
   "cell_type": "code",
   "execution_count": 29,
   "id": "cognitive-oxide",
   "metadata": {},
   "outputs": [
    {
     "data": {
      "text/plain": [
       "'      10'"
      ]
     },
     "execution_count": 29,
     "metadata": {},
     "output_type": "execute_result"
    }
   ],
   "source": [
    "f'{x:8}' "
   ]
  },
  {
   "cell_type": "code",
   "execution_count": 25,
   "id": "prime-shift",
   "metadata": {},
   "outputs": [
    {
     "data": {
      "text/plain": [
       "10"
      ]
     },
     "execution_count": 25,
     "metadata": {},
     "output_type": "execute_result"
    }
   ],
   "source": [
    "x"
   ]
  },
  {
   "cell_type": "markdown",
   "id": "czech-convertible",
   "metadata": {},
   "source": [
    "## Head, shape, info"
   ]
  },
  {
   "cell_type": "code",
   "execution_count": 5,
   "id": "automotive-butter",
   "metadata": {},
   "outputs": [
    {
     "data": {
      "text/html": [
       "<div>\n",
       "<style scoped>\n",
       "    .dataframe tbody tr th:only-of-type {\n",
       "        vertical-align: middle;\n",
       "    }\n",
       "\n",
       "    .dataframe tbody tr th {\n",
       "        vertical-align: top;\n",
       "    }\n",
       "\n",
       "    .dataframe thead th {\n",
       "        text-align: right;\n",
       "    }\n",
       "</style>\n",
       "<table border=\"1\" class=\"dataframe\">\n",
       "  <thead>\n",
       "    <tr style=\"text-align: right;\">\n",
       "      <th></th>\n",
       "      <th>Prospect ID</th>\n",
       "      <th>Lead Number</th>\n",
       "      <th>Lead Origin</th>\n",
       "      <th>Lead Source</th>\n",
       "      <th>Do Not Email</th>\n",
       "      <th>Do Not Call</th>\n",
       "      <th>Converted</th>\n",
       "      <th>TotalVisits</th>\n",
       "      <th>Total Time Spent on Website</th>\n",
       "      <th>Page Views Per Visit</th>\n",
       "      <th>Last Activity</th>\n",
       "      <th>Country</th>\n",
       "      <th>Specialization</th>\n",
       "      <th>How did you hear about X Education</th>\n",
       "      <th>What is your current occupation</th>\n",
       "      <th>What matters most to you in choosing a course</th>\n",
       "      <th>Search</th>\n",
       "      <th>Magazine</th>\n",
       "      <th>Newspaper Article</th>\n",
       "      <th>X Education Forums</th>\n",
       "      <th>Newspaper</th>\n",
       "      <th>Digital Advertisement</th>\n",
       "      <th>Through Recommendations</th>\n",
       "      <th>Receive More Updates About Our Courses</th>\n",
       "      <th>Tags</th>\n",
       "      <th>Lead Quality</th>\n",
       "      <th>Update me on Supply Chain Content</th>\n",
       "      <th>Get updates on DM Content</th>\n",
       "      <th>Lead Profile</th>\n",
       "      <th>City</th>\n",
       "      <th>Asymmetrique Activity Index</th>\n",
       "      <th>Asymmetrique Profile Index</th>\n",
       "      <th>Asymmetrique Activity Score</th>\n",
       "      <th>Asymmetrique Profile Score</th>\n",
       "      <th>I agree to pay the amount through cheque</th>\n",
       "      <th>A free copy of Mastering The Interview</th>\n",
       "      <th>Last Notable Activity</th>\n",
       "    </tr>\n",
       "  </thead>\n",
       "  <tbody>\n",
       "    <tr>\n",
       "      <th>0</th>\n",
       "      <td>7927b2df-8bba-4d29-b9a2-b6e0beafe620</td>\n",
       "      <td>660737</td>\n",
       "      <td>API</td>\n",
       "      <td>Olark Chat</td>\n",
       "      <td>No</td>\n",
       "      <td>No</td>\n",
       "      <td>0</td>\n",
       "      <td>0.0</td>\n",
       "      <td>0</td>\n",
       "      <td>0.0</td>\n",
       "      <td>Page Visited on Website</td>\n",
       "      <td>NaN</td>\n",
       "      <td>Select</td>\n",
       "      <td>Select</td>\n",
       "      <td>Unemployed</td>\n",
       "      <td>Better Career Prospects</td>\n",
       "      <td>No</td>\n",
       "      <td>No</td>\n",
       "      <td>No</td>\n",
       "      <td>No</td>\n",
       "      <td>No</td>\n",
       "      <td>No</td>\n",
       "      <td>No</td>\n",
       "      <td>No</td>\n",
       "      <td>Interested in other courses</td>\n",
       "      <td>Low in Relevance</td>\n",
       "      <td>No</td>\n",
       "      <td>No</td>\n",
       "      <td>Select</td>\n",
       "      <td>Select</td>\n",
       "      <td>02.Medium</td>\n",
       "      <td>02.Medium</td>\n",
       "      <td>15.0</td>\n",
       "      <td>15.0</td>\n",
       "      <td>No</td>\n",
       "      <td>No</td>\n",
       "      <td>Modified</td>\n",
       "    </tr>\n",
       "    <tr>\n",
       "      <th>1</th>\n",
       "      <td>2a272436-5132-4136-86fa-dcc88c88f482</td>\n",
       "      <td>660728</td>\n",
       "      <td>API</td>\n",
       "      <td>Organic Search</td>\n",
       "      <td>No</td>\n",
       "      <td>No</td>\n",
       "      <td>0</td>\n",
       "      <td>5.0</td>\n",
       "      <td>674</td>\n",
       "      <td>2.5</td>\n",
       "      <td>Email Opened</td>\n",
       "      <td>India</td>\n",
       "      <td>Select</td>\n",
       "      <td>Select</td>\n",
       "      <td>Unemployed</td>\n",
       "      <td>Better Career Prospects</td>\n",
       "      <td>No</td>\n",
       "      <td>No</td>\n",
       "      <td>No</td>\n",
       "      <td>No</td>\n",
       "      <td>No</td>\n",
       "      <td>No</td>\n",
       "      <td>No</td>\n",
       "      <td>No</td>\n",
       "      <td>Ringing</td>\n",
       "      <td>NaN</td>\n",
       "      <td>No</td>\n",
       "      <td>No</td>\n",
       "      <td>Select</td>\n",
       "      <td>Select</td>\n",
       "      <td>02.Medium</td>\n",
       "      <td>02.Medium</td>\n",
       "      <td>15.0</td>\n",
       "      <td>15.0</td>\n",
       "      <td>No</td>\n",
       "      <td>No</td>\n",
       "      <td>Email Opened</td>\n",
       "    </tr>\n",
       "    <tr>\n",
       "      <th>2</th>\n",
       "      <td>8cc8c611-a219-4f35-ad23-fdfd2656bd8a</td>\n",
       "      <td>660727</td>\n",
       "      <td>Landing Page Submission</td>\n",
       "      <td>Direct Traffic</td>\n",
       "      <td>No</td>\n",
       "      <td>No</td>\n",
       "      <td>1</td>\n",
       "      <td>2.0</td>\n",
       "      <td>1532</td>\n",
       "      <td>2.0</td>\n",
       "      <td>Email Opened</td>\n",
       "      <td>India</td>\n",
       "      <td>Business Administration</td>\n",
       "      <td>Select</td>\n",
       "      <td>Student</td>\n",
       "      <td>Better Career Prospects</td>\n",
       "      <td>No</td>\n",
       "      <td>No</td>\n",
       "      <td>No</td>\n",
       "      <td>No</td>\n",
       "      <td>No</td>\n",
       "      <td>No</td>\n",
       "      <td>No</td>\n",
       "      <td>No</td>\n",
       "      <td>Will revert after reading the email</td>\n",
       "      <td>Might be</td>\n",
       "      <td>No</td>\n",
       "      <td>No</td>\n",
       "      <td>Potential Lead</td>\n",
       "      <td>Mumbai</td>\n",
       "      <td>02.Medium</td>\n",
       "      <td>01.High</td>\n",
       "      <td>14.0</td>\n",
       "      <td>20.0</td>\n",
       "      <td>No</td>\n",
       "      <td>Yes</td>\n",
       "      <td>Email Opened</td>\n",
       "    </tr>\n",
       "    <tr>\n",
       "      <th>3</th>\n",
       "      <td>0cc2df48-7cf4-4e39-9de9-19797f9b38cc</td>\n",
       "      <td>660719</td>\n",
       "      <td>Landing Page Submission</td>\n",
       "      <td>Direct Traffic</td>\n",
       "      <td>No</td>\n",
       "      <td>No</td>\n",
       "      <td>0</td>\n",
       "      <td>1.0</td>\n",
       "      <td>305</td>\n",
       "      <td>1.0</td>\n",
       "      <td>Unreachable</td>\n",
       "      <td>India</td>\n",
       "      <td>Media and Advertising</td>\n",
       "      <td>Word Of Mouth</td>\n",
       "      <td>Unemployed</td>\n",
       "      <td>Better Career Prospects</td>\n",
       "      <td>No</td>\n",
       "      <td>No</td>\n",
       "      <td>No</td>\n",
       "      <td>No</td>\n",
       "      <td>No</td>\n",
       "      <td>No</td>\n",
       "      <td>No</td>\n",
       "      <td>No</td>\n",
       "      <td>Ringing</td>\n",
       "      <td>Not Sure</td>\n",
       "      <td>No</td>\n",
       "      <td>No</td>\n",
       "      <td>Select</td>\n",
       "      <td>Mumbai</td>\n",
       "      <td>02.Medium</td>\n",
       "      <td>01.High</td>\n",
       "      <td>13.0</td>\n",
       "      <td>17.0</td>\n",
       "      <td>No</td>\n",
       "      <td>No</td>\n",
       "      <td>Modified</td>\n",
       "    </tr>\n",
       "    <tr>\n",
       "      <th>4</th>\n",
       "      <td>3256f628-e534-4826-9d63-4a8b88782852</td>\n",
       "      <td>660681</td>\n",
       "      <td>Landing Page Submission</td>\n",
       "      <td>Google</td>\n",
       "      <td>No</td>\n",
       "      <td>No</td>\n",
       "      <td>1</td>\n",
       "      <td>2.0</td>\n",
       "      <td>1428</td>\n",
       "      <td>1.0</td>\n",
       "      <td>Converted to Lead</td>\n",
       "      <td>India</td>\n",
       "      <td>Select</td>\n",
       "      <td>Other</td>\n",
       "      <td>Unemployed</td>\n",
       "      <td>Better Career Prospects</td>\n",
       "      <td>No</td>\n",
       "      <td>No</td>\n",
       "      <td>No</td>\n",
       "      <td>No</td>\n",
       "      <td>No</td>\n",
       "      <td>No</td>\n",
       "      <td>No</td>\n",
       "      <td>No</td>\n",
       "      <td>Will revert after reading the email</td>\n",
       "      <td>Might be</td>\n",
       "      <td>No</td>\n",
       "      <td>No</td>\n",
       "      <td>Select</td>\n",
       "      <td>Mumbai</td>\n",
       "      <td>02.Medium</td>\n",
       "      <td>01.High</td>\n",
       "      <td>15.0</td>\n",
       "      <td>18.0</td>\n",
       "      <td>No</td>\n",
       "      <td>No</td>\n",
       "      <td>Modified</td>\n",
       "    </tr>\n",
       "  </tbody>\n",
       "</table>\n",
       "</div>"
      ],
      "text/plain": [
       "                            Prospect ID  Lead Number              Lead Origin  \\\n",
       "0  7927b2df-8bba-4d29-b9a2-b6e0beafe620       660737                      API   \n",
       "1  2a272436-5132-4136-86fa-dcc88c88f482       660728                      API   \n",
       "2  8cc8c611-a219-4f35-ad23-fdfd2656bd8a       660727  Landing Page Submission   \n",
       "3  0cc2df48-7cf4-4e39-9de9-19797f9b38cc       660719  Landing Page Submission   \n",
       "4  3256f628-e534-4826-9d63-4a8b88782852       660681  Landing Page Submission   \n",
       "\n",
       "      Lead Source Do Not Email Do Not Call  Converted  TotalVisits  \\\n",
       "0      Olark Chat           No          No          0          0.0   \n",
       "1  Organic Search           No          No          0          5.0   \n",
       "2  Direct Traffic           No          No          1          2.0   \n",
       "3  Direct Traffic           No          No          0          1.0   \n",
       "4          Google           No          No          1          2.0   \n",
       "\n",
       "   Total Time Spent on Website  Page Views Per Visit            Last Activity  \\\n",
       "0                            0                   0.0  Page Visited on Website   \n",
       "1                          674                   2.5             Email Opened   \n",
       "2                         1532                   2.0             Email Opened   \n",
       "3                          305                   1.0              Unreachable   \n",
       "4                         1428                   1.0        Converted to Lead   \n",
       "\n",
       "  Country           Specialization How did you hear about X Education  \\\n",
       "0     NaN                   Select                             Select   \n",
       "1   India                   Select                             Select   \n",
       "2   India  Business Administration                             Select   \n",
       "3   India    Media and Advertising                      Word Of Mouth   \n",
       "4   India                   Select                              Other   \n",
       "\n",
       "  What is your current occupation  \\\n",
       "0                      Unemployed   \n",
       "1                      Unemployed   \n",
       "2                         Student   \n",
       "3                      Unemployed   \n",
       "4                      Unemployed   \n",
       "\n",
       "  What matters most to you in choosing a course Search Magazine  \\\n",
       "0                       Better Career Prospects     No       No   \n",
       "1                       Better Career Prospects     No       No   \n",
       "2                       Better Career Prospects     No       No   \n",
       "3                       Better Career Prospects     No       No   \n",
       "4                       Better Career Prospects     No       No   \n",
       "\n",
       "  Newspaper Article X Education Forums Newspaper Digital Advertisement  \\\n",
       "0                No                 No        No                    No   \n",
       "1                No                 No        No                    No   \n",
       "2                No                 No        No                    No   \n",
       "3                No                 No        No                    No   \n",
       "4                No                 No        No                    No   \n",
       "\n",
       "  Through Recommendations Receive More Updates About Our Courses  \\\n",
       "0                      No                                     No   \n",
       "1                      No                                     No   \n",
       "2                      No                                     No   \n",
       "3                      No                                     No   \n",
       "4                      No                                     No   \n",
       "\n",
       "                                  Tags      Lead Quality  \\\n",
       "0          Interested in other courses  Low in Relevance   \n",
       "1                              Ringing               NaN   \n",
       "2  Will revert after reading the email          Might be   \n",
       "3                              Ringing          Not Sure   \n",
       "4  Will revert after reading the email          Might be   \n",
       "\n",
       "  Update me on Supply Chain Content Get updates on DM Content    Lead Profile  \\\n",
       "0                                No                        No          Select   \n",
       "1                                No                        No          Select   \n",
       "2                                No                        No  Potential Lead   \n",
       "3                                No                        No          Select   \n",
       "4                                No                        No          Select   \n",
       "\n",
       "     City Asymmetrique Activity Index Asymmetrique Profile Index  \\\n",
       "0  Select                   02.Medium                  02.Medium   \n",
       "1  Select                   02.Medium                  02.Medium   \n",
       "2  Mumbai                   02.Medium                    01.High   \n",
       "3  Mumbai                   02.Medium                    01.High   \n",
       "4  Mumbai                   02.Medium                    01.High   \n",
       "\n",
       "   Asymmetrique Activity Score  Asymmetrique Profile Score  \\\n",
       "0                         15.0                        15.0   \n",
       "1                         15.0                        15.0   \n",
       "2                         14.0                        20.0   \n",
       "3                         13.0                        17.0   \n",
       "4                         15.0                        18.0   \n",
       "\n",
       "  I agree to pay the amount through cheque  \\\n",
       "0                                       No   \n",
       "1                                       No   \n",
       "2                                       No   \n",
       "3                                       No   \n",
       "4                                       No   \n",
       "\n",
       "  A free copy of Mastering The Interview Last Notable Activity  \n",
       "0                                     No              Modified  \n",
       "1                                     No          Email Opened  \n",
       "2                                    Yes          Email Opened  \n",
       "3                                     No              Modified  \n",
       "4                                     No              Modified  "
      ]
     },
     "execution_count": 5,
     "metadata": {},
     "output_type": "execute_result"
    }
   ],
   "source": [
    "df.head()"
   ]
  },
  {
   "cell_type": "code",
   "execution_count": 6,
   "id": "handed-advance",
   "metadata": {},
   "outputs": [
    {
     "data": {
      "text/plain": [
       "(9240, 37)"
      ]
     },
     "execution_count": 6,
     "metadata": {},
     "output_type": "execute_result"
    }
   ],
   "source": [
    "df.shape"
   ]
  },
  {
   "cell_type": "markdown",
   "id": "diverse-emergency",
   "metadata": {
    "tags": []
   },
   "source": [
    "# Exploratory Data Analysis"
   ]
  },
  {
   "cell_type": "markdown",
   "id": "grave-shareware",
   "metadata": {
    "tags": []
   },
   "source": [
    "## Missing Values"
   ]
  },
  {
   "cell_type": "markdown",
   "id": "requested-chicken",
   "metadata": {
    "tags": []
   },
   "source": [
    "### Replacing occurences of 'Select' with NaN\n",
    "Many of the categorical variables have a level called 'Select' which is a null value. It corresponds to a situation where a user, while filling an online form didn't select any options from a dropdown menu."
   ]
  },
  {
   "cell_type": "code",
   "execution_count": 7,
   "id": "dying-coach",
   "metadata": {},
   "outputs": [],
   "source": [
    "df = df.replace('Select', np.nan)"
   ]
  },
  {
   "cell_type": "markdown",
   "id": "northern-india",
   "metadata": {
    "tags": []
   },
   "source": [
    "### Plotting missing value plots"
   ]
  },
  {
   "cell_type": "code",
   "execution_count": 8,
   "id": "constant-cleanup",
   "metadata": {},
   "outputs": [
    {
     "data": {
      "image/png": "[encoded data removed]",
      "text/plain": [
       "<Figure size 1800x720 with 1 Axes>"
      ]
     },
     "metadata": {
      "needs_background": "light"
     },
     "output_type": "display_data"
    }
   ],
   "source": [
    "import missingno as msno\n",
    "color = .1, 0.35, 0.5\n",
    "msno.matrix(df, sparkline=False, color=color);"
   ]
  },
  {
   "cell_type": "code",
   "execution_count": 9,
   "id": "adolescent-oklahoma",
   "metadata": {},
   "outputs": [
    {
     "data": {
      "image/png": "[encoded data removed]",
      "text/plain": [
       "<Figure size 864x360 with 1 Axes>"
      ]
     },
     "metadata": {},
     "output_type": "display_data"
    }
   ],
   "source": [
    "nans = df.isna().sum().sort_values(ascending=False)/len(df)*100\n",
    "nans = nans[~(nans==0)] #removing 0s\n",
    "sns.set_style(style='whitegrid')\n",
    "with sns.plotting_context(font_scale=0.6):\n",
    "    plt.figure(figsize=[12,5])\n",
    "    sns.barplot(x = nans, y = nans.index, color=color)\n",
    "    plt.show()"
   ]
  },
  {
   "cell_type": "markdown",
   "id": "occupational-copyright",
   "metadata": {
    "tags": []
   },
   "source": [
    "## Univariate Analysis (first pass)\n",
    "Inspect each column and take appropriate actions like  \n",
    "- Dropping useless columns\n",
    "- Creating dummy variables\n",
    "- Cleaning values, converting into appropriate dtypes"
   ]
  },
  {
   "cell_type": "markdown",
   "id": "authentic-trinity",
   "metadata": {
    "tags": []
   },
   "source": [
    "### Plotting functions"
   ]
  },
  {
   "cell_type": "code",
   "execution_count": 10,
   "id": "collaborative-somerset",
   "metadata": {
    "tags": []
   },
   "outputs": [
    {
     "data": {
      "text/html": [
       "<div>\n",
       "<style scoped>\n",
       "    .dataframe tbody tr th:only-of-type {\n",
       "        vertical-align: middle;\n",
       "    }\n",
       "\n",
       "    .dataframe tbody tr th {\n",
       "        vertical-align: top;\n",
       "    }\n",
       "\n",
       "    .dataframe thead tr th {\n",
       "        text-align: left;\n",
       "    }\n",
       "</style>\n",
       "<table border=\"1\" class=\"dataframe\">\n",
       "  <thead>\n",
       "    <tr>\n",
       "      <th></th>\n",
       "      <th colspan=\"2\" halign=\"left\">City</th>\n",
       "    </tr>\n",
       "    <tr>\n",
       "      <th></th>\n",
       "      <th>Counts</th>\n",
       "      <th>Normalised</th>\n",
       "    </tr>\n",
       "  </thead>\n",
       "  <tbody>\n",
       "    <tr>\n",
       "      <th>NaNs</th>\n",
       "      <td>3669</td>\n",
       "      <td>0.397078</td>\n",
       "    </tr>\n",
       "    <tr>\n",
       "      <th>Mumbai</th>\n",
       "      <td>3222</td>\n",
       "      <td>0.348701</td>\n",
       "    </tr>\n",
       "    <tr>\n",
       "      <th>Thane &amp; Outskirts</th>\n",
       "      <td>752</td>\n",
       "      <td>0.081385</td>\n",
       "    </tr>\n",
       "    <tr>\n",
       "      <th>Other Cities</th>\n",
       "      <td>686</td>\n",
       "      <td>0.074242</td>\n",
       "    </tr>\n",
       "    <tr>\n",
       "      <th>Other Cities of Maharashtra</th>\n",
       "      <td>457</td>\n",
       "      <td>0.049459</td>\n",
       "    </tr>\n",
       "    <tr>\n",
       "      <th>Other Metro Cities</th>\n",
       "      <td>380</td>\n",
       "      <td>0.041126</td>\n",
       "    </tr>\n",
       "    <tr>\n",
       "      <th>Tier II Cities</th>\n",
       "      <td>74</td>\n",
       "      <td>0.008009</td>\n",
       "    </tr>\n",
       "  </tbody>\n",
       "</table>\n",
       "</div>"
      ],
      "text/plain": [
       "                              City           \n",
       "                            Counts Normalised\n",
       "NaNs                          3669   0.397078\n",
       "Mumbai                        3222   0.348701\n",
       "Thane & Outskirts              752   0.081385\n",
       "Other Cities                   686   0.074242\n",
       "Other Cities of Maharashtra    457   0.049459\n",
       "Other Metro Cities             380   0.041126\n",
       "Tier II Cities                  74   0.008009"
      ]
     },
     "execution_count": 10,
     "metadata": {},
     "output_type": "execute_result"
    }
   ],
   "source": [
    "def value_counts(series: 'pd.Series'):\n",
    "    \"\"\"\n",
    "    Outputs value counts of a pandas Series in the form\n",
    "    of a nice Dataframe.\n",
    "    \"\"\"\n",
    "    total_rows, nans = series.shape[0], series.isna().sum()\n",
    "    counts = pd.DataFrame(series.value_counts())\n",
    "    counts = pd.DataFrame(index=['NaNs'], columns=counts.columns,\n",
    "                          data=[nans]).append(counts)\n",
    "    counts_norm = pd.DataFrame(counts / total_rows)\n",
    "    df = pd.merge(counts, counts_norm, left_index=True, right_index=True)\n",
    "    df.columns = pd.MultiIndex.from_arrays(\n",
    "        [[series._name, series._name],\n",
    "         ['Counts', 'Normalised']])\n",
    "    return df\n",
    "city = value_counts(df['City'])\n",
    "city"
   ]
  },
  {
   "cell_type": "code",
   "execution_count": 11,
   "id": "unnecessary-industry",
   "metadata": {},
   "outputs": [],
   "source": [
    "cols = df.columns.drop(['Prospect ID', 'Lead Number'])"
   ]
  },
  {
   "cell_type": "code",
   "execution_count": 12,
   "id": "destroyed-telling",
   "metadata": {
    "tags": []
   },
   "outputs": [],
   "source": [
    "import ipywidgets as widgets\n",
    "from ipywidgets import VBox, HBox, interactive_output\n",
    "from IPython.display import clear_output\n",
    "sns.set_theme('notebook', palette='turbo')\n",
    "col = widgets.Dropdown(\n",
    "        options=cols,\n",
    "        description='Column',\n",
    "        disabled=False)\n",
    "def f(col):\n",
    "    print(f'Description of {col}')\n",
    "    print(str(df[col].describe()))\n",
    "def g(col):\n",
    "    plt.figure(dpi=90)\n",
    "    sns.scatterplot(y=df[col].value_counts(),x=df[col].value_counts().index)\n",
    "    plt.title('Value Counts')\n",
    "    plt.xticks(rotation=90)\n",
    "    plt.show()\n",
    "def h(col):\n",
    "    display(value_counts(df[col]), )\n",
    "def i(col):\n",
    "    try: print(data_dict.loc[col].values[0])\n",
    "    except: print(col)\n",
    "\n",
    "def j(col):\n",
    "    try:\n",
    "        plt.figure(dpi=90)\n",
    "        plt.xticks(rotation=90)\n",
    "        sns.histplot(df[col], kde=True)\n",
    "        plt.plot()\n",
    "    except: return 'Unsupported Data for Univariate distplot'\n",
    "hist_button = widgets.Button(description='View Distribution')\n",
    "histogram = widgets.Output()\n",
    "def on_button_clicked(_):\n",
    "      with histogram:\n",
    "          clear_output()\n",
    "          display(interactive_output(j, {'col':col}))\n",
    "hist_button.on_click(on_button_clicked)\n",
    "\n",
    "describe =         interactive_output(f, {'col': col})\n",
    "value_count_plot = interactive_output(g,{'col':col})\n",
    "value_counts_ =     interactive_output(h,{'col':col})\n",
    "line =             widgets.Output(layout={'border': '1px solid black'})\n",
    "description =      interactive_output(i, {'col':col})"
   ]
  },
  {
   "cell_type": "markdown",
   "id": "collected-diabetes",
   "metadata": {
    "tags": []
   },
   "source": [
    "### Widget"
   ]
  },
  {
   "cell_type": "code",
   "execution_count": 13,
   "id": "unlimited-trout",
   "metadata": {
    "tags": []
   },
   "outputs": [
    {
     "data": {
      "application/vnd.jupyter.widget-view+json": {
       "model_id": "b809e48d86794a28a51ebbf1b1060c7f",
       "version_major": 2,
       "version_minor": 0
      },
      "text/plain": [
       "HBox(children=(VBox(box_style='info', children=(Dropdown(description='Column', options=('Lead Origin', 'Lead S…"
      ]
     },
     "metadata": {},
     "output_type": "display_data"
    }
   ],
   "source": [
    "HBox([VBox([col, describe, line,value_counts_],box_style='info'),\n",
    "      line,\n",
    "      VBox([description, line,value_count_plot, line, hist_button, histogram]) ])"
   ]
  },
  {
   "cell_type": "markdown",
   "id": "cathedral-light",
   "metadata": {
    "heading_collapsed": "true",
    "tags": []
   },
   "source": [
    "### Actions"
   ]
  },
  {
   "cell_type": "markdown",
   "id": "sufficient-scott",
   "metadata": {},
   "source": [
    "- `Prospect ID` : It's an unique string, **dropping**. \n",
    "- `Lead Number` : It's an unique id, **dropping it**.\n",
    "- `Lead Origin` : *'Quick Add Form'* method was used by a single user, replacing it with *'Lead Add Form'*.  \n",
    "- `Lead Source` : It has various levels which can be combined together based on meaning. We will try bin them based on the ratio of succesfull conversions. \n",
    "- `Do Not Email` : Its too unbalanced (92%), **dropping**.\n",
    "- `Do Not Call` : Its too unbalanced (99.9%), **dropping**.\n",
    "- `Converted` : Its the **target variable**.\n",
    "- `TotalVisits` : The data is very skewed, **Later:** transform it to make it look more normal.\n",
    "- `Total Time Spent on Website` : The data is very skewed, **Later:** transform it to make it look more normal.\n",
    "- `Page Views Per Visit` : The data is very skewed, **Later:** transform it to make it look more normal.\n",
    "- `Last Activity` : *Variable not relevant* **dropping it**\n",
    "- `Country` : 26% values are NaN, but rest of the values are 95% *'India'*, hence imputing NaNs with it.\n",
    "- `Specialization` : 36% are NaNs hence **dropping it**. Later: impute missing values and add to model for better performance.\n",
    "- `How did you hear about X Education` : 78% NaNs hence **dropping it**.\n",
    "- `What is your current occupation` : 30% are NaNs and rest 60% are *'Unemployed'*; imputing NaNs with mode\n",
    "- `What matters most to you in choosing a course` : This column has only 3 rows which are not *'Better Career Prospects'* or NaNs hence **dropping it**.  Later: impute missing values and add to model for better performance.\n",
    "- `Search` : Highly imbalanced (99.8%) hence **dropping it**.  Later: impute missing values and add to model for better performance.\n",
    "- `Magazine` : Whole column is a single value hence **dropping it**. \n",
    "- `Newspaper Article` : Highly imbalanced (99.99%) hence **dropping it**.\n",
    "- `X Education Forums` : Highly imbalanced (99.99%) hence **dropping it**.\n",
    "- `Newspaper` : Highly imbalanced (99.99%) hence **dropping it**.\n",
    "- `Digital Advertisement` : Highly imbalanced (99.99%) hence **dropping it**.\n",
    "- `Through Recommendations` : Highly imbalanced (99.99%) hence **dropping it**.\n",
    "- `Receive More Updates About Our Courses` : Whole column is a single value hence **dropping it**.\n",
    "- `Tags` : *Variable not relevant* **dropping it**\n",
    "- `Lead Quality` : *Variable not relevant* **dropping it**\n",
    "- `Update me on Supply Chain Content` : Whole column is a single value hence **dropping it**.\n",
    "- `Get updates on DM Content` : Whole column is a single value hence **dropping it**.\n",
    "- `Lead Profile` : *Variable not relevant* **dropping it**\n",
    "- `City` : 40% NaNs hence **dropping it**.\n",
    "- `Asymmetrique Activity Index` : *Variable not relevant* **dropping it**\n",
    "- `Asymmetrique Profile Index` : *Variable not relevant* **dropping it**\n",
    "- `Asymmetrique Activity Score` : *Variable not relevant* **dropping it**\n",
    "- `Asymmetrique Profile Score` : *Variable not relevant* **dropping it**\n",
    "- `I agree to pay the amount through cheque` : *Variable not relevant* **dropping it**\n",
    "- `A free copy of Mastering The Interview` : Fine column. \n",
    "- `Last Notable Activity` : *Variable not relevant* **dropping it**\n"
   ]
  },
  {
   "cell_type": "code",
   "execution_count": null,
   "id": "pursuant-incidence",
   "metadata": {},
   "outputs": [],
   "source": [
    "to_keep = ['Lead Origin', 'Lead Source', 'Converted', 'TotalVisits',\n",
    "           'Total Time Spent on Website', 'Page Views Per Visit', 'Country',\n",
    "           'What is your current occupation', 'A free copy of Mastering The Interview']\n",
    "df_filtered = df.filter(to_keep, axis='columns')\n",
    "df_filtered['Lead Origin'] = df_filtered['Lead Origin'].replace(to_replace={'Quick Add Form':'Lead Add Form',\n",
    "                                                          'Lead Import': 'Lead Add Form'})\n",
    "df_filtered.head()"
   ]
  },
  {
   "cell_type": "markdown",
   "id": "adapted-depression",
   "metadata": {
    "tags": []
   },
   "source": [
    "## Bivariate "
   ]
  },
  {
   "cell_type": "markdown",
   "id": "chinese-telescope",
   "metadata": {
    "heading_collapsed": "true",
    "tags": []
   },
   "source": [
    "### Functions"
   ]
  },
  {
   "cell_type": "code",
   "execution_count": null,
   "id": "northern-kingston",
   "metadata": {},
   "outputs": [],
   "source": [
    "col = 'Lead Source'\n",
    "def value_count_with_target_var(col, df=df):\n",
    "    df[df['Converted']==1][col]\n",
    "    converted_yes = df[df['Converted']==1][col].value_counts()\n",
    "    converted_no = df[df['Converted']==0][col].value_counts()\n",
    "    temp = pd.DataFrame(data=[converted_no, converted_yes], index=['No', 'Yes']).T\n",
    "    temp['percent_yes'] = (temp['Yes'] / (temp['No']+temp[ 'Yes']))*100\n",
    "    return temp\n",
    "temp = value_count_with_target_var(col)\n",
    "temp.sort_values('percent_yes', ascending=False).tail()"
   ]
  },
  {
   "cell_type": "code",
   "execution_count": null,
   "id": "bound-palace",
   "metadata": {},
   "outputs": [],
   "source": [
    "def plot_percentage_converted(col, df=df):\n",
    "    to_plot = value_count_with_target_var(col, df)\n",
    "    to_plot = to_plot.sort_values('percent_yes',ascending=False)\n",
    "    labels = to_plot.index\n",
    "    converted, converted_not = to_plot.Yes, to_plot.No\n",
    "    fig, ax = plt.subplots(figsize=(15,int(len(to_plot)/3.5)+2), dpi=80)\n",
    "    ax.barh(labels, converted_not.fillna(0),  label='Not Converted')\n",
    "    ax.barh(labels, converted.fillna(0),  label='Converted', left=converted_not)\n",
    "    ax.set_ylabel('Levels')\n",
    "    ax.set_title(f'Value Counts of \"{col}\" with conversions')\n",
    "    ax.legend(loc='upper right')\n",
    "    ax2 = ax.twinx()\n",
    "    ax2.barh(labels, 0)\n",
    "    ax2.set_yticklabels(to_plot.percent_yes.round(1).fillna('nan').astype(str))\n",
    "    ax2.set_ylabel('Percentage of Converted')\n",
    "    ax2.grid(b=None)\n",
    "    plt.show()"
   ]
  },
  {
   "cell_type": "markdown",
   "id": "normal-credit",
   "metadata": {},
   "source": [
    "### B"
   ]
  },
  {
   "cell_type": "markdown",
   "id": "mexican-jacket",
   "metadata": {
    "heading_collapsed": "true",
    "tags": []
   },
   "source": [
    "### Plots"
   ]
  },
  {
   "cell_type": "code",
   "execution_count": null,
   "id": "alleged-crawford",
   "metadata": {},
   "outputs": [],
   "source": [
    "col = 'Lead Source'\n",
    "plot_percentage_converted(col)"
   ]
  },
  {
   "cell_type": "code",
   "execution_count": null,
   "id": "personal-hearing",
   "metadata": {},
   "outputs": [],
   "source": [
    "bins = dict(\n",
    "    referenced = ['Welingak Website', 'Reference', 'WeLearn'],\n",
    "    search_engines = ['Organic Search', 'Google', 'google', 'bing', 'Direct Traffic', 'Pay per Click Ads'],\n",
    "    social_referral_links = ['Facebook', 'Referral Sites', 'Social Media', ],\n",
    "    original_content = ['blog', 'welearnblog_Home', 'Press_Release', 'youtubechannel', 'NC_EDM', 'testone'],\n",
    "    sales_team = ['Click2call', 'Olark Chat', 'Live Chat'])\n",
    "map_dict = {}\n",
    "for i in bins:\n",
    "    map_dict.update(dict.fromkeys(bins[i], i))\n",
    "#df_filtered['Lead Source'] = df_filtered['Lead Source'].replace(map_dict)\n",
    "col = 'Lead Source'\n",
    "plot_percentage_converted(col, df=df_filtered.replace(map_dict))"
   ]
  },
  {
   "cell_type": "code",
   "execution_count": null,
   "id": "consecutive-falls",
   "metadata": {},
   "outputs": [],
   "source": [
    "plot_percentage_converted('What is your current occupation', df=df_filtered)"
   ]
  },
  {
   "cell_type": "code",
   "execution_count": null,
   "id": "suffering-queens",
   "metadata": {},
   "outputs": [],
   "source": [
    "plot_percentage_converted('Lead Origin', df=df)"
   ]
  },
  {
   "cell_type": "code",
   "execution_count": null,
   "id": "remarkable-ottawa",
   "metadata": {},
   "outputs": [],
   "source": [
    "df.head()"
   ]
  },
  {
   "cell_type": "code",
   "execution_count": null,
   "id": "bridal-allen",
   "metadata": {},
   "outputs": [],
   "source": [
    "ncols, nrows = 1, 4\n",
    "fig, ax = plt.subplots(ncols, nrows, figsize=(5*(nrows+1), 6))\n",
    "tt0 = sns.kdeplot(x=df[df.Converted==0]['Total Time Spent on Website'],color='blue',ax=ax[0]).set_title('Not Converted')\n",
    "tt1 = sns.kdeplot(x=df[df.Converted==1]['Total Time Spent on Website'],color='green',ax=ax[1]).set_title('Converted')\n",
    "pv0 = sns.kdeplot(x=(df[df.Converted==0]['TotalVisits']+1),color='blue',ax=ax[2], log_scale=True).set_title('Not Converted')\n",
    "pv1 = sns.kdeplot(x=(df[df.Converted==1]['TotalVisits']+1),color='green',ax=ax[3], log_scale=True).set_title('Converted')\n",
    "# sns.kdeplot(original+1, ax=ax[1], log_scale=True).set_title('log(x+1)', fontsize=15)\n",
    "# sns.kdeplot(reciprocal, ax=ax[2]).set_title('reciprocal(x+1)', fontsize=15)\n",
    "# sns.kdeplot(yeo_johnson.reshape(-1), ax=ax[3]).set_title('yeo_johnson', fontsize=15);"
   ]
  },
  {
   "cell_type": "markdown",
   "id": "smaller-carnival",
   "metadata": {
    "tags": []
   },
   "source": [
    "## Data Preparation"
   ]
  },
  {
   "cell_type": "markdown",
   "id": "fourth-clinton",
   "metadata": {
    "heading_collapsed": "true",
    "tags": []
   },
   "source": [
    "### Missing Value Impute"
   ]
  },
  {
   "cell_type": "code",
   "execution_count": null,
   "id": "minimal-iraqi",
   "metadata": {},
   "outputs": [],
   "source": [
    "from sklearn.impute import SimpleImputer\n",
    "imp_cat = SimpleImputer(strategy='most_frequent')\n",
    "imp_cont = SimpleImputer(strategy='median') # median because the distribution was very skewed\n",
    "df_filtered.isna().sum()"
   ]
  },
  {
   "cell_type": "code",
   "execution_count": null,
   "id": "preceding-confusion",
   "metadata": {},
   "outputs": [],
   "source": [
    "cat = ['Lead Source', 'Country', 'What is your current occupation']\n",
    "cont = ['TotalVisits', 'Total Time Spent on Website', 'Page Views Per Visit']\n",
    "df_filtered[cat] = imp_cat.fit_transform(df_filtered[cat])\n",
    "df_filtered[cont] = imp_cont.fit_transform(df_filtered[cont])\n",
    "df_filtered.isna().sum().sum() == 0 # NO MISSING VALUES ??"
   ]
  },
  {
   "cell_type": "markdown",
   "id": "polyphonic-tulsa",
   "metadata": {
    "heading_collapsed": "true",
    "tags": []
   },
   "source": [
    "### Encoding"
   ]
  },
  {
   "cell_type": "code",
   "execution_count": null,
   "id": "offshore-sensitivity",
   "metadata": {},
   "outputs": [],
   "source": [
    "from sklearn.preprocessing import LabelEncoder\n",
    "enc = LabelEncoder()\n",
    "col = 'A free copy of Mastering The Interview'\n",
    "df_filtered[col] = enc.fit_transform(df_filtered[col].values)\n",
    "df_filtered.head()\n"
   ]
  },
  {
   "cell_type": "code",
   "execution_count": null,
   "id": "military-ladder",
   "metadata": {},
   "outputs": [],
   "source": [
    "cols = ['Lead Origin', 'Lead Source', 'Country', 'What is your current occupation']\n",
    "df_dummy = pd.get_dummies(data=df_filtered, columns=cols, drop_first=True)\n",
    "df_dummy.head()"
   ]
  },
  {
   "cell_type": "markdown",
   "id": "permanent-qatar",
   "metadata": {
    "heading_collapsed": "true",
    "tags": []
   },
   "source": [
    "### Transformations (experimental)\n",
    "Modelling with various kinds of transformation was tried, but it didn't affect the model's performance. \n",
    "We thus learnt that logistic regression is agnostic of the distribution of variables."
   ]
  },
  {
   "cell_type": "code",
   "execution_count": null,
   "id": "growing-boutique",
   "metadata": {},
   "outputs": [],
   "source": [
    "from sklearn.preprocessing import PowerTransformer\n",
    "yeo_j = PowerTransformer()"
   ]
  },
  {
   "cell_type": "code",
   "execution_count": null,
   "id": "handled-mapping",
   "metadata": {},
   "outputs": [],
   "source": [
    "col = 'TotalVisits'\n",
    "original = df_filtered['TotalVisits']\n",
    "log_x_plus_1 = np.log10(df_filtered['TotalVisits']+1)\n",
    "reciprocal = np.power(df_filtered['TotalVisits']+1, -1)\n",
    "yeo_johnson = yeo_j.fit_transform(df_filtered['TotalVisits'].values.reshape(-1,1))\n",
    "\n",
    "ncols, nrows = 1, 4\n",
    "sns.kdeplot(original).set_title('Original')\n",
    "fig, ax = plt.subplots(ncols, nrows, figsize=(5*(nrows+1), 6), sharey=True)\n",
    "sns.kdeplot(original, ax=ax[0]).set_title('Original', fontsize=15)\n",
    "sns.kdeplot(original+1, ax=ax[1], log_scale=True).set_title('log(x+1)', fontsize=15)\n",
    "sns.kdeplot(reciprocal, ax=ax[2]).set_title('reciprocal(x+1)', fontsize=15)\n",
    "sns.kdeplot(yeo_johnson.reshape(-1), ax=ax[3]).set_title('yeo_johnson', fontsize=15);"
   ]
  },
  {
   "cell_type": "code",
   "execution_count": null,
   "id": "innovative-meter",
   "metadata": {},
   "outputs": [],
   "source": []
  },
  {
   "cell_type": "markdown",
   "id": "suspended-tuner",
   "metadata": {
    "tags": []
   },
   "source": [
    "# Modelling"
   ]
  },
  {
   "cell_type": "markdown",
   "id": "common-correction",
   "metadata": {
    "tags": []
   },
   "source": [
    "## Data preparation"
   ]
  },
  {
   "cell_type": "markdown",
   "id": "collectible-metadata",
   "metadata": {
    "heading_collapsed": "true",
    "tags": []
   },
   "source": [
    "### Train test split"
   ]
  },
  {
   "cell_type": "code",
   "execution_count": null,
   "id": "coral-thong",
   "metadata": {},
   "outputs": [],
   "source": [
    "from sklearn.model_selection import train_test_split"
   ]
  },
  {
   "cell_type": "code",
   "execution_count": null,
   "id": "failing-thanks",
   "metadata": {},
   "outputs": [],
   "source": [
    "target = 'Converted'\n",
    "X = df_dummy.drop([target], axis=1)\n",
    "y = df_dummy[target]\n",
    "X_train, X_test, y_train, y_test = train_test_split(X, y, test_size=0.3, random_state=100)"
   ]
  },
  {
   "cell_type": "markdown",
   "id": "boolean-synthetic",
   "metadata": {
    "heading_collapsed": "true",
    "tags": []
   },
   "source": [
    "### Feature Scaling\n",
    "Using MinMaxScaler which scales the variables between 0 and 1, this will ensure that the continous variables at at the same scale as other binary features thus making model results more interpretable"
   ]
  },
  {
   "cell_type": "code",
   "execution_count": null,
   "id": "variable-highland",
   "metadata": {},
   "outputs": [],
   "source": [
    "from sklearn.preprocessing import MinMaxScaler \n",
    "scaler = MinMaxScaler()"
   ]
  },
  {
   "cell_type": "code",
   "execution_count": null,
   "id": "aging-twist",
   "metadata": {},
   "outputs": [],
   "source": [
    "to_scale = ['TotalVisits', 'Total Time Spent on Website']\n",
    "X_train[to_scale] = scaler.fit_transform(X_train[to_scale])\n",
    "X_test[to_scale] = scaler.transform(X_test[to_scale])"
   ]
  },
  {
   "cell_type": "code",
   "execution_count": null,
   "id": "sitting-sweet",
   "metadata": {},
   "outputs": [],
   "source": [
    "X_train.head()"
   ]
  },
  {
   "cell_type": "markdown",
   "id": "instant-election",
   "metadata": {
    "tags": []
   },
   "source": [
    "## Modelling"
   ]
  },
  {
   "cell_type": "markdown",
   "id": "isolated-programming",
   "metadata": {
    "heading_collapsed": "true",
    "tags": []
   },
   "source": [
    "### RFE"
   ]
  },
  {
   "cell_type": "code",
   "execution_count": null,
   "id": "appointed-grace",
   "metadata": {},
   "outputs": [],
   "source": [
    "from sklearn.linear_model import LogisticRegression\n",
    "from sklearn.feature_selection import RFE\n",
    "logreg = LogisticRegression(max_iter=500, )\n",
    "rfe = RFE(logreg, n_features_to_select=15)"
   ]
  },
  {
   "cell_type": "code",
   "execution_count": null,
   "id": "foreign-classroom",
   "metadata": {},
   "outputs": [],
   "source": [
    "rfe = rfe.fit(X_train, y_train)"
   ]
  },
  {
   "cell_type": "code",
   "execution_count": null,
   "id": "governmental-truth",
   "metadata": {
    "tags": []
   },
   "outputs": [],
   "source": [
    "rfe_df = pd.DataFrame(data=[X_train.columns, rfe.support_, rfe.ranking_],\n",
    "    index=['Features', 'Support', 'Ranking'],).T.sort_values('Ranking').reset_index(drop=True)\n",
    "rfe_df[:20]"
   ]
  },
  {
   "cell_type": "code",
   "execution_count": null,
   "id": "brazilian-elite",
   "metadata": {},
   "outputs": [],
   "source": [
    "rfe_cols = X_train.columns[rfe.support_]\n",
    "rfe_cols"
   ]
  },
  {
   "cell_type": "markdown",
   "id": "bored-short",
   "metadata": {
    "heading_collapsed": "true",
    "tags": []
   },
   "source": [
    "### Checking correlations"
   ]
  },
  {
   "cell_type": "code",
   "execution_count": null,
   "id": "cubic-patch",
   "metadata": {
    "tags": []
   },
   "outputs": [],
   "source": [
    "corr = X_train[rfe_cols].corr()\n",
    "mask  = np.zeros_like(corr)\n",
    "mask[np.triu_indices_from(mask)] = True\n",
    "f, ax = plt.subplots(figsize=(15,7))\n",
    "ax = sns.heatmap(corr,mask=mask, vmax=1, vmin=-1,cmap='vlag', annot=True, annot_kws={'fontsize':11})"
   ]
  },
  {
   "cell_type": "markdown",
   "id": "precious-morocco",
   "metadata": {
    "tags": []
   },
   "source": [
    "### Manual feature elimination"
   ]
  },
  {
   "cell_type": "markdown",
   "id": "unlimited-stress",
   "metadata": {
    "heading_collapsed": "true",
    "tags": []
   },
   "source": [
    "#### Model 1"
   ]
  },
  {
   "cell_type": "code",
   "execution_count": null,
   "id": "blocked-better",
   "metadata": {},
   "outputs": [],
   "source": [
    "import statsmodels.api as sm"
   ]
  },
  {
   "cell_type": "code",
   "execution_count": null,
   "id": "significant-reducing",
   "metadata": {},
   "outputs": [],
   "source": [
    "# Model 1\n",
    "X_train_C = sm.add_constant(X_train[rfe_cols])\n",
    "log_model1 = sm.GLM(y_train, X_train_C, sm.families.Binomial())\n",
    "res1 = log_model1.fit()"
   ]
  },
  {
   "cell_type": "code",
   "execution_count": null,
   "id": "heavy-pocket",
   "metadata": {},
   "outputs": [],
   "source": [
    "res1.summary()"
   ]
  },
  {
   "cell_type": "code",
   "execution_count": null,
   "id": "written-reynolds",
   "metadata": {},
   "outputs": [],
   "source": [
    "def make_train_pred(model_result: 'GLMResultsWrapper', X_C, y_actual, cutoff=0.5):\n",
    "    train_pred = pd.DataFrame({'pred_prob': model_result.predict(X_C), 'y_actual': y_actual})\n",
    "    train_pred.insert(column='y_pred', loc=1,\n",
    "        value=train_pred.pred_prob.map(lambda x: 1 if x>=cutoff else 0))\n",
    "    return train_pred\n",
    "\n",
    "train_pred = make_train_pred(res1, X_train_C, y_train)\n",
    "train_pred.head()"
   ]
  },
  {
   "cell_type": "code",
   "execution_count": null,
   "id": "preliminary-dietary",
   "metadata": {},
   "outputs": [],
   "source": [
    "from sklearn import metrics\n",
    "metrics.accuracy_score(train_pred.y_actual, train_pred.y_pred)"
   ]
  },
  {
   "cell_type": "code",
   "execution_count": null,
   "id": "athletic-onion",
   "metadata": {},
   "outputs": [],
   "source": [
    "metrics.recall_score(train_pred.y_actual, train_pred.y_pred)"
   ]
  },
  {
   "cell_type": "markdown",
   "id": "appropriate-employer",
   "metadata": {
    "heading_collapsed": "true",
    "tags": []
   },
   "source": [
    "#### Model 2\n",
    "Dropping `Country_Qatar`"
   ]
  },
  {
   "cell_type": "code",
   "execution_count": null,
   "id": "sunrise-honolulu",
   "metadata": {},
   "outputs": [],
   "source": [
    "cols = rfe_cols.drop('Country_Qatar')\n",
    "X_train_C = sm.add_constant(X_train[cols])\n",
    "log_model2 = sm.GLM(y_train, X_train_C, sm.families.Binomial())\n",
    "res2 = log_model2.fit()\n",
    "res2.summary()"
   ]
  },
  {
   "cell_type": "code",
   "execution_count": null,
   "id": "cordless-shark",
   "metadata": {},
   "outputs": [],
   "source": [
    "train_pred = make_train_pred(res2, X_train_C, y_train)\n",
    "metrics.accuracy_score(train_pred.y_actual, train_pred.y_pred)"
   ]
  },
  {
   "cell_type": "markdown",
   "id": "reliable-discount",
   "metadata": {
    "heading_collapsed": "true",
    "tags": []
   },
   "source": [
    "#### Model 3\n",
    "Dropping `What is your current occupation_Housewife`"
   ]
  },
  {
   "cell_type": "code",
   "execution_count": null,
   "id": "established-christmas",
   "metadata": {},
   "outputs": [],
   "source": [
    "cols = cols.drop('What is your current occupation_Housewife')\n",
    "X_train_C = sm.add_constant(X_train[cols])\n",
    "log_model3 = sm.GLM(y_train, X_train_C, sm.families.Binomial())\n",
    "res3 = log_model3.fit()\n",
    "res3.summary()"
   ]
  },
  {
   "cell_type": "code",
   "execution_count": null,
   "id": "outer-sixth",
   "metadata": {},
   "outputs": [],
   "source": [
    "train_pred = make_train_pred(res3, X_train_C, y_train)\n",
    "metrics.accuracy_score(train_pred.y_actual, train_pred.y_pred)"
   ]
  },
  {
   "cell_type": "markdown",
   "id": "grand-reward",
   "metadata": {
    "heading_collapsed": "true",
    "tags": []
   },
   "source": [
    "#### Model 4\n",
    "Dropping `Lead Source_google`"
   ]
  },
  {
   "cell_type": "code",
   "execution_count": null,
   "id": "impressive-mobile",
   "metadata": {},
   "outputs": [],
   "source": [
    "cols = cols.drop('Lead Source_google')\n",
    "X_train_C = sm.add_constant(X_train[cols])\n",
    "log_model4 = sm.GLM(y_train, X_train_C, sm.families.Binomial())\n",
    "res4 = log_model4.fit()\n",
    "res4.summary()"
   ]
  },
  {
   "cell_type": "code",
   "execution_count": null,
   "id": "consecutive-likelihood",
   "metadata": {},
   "outputs": [],
   "source": [
    "train_pred = make_train_pred(res4, X_train_C, y_train)\n",
    "metrics.accuracy_score(train_pred.y_actual, train_pred.y_pred)"
   ]
  },
  {
   "cell_type": "markdown",
   "id": "lucky-fishing",
   "metadata": {
    "tags": []
   },
   "source": [
    "#### Checking VIF"
   ]
  },
  {
   "cell_type": "code",
   "execution_count": null,
   "id": "dried-statistics",
   "metadata": {},
   "outputs": [],
   "source": [
    "from statsmodels.stats.outliers_influence import variance_inflation_factor as VIF\n",
    "[(col, VIF(X_train[cols].values, i)) for i,col in enumerate(cols)]"
   ]
  },
  {
   "cell_type": "markdown",
   "id": "religious-black",
   "metadata": {
    "heading_collapsed": "true",
    "tags": []
   },
   "source": [
    "#### Model 5\n",
    "Dropping `Lead Origin_Lead Add Form`  \n",
    "As `Lead Source_referenced` is more interpretable and actionable from business sense."
   ]
  },
  {
   "cell_type": "code",
   "execution_count": null,
   "id": "extensive-boost",
   "metadata": {},
   "outputs": [],
   "source": [
    "cols = cols.drop('Lead Origin_Lead Add Form')\n",
    "X_train_C = sm.add_constant(X_train[cols])\n",
    "log_model5 = sm.GLM(y_train, X_train_C, sm.families.Binomial())\n",
    "res5 = log_model5.fit()\n",
    "res5.summary()"
   ]
  },
  {
   "cell_type": "code",
   "execution_count": null,
   "id": "severe-laptop",
   "metadata": {},
   "outputs": [],
   "source": [
    "train_pred = make_train_pred(res5, X_train_C, y_train)\n",
    "metrics.accuracy_score(train_pred.y_actual, train_pred.y_pred)"
   ]
  },
  {
   "cell_type": "markdown",
   "id": "instant-publisher",
   "metadata": {
    "heading_collapsed": "true",
    "tags": []
   },
   "source": [
    "#### Model 6\n",
    "Dropping `Lead Source_Facebook`."
   ]
  },
  {
   "cell_type": "code",
   "execution_count": null,
   "id": "undefined-computer",
   "metadata": {},
   "outputs": [],
   "source": [
    "cols = cols.drop('Lead Source_Facebook')\n",
    "X_train_C = sm.add_constant(X_train[cols])\n",
    "log_model6 = sm.GLM(y_train, X_train_C, sm.families.Binomial())\n",
    "res6 = log_model6.fit()\n",
    "res6.summary()"
   ]
  },
  {
   "cell_type": "code",
   "execution_count": null,
   "id": "consistent-tradition",
   "metadata": {},
   "outputs": [],
   "source": [
    "train_pred = make_train_pred(res6, X_train_C, y_train)\n",
    "metrics.accuracy_score(train_pred.y_actual, train_pred.y_pred)"
   ]
  },
  {
   "cell_type": "markdown",
   "id": "fifth-antarctica",
   "metadata": {
    "tags": []
   },
   "source": [
    "#### Model 7\n",
    "Dropping `Country_Australia`."
   ]
  },
  {
   "cell_type": "code",
   "execution_count": null,
   "id": "vietnamese-floor",
   "metadata": {},
   "outputs": [],
   "source": [
    "cols = cols.drop('Country_Australia')\n",
    "X_train_C = sm.add_constant(X_train[cols])\n",
    "log_model7 = sm.GLM(y_train, X_train_C, sm.families.Binomial())\n",
    "res7 = log_model7.fit()\n",
    "res7.summary()"
   ]
  },
  {
   "cell_type": "code",
   "execution_count": null,
   "id": "illegal-objective",
   "metadata": {},
   "outputs": [],
   "source": [
    "train_pred = make_train_pred(res7, X_train_C, y_train)\n",
    "metrics.accuracy_score(train_pred.y_actual, train_pred.y_pred)"
   ]
  },
  {
   "cell_type": "markdown",
   "id": "anticipated-therapist",
   "metadata": {
    "heading_collapsed": "true",
    "tags": []
   },
   "source": [
    "#### Checking VIF"
   ]
  },
  {
   "cell_type": "code",
   "execution_count": null,
   "id": "athletic-philosophy",
   "metadata": {},
   "outputs": [],
   "source": [
    "from statsmodels.stats.outliers_influence import variance_inflation_factor as VIF\n",
    "[(col, VIF(X_train[cols].values, i)) for i,col in enumerate(cols)]"
   ]
  },
  {
   "cell_type": "markdown",
   "id": "perceived-shuttle",
   "metadata": {
    "heading_collapsed": "true",
    "tags": []
   },
   "source": [
    "#### Model 8\n",
    "Dropping `What is your current occupation_Unemployed`."
   ]
  },
  {
   "cell_type": "code",
   "execution_count": null,
   "id": "possible-shore",
   "metadata": {},
   "outputs": [],
   "source": [
    "cols = cols.drop('What is your current occupation_Unemployed')\n",
    "X_train_C = sm.add_constant(X_train[cols])\n",
    "log_model8 = sm.GLM(y_train, X_train_C, sm.families.Binomial())\n",
    "res8 = log_model8.fit()\n",
    "res8.summary()"
   ]
  },
  {
   "cell_type": "code",
   "execution_count": null,
   "id": "obvious-voluntary",
   "metadata": {},
   "outputs": [],
   "source": [
    "train_pred = make_train_pred(res8, X_train_C, y_train)\n",
    "metrics.accuracy_score(train_pred.y_actual, train_pred.y_pred)"
   ]
  },
  {
   "cell_type": "markdown",
   "id": "successful-master",
   "metadata": {
    "heading_collapsed": "true",
    "tags": []
   },
   "source": [
    "#### Model 9\n",
    "Dropping `What is your current occupation_Other`."
   ]
  },
  {
   "cell_type": "code",
   "execution_count": null,
   "id": "middle-microphone",
   "metadata": {},
   "outputs": [],
   "source": [
    "cols = cols.drop('What is your current occupation_Other')\n",
    "X_train_C = sm.add_constant(X_train[cols])\n",
    "log_model9 = sm.GLM(y_train, X_train_C, sm.families.Binomial())\n",
    "res9 = log_model9.fit()\n",
    "res9.summary()"
   ]
  },
  {
   "cell_type": "code",
   "execution_count": null,
   "id": "offshore-accountability",
   "metadata": {},
   "outputs": [],
   "source": [
    "train_pred = make_train_pred(res9, X_train_C, y_train)\n",
    "metrics.accuracy_score(train_pred.y_actual, train_pred.y_pred)"
   ]
  },
  {
   "cell_type": "markdown",
   "id": "touched-reward",
   "metadata": {
    "tags": []
   },
   "source": [
    "#### Model 10\n",
    "Dropping `What is your current occupation_Student`."
   ]
  },
  {
   "cell_type": "code",
   "execution_count": null,
   "id": "lovely-sensitivity",
   "metadata": {},
   "outputs": [],
   "source": [
    "cols = cols.drop('What is your current occupation_Student')\n",
    "X_train_C = sm.add_constant(X_train[cols])\n",
    "log_model10 = sm.GLM(y_train, X_train_C, sm.families.Binomial())\n",
    "res10 = log_model10.fit()\n",
    "res10.summary()"
   ]
  },
  {
   "cell_type": "code",
   "execution_count": null,
   "id": "searching-military",
   "metadata": {},
   "outputs": [],
   "source": [
    "train_pred = make_train_pred(res10, X_train_C, y_train)\n",
    "metrics.accuracy_score(train_pred.y_actual, train_pred.y_pred)"
   ]
  },
  {
   "cell_type": "markdown",
   "id": "minus-staff",
   "metadata": {
    "tags": []
   },
   "source": [
    "#### Checking VIF"
   ]
  },
  {
   "cell_type": "code",
   "execution_count": null,
   "id": "distributed-trance",
   "metadata": {},
   "outputs": [],
   "source": [
    "from statsmodels.stats.outliers_influence import variance_inflation_factor as VIF\n",
    "[(col, VIF(X_train[cols].values, i)) for i,col in enumerate(cols)]"
   ]
  },
  {
   "cell_type": "code",
   "execution_count": null,
   "id": "banner-showcase",
   "metadata": {},
   "outputs": [],
   "source": []
  },
  {
   "cell_type": "markdown",
   "id": "cultural-hanging",
   "metadata": {
    "tags": []
   },
   "source": [
    "## Metrics"
   ]
  },
  {
   "cell_type": "code",
   "execution_count": null,
   "id": "closed-monitoring",
   "metadata": {},
   "outputs": [],
   "source": [
    "final_model = log_model10\n",
    "result = final_model.fit()"
   ]
  },
  {
   "cell_type": "code",
   "execution_count": 65,
   "id": "nasty-climate",
   "metadata": {},
   "outputs": [
    {
     "data": {
      "text/plain": [
       "array([[3508,  494],\n",
       "       [ 939, 1527]])"
      ]
     },
     "execution_count": 65,
     "metadata": {},
     "output_type": "execute_result"
    }
   ],
   "source": [
    "train_pred = make_train_pred(result, X_train_C, y_train, cutoff=0.5)\n",
    "confusion_matrix = metrics.confusion_matrix(train_pred.y_actual, train_pred.y_pred)\n",
    "confusion_matrix"
   ]
  },
  {
   "cell_type": "markdown",
   "id": "great-junction",
   "metadata": {
    "tags": []
   },
   "source": [
    "### ROC curve"
   ]
  },
  {
   "cell_type": "code",
   "execution_count": 66,
   "id": "normal-lecture",
   "metadata": {},
   "outputs": [
    {
     "data": {
      "image/png": "[encoded data removed]",
      "text/plain": [
       "<Figure size 400x400 with 1 Axes>"
      ]
     },
     "metadata": {},
     "output_type": "display_data"
    }
   ],
   "source": [
    "def roc_curve_plot(train_pred):\n",
    "    FPR, TPR, thresholds = metrics.roc_curve(train_pred.y_actual, train_pred.pred_prob)\n",
    "    AUC_roc = metrics.roc_auc_score(train_pred.y_actual, train_pred.pred_prob)\n",
    "    plt.figure(figsize=(5,5), dpi=80)\n",
    "    curve, = plt.plot(FPR, TPR) #comma is used because otherwise legend does not work\n",
    "    bounds = plt.plot([0,0], [0,1], [1,1], c='grey', alpha=0.5,)\n",
    "    no_skill_line, = plt.plot([0,1], c='grey', linestyle='--')\n",
    "    AUC_curve = plt.fill_between(FPR, TPR, 1, color=(1,1,.9))\n",
    "    plt.legend([curve, AUC_curve],\n",
    "               ['ROC curve', f'Area={AUC_roc:1.2}'],\n",
    "               prop={'family':'serif', 'weight':'roman'})\n",
    "    plt.xlabel('False Positive Rate')\n",
    "    plt.plot();\n",
    "roc_curve_plot(train_pred)"
   ]
  },
  {
   "cell_type": "markdown",
   "id": "trained-linux",
   "metadata": {
    "tags": []
   },
   "source": [
    "### Finding optimal cutoff"
   ]
  },
  {
   "cell_type": "markdown",
   "id": "meaning-frank",
   "metadata": {
    "tags": []
   },
   "source": [
    "#### Sensitivity - Specificity tradeoff"
   ]
  },
  {
   "cell_type": "code",
   "execution_count": 67,
   "id": "naked-balloon",
   "metadata": {},
   "outputs": [
    {
     "data": {
      "text/html": [
       "<div>\n",
       "<style scoped>\n",
       "    .dataframe tbody tr th:only-of-type {\n",
       "        vertical-align: middle;\n",
       "    }\n",
       "\n",
       "    .dataframe tbody tr th {\n",
       "        vertical-align: top;\n",
       "    }\n",
       "\n",
       "    .dataframe thead th {\n",
       "        text-align: right;\n",
       "    }\n",
       "</style>\n",
       "<table border=\"1\" class=\"dataframe\">\n",
       "  <thead>\n",
       "    <tr style=\"text-align: right;\">\n",
       "      <th></th>\n",
       "      <th>Accuracy</th>\n",
       "      <th>Sensitivity</th>\n",
       "      <th>Specificity</th>\n",
       "    </tr>\n",
       "  </thead>\n",
       "  <tbody>\n",
       "    <tr>\n",
       "      <th>0.959596</th>\n",
       "      <td>0.676252</td>\n",
       "      <td>0.156123</td>\n",
       "      <td>0.996752</td>\n",
       "    </tr>\n",
       "    <tr>\n",
       "      <th>0.969697</th>\n",
       "      <td>0.669295</td>\n",
       "      <td>0.137064</td>\n",
       "      <td>0.997251</td>\n",
       "    </tr>\n",
       "    <tr>\n",
       "      <th>0.979798</th>\n",
       "      <td>0.649351</td>\n",
       "      <td>0.083131</td>\n",
       "      <td>0.998251</td>\n",
       "    </tr>\n",
       "    <tr>\n",
       "      <th>0.989899</th>\n",
       "      <td>0.627396</td>\n",
       "      <td>0.023925</td>\n",
       "      <td>0.999250</td>\n",
       "    </tr>\n",
       "    <tr>\n",
       "      <th>1.000000</th>\n",
       "      <td>0.618738</td>\n",
       "      <td>0.000000</td>\n",
       "      <td>1.000000</td>\n",
       "    </tr>\n",
       "  </tbody>\n",
       "</table>\n",
       "</div>"
      ],
      "text/plain": [
       "          Accuracy  Sensitivity  Specificity\n",
       "0.959596  0.676252     0.156123     0.996752\n",
       "0.969697  0.669295     0.137064     0.997251\n",
       "0.979798  0.649351     0.083131     0.998251\n",
       "0.989899  0.627396     0.023925     0.999250\n",
       "1.000000  0.618738     0.000000     1.000000"
      ]
     },
     "execution_count": 67,
     "metadata": {},
     "output_type": "execute_result"
    }
   ],
   "source": [
    "def sensitivity_specificity(model_result, X_train_C, y_train, n_points=11):\n",
    "    cutoff_space = np.linspace(0,1,n_points)\n",
    "\n",
    "    accuracy = metrics.accuracy_score\n",
    "    sensitivity = metrics.recall_score\n",
    "    def specificity(y_true, y_pred):\n",
    "        TN, FP, FN, TP = metrics.confusion_matrix(y_true, y_pred).ravel()\n",
    "        return TN / (TN+FP)\n",
    "    \n",
    "    train_pred_array = [make_train_pred(model_result, X_train_C, y_train, cutoff=i)\n",
    "         for i in cutoff_space]\n",
    "    acc_sens_spec = pd.DataFrame(\n",
    "        index=cutoff_space,\n",
    "        columns=['Accuracy', 'Sensitivity', 'Specificity'],\n",
    "        data=[[accuracy(ich_ktff.y_actual, ich_ktff.y_pred),\n",
    "            sensitivity(ich_ktff.y_actual, ich_ktff.y_pred),\n",
    "            specificity(ich_ktff.y_actual, ich_ktff.y_pred)] \n",
    "                                     for ich_ktff in train_pred_array])\n",
    "    return acc_sens_spec\n",
    "sens_spec = sensitivity_specificity(result, X_train_C, y_train, 100)\n",
    "sens_spec.tail()"
   ]
  },
  {
   "cell_type": "code",
   "execution_count": 68,
   "id": "sensitive-porcelain",
   "metadata": {},
   "outputs": [
    {
     "name": "stdout",
     "output_type": "stream",
     "text": [
      "optimal cutoff =  0.24\n"
     ]
    },
    {
     "data": {
      "image/png": "[encoded data removed]",
      "text/plain": [
       "<Figure size 432x288 with 1 Axes>"
      ]
     },
     "metadata": {},
     "output_type": "display_data"
    }
   ],
   "source": [
    "fig = sens_spec.plot(y=['Specificity', 'Sensitivity', 'Accuracy'])#color=[(),                              (0.27698, 0.46153, 0.93309)])\n",
    "cutoff = sens_spec[np.isclose(sens_spec.Specificity, sens_spec.Sensitivity, atol=1e-2)]\n",
    "cutoff = np.mean(cutoff.index)\n",
    "print('optimal cutoff = ',cutoff.round(2))\n",
    "plt.vlines(cutoff, 0,1, color='grey', alpha=.5, linestyle='--');"
   ]
  },
  {
   "cell_type": "markdown",
   "id": "smoking-adapter",
   "metadata": {
    "tags": []
   },
   "source": [
    "#### Precision - Recall tradeoff"
   ]
  },
  {
   "cell_type": "code",
   "execution_count": 69,
   "id": "headed-vinyl",
   "metadata": {},
   "outputs": [
    {
     "name": "stdout",
     "output_type": "stream",
     "text": [
      "optimal cutoff =  0.35\n"
     ]
    },
    {
     "data": {
      "image/png": "[encoded data removed]",
      "text/plain": [
       "<Figure size 432x288 with 1 Axes>"
      ]
     },
     "metadata": {},
     "output_type": "display_data"
    }
   ],
   "source": [
    "precision, recall, thresholds = metrics.precision_recall_curve(\n",
    "                                                y_true=train_pred.y_actual,\n",
    "                                                probas_pred=train_pred.pred_prob)\n",
    "precision, recall = precision[:-1], recall[:-1]\n",
    "p, = plt.plot(thresholds, precision)\n",
    "r, = plt.plot(thresholds, recall)\n",
    "#Finding optimal cutoff\n",
    "cutoff = np.median(thresholds[np.isclose(precision, recall, rtol=1e-3)])\n",
    "print('optimal cutoff = ',np.median(cutoff).round(2))\n",
    "plt.vlines(cutoff, 0,1, color='grey', alpha=.5, linestyle='--',label='ueau')\n",
    "plt.legend([p,r],['precision','recall']);"
   ]
  },
  {
   "cell_type": "markdown",
   "id": "formed-tuition",
   "metadata": {
    "heading_collapsed": "true",
    "tags": []
   },
   "source": [
    "## Remodelling\n",
    "This is the final model in which a somewhat optimum cutoff of `0.3` was used for classifier.  \n",
    "This decision was made because after ~0.34, the precision does not increase much, recall drops drastically and that is not desirable, it means the model has become less sensitive to potential conversion of leads. "
   ]
  },
  {
   "cell_type": "code",
   "execution_count": 70,
   "id": "existing-northern",
   "metadata": {
    "tags": []
   },
   "outputs": [
    {
     "data": {
      "text/html": [
       "<table class=\"simpletable\">\n",
       "<caption>Generalized Linear Model Regression Results</caption>\n",
       "<tr>\n",
       "  <th>Dep. Variable:</th>       <td>Converted</td>    <th>  No. Observations:  </th>  <td>  6468</td> \n",
       "</tr>\n",
       "<tr>\n",
       "  <th>Model:</th>                  <td>GLM</td>       <th>  Df Residuals:      </th>  <td>  6461</td> \n",
       "</tr>\n",
       "<tr>\n",
       "  <th>Model Family:</th>        <td>Binomial</td>     <th>  Df Model:          </th>  <td>     6</td> \n",
       "</tr>\n",
       "<tr>\n",
       "  <th>Link Function:</th>         <td>logit</td>      <th>  Scale:             </th> <td>  1.0000</td>\n",
       "</tr>\n",
       "<tr>\n",
       "  <th>Method:</th>                <td>IRLS</td>       <th>  Log-Likelihood:    </th> <td> -3107.8</td>\n",
       "</tr>\n",
       "<tr>\n",
       "  <th>Date:</th>            <td>Mon, 12 Apr 2021</td> <th>  Deviance:          </th> <td>  6215.6</td>\n",
       "</tr>\n",
       "<tr>\n",
       "  <th>Time:</th>                <td>22:32:07</td>     <th>  Pearson chi2:      </th> <td>7.87e+03</td>\n",
       "</tr>\n",
       "<tr>\n",
       "  <th>No. Iterations:</th>          <td>7</td>        <th>                     </th>     <td> </td>   \n",
       "</tr>\n",
       "<tr>\n",
       "  <th>Covariance Type:</th>     <td>nonrobust</td>    <th>                     </th>     <td> </td>   \n",
       "</tr>\n",
       "</table>\n",
       "<table class=\"simpletable\">\n",
       "<tr>\n",
       "                            <td></td>                              <th>coef</th>     <th>std err</th>      <th>z</th>      <th>P>|z|</th>  <th>[0.025</th>    <th>0.975]</th>  \n",
       "</tr>\n",
       "<tr>\n",
       "  <th>const</th>                                                <td>   -2.1451</td> <td>    0.066</td> <td>  -32.316</td> <td> 0.000</td> <td>   -2.275</td> <td>   -2.015</td>\n",
       "</tr>\n",
       "<tr>\n",
       "  <th>TotalVisits</th>                                          <td>    4.0024</td> <td>    1.633</td> <td>    2.451</td> <td> 0.014</td> <td>    0.801</td> <td>    7.203</td>\n",
       "</tr>\n",
       "<tr>\n",
       "  <th>Total Time Spent on Website</th>                          <td>    4.4675</td> <td>    0.151</td> <td>   29.661</td> <td> 0.000</td> <td>    4.172</td> <td>    4.763</td>\n",
       "</tr>\n",
       "<tr>\n",
       "  <th>Lead Source_Olark Chat</th>                               <td>    0.7908</td> <td>    0.094</td> <td>    8.457</td> <td> 0.000</td> <td>    0.608</td> <td>    0.974</td>\n",
       "</tr>\n",
       "<tr>\n",
       "  <th>Lead Source_Reference</th>                                <td>    3.8385</td> <td>    0.198</td> <td>   19.338</td> <td> 0.000</td> <td>    3.449</td> <td>    4.228</td>\n",
       "</tr>\n",
       "<tr>\n",
       "  <th>Lead Source_Welingak Website</th>                         <td>    5.7895</td> <td>    0.719</td> <td>    8.053</td> <td> 0.000</td> <td>    4.380</td> <td>    7.199</td>\n",
       "</tr>\n",
       "<tr>\n",
       "  <th>What is your current occupation_Working Professional</th> <td>    2.8626</td> <td>    0.179</td> <td>   16.018</td> <td> 0.000</td> <td>    2.512</td> <td>    3.213</td>\n",
       "</tr>\n",
       "</table>"
      ],
      "text/plain": [
       "<class 'statsmodels.iolib.summary.Summary'>\n",
       "\"\"\"\n",
       "                 Generalized Linear Model Regression Results                  \n",
       "==============================================================================\n",
       "Dep. Variable:              Converted   No. Observations:                 6468\n",
       "Model:                            GLM   Df Residuals:                     6461\n",
       "Model Family:                Binomial   Df Model:                            6\n",
       "Link Function:                  logit   Scale:                          1.0000\n",
       "Method:                          IRLS   Log-Likelihood:                -3107.8\n",
       "Date:                Mon, 12 Apr 2021   Deviance:                       6215.6\n",
       "Time:                        22:32:07   Pearson chi2:                 7.87e+03\n",
       "No. Iterations:                     7                                         \n",
       "Covariance Type:            nonrobust                                         \n",
       "========================================================================================================================\n",
       "                                                           coef    std err          z      P>|z|      [0.025      0.975]\n",
       "------------------------------------------------------------------------------------------------------------------------\n",
       "const                                                   -2.1451      0.066    -32.316      0.000      -2.275      -2.015\n",
       "TotalVisits                                              4.0024      1.633      2.451      0.014       0.801       7.203\n",
       "Total Time Spent on Website                              4.4675      0.151     29.661      0.000       4.172       4.763\n",
       "Lead Source_Olark Chat                                   0.7908      0.094      8.457      0.000       0.608       0.974\n",
       "Lead Source_Reference                                    3.8385      0.198     19.338      0.000       3.449       4.228\n",
       "Lead Source_Welingak Website                             5.7895      0.719      8.053      0.000       4.380       7.199\n",
       "What is your current occupation_Working Professional     2.8626      0.179     16.018      0.000       2.512       3.213\n",
       "========================================================================================================================\n",
       "\"\"\""
      ]
     },
     "execution_count": 70,
     "metadata": {},
     "output_type": "execute_result"
    }
   ],
   "source": [
    "X_train_C = sm.add_constant(X_train[cols])\n",
    "X_test_C = sm.add_constant(X_test[cols])\n",
    "scaled_model = sm.GLM(y_train, X_train_C, sm.families.Binomial())\n",
    "result = scaled_model.fit()\n",
    "result.summary()"
   ]
  },
  {
   "cell_type": "markdown",
   "id": "pediatric-environment",
   "metadata": {},
   "source": [
    "### Making classifier"
   ]
  },
  {
   "cell_type": "code",
   "execution_count": 71,
   "id": "distributed-niagara",
   "metadata": {},
   "outputs": [],
   "source": [
    "cutoff=0.30\n",
    "train_results = make_train_pred(result, X_train_C, y_train, cutoff) \n",
    "test_results = make_train_pred(result, X_test_C, y_test, cutoff)"
   ]
  },
  {
   "cell_type": "code",
   "execution_count": 72,
   "id": "experimental-study",
   "metadata": {},
   "outputs": [
    {
     "name": "stdout",
     "output_type": "stream",
     "text": [
      "Accuracy = 0.79 Sensitivity/Recall = 0.75   f1 score = 0.74\n",
      "Accuracy = 0.79 Sensitivity/Recall = 0.75   f1 score = 0.73\n"
     ]
    }
   ],
   "source": [
    "def get_acc_recall(train_pred: 'pd.DataFrame'):\n",
    "    \"\"\"\n",
    "    DataFrame with columns: ['pred_prob', 'y_pred', 'y_actual']\n",
    "    Returns: accuracy, sensitivity/recall\n",
    "    \"\"\"\n",
    "    a = metrics.accuracy_score(train_pred.y_actual, train_pred.y_pred)\n",
    "    s = metrics.recall_score(train_pred.y_actual, train_pred.y_pred)\n",
    "    f1 = metrics.f1_score(train_pred.y_actual, train_pred.y_pred)\n",
    "    print(f'Accuracy = {a:0.2} Sensitivity/Recall = {s:0.2}   f1 score = {f1:0.2}')\n",
    "get_acc_recall(train_results)\n",
    "get_acc_recall(test_results)"
   ]
  },
  {
   "cell_type": "code",
   "execution_count": null,
   "id": "differential-singles",
   "metadata": {},
   "outputs": [],
   "source": []
  },
  {
   "cell_type": "markdown",
   "id": "generous-beads",
   "metadata": {
    "tags": []
   },
   "source": [
    "# Questions"
   ]
  },
  {
   "cell_type": "markdown",
   "id": "opening-aside",
   "metadata": {},
   "source": [
    "####  1. Which are the top three variables in your model which contribute most towards the probability of a lead getting converted?"
   ]
  },
  {
   "cell_type": "code",
   "execution_count": 124,
   "id": "shared-indiana",
   "metadata": {},
   "outputs": [
    {
     "data": {
      "text/plain": [
       "TotalVisits                                             7.203441\n",
       "Lead Source_Welingak Website                            7.198532\n",
       "Total Time Spent on Website                             4.762696\n",
       "Lead Source_Reference                                   4.227539\n",
       "What is your current occupation_Working Professional    3.212838\n",
       "const                                                  -2.015019\n",
       "Lead Source_Olark Chat                                  0.974057\n",
       "Name: 1, dtype: float64"
      ]
     },
     "execution_count": 124,
     "metadata": {},
     "output_type": "execute_result"
    }
   ],
   "source": [
    "coefficients = result.conf_int()\n",
    "coeff_absolute_top3_indices = coefficients.abs().sort_values(by=1,ascending=False).index\n",
    "coefficients.loc[coeff_absolute_top3_indices,1]"
   ]
  },
  {
   "cell_type": "markdown",
   "id": "patent-policy",
   "metadata": {},
   "source": [
    "#### 2. What are the top 3 categorical/dummy variables in the model which should be focused the most on in order to increase the probability of lead conversion?"
   ]
  },
  {
   "cell_type": "markdown",
   "id": "moving-hollywood",
   "metadata": {},
   "source": [
    "Top three variables that should be focust the most are \n",
    "1. `Referenced`: Leads who are referenced by some faculty etc have more chances to get converted. Hence company can have courses which are more likely to be referenced by faculties. It can also work with top faculties, to make content. \n",
    "1. `Working Professional`: In addition to the above path, company can have another set of courses which are made specifically for working professionals. More analysis can be done to find out the needs of working professionals. Courses which are for academic circles are usually larger so those courses can be cutshort into a 'made-for-professionals' version.\n",
    "1. `Total Time Spent on Website`: The website's design can be improved. \n"
   ]
  },
  {
   "cell_type": "markdown",
   "id": "bibliographic-victory",
   "metadata": {},
   "source": [
    "#### 3. X Education has a period of 2 months every year during which they hire some interns. The sales team, in particular, has around 10 interns allotted to them. So during this phase, they wish to make the lead conversion more aggressive. So they want almost all of the potential leads (i.e. the customers who have been predicted as 1 by the model) to be converted and hence, want to make phone calls to as much of such people as possible. Suggest a good strategy they should employ at this stage."
   ]
  },
  {
   "cell_type": "markdown",
   "id": "operational-postage",
   "metadata": {},
   "source": [
    "Interns should be tasked to call as many leads as possible. Addionaly, during that time, the model's threshold can be set a bit lower so that none of the potential leads are rejected. In other words, a more sensitive (true positive rate) should be deployed."
   ]
  },
  {
   "cell_type": "markdown",
   "id": "caring-shooting",
   "metadata": {},
   "source": [
    "#### 4. Similarly, at times, the company reaches its target for a quarter before the deadline. During this time, the company wants the sales team to focus on some new work as well. So during this time, the company’s aim is to not make phone calls unless it’s extremely necessary, i.e. they want to minimize the rate of useless phone calls. Suggest a strategy they should employ at this stage."
   ]
  },
  {
   "cell_type": "markdown",
   "id": "limiting-syria",
   "metadata": {},
   "source": [
    "Interns should be asked to make calls and then engage with working professionals and people who can refer students.  \n",
    "To understand what exactly are their needs and then keep a close loop with the data science team so that they can plan about what the next project will \n",
    "be, what kind of targeting shall be done, and for that what kind of data is needed, the sales team and other teamns can then work on to get that data."
   ]
  },
  {
   "cell_type": "code",
   "execution_count": null,
   "id": "threatened-elevation",
   "metadata": {},
   "outputs": [],
   "source": []
  },
  {
   "cell_type": "code",
   "execution_count": null,
   "id": "pending-montana",
   "metadata": {},
   "outputs": [],
   "source": []
  },
  {
   "cell_type": "code",
   "execution_count": null,
   "id": "forty-wallace",
   "metadata": {},
   "outputs": [],
   "source": []
  },
  {
   "cell_type": "code",
   "execution_count": null,
   "id": "parallel-rainbow",
   "metadata": {},
   "outputs": [],
   "source": []
  },
  {
   "cell_type": "code",
   "execution_count": null,
   "id": "elder-profession",
   "metadata": {},
   "outputs": [],
   "source": []
  },
  {
   "cell_type": "code",
   "execution_count": null,
   "id": "orange-identifier",
   "metadata": {},
   "outputs": [],
   "source": []
  }
 ],
 "metadata": {
  "kernelspec": {
   "display_name": "Python 3",
   "language": "python",
   "name": "python3"
  },
  "language_info": {
   "codemirror_mode": {
    "name": "ipython",
    "version": 3
   },
   "file_extension": ".py",
   "mimetype": "text/x-python",
   "name": "python",
   "nbconvert_exporter": "python",
   "pygments_lexer": "ipython3",
   "version": "3.8.5"
  },
  "widgets": {
   "application/vnd.jupyter.widget-state+json": {
    "state": {},
    "version_major": 2,
    "version_minor": 0
   }
  }
 },
 "nbformat": 4,
 "nbformat_minor": 5
}
