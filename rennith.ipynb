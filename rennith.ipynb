{
 "cells": [
  {
   "cell_type": "code",
   "execution_count": 102,
   "id": "fundamental-finland",
   "metadata": {},
   "outputs": [],
   "source": [
    "import pandas as pd\n",
    "import numpy as np\n",
    "pd.set_option('display.max_rows', 1000)\n",
    "pd.set_option('display.max_columns', 500)\n",
    "import matplotlib.pyplot as plt\n",
    "import seaborn as sns"
   ]
  },
  {
   "cell_type": "code",
   "execution_count": 103,
   "id": "thousand-weekend",
   "metadata": {},
   "outputs": [],
   "source": [
    "pd.set_option('display.max_colwidth', 30)\n",
    "df = pd.read_csv('Leads.csv')"
   ]
  },
  {
   "cell_type": "code",
   "execution_count": 104,
   "id": "invisible-anatomy",
   "metadata": {},
   "outputs": [
    {
     "data": {
      "text/html": [
       "<div>\n",
       "<style scoped>\n",
       "    .dataframe tbody tr th:only-of-type {\n",
       "        vertical-align: middle;\n",
       "    }\n",
       "\n",
       "    .dataframe tbody tr th {\n",
       "        vertical-align: top;\n",
       "    }\n",
       "\n",
       "    .dataframe thead th {\n",
       "        text-align: right;\n",
       "    }\n",
       "</style>\n",
       "<table border=\"1\" class=\"dataframe\">\n",
       "  <thead>\n",
       "    <tr style=\"text-align: right;\">\n",
       "      <th></th>\n",
       "      <th>Prospect ID</th>\n",
       "      <th>Lead Number</th>\n",
       "      <th>Lead Origin</th>\n",
       "      <th>Lead Source</th>\n",
       "      <th>Do Not Email</th>\n",
       "      <th>Do Not Call</th>\n",
       "      <th>Converted</th>\n",
       "      <th>TotalVisits</th>\n",
       "      <th>Total Time Spent on Website</th>\n",
       "      <th>Page Views Per Visit</th>\n",
       "      <th>Last Activity</th>\n",
       "      <th>Country</th>\n",
       "      <th>Specialization</th>\n",
       "      <th>How did you hear about X Education</th>\n",
       "      <th>What is your current occupation</th>\n",
       "      <th>What matters most to you in choosing a course</th>\n",
       "      <th>Search</th>\n",
       "      <th>Magazine</th>\n",
       "      <th>Newspaper Article</th>\n",
       "      <th>X Education Forums</th>\n",
       "      <th>Newspaper</th>\n",
       "      <th>Digital Advertisement</th>\n",
       "      <th>Through Recommendations</th>\n",
       "      <th>Receive More Updates About Our Courses</th>\n",
       "      <th>Tags</th>\n",
       "      <th>Lead Quality</th>\n",
       "      <th>Update me on Supply Chain Content</th>\n",
       "      <th>Get updates on DM Content</th>\n",
       "      <th>Lead Profile</th>\n",
       "      <th>City</th>\n",
       "      <th>Asymmetrique Activity Index</th>\n",
       "      <th>Asymmetrique Profile Index</th>\n",
       "      <th>Asymmetrique Activity Score</th>\n",
       "      <th>Asymmetrique Profile Score</th>\n",
       "      <th>I agree to pay the amount through cheque</th>\n",
       "      <th>A free copy of Mastering The Interview</th>\n",
       "      <th>Last Notable Activity</th>\n",
       "    </tr>\n",
       "  </thead>\n",
       "  <tbody>\n",
       "    <tr>\n",
       "      <th>0</th>\n",
       "      <td>7927b2df-8bba-4d29-b9a2-b6...</td>\n",
       "      <td>660737</td>\n",
       "      <td>API</td>\n",
       "      <td>Olark Chat</td>\n",
       "      <td>No</td>\n",
       "      <td>No</td>\n",
       "      <td>0</td>\n",
       "      <td>0.0</td>\n",
       "      <td>0</td>\n",
       "      <td>0.0</td>\n",
       "      <td>Page Visited on Website</td>\n",
       "      <td>NaN</td>\n",
       "      <td>Select</td>\n",
       "      <td>Select</td>\n",
       "      <td>Unemployed</td>\n",
       "      <td>Better Career Prospects</td>\n",
       "      <td>No</td>\n",
       "      <td>No</td>\n",
       "      <td>No</td>\n",
       "      <td>No</td>\n",
       "      <td>No</td>\n",
       "      <td>No</td>\n",
       "      <td>No</td>\n",
       "      <td>No</td>\n",
       "      <td>Interested in other courses</td>\n",
       "      <td>Low in Relevance</td>\n",
       "      <td>No</td>\n",
       "      <td>No</td>\n",
       "      <td>Select</td>\n",
       "      <td>Select</td>\n",
       "      <td>02.Medium</td>\n",
       "      <td>02.Medium</td>\n",
       "      <td>15.0</td>\n",
       "      <td>15.0</td>\n",
       "      <td>No</td>\n",
       "      <td>No</td>\n",
       "      <td>Modified</td>\n",
       "    </tr>\n",
       "    <tr>\n",
       "      <th>1</th>\n",
       "      <td>2a272436-5132-4136-86fa-dc...</td>\n",
       "      <td>660728</td>\n",
       "      <td>API</td>\n",
       "      <td>Organic Search</td>\n",
       "      <td>No</td>\n",
       "      <td>No</td>\n",
       "      <td>0</td>\n",
       "      <td>5.0</td>\n",
       "      <td>674</td>\n",
       "      <td>2.5</td>\n",
       "      <td>Email Opened</td>\n",
       "      <td>India</td>\n",
       "      <td>Select</td>\n",
       "      <td>Select</td>\n",
       "      <td>Unemployed</td>\n",
       "      <td>Better Career Prospects</td>\n",
       "      <td>No</td>\n",
       "      <td>No</td>\n",
       "      <td>No</td>\n",
       "      <td>No</td>\n",
       "      <td>No</td>\n",
       "      <td>No</td>\n",
       "      <td>No</td>\n",
       "      <td>No</td>\n",
       "      <td>Ringing</td>\n",
       "      <td>NaN</td>\n",
       "      <td>No</td>\n",
       "      <td>No</td>\n",
       "      <td>Select</td>\n",
       "      <td>Select</td>\n",
       "      <td>02.Medium</td>\n",
       "      <td>02.Medium</td>\n",
       "      <td>15.0</td>\n",
       "      <td>15.0</td>\n",
       "      <td>No</td>\n",
       "      <td>No</td>\n",
       "      <td>Email Opened</td>\n",
       "    </tr>\n",
       "    <tr>\n",
       "      <th>2</th>\n",
       "      <td>8cc8c611-a219-4f35-ad23-fd...</td>\n",
       "      <td>660727</td>\n",
       "      <td>Landing Page Submission</td>\n",
       "      <td>Direct Traffic</td>\n",
       "      <td>No</td>\n",
       "      <td>No</td>\n",
       "      <td>1</td>\n",
       "      <td>2.0</td>\n",
       "      <td>1532</td>\n",
       "      <td>2.0</td>\n",
       "      <td>Email Opened</td>\n",
       "      <td>India</td>\n",
       "      <td>Business Administration</td>\n",
       "      <td>Select</td>\n",
       "      <td>Student</td>\n",
       "      <td>Better Career Prospects</td>\n",
       "      <td>No</td>\n",
       "      <td>No</td>\n",
       "      <td>No</td>\n",
       "      <td>No</td>\n",
       "      <td>No</td>\n",
       "      <td>No</td>\n",
       "      <td>No</td>\n",
       "      <td>No</td>\n",
       "      <td>Will revert after reading ...</td>\n",
       "      <td>Might be</td>\n",
       "      <td>No</td>\n",
       "      <td>No</td>\n",
       "      <td>Potential Lead</td>\n",
       "      <td>Mumbai</td>\n",
       "      <td>02.Medium</td>\n",
       "      <td>01.High</td>\n",
       "      <td>14.0</td>\n",
       "      <td>20.0</td>\n",
       "      <td>No</td>\n",
       "      <td>Yes</td>\n",
       "      <td>Email Opened</td>\n",
       "    </tr>\n",
       "    <tr>\n",
       "      <th>3</th>\n",
       "      <td>0cc2df48-7cf4-4e39-9de9-19...</td>\n",
       "      <td>660719</td>\n",
       "      <td>Landing Page Submission</td>\n",
       "      <td>Direct Traffic</td>\n",
       "      <td>No</td>\n",
       "      <td>No</td>\n",
       "      <td>0</td>\n",
       "      <td>1.0</td>\n",
       "      <td>305</td>\n",
       "      <td>1.0</td>\n",
       "      <td>Unreachable</td>\n",
       "      <td>India</td>\n",
       "      <td>Media and Advertising</td>\n",
       "      <td>Word Of Mouth</td>\n",
       "      <td>Unemployed</td>\n",
       "      <td>Better Career Prospects</td>\n",
       "      <td>No</td>\n",
       "      <td>No</td>\n",
       "      <td>No</td>\n",
       "      <td>No</td>\n",
       "      <td>No</td>\n",
       "      <td>No</td>\n",
       "      <td>No</td>\n",
       "      <td>No</td>\n",
       "      <td>Ringing</td>\n",
       "      <td>Not Sure</td>\n",
       "      <td>No</td>\n",
       "      <td>No</td>\n",
       "      <td>Select</td>\n",
       "      <td>Mumbai</td>\n",
       "      <td>02.Medium</td>\n",
       "      <td>01.High</td>\n",
       "      <td>13.0</td>\n",
       "      <td>17.0</td>\n",
       "      <td>No</td>\n",
       "      <td>No</td>\n",
       "      <td>Modified</td>\n",
       "    </tr>\n",
       "    <tr>\n",
       "      <th>4</th>\n",
       "      <td>3256f628-e534-4826-9d63-4a...</td>\n",
       "      <td>660681</td>\n",
       "      <td>Landing Page Submission</td>\n",
       "      <td>Google</td>\n",
       "      <td>No</td>\n",
       "      <td>No</td>\n",
       "      <td>1</td>\n",
       "      <td>2.0</td>\n",
       "      <td>1428</td>\n",
       "      <td>1.0</td>\n",
       "      <td>Converted to Lead</td>\n",
       "      <td>India</td>\n",
       "      <td>Select</td>\n",
       "      <td>Other</td>\n",
       "      <td>Unemployed</td>\n",
       "      <td>Better Career Prospects</td>\n",
       "      <td>No</td>\n",
       "      <td>No</td>\n",
       "      <td>No</td>\n",
       "      <td>No</td>\n",
       "      <td>No</td>\n",
       "      <td>No</td>\n",
       "      <td>No</td>\n",
       "      <td>No</td>\n",
       "      <td>Will revert after reading ...</td>\n",
       "      <td>Might be</td>\n",
       "      <td>No</td>\n",
       "      <td>No</td>\n",
       "      <td>Select</td>\n",
       "      <td>Mumbai</td>\n",
       "      <td>02.Medium</td>\n",
       "      <td>01.High</td>\n",
       "      <td>15.0</td>\n",
       "      <td>18.0</td>\n",
       "      <td>No</td>\n",
       "      <td>No</td>\n",
       "      <td>Modified</td>\n",
       "    </tr>\n",
       "  </tbody>\n",
       "</table>\n",
       "</div>"
      ],
      "text/plain": [
       "                     Prospect ID  Lead Number              Lead Origin  \\\n",
       "0  7927b2df-8bba-4d29-b9a2-b6...       660737                      API   \n",
       "1  2a272436-5132-4136-86fa-dc...       660728                      API   \n",
       "2  8cc8c611-a219-4f35-ad23-fd...       660727  Landing Page Submission   \n",
       "3  0cc2df48-7cf4-4e39-9de9-19...       660719  Landing Page Submission   \n",
       "4  3256f628-e534-4826-9d63-4a...       660681  Landing Page Submission   \n",
       "\n",
       "      Lead Source Do Not Email Do Not Call  Converted  TotalVisits  \\\n",
       "0      Olark Chat           No          No          0          0.0   \n",
       "1  Organic Search           No          No          0          5.0   \n",
       "2  Direct Traffic           No          No          1          2.0   \n",
       "3  Direct Traffic           No          No          0          1.0   \n",
       "4          Google           No          No          1          2.0   \n",
       "\n",
       "   Total Time Spent on Website  Page Views Per Visit            Last Activity  \\\n",
       "0                            0                   0.0  Page Visited on Website   \n",
       "1                          674                   2.5             Email Opened   \n",
       "2                         1532                   2.0             Email Opened   \n",
       "3                          305                   1.0              Unreachable   \n",
       "4                         1428                   1.0        Converted to Lead   \n",
       "\n",
       "  Country           Specialization How did you hear about X Education  \\\n",
       "0     NaN                   Select                         Select       \n",
       "1   India                   Select                         Select       \n",
       "2   India  Business Administration                         Select       \n",
       "3   India    Media and Advertising                  Word Of Mouth       \n",
       "4   India                   Select                          Other       \n",
       "\n",
       "  What is your current occupation  \\\n",
       "0                     Unemployed    \n",
       "1                     Unemployed    \n",
       "2                        Student    \n",
       "3                     Unemployed    \n",
       "4                     Unemployed    \n",
       "\n",
       "  What matters most to you in choosing a course Search Magazine  \\\n",
       "0        Better Career Prospects                    No       No   \n",
       "1        Better Career Prospects                    No       No   \n",
       "2        Better Career Prospects                    No       No   \n",
       "3        Better Career Prospects                    No       No   \n",
       "4        Better Career Prospects                    No       No   \n",
       "\n",
       "  Newspaper Article X Education Forums Newspaper Digital Advertisement  \\\n",
       "0                No                 No        No                    No   \n",
       "1                No                 No        No                    No   \n",
       "2                No                 No        No                    No   \n",
       "3                No                 No        No                    No   \n",
       "4                No                 No        No                    No   \n",
       "\n",
       "  Through Recommendations Receive More Updates About Our Courses  \\\n",
       "0                      No                             No           \n",
       "1                      No                             No           \n",
       "2                      No                             No           \n",
       "3                      No                             No           \n",
       "4                      No                             No           \n",
       "\n",
       "                            Tags      Lead Quality  \\\n",
       "0    Interested in other courses  Low in Relevance   \n",
       "1                        Ringing               NaN   \n",
       "2  Will revert after reading ...          Might be   \n",
       "3                        Ringing          Not Sure   \n",
       "4  Will revert after reading ...          Might be   \n",
       "\n",
       "  Update me on Supply Chain Content Get updates on DM Content    Lead Profile  \\\n",
       "0                             No                           No          Select   \n",
       "1                             No                           No          Select   \n",
       "2                             No                           No  Potential Lead   \n",
       "3                             No                           No          Select   \n",
       "4                             No                           No          Select   \n",
       "\n",
       "     City Asymmetrique Activity Index Asymmetrique Profile Index  \\\n",
       "0  Select                   02.Medium                  02.Medium   \n",
       "1  Select                   02.Medium                  02.Medium   \n",
       "2  Mumbai                   02.Medium                    01.High   \n",
       "3  Mumbai                   02.Medium                    01.High   \n",
       "4  Mumbai                   02.Medium                    01.High   \n",
       "\n",
       "   Asymmetrique Activity Score  Asymmetrique Profile Score  \\\n",
       "0                         15.0                        15.0   \n",
       "1                         15.0                        15.0   \n",
       "2                         14.0                        20.0   \n",
       "3                         13.0                        17.0   \n",
       "4                         15.0                        18.0   \n",
       "\n",
       "  I agree to pay the amount through cheque  \\\n",
       "0                             No             \n",
       "1                             No             \n",
       "2                             No             \n",
       "3                             No             \n",
       "4                             No             \n",
       "\n",
       "  A free copy of Mastering The Interview Last Notable Activity  \n",
       "0                             No                      Modified  \n",
       "1                             No                  Email Opened  \n",
       "2                            Yes                  Email Opened  \n",
       "3                             No                      Modified  \n",
       "4                             No                      Modified  "
      ]
     },
     "execution_count": 104,
     "metadata": {},
     "output_type": "execute_result"
    }
   ],
   "source": [
    "df.head()"
   ]
  },
  {
   "cell_type": "code",
   "execution_count": 105,
   "id": "strong-machine",
   "metadata": {},
   "outputs": [
    {
     "data": {
      "text/html": [
       "<div>\n",
       "<style scoped>\n",
       "    .dataframe tbody tr th:only-of-type {\n",
       "        vertical-align: middle;\n",
       "    }\n",
       "\n",
       "    .dataframe tbody tr th {\n",
       "        vertical-align: top;\n",
       "    }\n",
       "\n",
       "    .dataframe thead th {\n",
       "        text-align: right;\n",
       "    }\n",
       "</style>\n",
       "<table border=\"1\" class=\"dataframe\">\n",
       "  <thead>\n",
       "    <tr style=\"text-align: right;\">\n",
       "      <th></th>\n",
       "      <th>Lead Number</th>\n",
       "      <th>Converted</th>\n",
       "      <th>TotalVisits</th>\n",
       "      <th>Total Time Spent on Website</th>\n",
       "      <th>Page Views Per Visit</th>\n",
       "      <th>Asymmetrique Activity Score</th>\n",
       "      <th>Asymmetrique Profile Score</th>\n",
       "    </tr>\n",
       "  </thead>\n",
       "  <tbody>\n",
       "    <tr>\n",
       "      <th>count</th>\n",
       "      <td>9240.000000</td>\n",
       "      <td>9240.000000</td>\n",
       "      <td>9103.000000</td>\n",
       "      <td>9240.000000</td>\n",
       "      <td>9103.000000</td>\n",
       "      <td>5022.000000</td>\n",
       "      <td>5022.000000</td>\n",
       "    </tr>\n",
       "    <tr>\n",
       "      <th>mean</th>\n",
       "      <td>617188.435606</td>\n",
       "      <td>0.385390</td>\n",
       "      <td>3.445238</td>\n",
       "      <td>487.698268</td>\n",
       "      <td>2.362820</td>\n",
       "      <td>14.306252</td>\n",
       "      <td>16.344883</td>\n",
       "    </tr>\n",
       "    <tr>\n",
       "      <th>std</th>\n",
       "      <td>23405.995698</td>\n",
       "      <td>0.486714</td>\n",
       "      <td>4.854853</td>\n",
       "      <td>548.021466</td>\n",
       "      <td>2.161418</td>\n",
       "      <td>1.386694</td>\n",
       "      <td>1.811395</td>\n",
       "    </tr>\n",
       "    <tr>\n",
       "      <th>min</th>\n",
       "      <td>579533.000000</td>\n",
       "      <td>0.000000</td>\n",
       "      <td>0.000000</td>\n",
       "      <td>0.000000</td>\n",
       "      <td>0.000000</td>\n",
       "      <td>7.000000</td>\n",
       "      <td>11.000000</td>\n",
       "    </tr>\n",
       "    <tr>\n",
       "      <th>25%</th>\n",
       "      <td>596484.500000</td>\n",
       "      <td>0.000000</td>\n",
       "      <td>1.000000</td>\n",
       "      <td>12.000000</td>\n",
       "      <td>1.000000</td>\n",
       "      <td>14.000000</td>\n",
       "      <td>15.000000</td>\n",
       "    </tr>\n",
       "    <tr>\n",
       "      <th>50%</th>\n",
       "      <td>615479.000000</td>\n",
       "      <td>0.000000</td>\n",
       "      <td>3.000000</td>\n",
       "      <td>248.000000</td>\n",
       "      <td>2.000000</td>\n",
       "      <td>14.000000</td>\n",
       "      <td>16.000000</td>\n",
       "    </tr>\n",
       "    <tr>\n",
       "      <th>75%</th>\n",
       "      <td>637387.250000</td>\n",
       "      <td>1.000000</td>\n",
       "      <td>5.000000</td>\n",
       "      <td>936.000000</td>\n",
       "      <td>3.000000</td>\n",
       "      <td>15.000000</td>\n",
       "      <td>18.000000</td>\n",
       "    </tr>\n",
       "    <tr>\n",
       "      <th>max</th>\n",
       "      <td>660737.000000</td>\n",
       "      <td>1.000000</td>\n",
       "      <td>251.000000</td>\n",
       "      <td>2272.000000</td>\n",
       "      <td>55.000000</td>\n",
       "      <td>18.000000</td>\n",
       "      <td>20.000000</td>\n",
       "    </tr>\n",
       "  </tbody>\n",
       "</table>\n",
       "</div>"
      ],
      "text/plain": [
       "         Lead Number    Converted  TotalVisits  Total Time Spent on Website  \\\n",
       "count    9240.000000  9240.000000  9103.000000                  9240.000000   \n",
       "mean   617188.435606     0.385390     3.445238                   487.698268   \n",
       "std     23405.995698     0.486714     4.854853                   548.021466   \n",
       "min    579533.000000     0.000000     0.000000                     0.000000   \n",
       "25%    596484.500000     0.000000     1.000000                    12.000000   \n",
       "50%    615479.000000     0.000000     3.000000                   248.000000   \n",
       "75%    637387.250000     1.000000     5.000000                   936.000000   \n",
       "max    660737.000000     1.000000   251.000000                  2272.000000   \n",
       "\n",
       "       Page Views Per Visit  Asymmetrique Activity Score  \\\n",
       "count           9103.000000                  5022.000000   \n",
       "mean               2.362820                    14.306252   \n",
       "std                2.161418                     1.386694   \n",
       "min                0.000000                     7.000000   \n",
       "25%                1.000000                    14.000000   \n",
       "50%                2.000000                    14.000000   \n",
       "75%                3.000000                    15.000000   \n",
       "max               55.000000                    18.000000   \n",
       "\n",
       "       Asymmetrique Profile Score  \n",
       "count                 5022.000000  \n",
       "mean                    16.344883  \n",
       "std                      1.811395  \n",
       "min                     11.000000  \n",
       "25%                     15.000000  \n",
       "50%                     16.000000  \n",
       "75%                     18.000000  \n",
       "max                     20.000000  "
      ]
     },
     "execution_count": 105,
     "metadata": {},
     "output_type": "execute_result"
    }
   ],
   "source": [
    "df.describe()"
   ]
  },
  {
   "cell_type": "code",
   "execution_count": 106,
   "id": "waiting-timber",
   "metadata": {},
   "outputs": [
    {
     "data": {
      "text/html": [
       "<div>\n",
       "<style scoped>\n",
       "    .dataframe tbody tr th:only-of-type {\n",
       "        vertical-align: middle;\n",
       "    }\n",
       "\n",
       "    .dataframe tbody tr th {\n",
       "        vertical-align: top;\n",
       "    }\n",
       "\n",
       "    .dataframe thead tr th {\n",
       "        text-align: left;\n",
       "    }\n",
       "</style>\n",
       "<table border=\"1\" class=\"dataframe\">\n",
       "  <thead>\n",
       "    <tr>\n",
       "      <th></th>\n",
       "      <th colspan=\"2\" halign=\"left\">City</th>\n",
       "    </tr>\n",
       "    <tr>\n",
       "      <th></th>\n",
       "      <th>Counts</th>\n",
       "      <th>Normalised</th>\n",
       "    </tr>\n",
       "  </thead>\n",
       "  <tbody>\n",
       "    <tr>\n",
       "      <th>Mumbai</th>\n",
       "      <td>3222</td>\n",
       "      <td>0.412020</td>\n",
       "    </tr>\n",
       "    <tr>\n",
       "      <th>Select</th>\n",
       "      <td>2249</td>\n",
       "      <td>0.287596</td>\n",
       "    </tr>\n",
       "    <tr>\n",
       "      <th>Thane &amp; Outskirts</th>\n",
       "      <td>752</td>\n",
       "      <td>0.096164</td>\n",
       "    </tr>\n",
       "    <tr>\n",
       "      <th>Other Cities</th>\n",
       "      <td>686</td>\n",
       "      <td>0.087724</td>\n",
       "    </tr>\n",
       "    <tr>\n",
       "      <th>Other Cities of Maharashtra</th>\n",
       "      <td>457</td>\n",
       "      <td>0.058440</td>\n",
       "    </tr>\n",
       "    <tr>\n",
       "      <th>Other Metro Cities</th>\n",
       "      <td>380</td>\n",
       "      <td>0.048593</td>\n",
       "    </tr>\n",
       "    <tr>\n",
       "      <th>Tier II Cities</th>\n",
       "      <td>74</td>\n",
       "      <td>0.009463</td>\n",
       "    </tr>\n",
       "  </tbody>\n",
       "</table>\n",
       "</div>"
      ],
      "text/plain": [
       "                              City           \n",
       "                            Counts Normalised\n",
       "Mumbai                        3222   0.412020\n",
       "Select                        2249   0.287596\n",
       "Thane & Outskirts              752   0.096164\n",
       "Other Cities                   686   0.087724\n",
       "Other Cities of Maharashtra    457   0.058440\n",
       "Other Metro Cities             380   0.048593\n",
       "Tier II Cities                  74   0.009463"
      ]
     },
     "execution_count": 106,
     "metadata": {},
     "output_type": "execute_result"
    }
   ],
   "source": [
    "def value_counts(series: 'pd.Series'):\n",
    "    \"\"\"\n",
    "    Outputs value counts of a pandas Series in the form\n",
    "    of a nice Dataframe.\n",
    "    \"\"\"\n",
    "    counts = pd.DataFrame(series.value_counts())\n",
    "    counts_norm = pd.DataFrame(series.value_counts(normalize=True))\n",
    "    df = pd.merge(counts, counts_norm, left_index=True, right_index=True)\n",
    "    df.columns = pd.MultiIndex.from_arrays(\n",
    "        [[series._name, series._name],\n",
    "         ['Counts', 'Normalised']])\n",
    "    return df\n",
    "value_counts(df['City'])"
   ]
  },
  {
   "cell_type": "code",
   "execution_count": 107,
   "id": "operational-vector",
   "metadata": {},
   "outputs": [
    {
     "data": {
      "text/plain": [
       "(9240, 37)"
      ]
     },
     "execution_count": 107,
     "metadata": {},
     "output_type": "execute_result"
    }
   ],
   "source": [
    "df.shape"
   ]
  },
  {
   "cell_type": "code",
   "execution_count": 108,
   "id": "boxed-harvest",
   "metadata": {},
   "outputs": [
    {
     "name": "stdout",
     "output_type": "stream",
     "text": [
      "<class 'pandas.core.frame.DataFrame'>\n",
      "RangeIndex: 9240 entries, 0 to 9239\n",
      "Data columns (total 37 columns):\n",
      " #   Column                                         Non-Null Count  Dtype  \n",
      "---  ------                                         --------------  -----  \n",
      " 0   Prospect ID                                    9240 non-null   object \n",
      " 1   Lead Number                                    9240 non-null   int64  \n",
      " 2   Lead Origin                                    9240 non-null   object \n",
      " 3   Lead Source                                    9204 non-null   object \n",
      " 4   Do Not Email                                   9240 non-null   object \n",
      " 5   Do Not Call                                    9240 non-null   object \n",
      " 6   Converted                                      9240 non-null   int64  \n",
      " 7   TotalVisits                                    9103 non-null   float64\n",
      " 8   Total Time Spent on Website                    9240 non-null   int64  \n",
      " 9   Page Views Per Visit                           9103 non-null   float64\n",
      " 10  Last Activity                                  9137 non-null   object \n",
      " 11  Country                                        6779 non-null   object \n",
      " 12  Specialization                                 7802 non-null   object \n",
      " 13  How did you hear about X Education             7033 non-null   object \n",
      " 14  What is your current occupation                6550 non-null   object \n",
      " 15  What matters most to you in choosing a course  6531 non-null   object \n",
      " 16  Search                                         9240 non-null   object \n",
      " 17  Magazine                                       9240 non-null   object \n",
      " 18  Newspaper Article                              9240 non-null   object \n",
      " 19  X Education Forums                             9240 non-null   object \n",
      " 20  Newspaper                                      9240 non-null   object \n",
      " 21  Digital Advertisement                          9240 non-null   object \n",
      " 22  Through Recommendations                        9240 non-null   object \n",
      " 23  Receive More Updates About Our Courses         9240 non-null   object \n",
      " 24  Tags                                           5887 non-null   object \n",
      " 25  Lead Quality                                   4473 non-null   object \n",
      " 26  Update me on Supply Chain Content              9240 non-null   object \n",
      " 27  Get updates on DM Content                      9240 non-null   object \n",
      " 28  Lead Profile                                   6531 non-null   object \n",
      " 29  City                                           7820 non-null   object \n",
      " 30  Asymmetrique Activity Index                    5022 non-null   object \n",
      " 31  Asymmetrique Profile Index                     5022 non-null   object \n",
      " 32  Asymmetrique Activity Score                    5022 non-null   float64\n",
      " 33  Asymmetrique Profile Score                     5022 non-null   float64\n",
      " 34  I agree to pay the amount through cheque       9240 non-null   object \n",
      " 35  A free copy of Mastering The Interview         9240 non-null   object \n",
      " 36  Last Notable Activity                          9240 non-null   object \n",
      "dtypes: float64(4), int64(3), object(30)\n",
      "memory usage: 2.6+ MB\n"
     ]
    }
   ],
   "source": [
    "df.info()"
   ]
  },
  {
   "cell_type": "code",
   "execution_count": 109,
   "id": "mature-corporation",
   "metadata": {},
   "outputs": [
    {
     "data": {
      "text/plain": [
       "Prospect ID                                         0\n",
       "Lead Number                                         0\n",
       "Lead Origin                                         0\n",
       "Lead Source                                        36\n",
       "Do Not Email                                        0\n",
       "Do Not Call                                         0\n",
       "Converted                                           0\n",
       "TotalVisits                                       137\n",
       "Total Time Spent on Website                         0\n",
       "Page Views Per Visit                              137\n",
       "Last Activity                                     103\n",
       "Country                                          2461\n",
       "Specialization                                   1438\n",
       "How did you hear about X Education               2207\n",
       "What is your current occupation                  2690\n",
       "What matters most to you in choosing a course    2709\n",
       "Search                                              0\n",
       "Magazine                                            0\n",
       "Newspaper Article                                   0\n",
       "X Education Forums                                  0\n",
       "Newspaper                                           0\n",
       "Digital Advertisement                               0\n",
       "Through Recommendations                             0\n",
       "Receive More Updates About Our Courses              0\n",
       "Tags                                             3353\n",
       "Lead Quality                                     4767\n",
       "Update me on Supply Chain Content                   0\n",
       "Get updates on DM Content                           0\n",
       "Lead Profile                                     2709\n",
       "City                                             1420\n",
       "Asymmetrique Activity Index                      4218\n",
       "Asymmetrique Profile Index                       4218\n",
       "Asymmetrique Activity Score                      4218\n",
       "Asymmetrique Profile Score                       4218\n",
       "I agree to pay the amount through cheque            0\n",
       "A free copy of Mastering The Interview              0\n",
       "Last Notable Activity                               0\n",
       "dtype: int64"
      ]
     },
     "execution_count": 109,
     "metadata": {},
     "output_type": "execute_result"
    }
   ],
   "source": [
    "df.isnull().sum()"
   ]
  },
  {
   "cell_type": "code",
   "execution_count": 110,
   "id": "refined-stage",
   "metadata": {},
   "outputs": [
    {
     "data": {
      "text/plain": [
       "Index(['Prospect ID', 'Lead Number', 'Lead Origin', 'Lead Source',\n",
       "       'Do Not Email', 'Do Not Call', 'Converted', 'TotalVisits',\n",
       "       'Total Time Spent on Website', 'Page Views Per Visit', 'Last Activity',\n",
       "       'Country', 'Specialization', 'How did you hear about X Education',\n",
       "       'What is your current occupation',\n",
       "       'What matters most to you in choosing a course', 'Search', 'Magazine',\n",
       "       'Newspaper Article', 'X Education Forums', 'Newspaper',\n",
       "       'Digital Advertisement', 'Through Recommendations',\n",
       "       'Receive More Updates About Our Courses', 'Tags', 'Lead Quality',\n",
       "       'Update me on Supply Chain Content', 'Get updates on DM Content',\n",
       "       'Lead Profile', 'City', 'Asymmetrique Activity Index',\n",
       "       'Asymmetrique Profile Index', 'Asymmetrique Activity Score',\n",
       "       'Asymmetrique Profile Score',\n",
       "       'I agree to pay the amount through cheque',\n",
       "       'A free copy of Mastering The Interview', 'Last Notable Activity'],\n",
       "      dtype='object')"
      ]
     },
     "execution_count": 110,
     "metadata": {},
     "output_type": "execute_result"
    }
   ],
   "source": [
    "df.columns"
   ]
  },
  {
   "cell_type": "markdown",
   "id": "binary-evening",
   "metadata": {},
   "source": [
    "- This is done because as you can see above 'select' is a missing value"
   ]
  },
  {
   "cell_type": "code",
   "execution_count": 111,
   "id": "altered-bridges",
   "metadata": {},
   "outputs": [],
   "source": [
    "df = df.replace('Select', np.nan)"
   ]
  },
  {
   "cell_type": "code",
   "execution_count": 112,
   "id": "sensitive-visitor",
   "metadata": {},
   "outputs": [
    {
     "data": {
      "text/plain": [
       "Finance Management                   976\n",
       "Human Resource Management            848\n",
       "Marketing Management                 838\n",
       "Operations Management                503\n",
       "Business Administration              403\n",
       "IT Projects Management               366\n",
       "Supply Chain Management              349\n",
       "Banking, Investment And Insurance    338\n",
       "Travel and Tourism                   203\n",
       "Media and Advertising                203\n",
       "International Business               178\n",
       "Healthcare Management                159\n",
       "Hospitality Management               114\n",
       "E-COMMERCE                           112\n",
       "Retail Management                    100\n",
       "Rural and Agribusiness                73\n",
       "E-Business                            57\n",
       "Services Excellence                   40\n",
       "Name: Specialization, dtype: int64"
      ]
     },
     "execution_count": 112,
     "metadata": {},
     "output_type": "execute_result"
    }
   ],
   "source": [
    "df.Specialization.value_counts()"
   ]
  },
  {
   "cell_type": "code",
   "execution_count": 113,
   "id": "automotive-delivery",
   "metadata": {},
   "outputs": [
    {
     "data": {
      "text/plain": [
       "Prospect ID                                         0\n",
       "Lead Number                                         0\n",
       "Lead Origin                                         0\n",
       "Lead Source                                        36\n",
       "Do Not Email                                        0\n",
       "Do Not Call                                         0\n",
       "Converted                                           0\n",
       "TotalVisits                                       137\n",
       "Total Time Spent on Website                         0\n",
       "Page Views Per Visit                              137\n",
       "Last Activity                                     103\n",
       "Country                                          2461\n",
       "Specialization                                   3380\n",
       "How did you hear about X Education               7250\n",
       "What is your current occupation                  2690\n",
       "What matters most to you in choosing a course    2709\n",
       "Search                                              0\n",
       "Magazine                                            0\n",
       "Newspaper Article                                   0\n",
       "X Education Forums                                  0\n",
       "Newspaper                                           0\n",
       "Digital Advertisement                               0\n",
       "Through Recommendations                             0\n",
       "Receive More Updates About Our Courses              0\n",
       "Tags                                             3353\n",
       "Lead Quality                                     4767\n",
       "Update me on Supply Chain Content                   0\n",
       "Get updates on DM Content                           0\n",
       "Lead Profile                                     6855\n",
       "City                                             3669\n",
       "Asymmetrique Activity Index                      4218\n",
       "Asymmetrique Profile Index                       4218\n",
       "Asymmetrique Activity Score                      4218\n",
       "Asymmetrique Profile Score                       4218\n",
       "I agree to pay the amount through cheque            0\n",
       "A free copy of Mastering The Interview              0\n",
       "Last Notable Activity                               0\n",
       "dtype: int64"
      ]
     },
     "execution_count": 113,
     "metadata": {},
     "output_type": "execute_result"
    }
   ],
   "source": [
    "df.isnull().sum()"
   ]
  },
  {
   "cell_type": "code",
   "execution_count": 114,
   "id": "pressing-winter",
   "metadata": {},
   "outputs": [
    {
     "data": {
      "text/plain": [
       "Prospect ID                                       0.00\n",
       "Lead Number                                       0.00\n",
       "Lead Origin                                       0.00\n",
       "Lead Source                                       0.39\n",
       "Do Not Email                                      0.00\n",
       "Do Not Call                                       0.00\n",
       "Converted                                         0.00\n",
       "TotalVisits                                       1.48\n",
       "Total Time Spent on Website                       0.00\n",
       "Page Views Per Visit                              1.48\n",
       "Last Activity                                     1.11\n",
       "Country                                          26.63\n",
       "Specialization                                   36.58\n",
       "How did you hear about X Education               78.46\n",
       "What is your current occupation                  29.11\n",
       "What matters most to you in choosing a course    29.32\n",
       "Search                                            0.00\n",
       "Magazine                                          0.00\n",
       "Newspaper Article                                 0.00\n",
       "X Education Forums                                0.00\n",
       "Newspaper                                         0.00\n",
       "Digital Advertisement                             0.00\n",
       "Through Recommendations                           0.00\n",
       "Receive More Updates About Our Courses            0.00\n",
       "Tags                                             36.29\n",
       "Lead Quality                                     51.59\n",
       "Update me on Supply Chain Content                 0.00\n",
       "Get updates on DM Content                         0.00\n",
       "Lead Profile                                     74.19\n",
       "City                                             39.71\n",
       "Asymmetrique Activity Index                      45.65\n",
       "Asymmetrique Profile Index                       45.65\n",
       "Asymmetrique Activity Score                      45.65\n",
       "Asymmetrique Profile Score                       45.65\n",
       "I agree to pay the amount through cheque          0.00\n",
       "A free copy of Mastering The Interview            0.00\n",
       "Last Notable Activity                             0.00\n",
       "dtype: float64"
      ]
     },
     "execution_count": 114,
     "metadata": {},
     "output_type": "execute_result"
    }
   ],
   "source": [
    "round(100*(df.isnull().sum())/len(df),2)"
   ]
  },
  {
   "cell_type": "markdown",
   "id": "meaningful-overall",
   "metadata": {},
   "source": [
    "- Basically, the data for these columns were obtained after talking to the aspiring leads, therefore these columns cannot be used for a new lead"
   ]
  },
  {
   "cell_type": "code",
   "execution_count": 115,
   "id": "hourly-bikini",
   "metadata": {},
   "outputs": [],
   "source": [
    "df = df.drop(['Last Activity', 'Tags', 'Asymmetrique Activity Index', 'Asymmetrique Profile Index', 'Lead Quality', 'Asymmetrique Profile Score', 'Lead Profile', 'Asymmetrique Activity Score',], axis = 1)"
   ]
  },
  {
   "cell_type": "code",
   "execution_count": 116,
   "id": "sharp-microphone",
   "metadata": {},
   "outputs": [
    {
     "data": {
      "text/plain": [
       "Prospect ID                                       0.00\n",
       "Lead Number                                       0.00\n",
       "Lead Origin                                       0.00\n",
       "Lead Source                                       0.39\n",
       "Do Not Email                                      0.00\n",
       "Do Not Call                                       0.00\n",
       "Converted                                         0.00\n",
       "TotalVisits                                       1.48\n",
       "Total Time Spent on Website                       0.00\n",
       "Page Views Per Visit                              1.48\n",
       "Country                                          26.63\n",
       "Specialization                                   36.58\n",
       "How did you hear about X Education               78.46\n",
       "What is your current occupation                  29.11\n",
       "What matters most to you in choosing a course    29.32\n",
       "Search                                            0.00\n",
       "Magazine                                          0.00\n",
       "Newspaper Article                                 0.00\n",
       "X Education Forums                                0.00\n",
       "Newspaper                                         0.00\n",
       "Digital Advertisement                             0.00\n",
       "Through Recommendations                           0.00\n",
       "Receive More Updates About Our Courses            0.00\n",
       "Update me on Supply Chain Content                 0.00\n",
       "Get updates on DM Content                         0.00\n",
       "City                                             39.71\n",
       "I agree to pay the amount through cheque          0.00\n",
       "A free copy of Mastering The Interview            0.00\n",
       "Last Notable Activity                             0.00\n",
       "dtype: float64"
      ]
     },
     "execution_count": 116,
     "metadata": {},
     "output_type": "execute_result"
    }
   ],
   "source": [
    "round(100*(df.isnull().sum())/len(df),2)"
   ]
  },
  {
   "cell_type": "code",
   "execution_count": 117,
   "id": "treated-emerald",
   "metadata": {},
   "outputs": [],
   "source": [
    "df = df.drop('How did you hear about X Education', axis = 1)"
   ]
  },
  {
   "cell_type": "code",
   "execution_count": 118,
   "id": "reported-powder",
   "metadata": {},
   "outputs": [
    {
     "data": {
      "text/plain": [
       "Prospect ID                                       0.00\n",
       "Lead Number                                       0.00\n",
       "Lead Origin                                       0.00\n",
       "Lead Source                                       0.39\n",
       "Do Not Email                                      0.00\n",
       "Do Not Call                                       0.00\n",
       "Converted                                         0.00\n",
       "TotalVisits                                       1.48\n",
       "Total Time Spent on Website                       0.00\n",
       "Page Views Per Visit                              1.48\n",
       "Country                                          26.63\n",
       "Specialization                                   36.58\n",
       "What is your current occupation                  29.11\n",
       "What matters most to you in choosing a course    29.32\n",
       "Search                                            0.00\n",
       "Magazine                                          0.00\n",
       "Newspaper Article                                 0.00\n",
       "X Education Forums                                0.00\n",
       "Newspaper                                         0.00\n",
       "Digital Advertisement                             0.00\n",
       "Through Recommendations                           0.00\n",
       "Receive More Updates About Our Courses            0.00\n",
       "Update me on Supply Chain Content                 0.00\n",
       "Get updates on DM Content                         0.00\n",
       "City                                             39.71\n",
       "I agree to pay the amount through cheque          0.00\n",
       "A free copy of Mastering The Interview            0.00\n",
       "Last Notable Activity                             0.00\n",
       "dtype: float64"
      ]
     },
     "execution_count": 118,
     "metadata": {},
     "output_type": "execute_result"
    }
   ],
   "source": [
    "round(100*(df.isnull().sum())/len(df),2)"
   ]
  },
  {
   "cell_type": "code",
   "execution_count": 119,
   "id": "novel-replication",
   "metadata": {},
   "outputs": [
    {
     "data": {
      "text/plain": [
       "India                   6492\n",
       "United States             69\n",
       "United Arab Emirates      53\n",
       "Singapore                 24\n",
       "Saudi Arabia              21\n",
       "United Kingdom            15\n",
       "Australia                 13\n",
       "Qatar                     10\n",
       "Bahrain                    7\n",
       "Hong Kong                  7\n",
       "France                     6\n",
       "Oman                       6\n",
       "unknown                    5\n",
       "South Africa               4\n",
       "Canada                     4\n",
       "Kuwait                     4\n",
       "Germany                    4\n",
       "Nigeria                    4\n",
       "Sweden                     3\n",
       "Uganda                     2\n",
       "Philippines                2\n",
       "China                      2\n",
       "Ghana                      2\n",
       "Italy                      2\n",
       "Netherlands                2\n",
       "Asia/Pacific Region        2\n",
       "Bangladesh                 2\n",
       "Belgium                    2\n",
       "Russia                     1\n",
       "Denmark                    1\n",
       "Tanzania                   1\n",
       "Malaysia                   1\n",
       "Switzerland                1\n",
       "Sri Lanka                  1\n",
       "Kenya                      1\n",
       "Indonesia                  1\n",
       "Liberia                    1\n",
       "Vietnam                    1\n",
       "Name: Country, dtype: int64"
      ]
     },
     "execution_count": 119,
     "metadata": {},
     "output_type": "execute_result"
    }
   ],
   "source": [
    "df.Country.value_counts()"
   ]
  },
  {
   "cell_type": "code",
   "execution_count": 120,
   "id": "wireless-overall",
   "metadata": {},
   "outputs": [
    {
     "data": {
      "text/plain": [
       "India                   95.766337\n",
       "United States            1.017849\n",
       "United Arab Emirates     0.781826\n",
       "Singapore                0.354035\n",
       "Saudi Arabia             0.309780\n",
       "United Kingdom           0.221272\n",
       "Australia                0.191769\n",
       "Qatar                    0.147514\n",
       "Bahrain                  0.103260\n",
       "Hong Kong                0.103260\n",
       "France                   0.088509\n",
       "Oman                     0.088509\n",
       "unknown                  0.073757\n",
       "South Africa             0.059006\n",
       "Canada                   0.059006\n",
       "Kuwait                   0.059006\n",
       "Germany                  0.059006\n",
       "Nigeria                  0.059006\n",
       "Sweden                   0.044254\n",
       "Uganda                   0.029503\n",
       "Philippines              0.029503\n",
       "China                    0.029503\n",
       "Ghana                    0.029503\n",
       "Italy                    0.029503\n",
       "Netherlands              0.029503\n",
       "Asia/Pacific Region      0.029503\n",
       "Bangladesh               0.029503\n",
       "Belgium                  0.029503\n",
       "Russia                   0.014751\n",
       "Denmark                  0.014751\n",
       "Tanzania                 0.014751\n",
       "Malaysia                 0.014751\n",
       "Switzerland              0.014751\n",
       "Sri Lanka                0.014751\n",
       "Kenya                    0.014751\n",
       "Indonesia                0.014751\n",
       "Liberia                  0.014751\n",
       "Vietnam                  0.014751\n",
       "Name: Country, dtype: float64"
      ]
     },
     "execution_count": 120,
     "metadata": {},
     "output_type": "execute_result"
    }
   ],
   "source": [
    "df.Country.value_counts(normalize = True)*100"
   ]
  },
  {
   "cell_type": "code",
   "execution_count": 121,
   "id": "derived-operator",
   "metadata": {},
   "outputs": [],
   "source": [
    "df['Country'] = df.Country.replace(np.nan, 'India')"
   ]
  },
  {
   "cell_type": "code",
   "execution_count": 122,
   "id": "pressed-mumbai",
   "metadata": {},
   "outputs": [
    {
     "data": {
      "text/plain": [
       "0"
      ]
     },
     "execution_count": 122,
     "metadata": {},
     "output_type": "execute_result"
    }
   ],
   "source": [
    "df.Country.isnull().sum()"
   ]
  },
  {
   "cell_type": "code",
   "execution_count": 123,
   "id": "shared-blogger",
   "metadata": {},
   "outputs": [
    {
     "data": {
      "text/plain": [
       "Finance Management                   976\n",
       "Human Resource Management            848\n",
       "Marketing Management                 838\n",
       "Operations Management                503\n",
       "Business Administration              403\n",
       "IT Projects Management               366\n",
       "Supply Chain Management              349\n",
       "Banking, Investment And Insurance    338\n",
       "Travel and Tourism                   203\n",
       "Media and Advertising                203\n",
       "International Business               178\n",
       "Healthcare Management                159\n",
       "Hospitality Management               114\n",
       "E-COMMERCE                           112\n",
       "Retail Management                    100\n",
       "Rural and Agribusiness                73\n",
       "E-Business                            57\n",
       "Services Excellence                   40\n",
       "Name: Specialization, dtype: int64"
      ]
     },
     "execution_count": 123,
     "metadata": {},
     "output_type": "execute_result"
    }
   ],
   "source": [
    "df.Specialization.value_counts()"
   ]
  },
  {
   "cell_type": "code",
   "execution_count": 124,
   "id": "convertible-pregnancy",
   "metadata": {},
   "outputs": [
    {
     "data": {
      "text/plain": [
       "<AxesSubplot:>"
      ]
     },
     "execution_count": 124,
     "metadata": {},
     "output_type": "execute_result"
    },
    {
     "data": {
      "image/png": "[encoded data removed]",
      "text/plain": [
       "<Figure size 720x360 with 1 Axes>"
      ]
     },
     "metadata": {
      "needs_background": "light"
     },
     "output_type": "display_data"
    }
   ],
   "source": [
    "df.Specialization.value_counts().plot.bar(figsize=(10,5), fontsize=15)"
   ]
  },
  {
   "cell_type": "code",
   "execution_count": 125,
   "id": "dominican-vessel",
   "metadata": {},
   "outputs": [
    {
     "data": {
      "text/plain": [
       "Finance Management                   16.655290\n",
       "Human Resource Management            14.470990\n",
       "Marketing Management                 14.300341\n",
       "Operations Management                 8.583618\n",
       "Business Administration               6.877133\n",
       "IT Projects Management                6.245734\n",
       "Supply Chain Management               5.955631\n",
       "Banking, Investment And Insurance     5.767918\n",
       "Travel and Tourism                    3.464164\n",
       "Media and Advertising                 3.464164\n",
       "International Business                3.037543\n",
       "Healthcare Management                 2.713311\n",
       "Hospitality Management                1.945392\n",
       "E-COMMERCE                            1.911263\n",
       "Retail Management                     1.706485\n",
       "Rural and Agribusiness                1.245734\n",
       "E-Business                            0.972696\n",
       "Services Excellence                   0.682594\n",
       "Name: Specialization, dtype: float64"
      ]
     },
     "execution_count": 125,
     "metadata": {},
     "output_type": "execute_result"
    }
   ],
   "source": [
    "df.Specialization.value_counts(normalize = True)*100"
   ]
  },
  {
   "cell_type": "markdown",
   "id": "olympic-grammar",
   "metadata": {},
   "source": [
    "- Values with low count are grouped to remove bias"
   ]
  },
  {
   "cell_type": "code",
   "execution_count": 126,
   "id": "caring-underground",
   "metadata": {},
   "outputs": [],
   "source": [
    "df.Specialization = df['Specialization'].replace(\n",
    "    ['Media and Advertising', 'Travel and Tourism', 'International Business',\n",
    "     'Healthcare and Management', 'Hospitality Management', 'E-COMMERCE', \n",
    "     'Retail Management', 'Rural and Agribusiness', 'E-Business', 'Services Excellence'], \n",
    "    'Others')"
   ]
  },
  {
   "cell_type": "code",
   "execution_count": 127,
   "id": "broadband-constitutional",
   "metadata": {},
   "outputs": [
    {
     "data": {
      "text/plain": [
       "Others                               18.430034\n",
       "Finance Management                   16.655290\n",
       "Human Resource Management            14.470990\n",
       "Marketing Management                 14.300341\n",
       "Operations Management                 8.583618\n",
       "Business Administration               6.877133\n",
       "IT Projects Management                6.245734\n",
       "Supply Chain Management               5.955631\n",
       "Banking, Investment And Insurance     5.767918\n",
       "Healthcare Management                 2.713311\n",
       "Name: Specialization, dtype: float64"
      ]
     },
     "execution_count": 127,
     "metadata": {},
     "output_type": "execute_result"
    }
   ],
   "source": [
    "df.Specialization.value_counts(normalize = True)*100"
   ]
  },
  {
   "cell_type": "code",
   "execution_count": 128,
   "id": "rising-order",
   "metadata": {},
   "outputs": [],
   "source": [
    "df.Specialization = df.Specialization.replace(np.nan, 'Unselected')"
   ]
  },
  {
   "cell_type": "code",
   "execution_count": 129,
   "id": "simple-slide",
   "metadata": {},
   "outputs": [
    {
     "data": {
      "text/plain": [
       "0"
      ]
     },
     "execution_count": 129,
     "metadata": {},
     "output_type": "execute_result"
    }
   ],
   "source": [
    "df.Specialization.isnull().sum()"
   ]
  },
  {
   "cell_type": "code",
   "execution_count": 130,
   "id": "detected-paris",
   "metadata": {},
   "outputs": [
    {
     "data": {
      "text/plain": [
       "Unemployed              85.496183\n",
       "Working Professional    10.778626\n",
       "Student                  3.206107\n",
       "Other                    0.244275\n",
       "Housewife                0.152672\n",
       "Businessman              0.122137\n",
       "Name: What is your current occupation, dtype: float64"
      ]
     },
     "execution_count": 130,
     "metadata": {},
     "output_type": "execute_result"
    }
   ],
   "source": [
    "df['What is your current occupation'].value_counts(normalize = True)*100"
   ]
  },
  {
   "cell_type": "code",
   "execution_count": 131,
   "id": "imported-military",
   "metadata": {},
   "outputs": [],
   "source": [
    "df['What is your current occupation'] = df['What is your current occupation'].replace(np.nan, 'Unemployed')"
   ]
  },
  {
   "cell_type": "code",
   "execution_count": 132,
   "id": "piano-death",
   "metadata": {},
   "outputs": [
    {
     "data": {
      "text/plain": [
       "Prospect ID                                       0.00\n",
       "Lead Number                                       0.00\n",
       "Lead Origin                                       0.00\n",
       "Lead Source                                       0.39\n",
       "Do Not Email                                      0.00\n",
       "Do Not Call                                       0.00\n",
       "Converted                                         0.00\n",
       "TotalVisits                                       1.48\n",
       "Total Time Spent on Website                       0.00\n",
       "Page Views Per Visit                              1.48\n",
       "Country                                           0.00\n",
       "Specialization                                    0.00\n",
       "What is your current occupation                   0.00\n",
       "What matters most to you in choosing a course    29.32\n",
       "Search                                            0.00\n",
       "Magazine                                          0.00\n",
       "Newspaper Article                                 0.00\n",
       "X Education Forums                                0.00\n",
       "Newspaper                                         0.00\n",
       "Digital Advertisement                             0.00\n",
       "Through Recommendations                           0.00\n",
       "Receive More Updates About Our Courses            0.00\n",
       "Update me on Supply Chain Content                 0.00\n",
       "Get updates on DM Content                         0.00\n",
       "City                                             39.71\n",
       "I agree to pay the amount through cheque          0.00\n",
       "A free copy of Mastering The Interview            0.00\n",
       "Last Notable Activity                             0.00\n",
       "dtype: float64"
      ]
     },
     "execution_count": 132,
     "metadata": {},
     "output_type": "execute_result"
    }
   ],
   "source": [
    "round(100*(df.isnull().sum())/len(df), 2)"
   ]
  },
  {
   "cell_type": "code",
   "execution_count": 133,
   "id": "friendly-afghanistan",
   "metadata": {},
   "outputs": [
    {
     "data": {
      "text/plain": [
       "Better Career Prospects      99.954065\n",
       "Flexibility & Convenience     0.030623\n",
       "Other                         0.015312\n",
       "Name: What matters most to you in choosing a course, dtype: float64"
      ]
     },
     "execution_count": 133,
     "metadata": {},
     "output_type": "execute_result"
    }
   ],
   "source": [
    "df['What matters most to you in choosing a course'].value_counts(normalize = True)*100"
   ]
  },
  {
   "cell_type": "code",
   "execution_count": 134,
   "id": "musical-stone",
   "metadata": {},
   "outputs": [],
   "source": [
    "df['What matters most to you in choosing a course'] = df['What matters most to you in choosing a course'].replace(np.nan, 'Better Career Prospects')"
   ]
  },
  {
   "cell_type": "code",
   "execution_count": 135,
   "id": "engaging-direction",
   "metadata": {},
   "outputs": [
    {
     "data": {
      "text/plain": [
       "Better Career Prospects      99.967532\n",
       "Flexibility & Convenience     0.021645\n",
       "Other                         0.010823\n",
       "Name: What matters most to you in choosing a course, dtype: float64"
      ]
     },
     "execution_count": 135,
     "metadata": {},
     "output_type": "execute_result"
    }
   ],
   "source": [
    "df['What matters most to you in choosing a course'].value_counts(normalize = True)*100"
   ]
  },
  {
   "cell_type": "code",
   "execution_count": 136,
   "id": "industrial-groove",
   "metadata": {},
   "outputs": [
    {
     "data": {
      "text/plain": [
       "Mumbai                         57.835218\n",
       "Thane & Outskirts              13.498474\n",
       "Other Cities                   12.313768\n",
       "Other Cities of Maharashtra     8.203195\n",
       "Other Metro Cities              6.821038\n",
       "Tier II Cities                  1.328307\n",
       "Name: City, dtype: float64"
      ]
     },
     "execution_count": 136,
     "metadata": {},
     "output_type": "execute_result"
    }
   ],
   "source": [
    "df['City'].value_counts(normalize = True)*100"
   ]
  },
  {
   "cell_type": "code",
   "execution_count": 137,
   "id": "useful-delivery",
   "metadata": {},
   "outputs": [],
   "source": [
    "df['City'] = df['City'].replace(np.nan, 'Mumbai')"
   ]
  },
  {
   "cell_type": "code",
   "execution_count": 138,
   "id": "formed-affair",
   "metadata": {},
   "outputs": [
    {
     "data": {
      "text/plain": [
       "Prospect ID                                      0.00\n",
       "Lead Number                                      0.00\n",
       "Lead Origin                                      0.00\n",
       "Lead Source                                      0.39\n",
       "Do Not Email                                     0.00\n",
       "Do Not Call                                      0.00\n",
       "Converted                                        0.00\n",
       "TotalVisits                                      1.48\n",
       "Total Time Spent on Website                      0.00\n",
       "Page Views Per Visit                             1.48\n",
       "Country                                          0.00\n",
       "Specialization                                   0.00\n",
       "What is your current occupation                  0.00\n",
       "What matters most to you in choosing a course    0.00\n",
       "Search                                           0.00\n",
       "Magazine                                         0.00\n",
       "Newspaper Article                                0.00\n",
       "X Education Forums                               0.00\n",
       "Newspaper                                        0.00\n",
       "Digital Advertisement                            0.00\n",
       "Through Recommendations                          0.00\n",
       "Receive More Updates About Our Courses           0.00\n",
       "Update me on Supply Chain Content                0.00\n",
       "Get updates on DM Content                        0.00\n",
       "City                                             0.00\n",
       "I agree to pay the amount through cheque         0.00\n",
       "A free copy of Mastering The Interview           0.00\n",
       "Last Notable Activity                            0.00\n",
       "dtype: float64"
      ]
     },
     "execution_count": 138,
     "metadata": {},
     "output_type": "execute_result"
    }
   ],
   "source": [
    "round(100*(df.isnull().sum())/len(df), 2)"
   ]
  },
  {
   "cell_type": "code",
   "execution_count": 139,
   "id": "brief-elizabeth",
   "metadata": {},
   "outputs": [],
   "source": [
    "df.dropna(inplace = True)"
   ]
  },
  {
   "cell_type": "code",
   "execution_count": 140,
   "id": "steady-internship",
   "metadata": {},
   "outputs": [
    {
     "data": {
      "text/plain": [
       "Prospect ID                                      0.0\n",
       "Lead Number                                      0.0\n",
       "Lead Origin                                      0.0\n",
       "Lead Source                                      0.0\n",
       "Do Not Email                                     0.0\n",
       "Do Not Call                                      0.0\n",
       "Converted                                        0.0\n",
       "TotalVisits                                      0.0\n",
       "Total Time Spent on Website                      0.0\n",
       "Page Views Per Visit                             0.0\n",
       "Country                                          0.0\n",
       "Specialization                                   0.0\n",
       "What is your current occupation                  0.0\n",
       "What matters most to you in choosing a course    0.0\n",
       "Search                                           0.0\n",
       "Magazine                                         0.0\n",
       "Newspaper Article                                0.0\n",
       "X Education Forums                               0.0\n",
       "Newspaper                                        0.0\n",
       "Digital Advertisement                            0.0\n",
       "Through Recommendations                          0.0\n",
       "Receive More Updates About Our Courses           0.0\n",
       "Update me on Supply Chain Content                0.0\n",
       "Get updates on DM Content                        0.0\n",
       "City                                             0.0\n",
       "I agree to pay the amount through cheque         0.0\n",
       "A free copy of Mastering The Interview           0.0\n",
       "Last Notable Activity                            0.0\n",
       "dtype: float64"
      ]
     },
     "execution_count": 140,
     "metadata": {},
     "output_type": "execute_result"
    }
   ],
   "source": [
    "round(100*(df.isnull().sum())/len(df),2)"
   ]
  },
  {
   "cell_type": "code",
   "execution_count": 141,
   "id": "processed-musical",
   "metadata": {},
   "outputs": [
    {
     "name": "stderr",
     "output_type": "stream",
     "text": [
      "/home/prabhanshu/anaconda3/lib/python3.8/site-packages/seaborn/_decorators.py:36: FutureWarning: Pass the following variable as a keyword arg: x. From version 0.12, the only valid positional argument will be `data`, and passing other arguments without an explicit keyword will result in an error or misinterpretation.\n",
      "  warnings.warn(\n"
     ]
    },
    {
     "data": {
      "text/plain": [
       "Text(0.5, 1.0, 'Lead Origin')"
      ]
     },
     "execution_count": 141,
     "metadata": {},
     "output_type": "execute_result"
    },
    {
     "data": {
      "image/png": "[encoded data removed]",
      "text/plain": [
       "<Figure size 432x288 with 1 Axes>"
      ]
     },
     "metadata": {
      "needs_background": "light"
     },
     "output_type": "display_data"
    }
   ],
   "source": [
    "sns.countplot(df['Lead Origin'])\n",
    "plt.title('Lead Origin')"
   ]
  },
  {
   "cell_type": "code",
   "execution_count": 142,
   "id": "young-amendment",
   "metadata": {},
   "outputs": [
    {
     "data": {
      "text/plain": [
       "0    5639\n",
       "1    3435\n",
       "Name: Converted, dtype: int64"
      ]
     },
     "execution_count": 142,
     "metadata": {},
     "output_type": "execute_result"
    }
   ],
   "source": [
    "df.Converted.value_counts()"
   ]
  },
  {
   "cell_type": "code",
   "execution_count": 143,
   "id": "unlimited-commercial",
   "metadata": {},
   "outputs": [
    {
     "name": "stderr",
     "output_type": "stream",
     "text": [
      "/home/prabhanshu/anaconda3/lib/python3.8/site-packages/seaborn/_decorators.py:36: FutureWarning: Pass the following variable as a keyword arg: x. From version 0.12, the only valid positional argument will be `data`, and passing other arguments without an explicit keyword will result in an error or misinterpretation.\n",
      "  warnings.warn(\n"
     ]
    },
    {
     "data": {
      "text/plain": [
       "Text(0.5, 1.0, 'Lead Origin')"
      ]
     },
     "execution_count": 143,
     "metadata": {},
     "output_type": "execute_result"
    },
    {
     "data": {
      "image/png": "[encoded data removed]",
      "text/plain": [
       "<Figure size 720x576 with 1 Axes>"
      ]
     },
     "metadata": {
      "needs_background": "light"
     },
     "output_type": "display_data"
    }
   ],
   "source": [
    "plt.figure(figsize = (10,8))\n",
    "sns.countplot(df['Lead Origin'], hue = df['Converted'], data = df)\n",
    "plt.title('Lead Origin')"
   ]
  },
  {
   "cell_type": "markdown",
   "id": "consecutive-dubai",
   "metadata": {},
   "source": [
    "- From here we can see that from the conversions of 'API' and 'Landing Page Submission' are good and these need to be improved and the conversion of 'Lead Add Form' is good for a low lead score, therefore more focus should be done here"
   ]
  },
  {
   "cell_type": "code",
   "execution_count": 144,
   "id": "mathematical-northern",
   "metadata": {},
   "outputs": [
    {
     "name": "stderr",
     "output_type": "stream",
     "text": [
      "/home/prabhanshu/anaconda3/lib/python3.8/site-packages/seaborn/_decorators.py:36: FutureWarning: Pass the following variable as a keyword arg: x. From version 0.12, the only valid positional argument will be `data`, and passing other arguments without an explicit keyword will result in an error or misinterpretation.\n",
      "  warnings.warn(\n"
     ]
    },
    {
     "data": {
      "text/plain": [
       "(array([ 0,  1,  2,  3,  4,  5,  6,  7,  8,  9, 10, 11, 12, 13, 14, 15, 16,\n",
       "        17, 18, 19, 20]),\n",
       " [Text(0, 0, 'Olark Chat'),\n",
       "  Text(1, 0, 'Organic Search'),\n",
       "  Text(2, 0, 'Direct Traffic'),\n",
       "  Text(3, 0, 'Google'),\n",
       "  Text(4, 0, 'Referral Sites'),\n",
       "  Text(5, 0, 'Reference'),\n",
       "  Text(6, 0, 'google'),\n",
       "  Text(7, 0, 'Welingak Website'),\n",
       "  Text(8, 0, 'Facebook'),\n",
       "  Text(9, 0, 'blog'),\n",
       "  Text(10, 0, 'Pay per Click Ads'),\n",
       "  Text(11, 0, 'bing'),\n",
       "  Text(12, 0, 'Social Media'),\n",
       "  Text(13, 0, 'WeLearn'),\n",
       "  Text(14, 0, 'Click2call'),\n",
       "  Text(15, 0, 'Live Chat'),\n",
       "  Text(16, 0, 'welearnblog_Home'),\n",
       "  Text(17, 0, 'youtubechannel'),\n",
       "  Text(18, 0, 'testone'),\n",
       "  Text(19, 0, 'Press_Release'),\n",
       "  Text(20, 0, 'NC_EDM')])"
      ]
     },
     "execution_count": 144,
     "metadata": {},
     "output_type": "execute_result"
    },
    {
     "data": {
      "image/png": "[encoded data removed]",
      "text/plain": [
       "<Figure size 720x576 with 1 Axes>"
      ]
     },
     "metadata": {
      "needs_background": "light"
     },
     "output_type": "display_data"
    }
   ],
   "source": [
    "plt.figure(figsize = (10,8))\n",
    "sns.countplot(df['Lead Source'])\n",
    "plt.title('Lead Source')\n",
    "plt.xticks(rotation = 90)"
   ]
  },
  {
   "cell_type": "code",
   "execution_count": 146,
   "id": "stuck-apparel",
   "metadata": {},
   "outputs": [
    {
     "name": "stderr",
     "output_type": "stream",
     "text": [
      "/home/prabhanshu/anaconda3/lib/python3.8/site-packages/seaborn/_decorators.py:36: FutureWarning: Pass the following variable as a keyword arg: x. From version 0.12, the only valid positional argument will be `data`, and passing other arguments without an explicit keyword will result in an error or misinterpretation.\n",
      "  warnings.warn(\n"
     ]
    },
    {
     "data": {
      "image/png": "[encoded data removed]",
      "text/plain": [
       "<Figure size 720x576 with 1 Axes>"
      ]
     },
     "metadata": {
      "needs_background": "light"
     },
     "output_type": "display_data"
    }
   ],
   "source": [
    "plt.figure(figsize = (10,8))\n",
    "sns.countplot(df['Lead Source'], hue = df['Converted'], data = df, )\n",
    "plt.title('Lead Source')\n",
    "plt.xticks(rotation = 90);"
   ]
  },
  {
   "cell_type": "markdown",
   "id": "electronic-ratio",
   "metadata": {},
   "source": [
    "- Binning lead sources as others because they all have negligable lead sources "
   ]
  },
  {
   "cell_type": "code",
   "execution_count": 45,
   "id": "vulnerable-harvey",
   "metadata": {},
   "outputs": [],
   "source": [
    "#df['Lead Source'] = df['Lead Source'].replace('google', 'Google')\n",
    "#df['Lead Source'] = df['Lead Source'].replace(['Facebook', 'blog', 'Pay per Click Ads', 'bing', 'Social Media', 'WeLearn', 'Click2call','Live Chat','welearnblog_Home', 'youtubechannel', 'testone', 'Press_Release', 'NC_EDM'], 'Others' )"
   ]
  },
  {
   "cell_type": "code",
   "execution_count": 46,
   "id": "knowing-chancellor",
   "metadata": {},
   "outputs": [
    {
     "name": "stderr",
     "output_type": "stream",
     "text": [
      "/home/prabhanshu/anaconda3/lib/python3.8/site-packages/seaborn/_decorators.py:36: FutureWarning: Pass the following variable as a keyword arg: x. From version 0.12, the only valid positional argument will be `data`, and passing other arguments without an explicit keyword will result in an error or misinterpretation.\n",
      "  warnings.warn(\n"
     ]
    },
    {
     "data": {
      "text/plain": [
       "(array([ 0,  1,  2,  3,  4,  5,  6,  7,  8,  9, 10, 11, 12, 13, 14, 15, 16,\n",
       "        17, 18, 19, 20]),\n",
       " [Text(0, 0, 'Olark Chat'),\n",
       "  Text(1, 0, 'Organic Search'),\n",
       "  Text(2, 0, 'Direct Traffic'),\n",
       "  Text(3, 0, 'Google'),\n",
       "  Text(4, 0, 'Referral Sites'),\n",
       "  Text(5, 0, 'Reference'),\n",
       "  Text(6, 0, 'google'),\n",
       "  Text(7, 0, 'Welingak Website'),\n",
       "  Text(8, 0, 'Facebook'),\n",
       "  Text(9, 0, 'blog'),\n",
       "  Text(10, 0, 'Pay per Click Ads'),\n",
       "  Text(11, 0, 'bing'),\n",
       "  Text(12, 0, 'Social Media'),\n",
       "  Text(13, 0, 'WeLearn'),\n",
       "  Text(14, 0, 'Click2call'),\n",
       "  Text(15, 0, 'Live Chat'),\n",
       "  Text(16, 0, 'welearnblog_Home'),\n",
       "  Text(17, 0, 'youtubechannel'),\n",
       "  Text(18, 0, 'testone'),\n",
       "  Text(19, 0, 'Press_Release'),\n",
       "  Text(20, 0, 'NC_EDM')])"
      ]
     },
     "execution_count": 46,
     "metadata": {},
     "output_type": "execute_result"
    },
    {
     "data": {
      "image/png": "[encoded data removed]",
      "text/plain": [
       "<Figure size 720x576 with 1 Axes>"
      ]
     },
     "metadata": {
      "needs_background": "light"
     },
     "output_type": "display_data"
    }
   ],
   "source": [
    "plt.figure(figsize = (10,8))\n",
    "sns.countplot(df['Lead Source'], hue = df['Converted'], data = df)\n",
    "plt.title('Lead Source')\n",
    "plt.xticks(rotation = 90)"
   ]
  },
  {
   "cell_type": "markdown",
   "id": "coral-outreach",
   "metadata": {},
   "source": [
    "- For Olark Chat the Lead AMount is high and conversion is mediocre\n",
    "- For Organic Search Lead Amount is Medium and conversion is also mediocre\n",
    "- Direc Traffic Lead Amount is high and conversion is mediocre\n",
    "- Google lead amount is high and conversion is slightly higher than mediocre\n",
    "- Referral Sites lead amount is low and conversion is also low\n",
    "- Reference lead amount is low but conversion is very high\n",
    "- Welingak Website lead  amount is very low but conversion is high\n",
    "- Others both lead amount and conversion is low"
   ]
  },
  {
   "cell_type": "markdown",
   "id": "unlikely-notification",
   "metadata": {},
   "source": [
    "- So we should generate more leads from 'reference' and 'welingak website' and also incerease 'olark chat', 'google', 'organic Search','Direct Traffic', "
   ]
  },
  {
   "cell_type": "code",
   "execution_count": 47,
   "id": "handled-danger",
   "metadata": {},
   "outputs": [
    {
     "name": "stderr",
     "output_type": "stream",
     "text": [
      "/home/prabhanshu/anaconda3/lib/python3.8/site-packages/seaborn/_decorators.py:36: FutureWarning: Pass the following variable as a keyword arg: x. From version 0.12, the only valid positional argument will be `data`, and passing other arguments without an explicit keyword will result in an error or misinterpretation.\n",
      "  warnings.warn(\n",
      "/home/prabhanshu/anaconda3/lib/python3.8/site-packages/seaborn/_decorators.py:36: FutureWarning: Pass the following variable as a keyword arg: x. From version 0.12, the only valid positional argument will be `data`, and passing other arguments without an explicit keyword will result in an error or misinterpretation.\n",
      "  warnings.warn(\n"
     ]
    },
    {
     "data": {
      "text/plain": [
       "Text(0.5, 1.0, 'Do Not Call')"
      ]
     },
     "execution_count": 47,
     "metadata": {},
     "output_type": "execute_result"
    },
    {
     "data": {
      "image/png": "[encoded data removed]",
      "text/plain": [
       "<Figure size 432x288 with 2 Axes>"
      ]
     },
     "metadata": {
      "needs_background": "light"
     },
     "output_type": "display_data"
    }
   ],
   "source": [
    "plt.subplot(1,2,1)\n",
    "sns.countplot(df['Do Not Email'])\n",
    "plt.title('Do not Email')\n",
    "\n",
    "plt.subplot(1,2,2)\n",
    "sns.countplot(df['Do Not Call'])\n",
    "plt.title('Do Not Call')"
   ]
  },
  {
   "cell_type": "code",
   "execution_count": 48,
   "id": "attended-matthew",
   "metadata": {},
   "outputs": [
    {
     "name": "stderr",
     "output_type": "stream",
     "text": [
      "/home/prabhanshu/anaconda3/lib/python3.8/site-packages/seaborn/_decorators.py:36: FutureWarning: Pass the following variable as a keyword arg: x. From version 0.12, the only valid positional argument will be `data`, and passing other arguments without an explicit keyword will result in an error or misinterpretation.\n",
      "  warnings.warn(\n",
      "/home/prabhanshu/anaconda3/lib/python3.8/site-packages/seaborn/_decorators.py:36: FutureWarning: Pass the following variable as a keyword arg: x. From version 0.12, the only valid positional argument will be `data`, and passing other arguments without an explicit keyword will result in an error or misinterpretation.\n",
      "  warnings.warn(\n"
     ]
    },
    {
     "data": {
      "text/plain": [
       "Text(0.5, 1.0, 'Do Not Call')"
      ]
     },
     "execution_count": 48,
     "metadata": {},
     "output_type": "execute_result"
    },
    {
     "data": {
      "image/png": "[encoded data removed]",
      "text/plain": [
       "<Figure size 432x288 with 2 Axes>"
      ]
     },
     "metadata": {
      "needs_background": "light"
     },
     "output_type": "display_data"
    }
   ],
   "source": [
    "plt.subplot(1,2,1)\n",
    "sns.countplot(df['Do Not Email'], hue = df['Converted'] , data = df)\n",
    "plt.title('Do not Email')\n",
    "\n",
    "plt.subplot(1,2,2)\n",
    "sns.countplot(df['Do Not Call'], hue = df['Converted'], data = df)\n",
    "plt.title('Do Not Call')"
   ]
  },
  {
   "cell_type": "code",
   "execution_count": 49,
   "id": "considered-politics",
   "metadata": {},
   "outputs": [
    {
     "data": {
      "text/plain": [
       "No     8358\n",
       "Yes     716\n",
       "Name: Do Not Email, dtype: int64"
      ]
     },
     "execution_count": 49,
     "metadata": {},
     "output_type": "execute_result"
    }
   ],
   "source": [
    "df['Do Not Email'].value_counts()"
   ]
  },
  {
   "cell_type": "code",
   "execution_count": 50,
   "id": "liable-neighbor",
   "metadata": {},
   "outputs": [],
   "source": [
    "df =df.drop(['Do Not Email'], axis = 1)"
   ]
  },
  {
   "cell_type": "code",
   "execution_count": 51,
   "id": "weighted-catering",
   "metadata": {},
   "outputs": [
    {
     "data": {
      "text/plain": [
       "No     9072\n",
       "Yes       2\n",
       "Name: Do Not Call, dtype: int64"
      ]
     },
     "execution_count": 51,
     "metadata": {},
     "output_type": "execute_result"
    }
   ],
   "source": [
    "df['Do Not Call'].value_counts() "
   ]
  },
  {
   "cell_type": "code",
   "execution_count": 52,
   "id": "chemical-surveillance",
   "metadata": {},
   "outputs": [],
   "source": [
    "df =df.drop(['Do Not Call'], axis = 1)"
   ]
  },
  {
   "cell_type": "code",
   "execution_count": 53,
   "id": "inappropriate-checklist",
   "metadata": {},
   "outputs": [
    {
     "name": "stderr",
     "output_type": "stream",
     "text": [
      "/home/prabhanshu/anaconda3/lib/python3.8/site-packages/seaborn/_decorators.py:36: FutureWarning: Pass the following variable as a keyword arg: x. From version 0.12, the only valid positional argument will be `data`, and passing other arguments without an explicit keyword will result in an error or misinterpretation.\n",
      "  warnings.warn(\n"
     ]
    },
    {
     "data": {
      "text/plain": [
       "(array([ 0,  1,  2,  3,  4,  5,  6,  7,  8,  9, 10, 11, 12, 13, 14, 15, 16,\n",
       "        17, 18, 19, 20, 21, 22, 23, 24, 25, 26, 27, 28, 29, 30, 31, 32, 33,\n",
       "        34, 35, 36, 37]),\n",
       " [Text(0, 0, 'India'),\n",
       "  Text(1, 0, 'Russia'),\n",
       "  Text(2, 0, 'Kuwait'),\n",
       "  Text(3, 0, 'Oman'),\n",
       "  Text(4, 0, 'United Arab Emirates'),\n",
       "  Text(5, 0, 'United States'),\n",
       "  Text(6, 0, 'Australia'),\n",
       "  Text(7, 0, 'United Kingdom'),\n",
       "  Text(8, 0, 'Bahrain'),\n",
       "  Text(9, 0, 'Ghana'),\n",
       "  Text(10, 0, 'Singapore'),\n",
       "  Text(11, 0, 'Qatar'),\n",
       "  Text(12, 0, 'Saudi Arabia'),\n",
       "  Text(13, 0, 'Belgium'),\n",
       "  Text(14, 0, 'France'),\n",
       "  Text(15, 0, 'Sri Lanka'),\n",
       "  Text(16, 0, 'China'),\n",
       "  Text(17, 0, 'Canada'),\n",
       "  Text(18, 0, 'Netherlands'),\n",
       "  Text(19, 0, 'Sweden'),\n",
       "  Text(20, 0, 'Nigeria'),\n",
       "  Text(21, 0, 'Hong Kong'),\n",
       "  Text(22, 0, 'Germany'),\n",
       "  Text(23, 0, 'Asia/Pacific Region'),\n",
       "  Text(24, 0, 'Uganda'),\n",
       "  Text(25, 0, 'Kenya'),\n",
       "  Text(26, 0, 'Italy'),\n",
       "  Text(27, 0, 'South Africa'),\n",
       "  Text(28, 0, 'Tanzania'),\n",
       "  Text(29, 0, 'unknown'),\n",
       "  Text(30, 0, 'Malaysia'),\n",
       "  Text(31, 0, 'Liberia'),\n",
       "  Text(32, 0, 'Switzerland'),\n",
       "  Text(33, 0, 'Denmark'),\n",
       "  Text(34, 0, 'Philippines'),\n",
       "  Text(35, 0, 'Bangladesh'),\n",
       "  Text(36, 0, 'Vietnam'),\n",
       "  Text(37, 0, 'Indonesia')])"
      ]
     },
     "execution_count": 53,
     "metadata": {},
     "output_type": "execute_result"
    },
    {
     "data": {
      "image/png": "[encoded data removed]",
      "text/plain": [
       "<Figure size 432x288 with 1 Axes>"
      ]
     },
     "metadata": {
      "needs_background": "light"
     },
     "output_type": "display_data"
    }
   ],
   "source": [
    "sns.countplot(df['Country'], hue = df['Converted'], data = df)\n",
    "plt.title('Country')\n",
    "plt.xticks(rotation = 90)"
   ]
  },
  {
   "cell_type": "code",
   "execution_count": 54,
   "id": "square-center",
   "metadata": {},
   "outputs": [],
   "source": [
    "df = df.drop(['Country'], axis = 1)"
   ]
  },
  {
   "cell_type": "code",
   "execution_count": 55,
   "id": "handed-consciousness",
   "metadata": {},
   "outputs": [
    {
     "name": "stderr",
     "output_type": "stream",
     "text": [
      "/home/prabhanshu/anaconda3/lib/python3.8/site-packages/seaborn/_decorators.py:36: FutureWarning: Pass the following variable as a keyword arg: x. From version 0.12, the only valid positional argument will be `data`, and passing other arguments without an explicit keyword will result in an error or misinterpretation.\n",
      "  warnings.warn(\n"
     ]
    },
    {
     "data": {
      "text/plain": [
       "(array([ 0,  1,  2,  3,  4,  5,  6,  7,  8,  9, 10]),\n",
       " [Text(0, 0, 'Unselected'),\n",
       "  Text(1, 0, 'Business Administration'),\n",
       "  Text(2, 0, 'Others'),\n",
       "  Text(3, 0, 'Supply Chain Management'),\n",
       "  Text(4, 0, 'IT Projects Management'),\n",
       "  Text(5, 0, 'Finance Management'),\n",
       "  Text(6, 0, 'Human Resource Management'),\n",
       "  Text(7, 0, 'Marketing Management'),\n",
       "  Text(8, 0, 'Banking, Investment And Insurance'),\n",
       "  Text(9, 0, 'Operations Management'),\n",
       "  Text(10, 0, 'Healthcare Management')])"
      ]
     },
     "execution_count": 55,
     "metadata": {},
     "output_type": "execute_result"
    },
    {
     "data": {
      "image/png": "[encoded data removed]",
      "text/plain": [
       "<Figure size 720x576 with 1 Axes>"
      ]
     },
     "metadata": {
      "needs_background": "light"
     },
     "output_type": "display_data"
    }
   ],
   "source": [
    "plt.figure(figsize = (10,8))\n",
    "sns.countplot(df['Specialization'], hue = df['Converted'], data  = df)\n",
    "plt.title('Specialozation')\n",
    "plt.xticks(rotation = 90)"
   ]
  },
  {
   "cell_type": "markdown",
   "id": "specialized-calculator",
   "metadata": {},
   "source": [
    "Almost all the specializations have similar conversion rates"
   ]
  },
  {
   "cell_type": "code",
   "execution_count": 56,
   "id": "regulated-character",
   "metadata": {},
   "outputs": [
    {
     "name": "stderr",
     "output_type": "stream",
     "text": [
      "/home/prabhanshu/anaconda3/lib/python3.8/site-packages/seaborn/_decorators.py:36: FutureWarning: Pass the following variable as a keyword arg: x. From version 0.12, the only valid positional argument will be `data`, and passing other arguments without an explicit keyword will result in an error or misinterpretation.\n",
      "  warnings.warn(\n"
     ]
    },
    {
     "data": {
      "text/plain": [
       "(array([0, 1, 2, 3, 4, 5]),\n",
       " [Text(0, 0, 'Unemployed'),\n",
       "  Text(1, 0, 'Student'),\n",
       "  Text(2, 0, 'Working Professional'),\n",
       "  Text(3, 0, 'Businessman'),\n",
       "  Text(4, 0, 'Other'),\n",
       "  Text(5, 0, 'Housewife')])"
      ]
     },
     "execution_count": 56,
     "metadata": {},
     "output_type": "execute_result"
    },
    {
     "data": {
      "image/png": "[encoded data removed]",
      "text/plain": [
       "<Figure size 720x576 with 1 Axes>"
      ]
     },
     "metadata": {
      "needs_background": "light"
     },
     "output_type": "display_data"
    }
   ],
   "source": [
    "plt.figure(figsize = (10,8))\n",
    "sns.countplot(df['What is your current occupation'],hue =  df['Converted'], data = df)\n",
    "plt.title('What is your current occupation')\n",
    "plt.xticks(rotation = 90)"
   ]
  },
  {
   "cell_type": "markdown",
   "id": "civil-breathing",
   "metadata": {},
   "source": [
    "- Here we can see that 'Unemployed' have a good conversion rate\n",
    "- working professionals have a very good conversion rate"
   ]
  },
  {
   "cell_type": "code",
   "execution_count": 57,
   "id": "significant-bridal",
   "metadata": {},
   "outputs": [
    {
     "name": "stderr",
     "output_type": "stream",
     "text": [
      "/home/prabhanshu/anaconda3/lib/python3.8/site-packages/seaborn/_decorators.py:36: FutureWarning: Pass the following variable as a keyword arg: x. From version 0.12, the only valid positional argument will be `data`, and passing other arguments without an explicit keyword will result in an error or misinterpretation.\n",
      "  warnings.warn(\n"
     ]
    },
    {
     "data": {
      "text/plain": [
       "(array([0, 1, 2]),\n",
       " [Text(0, 0, 'Better Career Prospects'),\n",
       "  Text(1, 0, 'Flexibility & Convenience'),\n",
       "  Text(2, 0, 'Other')])"
      ]
     },
     "execution_count": 57,
     "metadata": {},
     "output_type": "execute_result"
    },
    {
     "data": {
      "image/png": "[encoded data removed]",
      "text/plain": [
       "<Figure size 432x288 with 1 Axes>"
      ]
     },
     "metadata": {
      "needs_background": "light"
     },
     "output_type": "display_data"
    }
   ],
   "source": [
    "sns.countplot(df['What matters most to you in choosing a course'], hue = df['Converted'], data = df)\n",
    "plt.title('What matters most in choosing a course')\n",
    "plt.xticks(rotation = 90)"
   ]
  },
  {
   "cell_type": "code",
   "execution_count": 58,
   "id": "confident-howard",
   "metadata": {},
   "outputs": [
    {
     "data": {
      "text/plain": [
       "Better Career Prospects      9072\n",
       "Flexibility & Convenience       1\n",
       "Other                           1\n",
       "Name: What matters most to you in choosing a course, dtype: int64"
      ]
     },
     "execution_count": 58,
     "metadata": {},
     "output_type": "execute_result"
    }
   ],
   "source": [
    "df['What matters most to you in choosing a course'].value_counts()"
   ]
  },
  {
   "cell_type": "code",
   "execution_count": 59,
   "id": "narrative-toner",
   "metadata": {},
   "outputs": [],
   "source": [
    "df = df.drop(['What matters most to you in choosing a course'], axis = 1)"
   ]
  },
  {
   "cell_type": "code",
   "execution_count": 60,
   "id": "saving-field",
   "metadata": {},
   "outputs": [
    {
     "name": "stderr",
     "output_type": "stream",
     "text": [
      "/home/prabhanshu/anaconda3/lib/python3.8/site-packages/seaborn/_decorators.py:36: FutureWarning: Pass the following variable as a keyword arg: x. From version 0.12, the only valid positional argument will be `data`, and passing other arguments without an explicit keyword will result in an error or misinterpretation.\n",
      "  warnings.warn(\n"
     ]
    },
    {
     "data": {
      "text/plain": [
       "(array([0, 1]), [Text(0, 0, 'No'), Text(1, 0, 'Yes')])"
      ]
     },
     "execution_count": 60,
     "metadata": {},
     "output_type": "execute_result"
    },
    {
     "data": {
      "image/png": "[encoded data removed]",
      "text/plain": [
       "<Figure size 432x288 with 1 Axes>"
      ]
     },
     "metadata": {
      "needs_background": "light"
     },
     "output_type": "display_data"
    }
   ],
   "source": [
    "sns.countplot(df['Search'], hue = df['Converted'], data = df)\n",
    "plt.xticks(rotation = 90)"
   ]
  },
  {
   "cell_type": "code",
   "execution_count": 61,
   "id": "agricultural-fraud",
   "metadata": {},
   "outputs": [
    {
     "data": {
      "text/plain": [
       "No     9060\n",
       "Yes      14\n",
       "Name: Search, dtype: int64"
      ]
     },
     "execution_count": 61,
     "metadata": {},
     "output_type": "execute_result"
    }
   ],
   "source": [
    "df['Search'].value_counts()"
   ]
  },
  {
   "cell_type": "code",
   "execution_count": 62,
   "id": "everyday-timing",
   "metadata": {},
   "outputs": [],
   "source": [
    "df = df.drop(['Search'], axis =1)"
   ]
  },
  {
   "cell_type": "code",
   "execution_count": 63,
   "id": "million-patio",
   "metadata": {},
   "outputs": [
    {
     "name": "stderr",
     "output_type": "stream",
     "text": [
      "/home/prabhanshu/anaconda3/lib/python3.8/site-packages/seaborn/_decorators.py:36: FutureWarning: Pass the following variable as a keyword arg: x. From version 0.12, the only valid positional argument will be `data`, and passing other arguments without an explicit keyword will result in an error or misinterpretation.\n",
      "  warnings.warn(\n"
     ]
    },
    {
     "data": {
      "text/plain": [
       "(array([0, 1]), [Text(0, 0, 'No'), Text(1, 0, 'Yes')])"
      ]
     },
     "execution_count": 63,
     "metadata": {},
     "output_type": "execute_result"
    },
    {
     "data": {
      "image/png": "[encoded data removed]",
      "text/plain": [
       "<Figure size 432x288 with 1 Axes>"
      ]
     },
     "metadata": {
      "needs_background": "light"
     },
     "output_type": "display_data"
    }
   ],
   "source": [
    "sns.countplot(df['Newspaper'], hue = df['Converted'], data = df)\n",
    "plt.xticks(rotation = 90)"
   ]
  },
  {
   "cell_type": "code",
   "execution_count": 64,
   "id": "earned-brush",
   "metadata": {},
   "outputs": [
    {
     "data": {
      "text/plain": [
       "No     9073\n",
       "Yes       1\n",
       "Name: Newspaper, dtype: int64"
      ]
     },
     "execution_count": 64,
     "metadata": {},
     "output_type": "execute_result"
    }
   ],
   "source": [
    "df['Newspaper'].value_counts()"
   ]
  },
  {
   "cell_type": "code",
   "execution_count": 65,
   "id": "composite-complexity",
   "metadata": {},
   "outputs": [],
   "source": [
    "df = df.drop(['Newspaper'], axis = 1)"
   ]
  },
  {
   "cell_type": "code",
   "execution_count": 66,
   "id": "overhead-alert",
   "metadata": {},
   "outputs": [
    {
     "name": "stderr",
     "output_type": "stream",
     "text": [
      "/home/prabhanshu/anaconda3/lib/python3.8/site-packages/seaborn/_decorators.py:36: FutureWarning: Pass the following variable as a keyword arg: x. From version 0.12, the only valid positional argument will be `data`, and passing other arguments without an explicit keyword will result in an error or misinterpretation.\n",
      "  warnings.warn(\n"
     ]
    },
    {
     "data": {
      "text/plain": [
       "(array([0, 1]), [Text(0, 0, 'No'), Text(1, 0, 'Yes')])"
      ]
     },
     "execution_count": 66,
     "metadata": {},
     "output_type": "execute_result"
    },
    {
     "data": {
      "image/png": "[encoded data removed]",
      "text/plain": [
       "<Figure size 432x288 with 1 Axes>"
      ]
     },
     "metadata": {
      "needs_background": "light"
     },
     "output_type": "display_data"
    }
   ],
   "source": [
    "sns.countplot(df['X Education Forums'], hue = df['Converted'], data = df)\n",
    "plt.xticks(rotation = 90)"
   ]
  },
  {
   "cell_type": "code",
   "execution_count": 67,
   "id": "intensive-supervisor",
   "metadata": {},
   "outputs": [
    {
     "data": {
      "text/plain": [
       "No     9073\n",
       "Yes       1\n",
       "Name: X Education Forums, dtype: int64"
      ]
     },
     "execution_count": 67,
     "metadata": {},
     "output_type": "execute_result"
    }
   ],
   "source": [
    "df['X Education Forums'].value_counts()"
   ]
  },
  {
   "cell_type": "code",
   "execution_count": 68,
   "id": "focal-mexican",
   "metadata": {},
   "outputs": [],
   "source": [
    "df = df.drop(['X Education Forums'], axis = 1)"
   ]
  },
  {
   "cell_type": "code",
   "execution_count": 69,
   "id": "significant-civilization",
   "metadata": {},
   "outputs": [
    {
     "name": "stderr",
     "output_type": "stream",
     "text": [
      "/home/prabhanshu/anaconda3/lib/python3.8/site-packages/seaborn/_decorators.py:36: FutureWarning: Pass the following variable as a keyword arg: x. From version 0.12, the only valid positional argument will be `data`, and passing other arguments without an explicit keyword will result in an error or misinterpretation.\n",
      "  warnings.warn(\n"
     ]
    },
    {
     "data": {
      "text/plain": [
       "(array([0, 1]), [Text(0, 0, 'No'), Text(1, 0, 'Yes')])"
      ]
     },
     "execution_count": 69,
     "metadata": {},
     "output_type": "execute_result"
    },
    {
     "data": {
      "image/png": "[encoded data removed]",
      "text/plain": [
       "<Figure size 432x288 with 1 Axes>"
      ]
     },
     "metadata": {
      "needs_background": "light"
     },
     "output_type": "display_data"
    }
   ],
   "source": [
    "sns.countplot(df['Newspaper Article'], hue = df['Converted'], data = df)\n",
    "plt.xticks(rotation = 90)"
   ]
  },
  {
   "cell_type": "code",
   "execution_count": 70,
   "id": "viral-church",
   "metadata": {},
   "outputs": [
    {
     "data": {
      "text/plain": [
       "No     9072\n",
       "Yes       2\n",
       "Name: Newspaper Article, dtype: int64"
      ]
     },
     "execution_count": 70,
     "metadata": {},
     "output_type": "execute_result"
    }
   ],
   "source": [
    "df['Newspaper Article'].value_counts()"
   ]
  },
  {
   "cell_type": "code",
   "execution_count": 71,
   "id": "played-northern",
   "metadata": {},
   "outputs": [],
   "source": [
    "df = df.drop(['Newspaper Article'], axis = 1)"
   ]
  },
  {
   "cell_type": "code",
   "execution_count": 72,
   "id": "broken-trial",
   "metadata": {},
   "outputs": [
    {
     "name": "stderr",
     "output_type": "stream",
     "text": [
      "/home/prabhanshu/anaconda3/lib/python3.8/site-packages/seaborn/_decorators.py:36: FutureWarning: Pass the following variable as a keyword arg: x. From version 0.12, the only valid positional argument will be `data`, and passing other arguments without an explicit keyword will result in an error or misinterpretation.\n",
      "  warnings.warn(\n"
     ]
    },
    {
     "data": {
      "text/plain": [
       "(array([0]), [Text(0, 0, 'No')])"
      ]
     },
     "execution_count": 72,
     "metadata": {},
     "output_type": "execute_result"
    },
    {
     "data": {
      "image/png": "[encoded data removed]",
      "text/plain": [
       "<Figure size 432x288 with 1 Axes>"
      ]
     },
     "metadata": {
      "needs_background": "light"
     },
     "output_type": "display_data"
    }
   ],
   "source": [
    "sns.countplot(df['Magazine'], hue = df['Converted'], data = df)\n",
    "plt.xticks(rotation = 90)"
   ]
  },
  {
   "cell_type": "code",
   "execution_count": 73,
   "id": "greenhouse-burden",
   "metadata": {},
   "outputs": [
    {
     "data": {
      "text/plain": [
       "No    9074\n",
       "Name: Magazine, dtype: int64"
      ]
     },
     "execution_count": 73,
     "metadata": {},
     "output_type": "execute_result"
    }
   ],
   "source": [
    "df['Magazine'].value_counts()"
   ]
  },
  {
   "cell_type": "code",
   "execution_count": 74,
   "id": "duplicate-actress",
   "metadata": {},
   "outputs": [],
   "source": [
    "df = df.drop(['Magazine'], axis = 1)"
   ]
  },
  {
   "cell_type": "code",
   "execution_count": 75,
   "id": "statewide-certificate",
   "metadata": {},
   "outputs": [
    {
     "data": {
      "text/plain": [
       "Index(['Prospect ID', 'Lead Number', 'Lead Origin', 'Lead Source', 'Converted',\n",
       "       'TotalVisits', 'Total Time Spent on Website', 'Page Views Per Visit',\n",
       "       'Specialization', 'What is your current occupation',\n",
       "       'Digital Advertisement', 'Through Recommendations',\n",
       "       'Receive More Updates About Our Courses',\n",
       "       'Update me on Supply Chain Content', 'Get updates on DM Content',\n",
       "       'City', 'I agree to pay the amount through cheque',\n",
       "       'A free copy of Mastering The Interview', 'Last Notable Activity'],\n",
       "      dtype='object')"
      ]
     },
     "execution_count": 75,
     "metadata": {},
     "output_type": "execute_result"
    }
   ],
   "source": [
    "df.columns"
   ]
  },
  {
   "cell_type": "code",
   "execution_count": 76,
   "id": "civic-belfast",
   "metadata": {
    "tags": []
   },
   "outputs": [
    {
     "data": {
      "text/plain": [
       "655360    1\n",
       "609951    1\n",
       "619195    1\n",
       "600768    1\n",
       "631489    1\n",
       "         ..\n",
       "585039    1\n",
       "648526    1\n",
       "625995    1\n",
       "580937    1\n",
       "608255    1\n",
       "Name: Lead Number, Length: 9074, dtype: int64"
      ]
     },
     "execution_count": 76,
     "metadata": {},
     "output_type": "execute_result"
    }
   ],
   "source": [
    "df['Lead Number'].value_counts()"
   ]
  },
  {
   "cell_type": "code",
   "execution_count": 77,
   "id": "convenient-opportunity",
   "metadata": {},
   "outputs": [
    {
     "data": {
      "text/plain": [
       "No     9070\n",
       "Yes       4\n",
       "Name: Digital Advertisement, dtype: int64"
      ]
     },
     "execution_count": 77,
     "metadata": {},
     "output_type": "execute_result"
    }
   ],
   "source": [
    "df['Digital Advertisement'].value_counts()"
   ]
  },
  {
   "cell_type": "code",
   "execution_count": 78,
   "id": "infinite-packing",
   "metadata": {},
   "outputs": [
    {
     "data": {
      "text/plain": [
       "No     9067\n",
       "Yes       7\n",
       "Name: Through Recommendations, dtype: int64"
      ]
     },
     "execution_count": 78,
     "metadata": {},
     "output_type": "execute_result"
    }
   ],
   "source": [
    "df['Through Recommendations'].value_counts()"
   ]
  },
  {
   "cell_type": "code",
   "execution_count": 79,
   "id": "positive-cyprus",
   "metadata": {},
   "outputs": [
    {
     "data": {
      "text/plain": [
       "No    9074\n",
       "Name: Receive More Updates About Our Courses, dtype: int64"
      ]
     },
     "execution_count": 79,
     "metadata": {},
     "output_type": "execute_result"
    }
   ],
   "source": [
    "df['Receive More Updates About Our Courses'].value_counts()"
   ]
  },
  {
   "cell_type": "code",
   "execution_count": 80,
   "id": "social-arctic",
   "metadata": {},
   "outputs": [
    {
     "data": {
      "text/plain": [
       "No    9074\n",
       "Name: Update me on Supply Chain Content, dtype: int64"
      ]
     },
     "execution_count": 80,
     "metadata": {},
     "output_type": "execute_result"
    }
   ],
   "source": [
    "df['Update me on Supply Chain Content'].value_counts()"
   ]
  },
  {
   "cell_type": "code",
   "execution_count": 81,
   "id": "radio-possible",
   "metadata": {},
   "outputs": [
    {
     "data": {
      "text/plain": [
       "No    9074\n",
       "Name: Get updates on DM Content, dtype: int64"
      ]
     },
     "execution_count": 81,
     "metadata": {},
     "output_type": "execute_result"
    }
   ],
   "source": [
    "df['Get updates on DM Content'].value_counts()"
   ]
  },
  {
   "cell_type": "code",
   "execution_count": 82,
   "id": "absolute-interim",
   "metadata": {},
   "outputs": [
    {
     "data": {
      "text/plain": [
       "No    9074\n",
       "Name: I agree to pay the amount through cheque, dtype: int64"
      ]
     },
     "execution_count": 82,
     "metadata": {},
     "output_type": "execute_result"
    }
   ],
   "source": [
    "df['I agree to pay the amount through cheque'].value_counts()"
   ]
  },
  {
   "cell_type": "code",
   "execution_count": 83,
   "id": "bright-click",
   "metadata": {},
   "outputs": [],
   "source": [
    "df = df.drop(['Lead Number', 'Digital Advertisement', 'Through Recommendations', 'Receive More Updates About Our Courses', 'Update me on Supply Chain Content', 'Get updates on DM Content', 'I agree to pay the amount through cheque', 'A free copy of Mastering The Interview'], axis = 1)"
   ]
  },
  {
   "cell_type": "code",
   "execution_count": 84,
   "id": "continent-reading",
   "metadata": {},
   "outputs": [
    {
     "data": {
      "text/plain": [
       "Modified                        3267\n",
       "Email Opened                    2823\n",
       "SMS Sent                        2152\n",
       "Page Visited on Website          318\n",
       "Olark Chat Conversation          183\n",
       "Email Link Clicked               173\n",
       "Email Bounced                     60\n",
       "Unsubscribed                      45\n",
       "Unreachable                       32\n",
       "Had a Phone Conversation          14\n",
       "Email Marked Spam                  2\n",
       "View in browser link Clicked       1\n",
       "Form Submitted on Website          1\n",
       "Approached upfront                 1\n",
       "Resubscribed to emails             1\n",
       "Email Received                     1\n",
       "Name: Last Notable Activity, dtype: int64"
      ]
     },
     "execution_count": 84,
     "metadata": {},
     "output_type": "execute_result"
    }
   ],
   "source": [
    "df['Last Notable Activity'].value_counts()"
   ]
  },
  {
   "cell_type": "code",
   "execution_count": 85,
   "id": "indoor-implement",
   "metadata": {},
   "outputs": [
    {
     "name": "stderr",
     "output_type": "stream",
     "text": [
      "/home/prabhanshu/anaconda3/lib/python3.8/site-packages/seaborn/_decorators.py:36: FutureWarning: Pass the following variable as a keyword arg: x. From version 0.12, the only valid positional argument will be `data`, and passing other arguments without an explicit keyword will result in an error or misinterpretation.\n",
      "  warnings.warn(\n"
     ]
    },
    {
     "data": {
      "text/plain": [
       "(array([ 0,  1,  2,  3,  4,  5,  6,  7,  8,  9, 10, 11, 12, 13, 14, 15]),\n",
       " [Text(0, 0, 'Modified'),\n",
       "  Text(1, 0, 'Email Opened'),\n",
       "  Text(2, 0, 'Page Visited on Website'),\n",
       "  Text(3, 0, 'Email Bounced'),\n",
       "  Text(4, 0, 'Email Link Clicked'),\n",
       "  Text(5, 0, 'Unreachable'),\n",
       "  Text(6, 0, 'Unsubscribed'),\n",
       "  Text(7, 0, 'Had a Phone Conversation'),\n",
       "  Text(8, 0, 'Olark Chat Conversation'),\n",
       "  Text(9, 0, 'SMS Sent'),\n",
       "  Text(10, 0, 'Approached upfront'),\n",
       "  Text(11, 0, 'Resubscribed to emails'),\n",
       "  Text(12, 0, 'View in browser link Clicked'),\n",
       "  Text(13, 0, 'Form Submitted on Website'),\n",
       "  Text(14, 0, 'Email Received'),\n",
       "  Text(15, 0, 'Email Marked Spam')])"
      ]
     },
     "execution_count": 85,
     "metadata": {},
     "output_type": "execute_result"
    },
    {
     "data": {
      "image/png": "[encoded data removed]",
      "text/plain": [
       "<Figure size 432x288 with 1 Axes>"
      ]
     },
     "metadata": {
      "needs_background": "light"
     },
     "output_type": "display_data"
    }
   ],
   "source": [
    "sns.countplot(df['Last Notable Activity'], hue = df['Converted'], data = df)\n",
    "plt.xticks(rotation = 90)"
   ]
  },
  {
   "cell_type": "code",
   "execution_count": 86,
   "id": "designed-infrared",
   "metadata": {},
   "outputs": [
    {
     "data": {
      "image/png": "[encoded data removed]",
      "text/plain": [
       "<Figure size 432x288 with 2 Axes>"
      ]
     },
     "metadata": {
      "needs_background": "light"
     },
     "output_type": "display_data"
    }
   ],
   "source": [
    "sns.heatmap(df.corr())\n",
    "plt.show()"
   ]
  },
  {
   "cell_type": "code",
   "execution_count": 87,
   "id": "respected-proposition",
   "metadata": {},
   "outputs": [
    {
     "data": {
      "text/plain": [
       "count    9074.000000\n",
       "mean        3.456028\n",
       "std         4.858802\n",
       "min         0.000000\n",
       "5%          0.000000\n",
       "25%         1.000000\n",
       "50%         3.000000\n",
       "75%         5.000000\n",
       "90%         7.000000\n",
       "95%        10.000000\n",
       "99%        17.000000\n",
       "max       251.000000\n",
       "Name: TotalVisits, dtype: float64"
      ]
     },
     "execution_count": 87,
     "metadata": {},
     "output_type": "execute_result"
    }
   ],
   "source": [
    "df['TotalVisits'].describe(percentiles = [0.05,0.25,0.5,0.75,0.90,0.95,0.99]) "
   ]
  },
  {
   "cell_type": "code",
   "execution_count": 88,
   "id": "unauthorized-manhattan",
   "metadata": {},
   "outputs": [
    {
     "data": {
      "text/plain": [
       "<AxesSubplot:xlabel='Converted', ylabel='TotalVisits'>"
      ]
     },
     "execution_count": 88,
     "metadata": {},
     "output_type": "execute_result"
    },
    {
     "data": {
      "image/png": "[encoded data removed]",
      "text/plain": [
       "<Figure size 432x288 with 1 Axes>"
      ]
     },
     "metadata": {
      "needs_background": "light"
     },
     "output_type": "display_data"
    }
   ],
   "source": [
    "sns.boxplot(x = df['Converted'],  y = df ['TotalVisits'])"
   ]
  },
  {
   "cell_type": "markdown",
   "id": "spare-providence",
   "metadata": {},
   "source": [
    "- Medians for the leads are the same"
   ]
  },
  {
   "cell_type": "code",
   "execution_count": 89,
   "id": "negative-applicant",
   "metadata": {},
   "outputs": [
    {
     "data": {
      "text/plain": [
       "<AxesSubplot:xlabel='Converted', ylabel='Total Time Spent on Website'>"
      ]
     },
     "execution_count": 89,
     "metadata": {},
     "output_type": "execute_result"
    },
    {
     "data": {
      "image/png": "[encoded data removed]",
      "text/plain": [
       "<Figure size 432x288 with 1 Axes>"
      ]
     },
     "metadata": {
      "needs_background": "light"
     },
     "output_type": "display_data"
    }
   ],
   "source": [
    "sns.boxplot(x = df['Converted'],  y = df ['Total Time Spent on Website'])"
   ]
  },
  {
   "cell_type": "markdown",
   "id": "second-prevention",
   "metadata": {},
   "source": [
    "- People who spend more time on the website get converted "
   ]
  },
  {
   "cell_type": "code",
   "execution_count": 90,
   "id": "mental-speaking",
   "metadata": {},
   "outputs": [
    {
     "data": {
      "text/plain": [
       "<AxesSubplot:xlabel='Converted', ylabel='Page Views Per Visit'>"
      ]
     },
     "execution_count": 90,
     "metadata": {},
     "output_type": "execute_result"
    },
    {
     "data": {
      "image/png": "[encoded data removed]",
      "text/plain": [
       "<Figure size 432x288 with 1 Axes>"
      ]
     },
     "metadata": {
      "needs_background": "light"
     },
     "output_type": "display_data"
    }
   ],
   "source": [
    "sns.boxplot(x = df['Converted'],  y = df ['Page Views Per Visit'])"
   ]
  },
  {
   "cell_type": "markdown",
   "id": "robust-glucose",
   "metadata": {},
   "source": [
    "- Medians are the same"
   ]
  },
  {
   "cell_type": "code",
   "execution_count": 91,
   "id": "broken-height",
   "metadata": {},
   "outputs": [
    {
     "data": {
      "text/html": [
       "<div>\n",
       "<style scoped>\n",
       "    .dataframe tbody tr th:only-of-type {\n",
       "        vertical-align: middle;\n",
       "    }\n",
       "\n",
       "    .dataframe tbody tr th {\n",
       "        vertical-align: top;\n",
       "    }\n",
       "\n",
       "    .dataframe thead th {\n",
       "        text-align: right;\n",
       "    }\n",
       "</style>\n",
       "<table border=\"1\" class=\"dataframe\">\n",
       "  <thead>\n",
       "    <tr style=\"text-align: right;\">\n",
       "      <th></th>\n",
       "      <th>TotalVisits</th>\n",
       "      <th>Total Time Spent on Website</th>\n",
       "      <th>Page Views Per Visit</th>\n",
       "    </tr>\n",
       "  </thead>\n",
       "  <tbody>\n",
       "    <tr>\n",
       "      <th>count</th>\n",
       "      <td>9074.000000</td>\n",
       "      <td>9074.000000</td>\n",
       "      <td>9074.000000</td>\n",
       "    </tr>\n",
       "    <tr>\n",
       "      <th>mean</th>\n",
       "      <td>3.456028</td>\n",
       "      <td>482.887481</td>\n",
       "      <td>2.370151</td>\n",
       "    </tr>\n",
       "    <tr>\n",
       "      <th>std</th>\n",
       "      <td>4.858802</td>\n",
       "      <td>545.256560</td>\n",
       "      <td>2.160871</td>\n",
       "    </tr>\n",
       "    <tr>\n",
       "      <th>min</th>\n",
       "      <td>0.000000</td>\n",
       "      <td>0.000000</td>\n",
       "      <td>0.000000</td>\n",
       "    </tr>\n",
       "    <tr>\n",
       "      <th>5%</th>\n",
       "      <td>0.000000</td>\n",
       "      <td>0.000000</td>\n",
       "      <td>0.000000</td>\n",
       "    </tr>\n",
       "    <tr>\n",
       "      <th>25%</th>\n",
       "      <td>1.000000</td>\n",
       "      <td>11.000000</td>\n",
       "      <td>1.000000</td>\n",
       "    </tr>\n",
       "    <tr>\n",
       "      <th>50%</th>\n",
       "      <td>3.000000</td>\n",
       "      <td>246.000000</td>\n",
       "      <td>2.000000</td>\n",
       "    </tr>\n",
       "    <tr>\n",
       "      <th>75%</th>\n",
       "      <td>5.000000</td>\n",
       "      <td>922.750000</td>\n",
       "      <td>3.200000</td>\n",
       "    </tr>\n",
       "    <tr>\n",
       "      <th>90%</th>\n",
       "      <td>7.000000</td>\n",
       "      <td>1373.000000</td>\n",
       "      <td>5.000000</td>\n",
       "    </tr>\n",
       "    <tr>\n",
       "      <th>95%</th>\n",
       "      <td>10.000000</td>\n",
       "      <td>1557.000000</td>\n",
       "      <td>6.000000</td>\n",
       "    </tr>\n",
       "    <tr>\n",
       "      <th>99%</th>\n",
       "      <td>17.000000</td>\n",
       "      <td>1839.000000</td>\n",
       "      <td>9.000000</td>\n",
       "    </tr>\n",
       "    <tr>\n",
       "      <th>max</th>\n",
       "      <td>251.000000</td>\n",
       "      <td>2272.000000</td>\n",
       "      <td>55.000000</td>\n",
       "    </tr>\n",
       "  </tbody>\n",
       "</table>\n",
       "</div>"
      ],
      "text/plain": [
       "       TotalVisits  Total Time Spent on Website  Page Views Per Visit\n",
       "count  9074.000000                  9074.000000           9074.000000\n",
       "mean      3.456028                   482.887481              2.370151\n",
       "std       4.858802                   545.256560              2.160871\n",
       "min       0.000000                     0.000000              0.000000\n",
       "5%        0.000000                     0.000000              0.000000\n",
       "25%       1.000000                    11.000000              1.000000\n",
       "50%       3.000000                   246.000000              2.000000\n",
       "75%       5.000000                   922.750000              3.200000\n",
       "90%       7.000000                  1373.000000              5.000000\n",
       "95%      10.000000                  1557.000000              6.000000\n",
       "99%      17.000000                  1839.000000              9.000000\n",
       "max     251.000000                  2272.000000             55.000000"
      ]
     },
     "execution_count": 91,
     "metadata": {},
     "output_type": "execute_result"
    }
   ],
   "source": [
    "df[['TotalVisits','Total Time Spent on Website', 'Page Views Per Visit']].describe(percentiles = [0.05,0.25,0.5,0.75,0.90,0.95,0.99]) "
   ]
  },
  {
   "cell_type": "code",
   "execution_count": 92,
   "id": "stunning-bronze",
   "metadata": {},
   "outputs": [
    {
     "name": "stderr",
     "output_type": "stream",
     "text": [
      "/home/prabhanshu/anaconda3/lib/python3.8/site-packages/seaborn/_decorators.py:36: FutureWarning: Pass the following variable as a keyword arg: x. From version 0.12, the only valid positional argument will be `data`, and passing other arguments without an explicit keyword will result in an error or misinterpretation.\n",
      "  warnings.warn(\n"
     ]
    },
    {
     "data": {
      "text/plain": [
       "(array([0, 1, 2, 3, 4, 5]),\n",
       " [Text(0, 0, 'Mumbai'),\n",
       "  Text(1, 0, 'Thane & Outskirts'),\n",
       "  Text(2, 0, 'Other Metro Cities'),\n",
       "  Text(3, 0, 'Other Cities'),\n",
       "  Text(4, 0, 'Other Cities of Maharashtra'),\n",
       "  Text(5, 0, 'Tier II Cities')])"
      ]
     },
     "execution_count": 92,
     "metadata": {},
     "output_type": "execute_result"
    },
    {
     "data": {
      "image/png": "[encoded data removed]",
      "text/plain": [
       "<Figure size 432x288 with 1 Axes>"
      ]
     },
     "metadata": {
      "needs_background": "light"
     },
     "output_type": "display_data"
    }
   ],
   "source": [
    "sns.countplot(df['City'], hue = df['Converted'], data = df)\n",
    "plt.xticks(rotation = 90)"
   ]
  },
  {
   "cell_type": "markdown",
   "id": "theoretical-threshold",
   "metadata": {},
   "source": [
    "- Mumbai has the highes leads and the highest conversion "
   ]
  },
  {
   "cell_type": "code",
   "execution_count": 93,
   "id": "inappropriate-potato",
   "metadata": {},
   "outputs": [
    {
     "name": "stdout",
     "output_type": "stream",
     "text": [
      "<class 'pandas.core.frame.DataFrame'>\n",
      "Int64Index: 9074 entries, 0 to 9239\n",
      "Data columns (total 11 columns):\n",
      " #   Column                           Non-Null Count  Dtype  \n",
      "---  ------                           --------------  -----  \n",
      " 0   Prospect ID                      9074 non-null   object \n",
      " 1   Lead Origin                      9074 non-null   object \n",
      " 2   Lead Source                      9074 non-null   object \n",
      " 3   Converted                        9074 non-null   int64  \n",
      " 4   TotalVisits                      9074 non-null   float64\n",
      " 5   Total Time Spent on Website      9074 non-null   int64  \n",
      " 6   Page Views Per Visit             9074 non-null   float64\n",
      " 7   Specialization                   9074 non-null   object \n",
      " 8   What is your current occupation  9074 non-null   object \n",
      " 9   City                             9074 non-null   object \n",
      " 10  Last Notable Activity            9074 non-null   object \n",
      "dtypes: float64(2), int64(2), object(7)\n",
      "memory usage: 1.1+ MB\n"
     ]
    }
   ],
   "source": [
    "df.info()"
   ]
  },
  {
   "cell_type": "code",
   "execution_count": 94,
   "id": "instrumental-belief",
   "metadata": {},
   "outputs": [
    {
     "data": {
      "text/plain": [
       "Landing Page Submission    4885\n",
       "API                        3578\n",
       "Lead Add Form               581\n",
       "Lead Import                  30\n",
       "Name: Lead Origin, dtype: int64"
      ]
     },
     "execution_count": 94,
     "metadata": {},
     "output_type": "execute_result"
    }
   ],
   "source": [
    "df['Lead Origin'].value_counts()"
   ]
  },
  {
   "cell_type": "code",
   "execution_count": 95,
   "id": "computational-bulletin",
   "metadata": {},
   "outputs": [
    {
     "data": {
      "text/plain": [
       "Google               2868\n",
       "Direct Traffic       2543\n",
       "Olark Chat           1753\n",
       "Organic Search       1154\n",
       "Reference             443\n",
       "Welingak Website      129\n",
       "Referral Sites        125\n",
       "Facebook               31\n",
       "bing                    6\n",
       "google                  5\n",
       "Click2call              4\n",
       "Live Chat               2\n",
       "Social Media            2\n",
       "Press_Release           2\n",
       "youtubechannel          1\n",
       "WeLearn                 1\n",
       "welearnblog_Home        1\n",
       "blog                    1\n",
       "Pay per Click Ads       1\n",
       "testone                 1\n",
       "NC_EDM                  1\n",
       "Name: Lead Source, dtype: int64"
      ]
     },
     "execution_count": 95,
     "metadata": {},
     "output_type": "execute_result"
    }
   ],
   "source": [
    "df['Lead Source'].value_counts()"
   ]
  },
  {
   "cell_type": "code",
   "execution_count": 96,
   "id": "smaller-hobby",
   "metadata": {},
   "outputs": [
    {
     "data": {
      "text/plain": [
       "Modified                        3267\n",
       "Email Opened                    2823\n",
       "SMS Sent                        2152\n",
       "Page Visited on Website          318\n",
       "Olark Chat Conversation          183\n",
       "Email Link Clicked               173\n",
       "Email Bounced                     60\n",
       "Unsubscribed                      45\n",
       "Unreachable                       32\n",
       "Had a Phone Conversation          14\n",
       "Email Marked Spam                  2\n",
       "View in browser link Clicked       1\n",
       "Form Submitted on Website          1\n",
       "Approached upfront                 1\n",
       "Resubscribed to emails             1\n",
       "Email Received                     1\n",
       "Name: Last Notable Activity, dtype: int64"
      ]
     },
     "execution_count": 96,
     "metadata": {},
     "output_type": "execute_result"
    }
   ],
   "source": [
    "df['Last Notable Activity'].value_counts()"
   ]
  },
  {
   "cell_type": "markdown",
   "id": "smoking-timing",
   "metadata": {},
   "source": [
    "- Creating dummies of the categorical variables"
   ]
  },
  {
   "cell_type": "code",
   "execution_count": 97,
   "id": "modular-customer",
   "metadata": {},
   "outputs": [],
   "source": [
    "dummy = pd.get_dummies(df[['Lead Origin', 'Lead Source', 'Specialization', 'What is your current occupation', 'City', 'Last Notable Activity']], drop_first = True)\n",
    "df = pd.concat ([df, dummy], axis =1)\n",
    "df = df.drop(['Lead Origin', 'Lead Source', 'Specialization', 'What is your current occupation', 'City', 'Last Notable Activity'], axis = 1)"
   ]
  },
  {
   "cell_type": "code",
   "execution_count": 98,
   "id": "exterior-prince",
   "metadata": {},
   "outputs": [
    {
     "name": "stdout",
     "output_type": "stream",
     "text": [
      "<class 'pandas.core.frame.DataFrame'>\n",
      "Int64Index: 9074 entries, 0 to 9239\n",
      "Data columns (total 63 columns):\n",
      " #   Column                                                Non-Null Count  Dtype  \n",
      "---  ------                                                --------------  -----  \n",
      " 0   Prospect ID                                           9074 non-null   object \n",
      " 1   Converted                                             9074 non-null   int64  \n",
      " 2   TotalVisits                                           9074 non-null   float64\n",
      " 3   Total Time Spent on Website                           9074 non-null   int64  \n",
      " 4   Page Views Per Visit                                  9074 non-null   float64\n",
      " 5   Lead Origin_Landing Page Submission                   9074 non-null   uint8  \n",
      " 6   Lead Origin_Lead Add Form                             9074 non-null   uint8  \n",
      " 7   Lead Origin_Lead Import                               9074 non-null   uint8  \n",
      " 8   Lead Source_Direct Traffic                            9074 non-null   uint8  \n",
      " 9   Lead Source_Facebook                                  9074 non-null   uint8  \n",
      " 10  Lead Source_Google                                    9074 non-null   uint8  \n",
      " 11  Lead Source_Live Chat                                 9074 non-null   uint8  \n",
      " 12  Lead Source_NC_EDM                                    9074 non-null   uint8  \n",
      " 13  Lead Source_Olark Chat                                9074 non-null   uint8  \n",
      " 14  Lead Source_Organic Search                            9074 non-null   uint8  \n",
      " 15  Lead Source_Pay per Click Ads                         9074 non-null   uint8  \n",
      " 16  Lead Source_Press_Release                             9074 non-null   uint8  \n",
      " 17  Lead Source_Reference                                 9074 non-null   uint8  \n",
      " 18  Lead Source_Referral Sites                            9074 non-null   uint8  \n",
      " 19  Lead Source_Social Media                              9074 non-null   uint8  \n",
      " 20  Lead Source_WeLearn                                   9074 non-null   uint8  \n",
      " 21  Lead Source_Welingak Website                          9074 non-null   uint8  \n",
      " 22  Lead Source_bing                                      9074 non-null   uint8  \n",
      " 23  Lead Source_blog                                      9074 non-null   uint8  \n",
      " 24  Lead Source_google                                    9074 non-null   uint8  \n",
      " 25  Lead Source_testone                                   9074 non-null   uint8  \n",
      " 26  Lead Source_welearnblog_Home                          9074 non-null   uint8  \n",
      " 27  Lead Source_youtubechannel                            9074 non-null   uint8  \n",
      " 28  Specialization_Business Administration                9074 non-null   uint8  \n",
      " 29  Specialization_Finance Management                     9074 non-null   uint8  \n",
      " 30  Specialization_Healthcare Management                  9074 non-null   uint8  \n",
      " 31  Specialization_Human Resource Management              9074 non-null   uint8  \n",
      " 32  Specialization_IT Projects Management                 9074 non-null   uint8  \n",
      " 33  Specialization_Marketing Management                   9074 non-null   uint8  \n",
      " 34  Specialization_Operations Management                  9074 non-null   uint8  \n",
      " 35  Specialization_Others                                 9074 non-null   uint8  \n",
      " 36  Specialization_Supply Chain Management                9074 non-null   uint8  \n",
      " 37  Specialization_Unselected                             9074 non-null   uint8  \n",
      " 38  What is your current occupation_Housewife             9074 non-null   uint8  \n",
      " 39  What is your current occupation_Other                 9074 non-null   uint8  \n",
      " 40  What is your current occupation_Student               9074 non-null   uint8  \n",
      " 41  What is your current occupation_Unemployed            9074 non-null   uint8  \n",
      " 42  What is your current occupation_Working Professional  9074 non-null   uint8  \n",
      " 43  City_Other Cities                                     9074 non-null   uint8  \n",
      " 44  City_Other Cities of Maharashtra                      9074 non-null   uint8  \n",
      " 45  City_Other Metro Cities                               9074 non-null   uint8  \n",
      " 46  City_Thane & Outskirts                                9074 non-null   uint8  \n",
      " 47  City_Tier II Cities                                   9074 non-null   uint8  \n",
      " 48  Last Notable Activity_Email Bounced                   9074 non-null   uint8  \n",
      " 49  Last Notable Activity_Email Link Clicked              9074 non-null   uint8  \n",
      " 50  Last Notable Activity_Email Marked Spam               9074 non-null   uint8  \n",
      " 51  Last Notable Activity_Email Opened                    9074 non-null   uint8  \n",
      " 52  Last Notable Activity_Email Received                  9074 non-null   uint8  \n",
      " 53  Last Notable Activity_Form Submitted on Website       9074 non-null   uint8  \n",
      " 54  Last Notable Activity_Had a Phone Conversation        9074 non-null   uint8  \n",
      " 55  Last Notable Activity_Modified                        9074 non-null   uint8  \n",
      " 56  Last Notable Activity_Olark Chat Conversation         9074 non-null   uint8  \n",
      " 57  Last Notable Activity_Page Visited on Website         9074 non-null   uint8  \n",
      " 58  Last Notable Activity_Resubscribed to emails          9074 non-null   uint8  \n",
      " 59  Last Notable Activity_SMS Sent                        9074 non-null   uint8  \n",
      " 60  Last Notable Activity_Unreachable                     9074 non-null   uint8  \n",
      " 61  Last Notable Activity_Unsubscribed                    9074 non-null   uint8  \n",
      " 62  Last Notable Activity_View in browser link Clicked    9074 non-null   uint8  \n",
      "dtypes: float64(2), int64(2), object(1), uint8(58)\n",
      "memory usage: 1.2+ MB\n"
     ]
    }
   ],
   "source": [
    "df.info()"
   ]
  },
  {
   "cell_type": "code",
   "execution_count": null,
   "id": "flush-transcription",
   "metadata": {},
   "outputs": [],
   "source": []
  },
  {
   "cell_type": "code",
   "execution_count": 99,
   "id": "surprising-polymer",
   "metadata": {},
   "outputs": [],
   "source": [
    "# You can start with the feature mapping and then train test split and then performing the analysis"
   ]
  }
 ],
 "metadata": {
  "kernelspec": {
   "display_name": "Python 3",
   "language": "python",
   "name": "python3"
  },
  "language_info": {
   "codemirror_mode": {
    "name": "ipython",
    "version": 3
   },
   "file_extension": ".py",
   "mimetype": "text/x-python",
   "name": "python",
   "nbconvert_exporter": "python",
   "pygments_lexer": "ipython3",
   "version": "3.8.5"
  },
  "widgets": {
   "application/vnd.jupyter.widget-state+json": {
    "state": {},
    "version_major": 2,
    "version_minor": 0
   }
  }
 },
 "nbformat": 4,
 "nbformat_minor": 5
}
